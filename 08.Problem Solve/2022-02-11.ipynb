{
 "cells": [
  {
   "cell_type": "code",
   "execution_count": 70,
   "id": "be366f89",
   "metadata": {},
   "outputs": [
    {
     "name": "stdout",
     "output_type": "stream",
     "text": [
      "3*(5+2)-9\n",
      "352+*9-"
     ]
    }
   ],
   "source": [
    "# 후위표기식 만들기 (stack)\n",
    "\n",
    "n = input()\n",
    "\n",
    "stack = []\n",
    "for i in range(len(n)):\n",
    "    if n[i].isdecimal():\n",
    "        print(n[i], end='')\n",
    "        \n",
    "    else:\n",
    "        if len(stack) == 2 and n[i].isdecimal() == False and n[i] != '(':\n",
    "            if stack[-1] == '(':\n",
    "                pass\n",
    "            else:    \n",
    "                print(stack[-1], end='')\n",
    "                stack.pop()\n",
    "        if n[i] == '(':\n",
    "            stack.append(n[i])\n",
    "        elif n[i] == '*' or n[i] =='/':\n",
    "            stack.append(n[i])\n",
    "        elif n[i] == '+' or n[i] =='-':\n",
    "            stack.append(n[i])\n",
    "        else:\n",
    "            for j in range(len(stack)): \n",
    "                if len(stack) == 0:\n",
    "                    break\n",
    "                if stack[-1] == '(':\n",
    "                    stack.pop()\n",
    "                    pass\n",
    "                print(stack[-1], end='')\n",
    "                stack.pop()\n",
    "                \n",
    "if len(stack) != 0:\n",
    "    i = len(stack)\n",
    "    while i > 0:\n",
    "        print(stack[i - 1], end = '')\n",
    "        i -= 1"
   ]
  },
  {
   "cell_type": "code",
   "execution_count": 71,
   "id": "5d90f6a1",
   "metadata": {},
   "outputs": [
    {
     "name": "stdout",
     "output_type": "stream",
     "text": [
      "3*(5+2)-9\n",
      "352+*9-\n"
     ]
    }
   ],
   "source": [
    "# 모범답안\n",
    "\n",
    "a = input()\n",
    "stack = []\n",
    "res = ''\n",
    "for x in a:\n",
    "    if x.isdecimal():\n",
    "        res += x\n",
    "    else:\n",
    "        if x == '(':\n",
    "            stack.append(x)\n",
    "        elif x == '*' or x == '/':\n",
    "            while stack and (stack[-1] == '*' or stack[-1] == '/'):\n",
    "                res += stack.pop()\n",
    "            stack.append(x)\n",
    "        elif x == '+' or x == '-':\n",
    "            while stack and stack[-1] != '(':\n",
    "                res += stack.pop()\n",
    "            stack.append(x)\n",
    "        elif x == ')':\n",
    "            while stack and stack[-1] != '(':\n",
    "                res += stack.pop()\n",
    "            stack.pop()\n",
    "            \n",
    "while stack:\n",
    "    res += stack.pop()\n",
    "print(res)"
   ]
  },
  {
   "cell_type": "code",
   "execution_count": 104,
   "id": "fe0c7828",
   "metadata": {},
   "outputs": [
    {
     "name": "stdout",
     "output_type": "stream",
     "text": [
      "352+*9-\n",
      "12\n"
     ]
    }
   ],
   "source": [
    "#후위식 연산 (stack)\n",
    "\n",
    "n = input()\n",
    "\n",
    "stack = []\n",
    "for i in n:    \n",
    "    if i.isdecimal():\n",
    "        stack.append(int(i))\n",
    "        \n",
    "    else:\n",
    "        stack.append(i)\n",
    "        if i == '*':\n",
    "            stack.pop()\n",
    "            stack.append(stack[-2] * stack[-1])\n",
    "            stack.pop(-2)\n",
    "            stack.pop(-2)\n",
    "            \n",
    "        elif i == '/':\n",
    "            stack.pop()\n",
    "            stack.append(stack[-2] * stack[-1])\n",
    "            stack.pop(-2)\n",
    "            stack.pop(-2)\n",
    "            \n",
    "        elif i == '+':\n",
    "            stack.pop()\n",
    "            stack.append(stack[-2] + stack[-1])\n",
    "            stack.pop(-2)\n",
    "            stack.pop(-2)\n",
    "            \n",
    "        elif i == '-':\n",
    "            stack.pop()\n",
    "            stack.append(stack[-2] - stack[-1])\n",
    "            stack.pop(-2)\n",
    "            stack.pop(-2)\n",
    "        \n",
    "for i in stack:\n",
    "    print(i)"
   ]
  },
  {
   "cell_type": "code",
   "execution_count": 105,
   "id": "66e174b2",
   "metadata": {},
   "outputs": [
    {
     "name": "stdout",
     "output_type": "stream",
     "text": [
      "352+*9-\n",
      "12\n"
     ]
    }
   ],
   "source": [
    "# 모범답안\n",
    "a = input()\n",
    "stack = []\n",
    "for x in a:\n",
    "    if x.isdecimal():\n",
    "        stack.append(int(x))\n",
    "    else:\n",
    "        if x =='+':\n",
    "            n1 = stack.pop()\n",
    "            n2 = stack.pop()\n",
    "            stack.append(n2 + n1)\n",
    "        if x =='-':\n",
    "            n1 = stack.pop()\n",
    "            n2 = stack.pop()\n",
    "            stack.append(n2 - n1)\n",
    "        if x =='*':\n",
    "            n1 = stack.pop()\n",
    "            n2 = stack.pop()\n",
    "            stack.append(n2 * n1)\n",
    "        if x =='/':\n",
    "            n1 = stack.pop()\n",
    "            n2 = stack.pop()\n",
    "            stack.append(n2 / n1)\n",
    "            \n",
    "print(stack[0])"
   ]
  },
  {
   "cell_type": "code",
   "execution_count": 153,
   "id": "fccbfa27",
   "metadata": {},
   "outputs": [
    {
     "name": "stdout",
     "output_type": "stream",
     "text": [
      "8 3\n",
      "7\n"
     ]
    }
   ],
   "source": [
    "# 공주 구하기 (Queue)\n",
    "n, k = map(int, input().split())\n",
    "arr = list(range(1, n + 1))\n",
    "\n",
    "i = 0\n",
    "while True:\n",
    "    if len(arr) == 1:\n",
    "        print(arr[0])\n",
    "        break        \n",
    "    if i == k - 1:\n",
    "        arr.pop(0)\n",
    "        i = 0       \n",
    "    arr.append(arr.pop(0))\n",
    "    i += 1"
   ]
  },
  {
   "cell_type": "code",
   "execution_count": 151,
   "id": "4e8a70a9",
   "metadata": {},
   "outputs": [
    {
     "name": "stdout",
     "output_type": "stream",
     "text": [
      "8 3\n",
      "7\n"
     ]
    }
   ],
   "source": [
    "# 모범답안\n",
    "\n",
    "from collections import deque\n",
    "\n",
    "n, k = map(int, input().split())\n",
    "dq = list(range(1, n + 1))\n",
    "dq = deque(dq)\n",
    "\n",
    "while dq:\n",
    "    for _ in range(k - 1):\n",
    "        cur = dq.popleft()\n",
    "        dq.append(cur)\n",
    "    dq.popleft()\n",
    "    if len(dq) == 1:\n",
    "        print(dq[0])\n",
    "        dq.popleft()"
   ]
  },
  {
   "cell_type": "code",
   "execution_count": null,
   "id": "a3905095",
   "metadata": {},
   "outputs": [],
   "source": []
  }
 ],
 "metadata": {
  "kernelspec": {
   "display_name": "Python 3 (ipykernel)",
   "language": "python",
   "name": "python3"
  },
  "language_info": {
   "codemirror_mode": {
    "name": "ipython",
    "version": 3
   },
   "file_extension": ".py",
   "mimetype": "text/x-python",
   "name": "python",
   "nbconvert_exporter": "python",
   "pygments_lexer": "ipython3",
   "version": "3.9.7"
  }
 },
 "nbformat": 4,
 "nbformat_minor": 5
}
