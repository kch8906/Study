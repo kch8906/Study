{
 "cells": [
  {
   "cell_type": "markdown",
   "id": "5bd11a77",
   "metadata": {},
   "source": [
    "### 합이 같은 부분집합(DFS : 아마존 인터뷰)\n",
    "\n",
    "N개의 원소로 구성된 자연수 집합이 주어지면, 이 집합을 두 개의 부분집합으로 나누었을 때 두 부분집합의 원소의 합이 서로 같은 경우가 존재하면 “YES\"를 출력하고, 그렇지 않으면 ”NO\"를 출력하는 프로그램을 작성하세요.<br>\n",
    "둘로 나뉘는 두 부분집합은 서로소 집합이며, 두 부분집합을 합하면 입력으로 주어진 원래의 집합이 되어 합니다.<br>\n",
    "예를 들어 {1, 3, 5, 6, 7, 10}이 입력되면 {1, 3, 5, 7} = {6, 10} 으로 두 부분집합의 합이 16으로 같은 경우가 존재하는 것을 알 수 있다.\n",
    "\n",
    "- **입력설명**<br>\n",
    "첫 번째 줄에 자연수 N(1<=N<=10)이 주어집니다. <br>\n",
    "두 번째 줄에 집합의 원소 N개가 주어진다. 각 원소는 중복되지 않는다.<br>\n",
    "<br>\n",
    "- **출력설명**<br>\n",
    "첫 번째 줄에 “YES\" 또는 ”NO\"를 출력한다.<br>\n",
    "<br>\n",
    "-  **입력예제**<br>\n",
    "6<br>\n",
    "1 3 5 6 7 10<br>\n",
    "\n",
    "- **출력예제**<br>\n",
    "YES"
   ]
  },
  {
   "cell_type": "code",
   "execution_count": 59,
   "id": "ce4c7ad5",
   "metadata": {},
   "outputs": [
    {
     "name": "stdout",
     "output_type": "stream",
     "text": [
      "6\n",
      "1 3 5 6 7 10\n",
      "YES\n"
     ]
    }
   ],
   "source": [
    "# test case 1개 불일치\n",
    "def DFS(x):\n",
    "    result = 0\n",
    "    if x > n:        \n",
    "        for i in range(len(n_list)):\n",
    "            if n_check[i] == 1:\n",
    "                result += n_list[i] \n",
    "        result_sum.append(result)\n",
    "        result = 0\n",
    "        return\n",
    "    else:\n",
    "        n_check[x - 1] = 1\n",
    "        DFS(x + 1)\n",
    "        n_check[x - 1] = 0\n",
    "        DFS(x + 1)\n",
    "\n",
    "n = int(input())\n",
    "n_check = [0] * n\n",
    "n_list = list(map(int, input().split()))\n",
    "result_sum = []\n",
    "\n",
    "DFS(1)\n",
    "\n",
    "set_result_sum = set(result_sum)\n",
    "\n",
    "if len(result_sum) != len(set_result_sum):\n",
    "    print('YES')\n",
    "else:\n",
    "    print('NO')"
   ]
  },
  {
   "cell_type": "code",
   "execution_count": 63,
   "id": "45598722",
   "metadata": {},
   "outputs": [
    {
     "name": "stdout",
     "output_type": "stream",
     "text": [
      "6\n",
      "1 3 5 6 7 10\n",
      "YES\n"
     ]
    },
    {
     "ename": "SystemExit",
     "evalue": "0",
     "output_type": "error",
     "traceback": [
      "An exception has occurred, use %tb to see the full traceback.\n",
      "\u001b[1;31mSystemExit\u001b[0m\u001b[1;31m:\u001b[0m 0\n"
     ]
    }
   ],
   "source": [
    "# 풀이\n",
    "import sys\n",
    "\n",
    "def DFS(L, sum_s): #L: 인덱스 번호, sum_s: 사용하는 원소들의 합\n",
    "    if L == n:\n",
    "        if sum_s == (total - sum_s):\n",
    "            print('YES')\n",
    "            sys.exit(0) # 함수 종료가 아닌 프로그램 자체 종료\n",
    "    else:\n",
    "        DFS(L + 1, sum_s + a[L])\n",
    "        DFS(L + 1, sum_s)\n",
    "\n",
    "\n",
    "if __name__ == \"__main__\":\n",
    "    n = int(input())\n",
    "    a = list(map(int, input().split()))\n",
    "    total = sum(a)\n",
    "    DFS(0, 0)\n",
    "    print('NO')"
   ]
  },
  {
   "cell_type": "code",
   "execution_count": 66,
   "id": "999c08f3",
   "metadata": {},
   "outputs": [
    {
     "name": "stdout",
     "output_type": "stream",
     "text": [
      "6\n",
      "1 3 5 6 7 10\n",
      "YES\n"
     ]
    },
    {
     "ename": "SystemExit",
     "evalue": "0",
     "output_type": "error",
     "traceback": [
      "An exception has occurred, use %tb to see the full traceback.\n",
      "\u001b[1;31mSystemExit\u001b[0m\u001b[1;31m:\u001b[0m 0\n"
     ]
    }
   ],
   "source": [
    "# 시간 복잡도 줄이기\n",
    "import sys\n",
    "\n",
    "def DFS(L, sum_s): \n",
    "    if sum_s > (total // 2): # 전체를 다 탐색하는 것이 아닌 절만만 탐색\n",
    "        return    \n",
    "    if L == n:\n",
    "        if sum_s == (total - sum_s):\n",
    "            print('YES')\n",
    "            sys.exit(0) \n",
    "    else:\n",
    "        DFS(L + 1, sum_s + a[L])\n",
    "        DFS(L + 1, sum_s)\n",
    "\n",
    "\n",
    "if __name__ == \"__main__\":\n",
    "    n = int(input())\n",
    "    a = list(map(int, input().split()))\n",
    "    total = sum(a)\n",
    "    DFS(0, 0)\n",
    "    print('NO')"
   ]
  }
 ],
 "metadata": {
  "kernelspec": {
   "display_name": "Python [conda env:machine] *",
   "language": "python",
   "name": "conda-env-machine-py"
  },
  "language_info": {
   "codemirror_mode": {
    "name": "ipython",
    "version": 3
   },
   "file_extension": ".py",
   "mimetype": "text/x-python",
   "name": "python",
   "nbconvert_exporter": "python",
   "pygments_lexer": "ipython3",
   "version": "3.8.12"
  }
 },
 "nbformat": 4,
 "nbformat_minor": 5
}
