{
 "cells": [
  {
   "cell_type": "markdown",
   "id": "d8cbef3a",
   "metadata": {},
   "source": [
    "### 최소 힙\n",
    "최소힙은 완전이진트리로 구현된 자료구조입니다. 그 구성은 부모 노드값이 왼쪽자식과 오른쪽 자식노드의 값보다 작게 트리를 구성하는 것입니다. 그렇게 하면 트리의 루트(root)노드는 입력된 값들 중 가장 작은 값이 저장되어 있습니다. 예를 들어 5 3 2 1 4 6 7순으로 입력되면 최소힙 트리는 아래와 같이 구성됩니다.\n",
    "\n",
    "![nn](img/최소힙.png)\n",
    "src = \"./img/최소힙.png\"\n",
    "최소힙 자료를 이용하여 다음과 같은 연산을 하는 프로그램을 작성하세요.\n",
    "- 1) 자연수가 입력되면 최소힙에 입력한다.\n",
    "- 2) 숫자 0 이 입력되면 최소힙에서 최솟값을 꺼내어 출력한다. \n",
    " (출력할 자료가 없으면 -1를 출력한다.)\n",
    "- 3) -1이 입력되면 프로그램 종료한다.\n"
   ]
  },
  {
   "cell_type": "code",
   "execution_count": 8,
   "id": "7c26c5c4",
   "metadata": {},
   "outputs": [
    {
     "name": "stdout",
     "output_type": "stream",
     "text": [
      "5\n",
      "3\n",
      "6\n",
      "0\n",
      "3\n",
      "5\n",
      "0\n",
      "5\n",
      "2\n",
      "4\n",
      "0\n",
      "2\n",
      "-1\n"
     ]
    }
   ],
   "source": [
    "heap = []\n",
    "while True:\n",
    "    n = int(input())\n",
    "    if n == -1:\n",
    "        break\n",
    "    elif n == 0:\n",
    "        if len(heap) == 0:\n",
    "            print(-1)\n",
    "        else:\n",
    "            print(min(heap))\n",
    "        heap = []\n",
    "    else:\n",
    "        heap.append(n)     \n"
   ]
  },
  {
   "cell_type": "code",
   "execution_count": 10,
   "id": "7a830969",
   "metadata": {},
   "outputs": [
    {
     "name": "stdout",
     "output_type": "stream",
     "text": [
      "5\n",
      "3\n",
      "6\n",
      "0\n",
      "3\n",
      "5\n",
      "0\n",
      "5\n",
      "2\n",
      "4\n",
      "0\n",
      "2\n",
      "-1\n"
     ]
    }
   ],
   "source": [
    "# 풀이 \n",
    "import heapq as hq\n",
    "\n",
    "a = []\n",
    "while True:\n",
    "    n = int(input())\n",
    "    if n == -1:\n",
    "        break\n",
    "    if n == 0:\n",
    "        if len(a) == 0:\n",
    "            print(-1)\n",
    "        else:\n",
    "            print(hq.heappop(a))\n",
    "    else:\n",
    "        hq.heappush(a, n)\n",
    "    "
   ]
  },
  {
   "cell_type": "markdown",
   "id": "68e18928",
   "metadata": {},
   "source": [
    "### 최대 힙\n",
    "최대힙은 완전이진트리로 구현된 자료구조입니다. 그 구성은 부모 노드값이 왼쪽자식과 오른쪽 자식노드의 값보다 크게 트리를 구성하는 것입니다. 그렇게 하면 트리의 루트(root)노드는 입력된 값들 중 가장 큰 값이 저장되어 있습니다. 예를 들어 5 3 2 1 4 6 7순으로 입력되면 최대힙 트리는 아래와 같이 구성됩니다.\n",
    "\n",
    "![nn](img/최대힙.png)\n",
    "\n",
    "최대힙 자료를 이용하여 다음과 같은 연산을 하는 프로그램을 작성하세요.\n",
    "1) 자연수가 입력되면 최대힙에 입력한다.<br>\n",
    "2) 숫자 0 이 입력되면 최대힙에서 최댓값을 꺼내어 출력한다.<br>\n",
    " (출력할 자료가 없으면 -1를 출력한다.)<br>\n",
    "3) -1이 입력되면 프로그램 종료한다."
   ]
  },
  {
   "cell_type": "code",
   "execution_count": 19,
   "id": "195457a8",
   "metadata": {},
   "outputs": [
    {
     "name": "stdout",
     "output_type": "stream",
     "text": [
      "5\n",
      "3\n",
      "6\n",
      "0\n",
      "6\n",
      "5\n",
      "0\n",
      "5\n",
      "2\n",
      "4\n",
      "0\n",
      "5\n",
      "-1\n"
     ]
    }
   ],
   "source": [
    "import heapq as hq\n",
    "\n",
    "heap = []\n",
    "while True:\n",
    "    n = int(input())\n",
    "    if n == -1:\n",
    "        break\n",
    "    elif n == 0:\n",
    "        if len(heap) == 0:\n",
    "            print(-1)\n",
    "        else:\n",
    "            print(abs(hq.heappop(heap)))\n",
    "            \n",
    "    else:\n",
    "        n = -n\n",
    "        hq.heappush(heap, n)    "
   ]
  },
  {
   "cell_type": "code",
   "execution_count": 22,
   "id": "86d5a4ea",
   "metadata": {},
   "outputs": [
    {
     "name": "stdout",
     "output_type": "stream",
     "text": [
      "5\n",
      "3\n",
      "6\n",
      "0\n",
      "6\n",
      "5\n",
      "0\n",
      "5\n",
      "2\n",
      "4\n",
      "0\n",
      "5\n",
      "-1\n"
     ]
    }
   ],
   "source": [
    "# 풀이\n",
    "\n",
    "a = []\n",
    "while True:\n",
    "    n = int(input())\n",
    "    if n == -1:\n",
    "        break\n",
    "    if n == 0:\n",
    "        if len(a) == 0:\n",
    "            print(-1)\n",
    "        else:\n",
    "            print(-hq.heappop(a))\n",
    "    else:\n",
    "        hq.heappush(a, -n)"
   ]
  }
 ],
 "metadata": {
  "kernelspec": {
   "display_name": "Python 3 (ipykernel)",
   "language": "python",
   "name": "python3"
  },
  "language_info": {
   "codemirror_mode": {
    "name": "ipython",
    "version": 3
   },
   "file_extension": ".py",
   "mimetype": "text/x-python",
   "name": "python",
   "nbconvert_exporter": "python",
   "pygments_lexer": "ipython3",
   "version": "3.8.12"
  }
 },
 "nbformat": 4,
 "nbformat_minor": 5
}
