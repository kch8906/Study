{
 "cells": [
  {
   "cell_type": "code",
   "execution_count": 4,
   "id": "9097d2d4",
   "metadata": {},
   "outputs": [
    {
     "name": "stdout",
     "output_type": "stream",
     "text": [
      "(((()(()()))(())()))(()())\n",
      "26\n"
     ]
    }
   ],
   "source": [
    "# 쇠막대기\n",
    "n = input()\n",
    "\n",
    "stack = []\n",
    "result = 0\n",
    "for i in n:\n",
    "    print(n)\n",
    "    if i == '(':\n",
    "        stack.append(i)        \n",
    "    elif stack[-1] == '(' and i == ')':\n",
    "        stack.pop()\n",
    "        result += len(stack)\n",
    "    else:\n",
    "        stack.pop()\n",
    "        result += len(stack) - 1\n",
    "        \n",
    "print(result)"
   ]
  },
  {
   "cell_type": "code",
   "execution_count": 6,
   "id": "d35a6713",
   "metadata": {},
   "outputs": [
    {
     "name": "stdout",
     "output_type": "stream",
     "text": [
      "(((()(()()))(())()))(()())\n",
      "24\n"
     ]
    }
   ],
   "source": [
    "# 모범답안\n",
    "n = input()\n",
    "stack = []\n",
    "result = 0\n",
    "\n",
    "for i in range(len(n)):\n",
    "    if n[i] == '(':\n",
    "        stack.append(i)\n",
    "    else:\n",
    "        if n[i - 1] == '(':\n",
    "            stack.pop()\n",
    "            result += len(stack)\n",
    "        else:\n",
    "            stack.pop()\n",
    "            result += 1\n",
    "            \n",
    "print(result)"
   ]
  },
  {
   "cell_type": "code",
   "execution_count": null,
   "id": "27afe105",
   "metadata": {},
   "outputs": [],
   "source": []
  }
 ],
 "metadata": {
  "kernelspec": {
   "display_name": "Python 3 (ipykernel)",
   "language": "python",
   "name": "python3"
  },
  "language_info": {
   "codemirror_mode": {
    "name": "ipython",
    "version": 3
   },
   "file_extension": ".py",
   "mimetype": "text/x-python",
   "name": "python",
   "nbconvert_exporter": "python",
   "pygments_lexer": "ipython3",
   "version": "3.9.7"
  }
 },
 "nbformat": 4,
 "nbformat_minor": 5
}
