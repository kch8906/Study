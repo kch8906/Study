{
 "cells": [
  {
   "cell_type": "markdown",
   "id": "aedce1b1",
   "metadata": {},
   "source": [
    "### 경로 탐색(그래프 DFS)\n",
    "방향그래프가 주어지면 1번 정점에서 N번 정점으로 가는 모든 경로의 가지 수를 출력하는 프로그램을 작성하세요. 아래 그래프에서 1번 정점에서 5번 정점으로 가는 가지 수는<br>\n",
    "- 1 2 3 4 5<br>\n",
    "- 1 2 5<br>\n",
    "- 1 3 4 2 5<br>\n",
    "- 1 3 4 5<br>\n",
    "- 1 4 2 5<br>\n",
    "- 1 4 5<br>\n",
    "![nn](img/경로탐색.PNG)\n",
    "총 6 가지입니다. <br>\n",
    "그래프에서 경로란 방문한 노느는 중복해서 방문하지 않습니다.<br>\n",
    "<br>\n",
    "- **입력설명**<br>\n",
    "첫째 줄에는 정점의 수 N(2<=N<=20)와 간선의 수 M가 주어진다. 그 다음부터 M줄에 걸쳐 연결정보가 주어진다.<br>\n",
    "<br>\n",
    "- **출력설명**<br>\n",
    "총 가지수를 출력한다.<br>\n",
    "<br>\n",
    "- **입력예제**<br>\n",
    "5 9<br>\n",
    "1 2 <br>\n",
    "1 3<br>\n",
    "1 4 <br>\n",
    "2 1 <br>\n",
    "2 3 <br>\n",
    "2 5 <br>\n",
    "3 4 <br>\n",
    "4 2 <br>\n",
    "4 5<br>\n",
    "<br>\n",
    "- **출력예제**<br>\n",
    "6\n"
   ]
  },
  {
   "cell_type": "code",
   "execution_count": 96,
   "id": "2952bada",
   "metadata": {},
   "outputs": [],
   "source": [
    "def DFS(node):\n",
    "    global cnt\n",
    "    if node == n:\n",
    "        cnt += 1\n",
    "        for i in path:\n",
    "            print(i, end=' ')\n",
    "        print()\n",
    "    else:\n",
    "        for i in range(1, n + 1):\n",
    "            if matrix[node][i] == 1 and check[i] == 0:\n",
    "                check[i] = 1\n",
    "                path.append(i)\n",
    "                DFS(i)\n",
    "                path.pop()\n",
    "                check[i] = 0           "
   ]
  },
  {
   "cell_type": "code",
   "execution_count": 81,
   "id": "4c4037b3",
   "metadata": {},
   "outputs": [
    {
     "name": "stdout",
     "output_type": "stream",
     "text": [
      "5 9\n"
     ]
    }
   ],
   "source": [
    "n, m = map(int, input().split())\n",
    "matrix = [[0] * (n + 1) for _ in range(n + 1)]\n",
    "check = [0] * (n + 1)"
   ]
  },
  {
   "cell_type": "code",
   "execution_count": 97,
   "id": "1236c5a9",
   "metadata": {},
   "outputs": [
    {
     "name": "stdout",
     "output_type": "stream",
     "text": [
      "1 2\n",
      "1 3\n",
      "1 4\n",
      "2 1\n",
      "2 3\n",
      "2 5\n",
      "3 4\n",
      "4 2\n",
      "4 5\n",
      "1 2 3 4 5 \n",
      "1 2 5 \n",
      "1 3 4 2 5 \n",
      "1 3 4 5 \n",
      "1 4 2 5 \n",
      "1 4 5 \n",
      "6\n"
     ]
    }
   ],
   "source": [
    "for i in range(m):\n",
    "    x, y = map(int, input().split())\n",
    "    matrix[x][y] = 1\n",
    "\n",
    "cnt = 0\n",
    "path = []\n",
    "path.append(1)\n",
    "check[1] = 1\n",
    "DFS(1)\n",
    "print(cnt)"
   ]
  }
 ],
 "metadata": {
  "kernelspec": {
   "display_name": "Python [conda env:machine] *",
   "language": "python",
   "name": "conda-env-machine-py"
  },
  "language_info": {
   "codemirror_mode": {
    "name": "ipython",
    "version": 3
   },
   "file_extension": ".py",
   "mimetype": "text/x-python",
   "name": "python",
   "nbconvert_exporter": "python",
   "pygments_lexer": "ipython3",
   "version": "3.8.12"
  }
 },
 "nbformat": 4,
 "nbformat_minor": 5
}
