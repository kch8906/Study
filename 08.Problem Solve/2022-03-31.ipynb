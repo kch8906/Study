{
 "cells": [
  {
   "cell_type": "markdown",
   "id": "44d13f03",
   "metadata": {},
   "source": [
    "### 합이 같은 부분집합(DFS : 아마존 인터뷰)"
   ]
  },
  {
   "cell_type": "code",
   "execution_count": 19,
   "id": "945d96f2",
   "metadata": {},
   "outputs": [
    {
     "name": "stdout",
     "output_type": "stream",
     "text": [
      "6\n",
      "1 3 5 6 7 10\n",
      "YES\n"
     ]
    },
    {
     "ename": "SystemExit",
     "evalue": "0",
     "output_type": "error",
     "traceback": [
      "An exception has occurred, use %tb to see the full traceback.\n",
      "\u001b[1;31mSystemExit\u001b[0m\u001b[1;31m:\u001b[0m 0\n"
     ]
    },
    {
     "name": "stderr",
     "output_type": "stream",
     "text": [
      "C:\\Users\\Changhyun\\anaconda3\\envs\\machine_TF15\\lib\\site-packages\\IPython\\core\\interactiveshell.py:3465: UserWarning: To exit: use 'exit', 'quit', or Ctrl-D.\n",
      "  warn(\"To exit: use 'exit', 'quit', or Ctrl-D.\", stacklevel=1)\n"
     ]
    }
   ],
   "source": [
    "import sys\n",
    "\n",
    "def DFS(level, sum_a):\n",
    "    if sum_a > total // 2:\n",
    "        return\n",
    "    if level == n:\n",
    "        if sum_a == (total - sum_a):\n",
    "            print(\"YES\")\n",
    "            sys.exit(0)\n",
    "    else:\n",
    "        DFS(level + 1, sum_a + a[level])\n",
    "        DFS(level + 1, sum_a)\n",
    "\n",
    "\n",
    "n = int(input())\n",
    "a = list(map(int, input().split()))\n",
    "total = sum(a)\n",
    "DFS(0, 0)\n",
    "print(\"NO\")"
   ]
  },
  {
   "cell_type": "code",
   "execution_count": null,
   "id": "00b5e85f",
   "metadata": {},
   "outputs": [],
   "source": []
  }
 ],
 "metadata": {
  "kernelspec": {
   "display_name": "Python [conda env:machine_TF15] *",
   "language": "python",
   "name": "conda-env-machine_TF15-py"
  },
  "language_info": {
   "codemirror_mode": {
    "name": "ipython",
    "version": 3
   },
   "file_extension": ".py",
   "mimetype": "text/x-python",
   "name": "python",
   "nbconvert_exporter": "python",
   "pygments_lexer": "ipython3",
   "version": "3.7.13"
  }
 },
 "nbformat": 4,
 "nbformat_minor": 5
}
