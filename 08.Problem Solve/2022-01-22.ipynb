{
 "cells": [
  {
   "cell_type": "code",
   "execution_count": 9,
   "id": "7e6da7fb",
   "metadata": {
    "scrolled": false
   },
   "outputs": [
    {
     "name": "stdout",
     "output_type": "stream",
     "text": [
      "20\n",
      "20\n",
      "[2, 0]\n"
     ]
    }
   ],
   "source": [
    "# 1065\n",
    "\n",
    "n = int(input())\n",
    "\n",
    "cnt = 0\n",
    "for i in range(1, n + 1):\n",
    "    num_list = list(map(int, str(i)))\n",
    "    if i < 100:\n",
    "        cnt += 1\n",
    "    elif num_list[0] - num_list[1] == num_list[1] - num_list[2]:\n",
    "        cnt += 1    \n",
    "print(cnt)      \n",
    "print(num_list)"
   ]
  },
  {
   "cell_type": "code",
   "execution_count": 8,
   "id": "de2112ad",
   "metadata": {},
   "outputs": [
    {
     "name": "stdout",
     "output_type": "stream",
     "text": [
      "[1, 9]\n"
     ]
    }
   ],
   "source": [
    "\n",
    "for i in range(1, 20):\n",
    "    num_list = list(map(int, str(i)))\n",
    "    \n",
    "print(num_list)"
   ]
  },
  {
   "cell_type": "code",
   "execution_count": 47,
   "id": "1f13c86f",
   "metadata": {},
   "outputs": [
    {
     "name": "stdout",
     "output_type": "stream",
     "text": [
      "4\n",
      "2 4 6 8\n",
      "1\n"
     ]
    }
   ],
   "source": [
    "# 1948\n",
    "\n",
    "n = int(input())\n",
    "num_list = list(map(int, input().split()))\n",
    "sosu = 0\n",
    "\n",
    "for i in num_list:\n",
    "    cnt = 0\n",
    "    if i > 1:\n",
    "        for j in range(2, i):\n",
    "            if i % j == 0:\n",
    "                cnt += 1\n",
    "        if cnt == 0:\n",
    "            sosu += 1\n",
    "            \n",
    "print(sosu)"
   ]
  },
  {
   "cell_type": "code",
   "execution_count": 59,
   "id": "ec6494f5",
   "metadata": {},
   "outputs": [
    {
     "name": "stdout",
     "output_type": "stream",
     "text": [
      "60\n",
      "100\n",
      "620\n",
      "61\n"
     ]
    }
   ],
   "source": [
    "# 2581\n",
    "\n",
    "M = int(input())\n",
    "N = int(input())\n",
    "\n",
    "num_list = []\n",
    "for i in range(M, N + 1):\n",
    "    num_list.append(i)\n",
    "    \n",
    "sosu = 0\n",
    "sosu_list = []\n",
    "for i in num_list:\n",
    "    cnt = 0\n",
    "    if i > 1:\n",
    "        for j in range(2, i):\n",
    "            if i % j == 0:\n",
    "                cnt += 1\n",
    "        if cnt == 0:\n",
    "            sosu += 1\n",
    "            sosu_list.append(i)\n",
    "            \n",
    "if sosu == 0:\n",
    "    print(-1)\n",
    "\n",
    "else :\n",
    "    print(sum(sosu_list))\n",
    "    print(min(sosu_list))"
   ]
  },
  {
   "cell_type": "code",
   "execution_count": 62,
   "id": "7897beb8",
   "metadata": {},
   "outputs": [
    {
     "name": "stdout",
     "output_type": "stream",
     "text": [
      "3 16\n",
      "3\n",
      "5\n",
      "7\n",
      "11\n",
      "13\n"
     ]
    }
   ],
   "source": [
    "# 1929\n",
    "import sys\n",
    "\n",
    "M, N = map(int, sys.stdin.readline().split())\n",
    "\n",
    "sosu = 0\n",
    "for i in range(M, N + 1):\n",
    "    cnt = 0\n",
    "    \n",
    "    if i > 1:\n",
    "        for j in range(2, i):\n",
    "            if i % j == 0:\n",
    "                cnt += 1\n",
    "        if cnt == 0:\n",
    "            sosu += 1\n",
    "            print(i)"
   ]
  },
  {
   "cell_type": "code",
   "execution_count": 66,
   "id": "98b9bf09",
   "metadata": {},
   "outputs": [
    {
     "name": "stdout",
     "output_type": "stream",
     "text": [
      "3 16\n",
      "3\n",
      "5\n",
      "7\n",
      "11\n",
      "13\n"
     ]
    }
   ],
   "source": [
    "\n",
    "def sosu(num):\n",
    "    if num > 1:\n",
    "        for i in range(2, int(num**0.5) + 1):\n",
    "            if num % i == 0:\n",
    "                return False\n",
    "        return True\n",
    "    \n",
    "M, N = map(int, sys.stdin.readline().split())\n",
    "\n",
    "for i in range(M, N + 1):\n",
    "    if sosu(i):\n",
    "        print(i)                "
   ]
  },
  {
   "cell_type": "code",
   "execution_count": 105,
   "id": "739c2318",
   "metadata": {},
   "outputs": [
    {
     "name": "stdout",
     "output_type": "stream",
     "text": [
      "13\n",
      "3\n",
      "0\n"
     ]
    }
   ],
   "source": [
    "def sosu(num):\n",
    "    cnt = 0\n",
    "    if num > 1:\n",
    "        for i in range(2, int(num**0.5) + 1):\n",
    "            if num % i == 0:\n",
    "                cnt += 1\n",
    "                return False\n",
    "        if cnt == 0:\n",
    "            return True\n",
    "            \n",
    "all_list = list(range(2, 246912))\n",
    "sosu_list = []\n",
    "\n",
    "for i in all_list:\n",
    "    if sosu(i):\n",
    "        sosu_list.append(i)\n",
    "\n",
    "\n",
    "while True:    \n",
    "    n = int(input())\n",
    "    cnt = 0\n",
    "    if n == 0:\n",
    "        break\n",
    "        \n",
    "    for i in sosu_list:\n",
    "        if n < i <= 2*n:\n",
    "            cnt += 1\n",
    "            \n",
    "    print(cnt)"
   ]
  },
  {
   "cell_type": "code",
   "execution_count": 110,
   "id": "2006db44",
   "metadata": {},
   "outputs": [
    {
     "name": "stdout",
     "output_type": "stream",
     "text": [
      "256\n",
      "245\n"
     ]
    }
   ],
   "source": [
    "# 2231 # 한번 더\n",
    "\n",
    "n = int(input())\n",
    "\n",
    "for i in range(1, n + 1):\n",
    "    num = sum(map(int, str(i)))\n",
    "    num_sum = i + num\n",
    "    \n",
    "    if num_sum == n:\n",
    "        print(i)\n",
    "        break\n",
    "    if i == n:\n",
    "        print(0)"
   ]
  },
  {
   "cell_type": "code",
   "execution_count": 112,
   "id": "5230352c",
   "metadata": {},
   "outputs": [
    {
     "name": "stdout",
     "output_type": "stream",
     "text": [
      "256\n"
     ]
    }
   ],
   "source": [
    "print(num_sum)"
   ]
  },
  {
   "cell_type": "code",
   "execution_count": null,
   "id": "4a270909",
   "metadata": {},
   "outputs": [],
   "source": []
  },
  {
   "cell_type": "code",
   "execution_count": null,
   "id": "88537187",
   "metadata": {},
   "outputs": [],
   "source": []
  }
 ],
 "metadata": {
  "kernelspec": {
   "display_name": "Python 3 (ipykernel)",
   "language": "python",
   "name": "python3"
  },
  "language_info": {
   "codemirror_mode": {
    "name": "ipython",
    "version": 3
   },
   "file_extension": ".py",
   "mimetype": "text/x-python",
   "name": "python",
   "nbconvert_exporter": "python",
   "pygments_lexer": "ipython3",
   "version": "3.9.7"
  }
 },
 "nbformat": 4,
 "nbformat_minor": 5
}
