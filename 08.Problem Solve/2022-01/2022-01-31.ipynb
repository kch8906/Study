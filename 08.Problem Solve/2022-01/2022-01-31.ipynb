{
 "cells": [
  {
   "cell_type": "code",
   "execution_count": 31,
   "id": "edc602a5",
   "metadata": {},
   "outputs": [
    {
     "name": "stdout",
     "output_type": "stream",
     "text": [
      "5\n",
      "level\n",
      "#1 YES\n",
      "moon\n",
      "#2 NO\n",
      "abcba\n",
      "#3 YES\n",
      "soon\n",
      "#4 NO\n",
      "gooG\n",
      "#5 YES\n"
     ]
    }
   ],
   "source": [
    "# 3 - 희문 문자열 검사\n",
    "\n",
    "for i in range(int(input())):\n",
    "    arr = input().lower()\n",
    "    \n",
    "    if arr[:] == arr[::-1]:\n",
    "        print('#{} YES'.format(i + 1))\n",
    "    else:\n",
    "        print('#{} NO'.format(i + 1))"
   ]
  },
  {
   "cell_type": "code",
   "execution_count": 36,
   "id": "5b24b785",
   "metadata": {},
   "outputs": [
    {
     "name": "stdout",
     "output_type": "stream",
     "text": [
      "5\n",
      "level\n",
      "#1 YES\n",
      "moon\n",
      "#2 NO\n",
      "abcba\n",
      "#3 YES\n",
      "soon\n",
      "#4 NO\n",
      "gooG\n",
      "#5 YES\n"
     ]
    }
   ],
   "source": [
    "# 모범 답안\n",
    "\n",
    "n = int(input())\n",
    "for i in range(n):\n",
    "    s = input()\n",
    "    s = s.upper()\n",
    "    size = len(s)\n",
    "    for j in range(size // 2):\n",
    "        if s[j] != s[-1 - j]:\n",
    "            print('#%d NO' % (i + 1))\n",
    "            break\n",
    "    else:\n",
    "        print('#%d YES' % (i + 1))"
   ]
  },
  {
   "cell_type": "code",
   "execution_count": 38,
   "id": "36f94c10",
   "metadata": {},
   "outputs": [
    {
     "name": "stdout",
     "output_type": "stream",
     "text": [
      "g0en2Ts8eSoft\n"
     ]
    }
   ],
   "source": [
    "n = input().upper()"
   ]
  },
  {
   "cell_type": "code",
   "execution_count": 47,
   "id": "a4af7609",
   "metadata": {},
   "outputs": [
    {
     "name": "stdout",
     "output_type": "stream",
     "text": [
      "6\n"
     ]
    }
   ],
   "source": [
    "# 숫자만 추출\n",
    "res = 0\n",
    "for i in n:\n",
    "    if i.isdecimal():              # **** isdecimal() = 0 ~ 9의 숫자, isdigit() = 모든 숫자 검색\n",
    "        res = res * 10 + int(i)\n",
    "\n",
    "cnt = 0\n",
    "for i in range(1, res + 1):\n",
    "    if res % i == 0:\n",
    "         cnt+=1\n",
    "        \n",
    "print(cnt)"
   ]
  },
  {
   "cell_type": "code",
   "execution_count": 92,
   "id": "546e0874",
   "metadata": {},
   "outputs": [
    {
     "name": "stdout",
     "output_type": "stream",
     "text": [
      "5 10\n",
      "9 13\n",
      "1 2\n",
      "3 4\n",
      "5 6\n",
      "1 2\n",
      "3 4\n",
      "5 6\n",
      "1 20\n",
      "1 20\n",
      "1 2 3 4 10 9 8 7 13 12 11 5 6 14 15 16 17 18 19 20 "
     ]
    }
   ],
   "source": [
    "# 3 - 카드 역배치\n",
    "\n",
    "cards = [i for i in range(1, 21)]\n",
    "for _ in range(10):\n",
    "    x, y = map(int, input().split()) \n",
    "    cnt = abs(y - x) // 2\n",
    "    for _ in range(cnt + 1):\n",
    "        cards[x - 1], cards[y - 1] = cards[y - 1], cards[x - 1]\n",
    "        x += 1\n",
    "        y -= 1\n",
    "\n",
    "for i in cards:\n",
    "    print(i, end = ' ')"
   ]
  },
  {
   "cell_type": "code",
   "execution_count": 94,
   "id": "1b33221a",
   "metadata": {},
   "outputs": [
    {
     "name": "stdout",
     "output_type": "stream",
     "text": [
      "[1, 2, 3, 4, 5, 6, 7, 8, 9, 10, 11, 12, 13, 14, 15, 16, 17, 18, 19, 20]\n"
     ]
    }
   ],
   "source": [
    "# 모범 답안\n",
    "a = list(range(21))\n",
    "for _ in range(10):\n",
    "    s, e = map(int, input().split())\n",
    "    for i in range((e - s + 1) // 2):\n",
    "        a[s + i], a[e - i] = a[e - i], e[s + i] \n",
    "        \n",
    "a.pop(0)\n",
    "for x in a:\n",
    "    print(x, end = ' ')"
   ]
  },
  {
   "cell_type": "code",
   "execution_count": 125,
   "id": "9f31957b",
   "metadata": {
    "scrolled": true
   },
   "outputs": [
    {
     "name": "stdout",
     "output_type": "stream",
     "text": [
      "3\n",
      "1 3 5\n",
      "5\n",
      "2 3 6 7 9\n"
     ]
    }
   ],
   "source": [
    "# 두 리스트 합치기\n",
    "\n",
    "list_a = [0] * int(input())\n",
    "list_a = list(map(int, input().split()))\n",
    "list_b = [0] * int(input())\n",
    "list_b = list(map(int, input().split()))\n",
    "\n",
    "result = sorted(list_a + list_b)\n",
    "\n",
    "for i in result:\n",
    "    print(i, end = ' ')"
   ]
  },
  {
   "cell_type": "code",
   "execution_count": 153,
   "id": "b899336d",
   "metadata": {},
   "outputs": [
    {
     "name": "stdout",
     "output_type": "stream",
     "text": [
      "3\n",
      "1 3 5\n",
      "5\n",
      "2 3 6 7 9\n",
      "1 2 3 3 5 6 7 9 "
     ]
    }
   ],
   "source": [
    "# 모범답안\n",
    "\n",
    "n = int(input())\n",
    "list_a = list(map(int, input().split()))\n",
    "m = int(input())\n",
    "list_b = list(map(int, input().split()))\n",
    "result = []\n",
    "p1 = 0\n",
    "p2 = 0\n",
    "while True:\n",
    "    if list_a[p1] <= list_b[p2]:\n",
    "        result.append(list_a[p1])\n",
    "        p1 += 1        \n",
    "        if p1 == n:\n",
    "            break\n",
    "    else:\n",
    "        result.append(list_b[p2])\n",
    "        p2 += 1\n",
    "        \n",
    "result = result + list_b[p2:]\n",
    "        \n",
    "for i in result:\n",
    "    print(i, end = ' ')"
   ]
  },
  {
   "cell_type": "code",
   "execution_count": 104,
   "id": "519c1c60",
   "metadata": {},
   "outputs": [
    {
     "name": "stdout",
     "output_type": "stream",
     "text": [
      "8 3\n",
      "1 2 1 3 1 1 1 2\n"
     ]
    },
    {
     "data": {
      "text/plain": [
       "[1, 2, 1, 3, 1, 1, 1, 2]"
      ]
     },
     "execution_count": 104,
     "metadata": {},
     "output_type": "execute_result"
    }
   ],
   "source": [
    "# 수들의 합 *********\n",
    "\n",
    "n, m = map(int, input().split())\n",
    "arr = list(map(int, input().split()))\n",
    "\n",
    "cnt = 0\n",
    "res = 0\n",
    "for i in range(len(arr) + 1):\n",
    "    for j in range(i+1, len(arr)):        \n",
    "        if arr[i] + arr[j] != m:\n",
    "            res = arr[i] + arr[j]\n",
    "            continue\n",
    "        elif arr[i]+ arr[j] == m:\n",
    "            cnt += 1                   \n",
    "        elif res + arr[j] == m:\n",
    "            cnt += 1\n",
    "print(cnt)"
   ]
  },
  {
   "cell_type": "code",
   "execution_count": 117,
   "id": "6992543e",
   "metadata": {},
   "outputs": [
    {
     "name": "stdout",
     "output_type": "stream",
     "text": [
      "8 3\n",
      "1 2 1 3 1 1 1 2\n",
      "5\n"
     ]
    }
   ],
   "source": [
    "# 모범 답안  \n",
    "\n",
    "n, m = map(int, input().split())\n",
    "a = list(map(int, input().split()))\n",
    "lt = 0\n",
    "rt = 1\n",
    "tot= a[0]\n",
    "cnt= 0\n",
    "\n",
    "while True:\n",
    "    if tot < m:\n",
    "        if rt < n:\n",
    "            tot += a[rt]\n",
    "            rt += 1\n",
    "        else:\n",
    "            break\n",
    "            \n",
    "    elif tot == m:\n",
    "        cnt += 1\n",
    "        tot -= a[lt]\n",
    "        lt += 1\n",
    "    else:\n",
    "        tot -= a[lt]\n",
    "        lt += 1\n",
    "        \n",
    "print(cnt)"
   ]
  },
  {
   "cell_type": "code",
   "execution_count": 213,
   "id": "4380daa3",
   "metadata": {},
   "outputs": [
    {
     "name": "stdout",
     "output_type": "stream",
     "text": [
      "155\n"
     ]
    }
   ],
   "source": [
    "# 격자판 최대합\n",
    "grid = []\n",
    "n = int(input())\n",
    "for i in range(n):\n",
    "    grid.append(list(map(int, input().split())))\n",
    "    \n",
    "result_add_x = 0\n",
    "result_add_y = 0\n",
    "result_add_z = 0\n",
    "result_add_k = 0\n",
    "for i in range(n):\n",
    "    add_x = 0\n",
    "    add_y = 0\n",
    "    for j in range(n):\n",
    "        add_x += grid[i][j]\n",
    "        add_y += grid[j][i]\n",
    "        if i == j:\n",
    "            result_add_z += grid[i][j]           \n",
    "            result_add_k += grid[-i-1][j]\n",
    "        \n",
    "        if result_add_x < add_x:\n",
    "            result_add_x = add_x\n",
    "                \n",
    "        if result_add_y < add_y:\n",
    "            result_add_y = add_y\n",
    "       \n",
    "        if j == n - 1:\n",
    "            break\n",
    "                        \n",
    "print(max(result_add_x, result_add_y, result_add_z, result_add_k))"
   ]
  },
  {
   "cell_type": "code",
   "execution_count": 215,
   "id": "f180f4ac",
   "metadata": {},
   "outputs": [
    {
     "name": "stdout",
     "output_type": "stream",
     "text": [
      "\n"
     ]
    },
    {
     "ename": "ValueError",
     "evalue": "invalid literal for int() with base 10: ''",
     "output_type": "error",
     "traceback": [
      "\u001b[1;31m---------------------------------------------------------------------------\u001b[0m",
      "\u001b[1;31mValueError\u001b[0m                                Traceback (most recent call last)",
      "\u001b[1;32mC:\\Users\\CHANGH~1\\AppData\\Local\\Temp/ipykernel_63584/1222165927.py\u001b[0m in \u001b[0;36m<module>\u001b[1;34m\u001b[0m\n\u001b[0;32m      1\u001b[0m \u001b[1;31m# 모범답안\u001b[0m\u001b[1;33m\u001b[0m\u001b[1;33m\u001b[0m\u001b[0m\n\u001b[1;32m----> 2\u001b[1;33m \u001b[0mn\u001b[0m \u001b[1;33m=\u001b[0m \u001b[0mint\u001b[0m\u001b[1;33m(\u001b[0m\u001b[0minput\u001b[0m\u001b[1;33m(\u001b[0m\u001b[1;33m)\u001b[0m\u001b[1;33m)\u001b[0m\u001b[1;33m\u001b[0m\u001b[1;33m\u001b[0m\u001b[0m\n\u001b[0m\u001b[0;32m      3\u001b[0m \u001b[0ma\u001b[0m \u001b[1;33m=\u001b[0m \u001b[1;33m[\u001b[0m\u001b[0mlist\u001b[0m\u001b[1;33m(\u001b[0m\u001b[0mmap\u001b[0m\u001b[1;33m(\u001b[0m\u001b[0mint\u001b[0m\u001b[1;33m,\u001b[0m \u001b[0minput\u001b[0m\u001b[1;33m(\u001b[0m\u001b[1;33m)\u001b[0m\u001b[1;33m.\u001b[0m\u001b[0msplit\u001b[0m\u001b[1;33m(\u001b[0m\u001b[1;33m)\u001b[0m\u001b[1;33m)\u001b[0m\u001b[1;33m)\u001b[0m \u001b[1;32mfor\u001b[0m \u001b[0m_\u001b[0m \u001b[1;32min\u001b[0m \u001b[0mrange\u001b[0m\u001b[1;33m(\u001b[0m\u001b[0mn\u001b[0m\u001b[1;33m)\u001b[0m\u001b[1;33m]\u001b[0m \u001b[1;31m# **\u001b[0m\u001b[1;33m\u001b[0m\u001b[1;33m\u001b[0m\u001b[0m\n\u001b[0;32m      4\u001b[0m \u001b[0mprint\u001b[0m\u001b[1;33m(\u001b[0m\u001b[0ma\u001b[0m\u001b[1;33m)\u001b[0m\u001b[1;33m\u001b[0m\u001b[1;33m\u001b[0m\u001b[0m\n",
      "\u001b[1;31mValueError\u001b[0m: invalid literal for int() with base 10: ''"
     ]
    }
   ],
   "source": [
    "# 모범답안\n",
    "n = int(input())\n",
    "a = [list(map(int, input().split())) for _ in range(n)] # **\n",
    "largest = -2147000000\n",
    "for i in range(n):\n",
    "    sum1 = sum2 = 0\n",
    "    for j in range(n):\n",
    "        sum1 += a[i][j]\n",
    "        sum2 += a[j][i]\n",
    "        \n",
    "    if sum1 > largest:\n",
    "        largest = sum1\n",
    "        \n",
    "    if sum2 > largest:\n",
    "        largest = sum2\n",
    "        \n",
    "sum1 = sum2 = 0\n",
    "\n",
    "for i in range(n):\n",
    "    sum1 += a[i][i]\n",
    "    sum2 += a[i][n - i - 1]\n",
    " \n",
    "if sum1 > largest:\n",
    "    largest = sum1\n",
    "    \n",
    "if sum2 > largest:\n",
    "    largest = sum2\n",
    "    \n",
    "print(largest)"
   ]
  },
  {
   "cell_type": "code",
   "execution_count": null,
   "id": "01c1e810",
   "metadata": {},
   "outputs": [],
   "source": []
  }
 ],
 "metadata": {
  "kernelspec": {
   "display_name": "Python 3 (ipykernel)",
   "language": "python",
   "name": "python3"
  },
  "language_info": {
   "codemirror_mode": {
    "name": "ipython",
    "version": 3
   },
   "file_extension": ".py",
   "mimetype": "text/x-python",
   "name": "python",
   "nbconvert_exporter": "python",
   "pygments_lexer": "ipython3",
   "version": "3.9.7"
  }
 },
 "nbformat": 4,
 "nbformat_minor": 5
}
