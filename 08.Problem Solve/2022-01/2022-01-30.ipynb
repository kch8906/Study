{
 "cells": [
  {
   "cell_type": "markdown",
   "id": "099be073",
   "metadata": {},
   "source": [
    "### 대표값 오류 수정\n",
    "- round()는 round_half_even 방식을 택한다\n",
    "- round_half_even 방식 half 지점일 때 짝수 값으로 근사치를 출력함\n",
    "- 정확한 반올림 방식이 아님"
   ]
  },
  {
   "cell_type": "code",
   "execution_count": 5,
   "id": "2037c61e",
   "metadata": {},
   "outputs": [
    {
     "name": "stdout",
     "output_type": "stream",
     "text": [
      "4\n",
      "6\n"
     ]
    }
   ],
   "source": [
    "a = 4.500\n",
    "print(round(a))\n",
    "a = 5.500\n",
    "print(round(a))"
   ]
  },
  {
   "cell_type": "code",
   "execution_count": 10,
   "id": "846e3cee",
   "metadata": {},
   "outputs": [
    {
     "name": "stdout",
     "output_type": "stream",
     "text": [
      "67\n"
     ]
    }
   ],
   "source": [
    "a = 66.5\n",
    "a = a + 0.5\n",
    "print(int(a))"
   ]
  },
  {
   "cell_type": "code",
   "execution_count": 36,
   "id": "b0512fa5",
   "metadata": {},
   "outputs": [
    {
     "ename": "SyntaxError",
     "evalue": "invalid syntax (Temp/ipykernel_63220/4265362.py, line 1)",
     "output_type": "error",
     "traceback": [
      "\u001b[1;36m  File \u001b[1;32m\"C:\\Users\\CHANGH~1\\AppData\\Local\\Temp/ipykernel_63220/4265362.py\"\u001b[1;36m, line \u001b[1;32m1\u001b[0m\n\u001b[1;33m    import collections from Counting\u001b[0m\n\u001b[1;37m                       ^\u001b[0m\n\u001b[1;31mSyntaxError\u001b[0m\u001b[1;31m:\u001b[0m invalid syntax\n"
     ]
    }
   ],
   "source": [
    "import collections \n",
    "\n",
    "N, M = map(int, input().split())\n",
    "result = []\n",
    "for i in range(1, N + 1):\n",
    "    for j in range(i + 1, M):\n",
    "        result.append(i + j)\n",
    "\n"
   ]
  },
  {
   "cell_type": "code",
   "execution_count": 48,
   "id": "1803d9f6",
   "metadata": {},
   "outputs": [
    {
     "data": {
      "text/plain": [
       "[3, 4, 5, 6, 5, 6, 7, 7, 8, 9]"
      ]
     },
     "execution_count": 48,
     "metadata": {},
     "output_type": "execute_result"
    }
   ],
   "source": [
    "a = set(result)\n",
    "# for idx, val in enumerate(a):\n",
    "#     print(idx, val)\n",
    "    \n",
    "result  \n",
    "    "
   ]
  },
  {
   "cell_type": "code",
   "execution_count": 57,
   "id": "4e3e207c",
   "metadata": {},
   "outputs": [
    {
     "name": "stdout",
     "output_type": "stream",
     "text": [
      "4 6\n"
     ]
    }
   ],
   "source": [
    "n, m = map(int, input().split())\n",
    "cnt = [0] * (n + m + 3)\n",
    "max_n = -2147000000\n",
    "\n",
    "for i in range(1, n + 1):\n",
    "    for j in range(1, m + 1):\n",
    "        cnt[i + j] += 1\n",
    "        \n",
    "for i in range(n + m + 1):\n",
    "    if cnt[i] > max_n:\n",
    "        max_n = cnt[i]\n",
    "\n",
    "for i in range(n + m + 1):\n",
    "    if cnt[i] == max_n:\n",
    "        print(i, end=' ')"
   ]
  },
  {
   "cell_type": "code",
   "execution_count": 59,
   "id": "ffac6019",
   "metadata": {},
   "outputs": [
    {
     "name": "stdout",
     "output_type": "stream",
     "text": [
      "3\n",
      "125 15232 97\n",
      "[8, 13, 16]\n"
     ]
    }
   ],
   "source": [
    "# 내 문제풀이\n",
    "def digit_sum(x):\n",
    "    result = 0\n",
    "    \n",
    "    for i in str(x):\n",
    "        result += int(i)\n",
    "        \n",
    "    return result\n",
    "\n",
    "\n",
    "n = int(input())\n",
    "arr = list(map(int, input().split()))\n",
    "\n",
    "result_arr = []\n",
    "for i in range(n):    \n",
    "    result_arr.append(digit_sum(arr[i]))\n",
    "    \n",
    "max_n = 0\n",
    "for i in range(n):\n",
    "    if result_arr[i] > max_n:\n",
    "        max_n = result_arr[i]\n",
    "        k = i\n",
    "        \n",
    "    elif max_n == result_arr[i]:\n",
    "        k = i - 1\n",
    "        \n",
    "print(arr[k])"
   ]
  },
  {
   "cell_type": "code",
   "execution_count": 64,
   "id": "7de4caf6",
   "metadata": {},
   "outputs": [
    {
     "name": "stdout",
     "output_type": "stream",
     "text": [
      "ㅇ\n"
     ]
    },
    {
     "ename": "ValueError",
     "evalue": "invalid literal for int() with base 10: 'ㅇ'",
     "output_type": "error",
     "traceback": [
      "\u001b[1;31m---------------------------------------------------------------------------\u001b[0m",
      "\u001b[1;31mValueError\u001b[0m                                Traceback (most recent call last)",
      "\u001b[1;32mC:\\Users\\CHANGH~1\\AppData\\Local\\Temp/ipykernel_63220/3699411632.py\u001b[0m in \u001b[0;36m<module>\u001b[1;34m\u001b[0m\n\u001b[0;32m      1\u001b[0m \u001b[1;31m# 정석풀이\u001b[0m\u001b[1;33m\u001b[0m\u001b[1;33m\u001b[0m\u001b[0m\n\u001b[0;32m      2\u001b[0m \u001b[1;33m\u001b[0m\u001b[0m\n\u001b[1;32m----> 3\u001b[1;33m \u001b[0mn\u001b[0m \u001b[1;33m=\u001b[0m \u001b[0mint\u001b[0m\u001b[1;33m(\u001b[0m\u001b[0minput\u001b[0m\u001b[1;33m(\u001b[0m\u001b[1;33m)\u001b[0m\u001b[1;33m)\u001b[0m\u001b[1;33m\u001b[0m\u001b[1;33m\u001b[0m\u001b[0m\n\u001b[0m\u001b[0;32m      4\u001b[0m \u001b[0ma\u001b[0m \u001b[1;33m=\u001b[0m \u001b[0mlist\u001b[0m\u001b[1;33m(\u001b[0m\u001b[0mmap\u001b[0m\u001b[1;33m(\u001b[0m\u001b[0mint\u001b[0m\u001b[1;33m,\u001b[0m \u001b[0minput\u001b[0m\u001b[1;33m(\u001b[0m\u001b[1;33m)\u001b[0m\u001b[1;33m.\u001b[0m\u001b[0msplit\u001b[0m\u001b[1;33m(\u001b[0m\u001b[1;33m)\u001b[0m\u001b[1;33m)\u001b[0m\u001b[1;33m)\u001b[0m\u001b[1;33m\u001b[0m\u001b[1;33m\u001b[0m\u001b[0m\n\u001b[0;32m      5\u001b[0m \u001b[1;33m\u001b[0m\u001b[0m\n",
      "\u001b[1;31mValueError\u001b[0m: invalid literal for int() with base 10: 'ㅇ'"
     ]
    }
   ],
   "source": [
    "# 정석풀이\n",
    "\n",
    "n = int(input())\n",
    "a = list(map(int, input().split()))\n",
    "\n",
    "def digit_sum(x):\n",
    "    sum_n = 0\n",
    "    \n",
    "    while x > 0:\n",
    "        sum_n = x % 10\n",
    "        x = x // 10\n",
    "    \n",
    "    return sum_n\n",
    "\n",
    "max_n = -2147000000\n",
    "for x in a:\n",
    "    tot = digit_sum(x)\n",
    "    if tot>max_n:\n",
    "        max_n = tot\n",
    "        res = x\n",
    "print(res)"
   ]
  },
  {
   "cell_type": "code",
   "execution_count": 97,
   "id": "e91c7406",
   "metadata": {},
   "outputs": [
    {
     "name": "stdout",
     "output_type": "stream",
     "text": [
      "20\n",
      "[1, 2, 2, 3, 2, 4, 2, 4, 3, 4, 2, 6, 2, 4, 4, 5, 2, 6, 2, 6]\n",
      "8\n"
     ]
    }
   ],
   "source": [
    "n = int(input())\n",
    "\n",
    "sosu_arr = []\n",
    "for i in range(1, n + 1):\n",
    "    cnt = 0\n",
    "    for j in range(1, n + 1):\n",
    "        if i % j == 0:\n",
    "            cnt += 1\n",
    "            \n",
    "    sosu_arr.append(cnt)\n",
    "\n",
    "print(sosu_arr)\n",
    "arr=[]\n",
    "for i in range(len(sosu_arr)):\n",
    "    if sosu_arr[i] <= 2:\n",
    "        if sosu_arr[i] == 1:\n",
    "            continue\n",
    "        arr.append(i + 1)\n",
    "        \n",
    "print(len(arr))"
   ]
  },
  {
   "cell_type": "code",
   "execution_count": 152,
   "id": "71d4e0ef",
   "metadata": {},
   "outputs": [
    {
     "name": "stdout",
     "output_type": "stream",
     "text": [
      "20\n"
     ]
    }
   ],
   "source": [
    "n = int(input())\n",
    "arr = [0] * (n + 1)\n",
    "cnt = 0"
   ]
  },
  {
   "cell_type": "code",
   "execution_count": 155,
   "id": "aa6cbfff",
   "metadata": {},
   "outputs": [
    {
     "name": "stdout",
     "output_type": "stream",
     "text": [
      "8\n"
     ]
    }
   ],
   "source": [
    "for i in range(2, n + 1):\n",
    "    if arr[i] == 0:\n",
    "        cnt += 1\n",
    "        for j in range(i, n + 1, i):\n",
    "            arr[j] = 1\n",
    "            \n",
    "print(cnt)"
   ]
  },
  {
   "cell_type": "code",
   "execution_count": 181,
   "id": "c05de6fa",
   "metadata": {},
   "outputs": [
    {
     "name": "stdout",
     "output_type": "stream",
     "text": [
      "1\n",
      "32\n",
      "23 "
     ]
    }
   ],
   "source": [
    "# 뒤집은 소수\n",
    "\n",
    "def reverse(num):\n",
    "    \n",
    "    arr = [0] * len(str(num))\n",
    "    for idx, val in enumerate(str(num)):\n",
    "        arr[idx] = val        \n",
    "    res = ''    \n",
    "    for i in reversed(arr):\n",
    "        res += i\n",
    "    \n",
    "    return int(res)\n",
    "\n",
    "# def isPrime(num):\n",
    "#     cnt = 0\n",
    "#     for i in range(2, num + 1):\n",
    "#         if num % i == 0:\n",
    "#             cnt += 1\n",
    "            \n",
    "#     if cnt <= 2:\n",
    "#         return num\n",
    "    \n",
    "#     else:\n",
    "#         return 0\n",
    "    \n",
    "    \n",
    "def isPrime(x):\n",
    "    if x == 1:\n",
    "        return False\n",
    "    \n",
    "    for i in range(2, (x // 2) + 1):\n",
    "        if x % i == 0:\n",
    "            return False\n",
    "        \n",
    "    else:\n",
    "        return True\n",
    "\n",
    "n = int(input())\n",
    "arr_n = list(map(int, input().split()))    \n",
    "for i in range(n):\n",
    "    a = reverse(arr_n[i])\n",
    "    res = isPrime(a)\n",
    "    if res:\n",
    "        print(a, end=' ')\n",
    "\n"
   ]
  },
  {
   "cell_type": "code",
   "execution_count": 164,
   "id": "868e4916",
   "metadata": {},
   "outputs": [
    {
     "name": "stdout",
     "output_type": "stream",
     "text": [
      "73\n"
     ]
    }
   ],
   "source": [
    "# 모범 답안\n",
    "\n",
    "def reverse(x):\n",
    "    \n",
    "    res = 0\n",
    "    while x > 0:\n",
    "        t = x % 10\n",
    "        res = res * 10 + t\n",
    "        x = x // 10\n",
    "        \n",
    "    return res\n",
    "\n",
    "def isPrime(x):\n",
    "    if x == 1:\n",
    "        return False\n",
    "    \n",
    "    for i in range(2, (x // 2) + 1):\n",
    "        if x % i == 0:\n",
    "            return False\n",
    "        \n",
    "    else:\n",
    "        return True\n",
    "\n",
    "\n",
    "n = int(input())\n",
    "a = list(map(int, input().split()))\n",
    "for x in a:\n",
    "    tmp = reverse(x)\n",
    "    if isPrime(tmp):\n",
    "        print(tmp, end=' ')"
   ]
  },
  {
   "cell_type": "code",
   "execution_count": 247,
   "id": "03dcd66b",
   "metadata": {},
   "outputs": [
    {
     "name": "stdout",
     "output_type": "stream",
     "text": [
      "3\n",
      "3 3 6\n",
      "2 2 2\n",
      "6 2 5\n",
      "12000\n"
     ]
    }
   ],
   "source": [
    "#주사위 게임 // 시간복잡도 (n ** 3)\n",
    "result = []\n",
    "for i in range(int(input())):    \n",
    "    dice_list = list(map(int, input().split()))\n",
    "    \n",
    "    dice_cnt = []\n",
    "    trans_dice_list = set(dice_list)\n",
    "    for i in range(len(trans_dice_list)):\n",
    "        cnt = 0\n",
    "        for j in range(len(dice_list)):\n",
    "            if dice_list[i] == dice_list[j]:\n",
    "                cnt += 1            \n",
    "                dice_cnt.append(cnt)\n",
    "                res = dice_list[j]\n",
    "            \n",
    "    max_cnt = max(dice_cnt)   \n",
    "\n",
    "    if max_cnt == 3:\n",
    "        result.append(10000 + (res * 1000))\n",
    "    \n",
    "    elif max_cnt == 2:\n",
    "        result.append(1000 + (res * 100))\n",
    "    \n",
    "    else:\n",
    "        result.append(max(dice_list) * 100)\n",
    "\n",
    "print(max(result))"
   ]
  },
  {
   "cell_type": "code",
   "execution_count": 250,
   "id": "60229809",
   "metadata": {},
   "outputs": [
    {
     "name": "stdout",
     "output_type": "stream",
     "text": [
      "3\n",
      "3 3 6\n",
      "2 2 2\n",
      "6 2 5\n",
      "12000\n"
     ]
    }
   ],
   "source": [
    "# 모범 답안 // 시간복잡도 O(n + c)급\n",
    "n = int(input())\n",
    "res = 0\n",
    "for i in range(n):\n",
    "    tmp = input().split()\n",
    "    tmp.sort() # 오름차순 정렬\n",
    "    a, b, c = map(int, tmp) # 변수 3개를 지정해서 논리식으로 품\n",
    "    if a == b and b == c:\n",
    "        money = 10000 + (a * 1000)\n",
    "        \n",
    "    elif a == b or a == c:\n",
    "        money = 1000 + (a * 100)\n",
    "        \n",
    "    elif b == c:\n",
    "        money = 1000 + (b * 100)\n",
    "        \n",
    "    else:\n",
    "        money = c * 100\n",
    "        \n",
    "    if money > res:\n",
    "        res = money\n",
    "        \n",
    "print(res)"
   ]
  },
  {
   "cell_type": "code",
   "execution_count": 182,
   "id": "6e1190b4",
   "metadata": {},
   "outputs": [
    {
     "name": "stdout",
     "output_type": "stream",
     "text": [
      "10\n",
      "1 0 1 1 1 0 0 1 1 0\n"
     ]
    }
   ],
   "source": [
    "# 점수 계산\n",
    "n = int(input())\n",
    "score_list = list(map(int, input().split()))\n",
    "\n",
    "result_list = [0] * n\n",
    "cnt = 0\n",
    "for i in range(n):\n",
    "    if score_list[i] == 1:\n",
    "        cnt += 1\n",
    "        result_list[i] = cnt\n",
    "        \n",
    "    elif score_list[i] == 0:\n",
    "        cnt = 0\n",
    "        \n",
    "print(sum(result_list))"
   ]
  },
  {
   "cell_type": "code",
   "execution_count": 184,
   "id": "3a5b8b98",
   "metadata": {},
   "outputs": [
    {
     "name": "stdout",
     "output_type": "stream",
     "text": [
      "10\n"
     ]
    }
   ],
   "source": [
    "# 모범답안\n",
    "\n",
    "n = int(input())\n",
    "score_list = list(map(int, input().split()))\n",
    "sum_n = 0\n",
    "cnt = 0\n",
    "for x in a:\n",
    "    if x == 1:\n",
    "        cnt += 1\n",
    "        sum_n += cnt\n",
    "    else:\n",
    "        cnt = 0\n",
    "print(sum)"
   ]
  }
 ],
 "metadata": {
  "kernelspec": {
   "display_name": "Python 3 (ipykernel)",
   "language": "python",
   "name": "python3"
  },
  "language_info": {
   "codemirror_mode": {
    "name": "ipython",
    "version": 3
   },
   "file_extension": ".py",
   "mimetype": "text/x-python",
   "name": "python",
   "nbconvert_exporter": "python",
   "pygments_lexer": "ipython3",
   "version": "3.9.7"
  }
 },
 "nbformat": 4,
 "nbformat_minor": 5
}
