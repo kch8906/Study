{
 "cells": [
  {
   "cell_type": "code",
   "execution_count": 1,
   "id": "59789c11",
   "metadata": {},
   "outputs": [
    {
     "name": "stdout",
     "output_type": "stream",
     "text": [
      "8 32\n",
      "23 87 65 12 57 32 99 81\n"
     ]
    }
   ],
   "source": [
    "# 이분 검색\n",
    "\n",
    "n, m = map(int, input().split())\n",
    "arr = list(map(int, input().split()))\n",
    "\n",
    "for i in range(len(arr)):\n",
    "    for j in range(i + 1, len(arr)):\n",
    "        if arr[i] > arr[j]:\n",
    "            arr[i], arr[j] = arr[j], arr[i]\n",
    "\n",
    "print(arr.index(m) + 1)"
   ]
  },
  {
   "cell_type": "code",
   "execution_count": 7,
   "id": "befa3393",
   "metadata": {},
   "outputs": [
    {
     "name": "stdout",
     "output_type": "stream",
     "text": [
      "8 32\n",
      "23 87 65 12 57 32 99 81\n"
     ]
    }
   ],
   "source": [
    "# 모범답안\n",
    "\n",
    "n, m = map(int, input().split())\n",
    "arr = sorted(list(map(int, input().split())))\n",
    "\n",
    "lt = 0\n",
    "rt = n - 1\n",
    "\n",
    "while lt <= rt:\n",
    "    mid = (lt + rt) // 2\n",
    "    if arr[mid] == m:\n",
    "        print(mid + 1)\n",
    "        break\n",
    "    \n",
    "    elif arr[mid] > m:\n",
    "        rt = mid - 1\n",
    "        \n",
    "    else:\n",
    "        lt = mid + 1\n"
   ]
  },
  {
   "cell_type": "code",
   "execution_count": 13,
   "id": "be60f9da",
   "metadata": {
    "scrolled": true
   },
   "outputs": [
    {
     "name": "stdout",
     "output_type": "stream",
     "text": [
      "4 11\n",
      "802\n",
      "743\n",
      "457\n",
      "539\n"
     ]
    }
   ],
   "source": [
    "k, n = map(int, input().split())\n",
    "arr = [int(input()) for i in range(k)]\n",
    "\n",
    "def check(mid):\n",
    "    cnt = 0\n",
    "    for i in arr:\n",
    "        cnt += (i // mid)\n",
    "        \n",
    "    return cnt\n",
    "\n",
    "\n",
    "lt = 0\n",
    "rt = max(arr)\n",
    "res = 0\n",
    "\n",
    "while lt <= rt:\n",
    "    mid = (lt + rt) // 2\n",
    "    \n",
    "    if check(mid) >= n:\n",
    "        res = mid\n",
    "        lt = mid + 1\n",
    "        \n",
    "    else:\n",
    "        rt = mid - 1\n",
    "        \n",
    "print(res)\n",
    "\n",
    "    "
   ]
  },
  {
   "cell_type": "code",
   "execution_count": 21,
   "id": "350ced18",
   "metadata": {},
   "outputs": [
    {
     "name": "stdout",
     "output_type": "stream",
     "text": [
      "200\n"
     ]
    }
   ],
   "source": [
    "def check(mid):\n",
    "    cnt = 0\n",
    "    for i in arr:\n",
    "        cnt += (i // mid)\n",
    "        \n",
    "    return cnt\n",
    "\n",
    "\n",
    "lt = 0\n",
    "rt = max(arr)\n",
    "res = 0\n",
    "while lt <= rt:\n",
    "    mid = (lt + rt) // 2\n",
    "    \n",
    "    if check(mid) >= n:\n",
    "        res = mid\n",
    "        lt = mid + 1\n",
    "        \n",
    "    else:\n",
    "        rt = mid - 1\n",
    "        \n",
    "print(res)"
   ]
  },
  {
   "cell_type": "code",
   "execution_count": 20,
   "id": "b6c20336",
   "metadata": {
    "scrolled": true
   },
   "outputs": [
    {
     "name": "stdout",
     "output_type": "stream",
     "text": [
      "4 11\n",
      "802\n",
      "743\n",
      "457\n",
      "539\n",
      "200\n"
     ]
    }
   ],
   "source": [
    "# 모범답안\n",
    "\n",
    "def Count(mid):\n",
    "    cnt = 0\n",
    "    for x in line:\n",
    "        cnt += (x // mid)\n",
    "    return cnt\n",
    "\n",
    "\n",
    "k, n = map(int, input().split())\n",
    "line = []\n",
    "res = 0\n",
    "largest = 0\n",
    "for i in range(k):\n",
    "    tmp = int(input())\n",
    "    line.append(tmp)\n",
    "    largest = max(largest, tmp)\n",
    "\n",
    "lt = 1\n",
    "rt = largest\n",
    "\n",
    "while lt <= rt:\n",
    "    mid = (lt + rt) // 2\n",
    "    if Count(mid) >= n:\n",
    "        res = mid\n",
    "        lt = mid + 1        \n",
    "    else:\n",
    "        rt = mid - 1\n",
    "        \n",
    "print(res)\n",
    "    "
   ]
  },
  {
   "cell_type": "code",
   "execution_count": 22,
   "id": "650f00fa",
   "metadata": {},
   "outputs": [
    {
     "name": "stdout",
     "output_type": "stream",
     "text": [
      "9 3\n",
      "1 2 3 4 5 6 7 8 9\n"
     ]
    }
   ],
   "source": [
    "# 뮤직비디오\n",
    "n, m = map(int, input().split())\n",
    "record = list(map(int, input().split()))\n",
    "\n",
    "def check(mid):\n",
    "    cnt = 1\n",
    "    sum_n = 0\n",
    "    for x in record:\n",
    "        if sum_n + x > mid:\n",
    "            cnt += 1\n",
    "            sum_n = x            \n",
    "        else:\n",
    "            sum_n += x\n",
    "            \n",
    "    return cnt\n",
    "        \n",
    "maxx = max(record)\n",
    "lt = 1\n",
    "rt = sum(record)\n",
    "res = 0\n",
    "while lt <= rt:\n",
    "    mid = (lt + rt) // 2\n",
    "    \n",
    "    if mid >= maxx and check(mid) <= m:\n",
    "        res = mid\n",
    "        rt = mid - 1        \n",
    "    else:\n",
    "        lt = mid + 1\n",
    "        \n",
    "print(res)"
   ]
  },
  {
   "cell_type": "code",
   "execution_count": 29,
   "id": "44df1549",
   "metadata": {},
   "outputs": [
    {
     "name": "stdout",
     "output_type": "stream",
     "text": [
      "5 3\n",
      "1\n",
      "2\n",
      "8\n",
      "4\n",
      "9\n"
     ]
    }
   ],
   "source": [
    "# 마구간 정하기\n",
    "\n",
    "n, c = map(int, input().split())\n",
    "horse_case = [int(input()) for _ in range(n)]\n",
    "\n",
    "horse_case.sort()\n",
    "def check(mid):\n",
    "    cnt = 1\n",
    "    ep = horse_case[0]\n",
    "    for i in range(1 ,n):\n",
    "        if horse_case[i] - ep >= mid:\n",
    "            cnt += 1\n",
    "            ep = horse_case[i]\n",
    "            \n",
    "    return cnt\n",
    "\n",
    "lt = 1\n",
    "rt = max(horse_case)\n",
    "res = 0\n",
    "while lt <= rt:\n",
    "    mid = (lt + rt) // 2\n",
    "    if check(mid) >= c:\n",
    "        res = mid\n",
    "        lt = mid + 1\n",
    "        \n",
    "    else:\n",
    "        rt = mid - 1\n",
    "        \n",
    "print(res)\n"
   ]
  },
  {
   "cell_type": "code",
   "execution_count": 51,
   "id": "275c63a8",
   "metadata": {},
   "outputs": [
    {
     "name": "stdout",
     "output_type": "stream",
     "text": [
      "5\n",
      "1 4\n",
      "2 3\n",
      "3 5\n",
      "4 6\n",
      "5 7\n",
      "3\n"
     ]
    }
   ],
   "source": [
    "# 회의실 배정\n",
    "n = int(input())\n",
    "meeting = []\n",
    "for i in range(n):\n",
    "    s, e = map(int, input().split())\n",
    "    meeting.append((s, e))\n",
    "meeting.sort(key = lambda x : (x[1], x[0]))\n",
    "endtime = 0\n",
    "cnt = 0\n",
    "for s, e in meeting:\n",
    "    if s >= endtime:\n",
    "        endtime = e\n",
    "        cnt += 1\n",
    "        \n",
    "print(cnt)"
   ]
  },
  {
   "cell_type": "code",
   "execution_count": 52,
   "id": "b2b0863b",
   "metadata": {},
   "outputs": [
    {
     "name": "stdout",
     "output_type": "stream",
     "text": [
      "5\n",
      "172 67\n",
      "183 65\n",
      "180 70\n",
      "170 72\n",
      "181 60\n"
     ]
    }
   ],
   "source": [
    "# 씨름 선수\n",
    "n = int(input())\n",
    "size = []\n",
    "for i in range(n):\n",
    "    h, w = map(int, input().split())\n",
    "    size.append((h, w))\n",
    "    \n",
    "largest = 0\n",
    "cnt = 0\n",
    "for x, y in size:\n",
    "    if y > largest:\n",
    "        largest = y\n",
    "        cnt += 1\n",
    "        \n",
    "print(cnt)\n",
    "    "
   ]
  },
  {
   "cell_type": "code",
   "execution_count": 64,
   "id": "429f9965",
   "metadata": {},
   "outputs": [],
   "source": [
    "size.sort(key = lambda x : (x[0], x[1]), reverse =True)"
   ]
  },
  {
   "cell_type": "code",
   "execution_count": 65,
   "id": "f659efc3",
   "metadata": {},
   "outputs": [
    {
     "data": {
      "text/plain": [
       "[(183, 65), (181, 60), (180, 70), (172, 67), (170, 72)]"
      ]
     },
     "execution_count": 65,
     "metadata": {},
     "output_type": "execute_result"
    }
   ],
   "source": [
    "size"
   ]
  },
  {
   "cell_type": "code",
   "execution_count": 66,
   "id": "f719ed16",
   "metadata": {},
   "outputs": [
    {
     "name": "stdout",
     "output_type": "stream",
     "text": [
      "3\n"
     ]
    }
   ],
   "source": [
    "largest = 0\n",
    "cnt = 0\n",
    "for x, y in size:\n",
    "    if y > largest:\n",
    "        largest = y\n",
    "        cnt += 1\n",
    "        \n",
    "print(cnt)\n",
    "    \n",
    "    "
   ]
  },
  {
   "cell_type": "code",
   "execution_count": null,
   "id": "4ce89080",
   "metadata": {},
   "outputs": [],
   "source": []
  }
 ],
 "metadata": {
  "kernelspec": {
   "display_name": "Python 3 (ipykernel)",
   "language": "python",
   "name": "python3"
  },
  "language_info": {
   "codemirror_mode": {
    "name": "ipython",
    "version": 3
   },
   "file_extension": ".py",
   "mimetype": "text/x-python",
   "name": "python",
   "nbconvert_exporter": "python",
   "pygments_lexer": "ipython3",
   "version": "3.9.7"
  }
 },
 "nbformat": 4,
 "nbformat_minor": 5
}
