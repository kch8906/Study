{
 "cells": [
  {
   "cell_type": "code",
   "execution_count": 44,
   "id": "86ce1b37",
   "metadata": {},
   "outputs": [
    {
     "name": "stdout",
     "output_type": "stream",
     "text": [
      "CBA\n",
      "3\n",
      "CBDAGE\n",
      "#1 YES\n",
      "FGCDAB\n",
      "#2 NO\n",
      "CTSBDEA\n",
      "#3 YES\n"
     ]
    }
   ],
   "source": [
    "# 교육과정 설계\n",
    "\n",
    "data = input().upper()\n",
    "for i in range(int(input())):\n",
    "    word = input().upper()\n",
    "    result = []\n",
    "    for j in data:\n",
    "        cnt = 0\n",
    "        for k in word:\n",
    "            if j == k:\n",
    "                result.append(cnt)\n",
    "                break\n",
    "            else:\n",
    "                cnt += 1\n",
    "\n",
    "    if min(result) == result[0] and max(result) == result[-1]:\n",
    "        print('#{} YES'.format(i + 1))\n",
    "    else:\n",
    "        print('#{} NO'.format(i + 1))"
   ]
  },
  {
   "cell_type": "code",
   "execution_count": 45,
   "id": "7f61c7f9",
   "metadata": {},
   "outputs": [
    {
     "name": "stdout",
     "output_type": "stream",
     "text": [
      "CBA\n",
      "3\n",
      "CBDAGE\n",
      "#1 YES\n",
      "FGCDAB\n",
      "#2 NO\n",
      "CTSBDEA\n",
      "#3 YES\n"
     ]
    }
   ],
   "source": [
    "# 답안\n",
    "from collections import deque\n",
    "\n",
    "need = input()\n",
    "n = int(input())\n",
    "for i in range(n):\n",
    "    plan = input()\n",
    "    dq = deque(need)\n",
    "    for x in plan:\n",
    "        if x in dq:\n",
    "            if x != dq.popleft():\n",
    "                print('#%d NO' %(i + 1))\n",
    "                break\n",
    "    else:\n",
    "        if len(dq) == 0:\n",
    "            print('#%d YES' %(i + 1))\n",
    "        else:\n",
    "            print('#%d NO' %(i + 1))"
   ]
  }
 ],
 "metadata": {
  "kernelspec": {
   "display_name": "Python 3 (ipykernel)",
   "language": "python",
   "name": "python3"
  },
  "language_info": {
   "codemirror_mode": {
    "name": "ipython",
    "version": 3
   },
   "file_extension": ".py",
   "mimetype": "text/x-python",
   "name": "python",
   "nbconvert_exporter": "python",
   "pygments_lexer": "ipython3",
   "version": "3.9.7"
  }
 },
 "nbformat": 4,
 "nbformat_minor": 5
}
