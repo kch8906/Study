{
 "cells": [
  {
   "cell_type": "markdown",
   "id": "66bc6c50",
   "metadata": {},
   "source": [
    "### 재귀함수를 이용한 이진수 출력\n",
    "10진수 N이 입력되면 2진수로 변환하여 출력하는 프로그램을 작성하세요. 단 재귀함수를 이용\n",
    "해서 출력해야 합니다.\n"
   ]
  },
  {
   "cell_type": "code",
   "execution_count": 8,
   "id": "37023e25",
   "metadata": {},
   "outputs": [
    {
     "name": "stdout",
     "output_type": "stream",
     "text": [
      "88\n",
      "1011000"
     ]
    }
   ],
   "source": [
    "def cal(n):\n",
    "    if n > 0:\n",
    "        a = n // 2\n",
    "        b = n % 2\n",
    "        result.append(b)\n",
    "        cal(a)        \n",
    "        \n",
    "result = []\n",
    "cal(int(input()))\n",
    "\n",
    "for i in result[::-1]:\n",
    "    print(i, end='')"
   ]
  },
  {
   "cell_type": "code",
   "execution_count": 9,
   "id": "78ce1a8a",
   "metadata": {},
   "outputs": [
    {
     "name": "stdout",
     "output_type": "stream",
     "text": [
      "88\n",
      "1011000"
     ]
    }
   ],
   "source": [
    "# 풀이\n",
    "\n",
    "def DFS(x):\n",
    "    if x == 0:\n",
    "        return\n",
    "    else:        \n",
    "        DFS(x // 2)\n",
    "        print(x % 2, end='')\n",
    "    \n",
    "n = int(input())\n",
    "DFS(n)"
   ]
  },
  {
   "cell_type": "markdown",
   "id": "c570e04b",
   "metadata": {},
   "source": [
    "### 이진트리 순회(깊이우선탐색)\n",
    "아래 그림과 같은 이진트리를 전위순회와 후위순회를 연습해보세요.\n",
    "\n",
    "![nn](./img/이진트리.PNG)\n",
    "\n",
    "전위순회 출력 : 1 2 4 5 3 6 7 <br>\n",
    "중위순회 출력 : 4 2 5 1 6 3 7 <br>\n",
    "후위순회 출력 : 4 5 2 6 7 3 1\n"
   ]
  },
  {
   "cell_type": "code",
   "execution_count": 47,
   "id": "dddee0e2",
   "metadata": {},
   "outputs": [
    {
     "name": "stdout",
     "output_type": "stream",
     "text": [
      "전위순회 출력 : 1 2 4 5 3 6 7\n",
      "중위순회 출력 : 4 2 5 1 6 3 7\n",
      "후위순회 출력 : 4 5 2 6 7 3 1\n"
     ]
    }
   ],
   "source": [
    "def solution(n):      \n",
    "    if n >= len(a):        \n",
    "        return\n",
    "    else:\n",
    "        forward.append(a[n])\n",
    "        solution(n * 2)\n",
    "        center.append(a[n])\n",
    "        solution((n * 2) + 1)\n",
    "        back.append(a[n])\n",
    "        \n",
    "forward = []\n",
    "center = []\n",
    "back = []\n",
    "        \n",
    "a = range(8)\n",
    "solution(1)\n",
    "\n",
    "forward = [str(i) for i in forward]\n",
    "center = [str(i) for i in center]\n",
    "back = [str(i) for i in back]\n",
    "\n",
    "print(\"전위순회 출력 :\",' '.join(forward), end='\\n')\n",
    "print(\"중위순회 출력 :\",' '.join(center), end='\\n')\n",
    "print(\"후위순회 출력 :\",' '.join(back))\n",
    "\n"
   ]
  },
  {
   "cell_type": "code",
   "execution_count": 48,
   "id": "825b4c6a",
   "metadata": {},
   "outputs": [
    {
     "name": "stdout",
     "output_type": "stream",
     "text": [
      "1 2 4 5 3 6 7 "
     ]
    }
   ],
   "source": [
    "# 풀이\n",
    "\n",
    "def DFS_a(v):\n",
    "    if v > 7:\n",
    "        return\n",
    "    else:\n",
    "        print(v, end = ' ')\n",
    "        DFS_a(v * 2)\n",
    "        DFS_a(v * 2 + 1)\n",
    "        \n",
    "v = [1, 2, 3, 4, 5, 6, 7]\n",
    "DFS_a(1)"
   ]
  }
 ],
 "metadata": {
  "kernelspec": {
   "display_name": "Python 3 (ipykernel)",
   "language": "python",
   "name": "python3"
  },
  "language_info": {
   "codemirror_mode": {
    "name": "ipython",
    "version": 3
   },
   "file_extension": ".py",
   "mimetype": "text/x-python",
   "name": "python",
   "nbconvert_exporter": "python",
   "pygments_lexer": "ipython3",
   "version": "3.8.12"
  }
 },
 "nbformat": 4,
 "nbformat_minor": 5
}
