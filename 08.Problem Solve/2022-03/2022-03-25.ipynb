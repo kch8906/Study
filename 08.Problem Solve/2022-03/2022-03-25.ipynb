{
 "cells": [
  {
   "cell_type": "markdown",
   "id": "88512b15",
   "metadata": {},
   "source": [
    "### 조합 구하기\n",
    "\n",
    "1부터 N까지 번호가 적힌 구슬이 있습니다. 이 중 M개를 뽑는 방법의 수를 출력하는 프로그램을 작성하세요.<br>\n",
    "<br>\n",
    "- **입력설명**<br>\n",
    "첫 번째 줄에 자연수 N(3<=N<=10)과 M(2<=M<=N) 이 주어집니다.\n",
    "<br>\n",
    "\n",
    "- **출력설명**<br>\n",
    "첫 번째 줄에 결과를 출력합니다. 맨 마지막 총 경우의 수를 출력합니다.<br>\n",
    "출력순서는 사전순으로 오름차순으로 출력합니다.<br>\n",
    "<br>\n",
    "- **입력예제**<br>\n",
    "4 2<br>\n",
    "<br>\n",
    "- **출력예제**<br>\n",
    "1 2<br>\n",
    "1 3<br>\n",
    "1 4<br>\n",
    "2 3<br>\n",
    "2 4<br>\n",
    "3 4<br>\n",
    "6\n",
    "\n"
   ]
  },
  {
   "cell_type": "code",
   "execution_count": 35,
   "id": "94d09efc",
   "metadata": {},
   "outputs": [
    {
     "name": "stdout",
     "output_type": "stream",
     "text": [
      "4 2\n",
      "1 2 \n",
      "1 3 \n",
      "1 4 \n",
      "2 3 \n",
      "2 4 \n",
      "3 4 \n",
      "6\n"
     ]
    }
   ],
   "source": [
    "def DFS(level):\n",
    "    global cnt\n",
    "    if level == m:\n",
    "        for i in n_list:\n",
    "            print(i, end=' ')\n",
    "        cnt += 1\n",
    "        print()        \n",
    "    else:\n",
    "        for i in range(1, n + 1):\n",
    "            if check[i] == 0:\n",
    "                check[i] = 1\n",
    "                n_list[level] = i\n",
    "                DFS(level + 1)\n",
    "                for j in range(i + 1, n + 1):\n",
    "                    check[j] = 0\n",
    "\n",
    "n, m = map(int, input().split())\n",
    "n_list = [0] * m\n",
    "check = [0] * (n + 1)\n",
    "cnt = 0\n",
    "DFS(0)\n",
    "print(cnt)"
   ]
  },
  {
   "cell_type": "markdown",
   "id": "e928e568",
   "metadata": {},
   "source": [
    "- for문에서 체크리스트를 걸러주는 방법을 사용함, 연산 자체는 순열 구하는것과 똑같기 때문에 답은 조합이지만 코드 자체는 순열"
   ]
  },
  {
   "cell_type": "code",
   "execution_count": 36,
   "id": "b05c79c7",
   "metadata": {},
   "outputs": [
    {
     "name": "stdout",
     "output_type": "stream",
     "text": [
      "4 2\n",
      "1 2 \n",
      "1 3 \n",
      "1 4 \n",
      "2 3 \n",
      "2 4 \n",
      "3 4 \n",
      "6\n"
     ]
    }
   ],
   "source": [
    "def DFS(L, s):\n",
    "    global cnt\n",
    "    if L==m:\n",
    "        for j in range(L):        # L이나 m이나 똑같다. 결국 이쪽에서 실행되는건 m이 2일때 적용되는 것이기 때문\n",
    "            print(res[j], end=' ')\n",
    "        cnt += 1\n",
    "        print()\n",
    "    else:\n",
    "        for i in range(s, n + 1): # for 문 start 인자에 적용시켜주면 간단하게 되는 것이였다..\n",
    "            res[L] = i\n",
    "            DFS(L + 1, i + 1)\n",
    "            \n",
    "if __name__ == \"__main__\":\n",
    "    n, m = map(int, input().split())\n",
    "    res = [0] * (n + 1)\n",
    "    cnt = 0\n",
    "    DFS(0, 1)\n",
    "    print(cnt)"
   ]
  },
  {
   "cell_type": "code",
   "execution_count": null,
   "id": "c86bae58",
   "metadata": {},
   "outputs": [],
   "source": []
  }
 ],
 "metadata": {
  "kernelspec": {
   "display_name": "Python [conda env:machine] *",
   "language": "python",
   "name": "conda-env-machine-py"
  },
  "language_info": {
   "codemirror_mode": {
    "name": "ipython",
    "version": 3
   },
   "file_extension": ".py",
   "mimetype": "text/x-python",
   "name": "python",
   "nbconvert_exporter": "python",
   "pygments_lexer": "ipython3",
   "version": "3.8.12"
  }
 },
 "nbformat": 4,
 "nbformat_minor": 5
}
