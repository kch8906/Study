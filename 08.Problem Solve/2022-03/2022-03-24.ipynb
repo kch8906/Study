{
 "cells": [
  {
   "cell_type": "markdown",
   "id": "62c8c53d",
   "metadata": {},
   "source": [
    "### 수열 추측하기\n",
    "\n",
    "가장 윗줄에 1부터 N까지의 숫자가 한 개씩 적혀 있다. 그리고 둘째 줄부터 차례대로 파스칼의 삼각형처럼 위의 두개를 더한 값이 저장되게 된다.<br> 예를 들어 N이 4 이고 가장 윗 줄에 3 1 2 4 가 있다고 했을 때, 다음과 같은 삼각형이 그려진다.\n",
    "\n",
    "\n",
    "![nn](./img/파스칼삼각형.PNG)\n",
    "\n",
    "\n",
    "N과 가장 밑에 있는 숫자가 주어져 있을 때 가장 윗줄에 있는 숫자를 구하는 프로그램을 작성하시오.<br> 단, 답이 여러가지가 나오는 경우에는 사전순으로 가장 앞에 오는 것을 출력하여야 한다.\n",
    "\n",
    "- **입력설명**<br>\n",
    "첫째 줄에 두개의 정수 N(1≤N≤10)과 F가 주어진다. N은 가장 윗줄에 있는 숫자의 개수를 의미하며 F는 가장 밑에 줄에 있는 수로 1,000,000 이하이다.<br>\n",
    "<br>\n",
    "- **출력설명**<br>\n",
    "첫째 줄에 삼각형에서 가장 위에 들어갈 N개의 숫자를 빈 칸을 사이에 두고 출력한다. 답이 존재하지 않는 경우는 입력으로 주어지지 않는다.<br>\n",
    "<br>\n",
    "- **입력예제**<br>\n",
    "4 16<br>\n",
    "<br>\n",
    "- **출력예제**<br>\n",
    "3 1 2 4"
   ]
  },
  {
   "cell_type": "code",
   "execution_count": 14,
   "id": "d272bb2d",
   "metadata": {},
   "outputs": [
    {
     "name": "stdout",
     "output_type": "stream",
     "text": [
      "4 16\n",
      "1 2 3 4 \n",
      "1 2 4 3 \n",
      "1 3 2 4 \n",
      "1 3 4 2 \n",
      "1 4 2 3 \n",
      "1 4 3 2 \n",
      "2 1 3 4 \n",
      "2 1 4 3 \n",
      "2 3 1 4 \n",
      "2 3 4 1 \n",
      "2 4 1 3 \n",
      "2 4 3 1 \n",
      "3 1 2 4 \n",
      "3 1 4 2 \n",
      "3 2 1 4 \n",
      "3 2 4 1 \n",
      "3 4 1 2 \n",
      "3 4 2 1 \n",
      "4 1 2 3 \n",
      "4 1 3 2 \n",
      "4 2 1 3 \n",
      "4 2 3 1 \n",
      "4 3 1 2 \n",
      "4 3 2 1 \n"
     ]
    }
   ],
   "source": [
    "def DFS(level):\n",
    "    if level == n:\n",
    "        # 이항계수 적용\n",
    "        for i in range(n):\n",
    "            print(n_list[i], end=' ')            \n",
    "        print()\n",
    "    else:\n",
    "        for i in range(1, n + 1):\n",
    "            if check[i] == 0:\n",
    "                check[i] = 1\n",
    "                n_list[level] = i\n",
    "                DFS(level + 1)\n",
    "                check[i] = 0\n",
    "\n",
    "n, f = map(int, input().split())\n",
    "n_list = list(range(n + 1))\n",
    "check = [0] * (n + 1)\n",
    "\n",
    "DFS(0)"
   ]
  },
  {
   "cell_type": "markdown",
   "id": "044bec57",
   "metadata": {},
   "source": [
    "순열의 경우의 수 출력하는것까진 알겠는데 이항계수의 계수만 뽑는 방법을 도저히 모르겠다. 구글링 해보면 다이나믹 프로그래밍으로 뽑는게 대부분"
   ]
  },
  {
   "cell_type": "code",
   "execution_count": 1,
   "id": "e9cc1afc",
   "metadata": {},
   "outputs": [
    {
     "name": "stdout",
     "output_type": "stream",
     "text": [
      "4 16\n",
      "3 1 2 4 "
     ]
    },
    {
     "ename": "SystemExit",
     "evalue": "0",
     "output_type": "error",
     "traceback": [
      "An exception has occurred, use %tb to see the full traceback.\n",
      "\u001b[1;31mSystemExit\u001b[0m\u001b[1;31m:\u001b[0m 0\n"
     ]
    },
    {
     "name": "stderr",
     "output_type": "stream",
     "text": [
      "C:\\Users\\Changhyun\\anaconda3\\lib\\site-packages\\IPython\\core\\interactiveshell.py:3452: UserWarning: To exit: use 'exit', 'quit', or Ctrl-D.\n",
      "  warn(\"To exit: use 'exit', 'quit', or Ctrl-D.\", stacklevel=1)\n"
     ]
    }
   ],
   "source": [
    "# 풀이\n",
    "import sys\n",
    "def DFS(L, sum):\n",
    "    if L==n and sum==f:\n",
    "        for x in p:\n",
    "            print(x, end=' ')\n",
    "        sys.exit(0) # 16이 되는 경우가 4가지 최초의 경우의 수만 뽑기 위해 프로그램 종료\n",
    "    else:\n",
    "        for i in range(1, n+1):\n",
    "            if ch[i]==0:\n",
    "                ch[i]=1\n",
    "                p[L]=i\n",
    "                DFS(L+1, sum+(p[L]*b[L])) # 현재 레벨(같은 idx)의 p값과 이항계수 b값의 곱\n",
    "                ch[i]=0\n",
    "\n",
    "if __name__ == \"__main__\":\n",
    "    n, f=map(int, input().split())\n",
    "    p=[0]*n\n",
    "    b=[1]*n # 이항계수 표시 리스트 // 1로 초기화 - 이항계수의 첫째항과 마지막항은 무조건 1이다.\n",
    "    ch=[0]*(n+1)\n",
    "    for i in range(1, n-1): # 이항계수 도출 방법\n",
    "        b[i]=b[i-1]*(n-i)//i\n",
    "    DFS(0, 0)\n"
   ]
  },
  {
   "cell_type": "markdown",
   "id": "0f175c75",
   "metadata": {},
   "source": [
    "- DFS로 순열의 경우의 수와 파스칼 삼각형의 조합(nCr)의 특징을 알아야 접근이 쉬운 문제이다.\n",
    "- 이젠 무지성 구현도 통하지가 않는다.. 구현 자체가 안됨"
   ]
  }
 ],
 "metadata": {
  "kernelspec": {
   "display_name": "Python 3 (ipykernel)",
   "language": "python",
   "name": "python3"
  },
  "language_info": {
   "codemirror_mode": {
    "name": "ipython",
    "version": 3
   },
   "file_extension": ".py",
   "mimetype": "text/x-python",
   "name": "python",
   "nbconvert_exporter": "python",
   "pygments_lexer": "ipython3",
   "version": "3.8.12"
  }
 },
 "nbformat": 4,
 "nbformat_minor": 5
}
