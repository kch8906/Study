{
 "cells": [
  {
   "cell_type": "markdown",
   "id": "0401adce",
   "metadata": {},
   "source": [
    "### 수들의 조합\n",
    "N개의 정수가 주어지면 그 숫자들 중 K개를 뽑는 조합의 합이 임의의 정수 M의 배수인 개수는 몇 개가 있는지 출력하는 프로그램을 작성하세요.<br>\n",
    "예를 들면 5개의 숫자 2 4 5 8 12가 주어지고, 3개를 뽑은 조합의 합이 6의 배수인 조합을 찾으면 4+8+12 2+4+12로 2가지가 있습니다.<br>\n",
    "<br>\n",
    "- **입력설명**<br>\n",
    "첫줄에 정수의 개수 N(3<=N<=20)과 임의의 정수 K(2<=K<=N)가 주어지고, 두 번째 줄에는 N개의 정수가 주어진다.<br>\n",
    "세 번째 줄에 M이 주어집니다.\n",
    "\n",
    "- **출력설명**<br>\n",
    "총 가지수를 출력합니다.\n",
    "<br>\n",
    "- **입력예제**<br>\n",
    "5 3<br>\n",
    "2 4 5 8 12<br>\n",
    "6\n",
    "<br>\n",
    "- **출력예제**<br>\n",
    "2\n"
   ]
  },
  {
   "cell_type": "code",
   "execution_count": 89,
   "id": "2f6745d1",
   "metadata": {},
   "outputs": [
    {
     "name": "stdout",
     "output_type": "stream",
     "text": [
      "5 3\n",
      "2 4 5 8 12\n",
      "6\n",
      "2 4 5 \n",
      "2 4 8 \n",
      "2 4 12 \n",
      "2 5 8 \n",
      "2 5 12 \n",
      "2 8 12 \n",
      "4 5 8 \n",
      "4 5 12 \n",
      "4 8 12 \n",
      "5 8 12 \n",
      "2\n"
     ]
    }
   ],
   "source": [
    "def DFS(level, location, sum_val):\n",
    "    global cnt\n",
    "    if level == k:\n",
    "        for i in range(level):\n",
    "            print(n_list[dfs_list[i]], end=' ')\n",
    "        print()\n",
    "        if sum_val % m == 0:\n",
    "            cnt += 1\n",
    "    else:\n",
    "        for i in range(location, n):\n",
    "            dfs_list[level] = i\n",
    "            DFS(level + 1, i + 1, sum_val + n_list[i])\n",
    "            \n",
    "n, k = map(int, input().split())\n",
    "n_list = list(map(int, input().split()))\n",
    "m = int(input())\n",
    "cnt = 0\n",
    "dfs_list = [0] * (k + 1)\n",
    "DFS(0, 0, 0)\n",
    "print(cnt)"
   ]
  },
  {
   "cell_type": "markdown",
   "id": "bf54f55b",
   "metadata": {},
   "source": [
    "- 재귀 DFS 좀 감이 오기 시작"
   ]
  },
  {
   "cell_type": "code",
   "execution_count": 90,
   "id": "f4550dab",
   "metadata": {},
   "outputs": [
    {
     "name": "stdout",
     "output_type": "stream",
     "text": [
      "5 3\n",
      "2 4 5 8 12\n",
      "6\n",
      "2\n"
     ]
    }
   ],
   "source": [
    "# 풀이\n",
    "\n",
    "def DFS(L, s, sum):\n",
    "    global cnt\n",
    "    if L == k:\n",
    "        if sum % m == 0:\n",
    "            cnt += 1\n",
    "    else:\n",
    "        for i in range(s, n):\n",
    "            DFS(L + 1, i + 1, sum + a[i])\n",
    " \n",
    "if __name__==\"__main__\":\n",
    "    n, k=map(int, input().split())\n",
    "    a=list(map(int, input().split()))\n",
    "    m=int(input())\n",
    "    cnt=0\n",
    "    DFS(0, 0, 0)\n",
    "    print(cnt)"
   ]
  },
  {
   "cell_type": "markdown",
   "id": "56ff6eb8",
   "metadata": {},
   "source": [
    "## 복습"
   ]
  },
  {
   "cell_type": "markdown",
   "id": "7eb46216",
   "metadata": {},
   "source": [
    "### K번째 약수\n",
    "\n",
    "어떤 자연수 p와 q가 있을 때, 만일 p를 q로 나누었을 때 나머지가 0이면 q는 p의 약수이다. <br>\n",
    "6을 예로 들면\n",
    "\n",
    "    6 ÷ 1 = 6 … 0\n",
    "    6 ÷ 2 = 3 … 0\n",
    "    6 ÷ 3 = 2 … 0\n",
    "    6 ÷ 4 = 1 … 2\n",
    "    6 ÷ 5 = 1 … 1\n",
    "    6 ÷ 6 = 1 … 0\n",
    "\n",
    "그래서 6의 약수는 1, 2, 3, 6, 총 네 개이다.<br>\n",
    "두 개의 자연수 N과 K가 주어졌을 때, N의 약수들 중 K번째로 작은 수를 출력하는 프로그램을 작성하시오.\n",
    "<br>\n",
    "- **입력설명**<br>\n",
    "첫째 줄에 N과 K가 빈칸을 사이에 두고 주어진다. N은 1 이상 10,000 이하이다. K는 1 이상 N 이하이다.\n",
    "<br>\n",
    "- **출력설명**<br>\n",
    "첫째 줄에 N의 약수들 중 K번째로 작은 수를 출력한다. 만일 N의 약수의 개수가 K개보다 적어서 K번째 약수가 존재하지 않을 경우에는 -1을 출력하시오.\n",
    "<br>\n",
    "- **입력예제**<br>\n",
    "6 3\n",
    "<br>\n",
    "- **출력예제**<br>\n",
    "3\n",
    "\n",
    "\n"
   ]
  },
  {
   "cell_type": "code",
   "execution_count": 65,
   "id": "1f078eaf",
   "metadata": {},
   "outputs": [],
   "source": [
    "import time"
   ]
  },
  {
   "cell_type": "code",
   "execution_count": 91,
   "id": "f6c9a006",
   "metadata": {},
   "outputs": [
    {
     "name": "stdout",
     "output_type": "stream",
     "text": [
      "6 3\n",
      "3\n",
      "time : 0.000000000000000000000000000000000000000000000000000000000000000000000000000000000000000000000000000000000000000000000000000000000000000000000000000000000000000000000000000000000000000000000000000000000000000000000000000000000000000000000000000000000000000000000000000000000000000000000000000000000000\n"
     ]
    }
   ],
   "source": [
    "n, k = map(int, input().split())\n",
    "start = time.time()\n",
    "\n",
    "result = []\n",
    "for i in range(1, n + 1):\n",
    "    if n % i == 0:\n",
    "        result.append(i)\n",
    "\n",
    "if result is None:\n",
    "    print(-1)\n",
    "else:\n",
    "    print(result[k - 1])\n",
    "\n",
    "print(\"time : {:.300f}\".format(time.time() - start))"
   ]
  },
  {
   "cell_type": "code",
   "execution_count": 92,
   "id": "5b85e2b5",
   "metadata": {},
   "outputs": [
    {
     "name": "stdout",
     "output_type": "stream",
     "text": [
      "6 3\n",
      "3\n",
      "time : 0.000000000000000000000000000000000000000000000000000000000000000000000000000000000000000000000000000000000000000000000000000000000000000000000000000000000000000000000000000000000000000000000000000000000000000000000000000000000000000000000000000000000000000000000000000000000000000000000000000000000000\n"
     ]
    }
   ],
   "source": [
    "# 풀이\n",
    "n, k=map(int, input().split())\n",
    "start = time.time()\n",
    "\n",
    "cnt=0\n",
    "for i in range(1, n+1):\n",
    "    if n%i==0:\n",
    "        cnt+=1\n",
    "    if cnt==k:\n",
    "        print(i)\n",
    "        break\n",
    "else:\n",
    "    print(-1)\n",
    "    \n",
    "print(\"time : {:.300f}\".format(time.time() - start))"
   ]
  }
 ],
 "metadata": {
  "kernelspec": {
   "display_name": "Python [conda env:machine] *",
   "language": "python",
   "name": "conda-env-machine-py"
  },
  "language_info": {
   "codemirror_mode": {
    "name": "ipython",
    "version": 3
   },
   "file_extension": ".py",
   "mimetype": "text/x-python",
   "name": "python",
   "nbconvert_exporter": "python",
   "pygments_lexer": "ipython3",
   "version": "3.8.12"
  }
 },
 "nbformat": 4,
 "nbformat_minor": 5
}
