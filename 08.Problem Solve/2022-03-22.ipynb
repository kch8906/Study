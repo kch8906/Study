{
 "cells": [
  {
   "cell_type": "markdown",
   "id": "e543fa0f",
   "metadata": {},
   "source": [
    "### 동전교환\n",
    "\n",
    "다음과 같이 여러 단위의 동전들이 주어져 있을때 거스름돈을 가장 적은 수의 동전으로 교환해주려면 어떻게 주면 되는가? 각 단위의 동전은 무한정 쓸 수 있다.\n",
    "\n",
    "- **입력설명**<br>\n",
    "첫 번째 줄에는 동전의 종류개수 N(1<=N<=12)이 주어진다. 두 번째 줄에는 N개의 동전의 종류가 주어지고, 그 다음줄에 거슬러 줄 금액 M(1<=M<=500)이 주어진다.<br>\n",
    "각 동전의 종류는 100원을 넘지 않는다.<br>\n",
    "<br>\n",
    "- **출력설명**<br>\n",
    "첫 번째 줄에 거슬러 줄 동전의 최소개수를 출력한다.<br>\n",
    "<br>\n",
    "- **입력예제**<br>\n",
    "3<br>\n",
    "1 2 5<br>\n",
    "15<br>\n",
    "<br>\n",
    "- **출력예제**<br>\n",
    "3"
   ]
  },
  {
   "cell_type": "markdown",
   "id": "25f34ebe",
   "metadata": {},
   "source": [
    "- **아이디어**<br>\n",
    "재귀 level은 최대값으로 내려가게 하되, 현재 level의 sum으로 재귀를 제어"
   ]
  },
  {
   "cell_type": "code",
   "execution_count": 20,
   "id": "1f08105a",
   "metadata": {},
   "outputs": [
    {
     "name": "stdout",
     "output_type": "stream",
     "text": [
      "3\n",
      "1 2 5\n",
      "15\n",
      "3\n"
     ]
    }
   ],
   "source": [
    "# 리스트 역순을 안하고 하면 연산량이 너무 많음\n",
    "def DFS(level, sum_coin):\n",
    "    global cnt\n",
    "    if sum_coin > m:\n",
    "        return\n",
    "    if sum_coin == m:\n",
    "        if level < cnt:\n",
    "            cnt = level\n",
    "    else:\n",
    "        for i in reversed(n_list):\n",
    "            DFS(level + 1, sum_coin + i)        \n",
    "           \n",
    "        \n",
    "n = int(input())\n",
    "n_list = list(map(int, input().split()))\n",
    "m = int(input())\n",
    "cnt = m\n",
    "DFS(0, 0)\n",
    "print(cnt)"
   ]
  },
  {
   "cell_type": "code",
   "execution_count": 8,
   "id": "a0df803e",
   "metadata": {},
   "outputs": [
    {
     "name": "stdout",
     "output_type": "stream",
     "text": [
      "3\n",
      "1 2 5\n",
      "15\n",
      "3\n"
     ]
    }
   ],
   "source": [
    "# 풀이\n",
    "\n",
    "def DFS(L, sum_a):\n",
    "    global res\n",
    "    if sum_a > m:\n",
    "        return\n",
    "    if sum_a == m:\n",
    "        if L < res:\n",
    "            res = L\n",
    "    else:\n",
    "        for i in range(n):\n",
    "            DFS(L + 1, sum_a + a[i])\n",
    "    \n",
    "if __name__ == \"__main__\":\n",
    "    n = int(input())\n",
    "    a = list(map(int, input().split()))\n",
    "    m = int(input())\n",
    "    res = 2147000000\n",
    "    a.sort(reverse=True)\n",
    "    DFS(0, 0)\n",
    "    print(res)"
   ]
  }
 ],
 "metadata": {
  "kernelspec": {
   "display_name": "Python [conda env:machine] *",
   "language": "python",
   "name": "conda-env-machine-py"
  },
  "language_info": {
   "codemirror_mode": {
    "name": "ipython",
    "version": 3
   },
   "file_extension": ".py",
   "mimetype": "text/x-python",
   "name": "python",
   "nbconvert_exporter": "python",
   "pygments_lexer": "ipython3",
   "version": "3.8.12"
  }
 },
 "nbformat": 4,
 "nbformat_minor": 5
}
