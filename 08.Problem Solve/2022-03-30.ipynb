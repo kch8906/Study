{
 "cells": [
  {
   "cell_type": "markdown",
   "id": "6a076a77",
   "metadata": {},
   "source": [
    "### N과 M (1) -  백준 15649\n",
    "\n",
    "자연수 N과 M이 주어졌을 때, 아래 조건을 만족하는 길이가 M인 수열을 모두 구하는 프로그램을 작성하시오.<br>\n",
    "- 1부터 N까지 자연수 중에서 중복 없이 M개를 고른 수열<br>\n",
    "<br>\n",
    "- **입력**<br>\n",
    "첫째 줄에 자연수 N과 M이 주어진다. (1 ≤ M ≤ N ≤ 8)<br>\n",
    "<br>\n",
    "- **출력**<br>\n",
    "한 줄에 하나씩 문제의 조건을 만족하는 수열을 출력한다. 중복되는 수열을 여러 번 출력하면 안되며, 각 수열은 공백으로 구분해서 출력해야 한다.<br>\n",
    "<br>\n",
    "수열은 사전 순으로 증가하는 순서로 출력해야 한다.<br>\n",
    "\n",
    "\n"
   ]
  },
  {
   "cell_type": "code",
   "execution_count": 7,
   "id": "01775f69",
   "metadata": {},
   "outputs": [
    {
     "name": "stdout",
     "output_type": "stream",
     "text": [
      "4 2\n",
      "1 2 \n",
      "1 3 \n",
      "1 4 \n",
      "2 1 \n",
      "2 3 \n",
      "2 4 \n",
      "3 1 \n",
      "3 2 \n",
      "3 4 \n",
      "4 1 \n",
      "4 2 \n",
      "4 3 \n"
     ]
    }
   ],
   "source": [
    "def DFS(level):\n",
    "    if level == m:\n",
    "        for i in range(m):\n",
    "            print(n_list[i], end=' ')\n",
    "        print()\n",
    "        return\n",
    "    else:\n",
    "        for i in range(1, n + 1):\n",
    "            if check[i] == 0:\n",
    "                check[i] = 1\n",
    "                n_list[level] = i\n",
    "                DFS(level + 1)\n",
    "                check[i] = 0\n",
    "        \n",
    "n, m = map(int, input().split())\n",
    "n_list = [0] * (m + 1)\n",
    "check = [0] * (n + 1)\n",
    "DFS(0)"
   ]
  },
  {
   "cell_type": "code",
   "execution_count": null,
   "id": "7de3a772",
   "metadata": {},
   "outputs": [],
   "source": [
    "# 백준다이아 풀이\n",
    "import sys\n",
    " \n",
    "input = sys.stdin.readline\n",
    "\n",
    "n,m = list(map(int,input().split()))\n",
    " \n",
    "s = []\n",
    " \n",
    "def dfs():\n",
    "    if len(s)==m:\n",
    "        for i in range(m):\n",
    "            print(s[i], end=' ')\n",
    "        return\n",
    "    \n",
    "    for i in range(1,n+1):\n",
    "        if i not in s:\n",
    "            s.append(i)\n",
    "            dfs()\n",
    "            s.pop()\n",
    " \n",
    "dfs()"
   ]
  },
  {
   "cell_type": "markdown",
   "id": "ab61695c",
   "metadata": {},
   "source": [
    "### N과 M (2) - 백준 15650\n",
    "\n",
    "자연수 N과 M이 주어졌을 때, 아래 조건을 만족하는 길이가 M인 수열을 모두 구하는 프로그램을 작성하시오.<br>\n",
    "<br>\n",
    "- 1부터 N까지 자연수 중에서 중복 없이 M개를 고른 수열<br>\n",
    "- 고른 수열은 오름차순이어야 한다.<br>\n",
    "<br>\n",
    "- **입력**<br>\n",
    "첫째 줄에 자연수 N과 M이 주어진다. (1 ≤ M ≤ N ≤ 8)<br>\n",
    "<br>\n",
    "- **출력**<br>\n",
    "한 줄에 하나씩 문제의 조건을 만족하는 수열을 출력한다. 중복되는 수열을 여러 번 출력하면 안되며, 각 수열은 공백으로 구분해서 출력해야 한다.<br>\n",
    "<br>\n",
    "수열은 사전 순으로 증가하는 순서로 출력해야 한다.<br>"
   ]
  },
  {
   "cell_type": "code",
   "execution_count": 29,
   "id": "14501af7",
   "metadata": {},
   "outputs": [
    {
     "name": "stdout",
     "output_type": "stream",
     "text": [
      "4 2\n",
      "1 2 \n",
      "1 3 \n",
      "1 4 \n",
      "2 3 \n",
      "2 4 \n",
      "3 4 \n"
     ]
    }
   ],
   "source": [
    "# 104ms\n",
    "def DFS(level, val):\n",
    "    if level == m:\n",
    "        for i in range(m):\n",
    "            print(n_list[i], end=' ')\n",
    "        print()\n",
    "    else:\n",
    "        for i in range(val, n + 1):\n",
    "            n_list[level] = i                \n",
    "            DFS(level + 1, i + 1)\n",
    "                \n",
    "n, m = map(int, input().split())\n",
    "n_list = [0] * (m + 1)\n",
    "DFS(0, 1)"
   ]
  },
  {
   "cell_type": "code",
   "execution_count": 30,
   "id": "42e50ee5",
   "metadata": {},
   "outputs": [
    {
     "name": "stdout",
     "output_type": "stream",
     "text": [
      "4 2\n",
      "1 2\n",
      "1 3\n",
      "1 4\n",
      "2 3\n",
      "2 4\n",
      "3 4\n"
     ]
    }
   ],
   "source": [
    "# 백준 풀이 (96ms)\n",
    "n, m = map(int, input().split())\n",
    "arr = [0] * m\n",
    "def comb(index, cnt):\n",
    "    if cnt == m:\n",
    "        print(\" \".join(map(str, arr))) \n",
    "        return\n",
    "    for i in range(index, n):\n",
    "        arr[cnt] = i + 1\n",
    "        comb(i + 1, cnt + 1)\n",
    "comb(0, 0)"
   ]
  },
  {
   "cell_type": "markdown",
   "id": "4e1a5df6",
   "metadata": {},
   "source": [
    "- 나는 for문을 써서 출력을 했는데 이사람은 join을 써서 한번에 리스트 안의 값을 뽑음"
   ]
  }
 ],
 "metadata": {
  "kernelspec": {
   "display_name": "Python [conda env:machine] *",
   "language": "python",
   "name": "conda-env-machine-py"
  },
  "language_info": {
   "codemirror_mode": {
    "name": "ipython",
    "version": 3
   },
   "file_extension": ".py",
   "mimetype": "text/x-python",
   "name": "python",
   "nbconvert_exporter": "python",
   "pygments_lexer": "ipython3",
   "version": "3.8.12"
  }
 },
 "nbformat": 4,
 "nbformat_minor": 5
}
