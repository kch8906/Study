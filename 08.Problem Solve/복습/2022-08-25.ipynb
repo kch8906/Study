{
 "cells": [
  {
   "cell_type": "code",
   "execution_count": 48,
   "id": "13ad977d",
   "metadata": {},
   "outputs": [
    {
     "name": "stdout",
     "output_type": "stream",
     "text": [
      "1\n",
      "sksdddddddddddddddddddddddddddddddddddddddkss\n",
      "s s\n",
      "k s\n",
      "#1 NO\n"
     ]
    }
   ],
   "source": [
    "for i in range(int(input())):\n",
    "    word = input().lower()\n",
    "    words_list = []\n",
    "    for j in word:\n",
    "        words_list.append(j)\n",
    "    count = 0 \n",
    "    \n",
    "    for p, v in zip(words_list, reversed(words_list)):\n",
    "        if p != v:\n",
    "            count +=1\n",
    "        if count >= 1:\n",
    "            print(f'#{i + 1} NO')\n",
    "            break\n",
    "    else:\n",
    "        print(f'#{i + 1} YES')"
   ]
  },
  {
   "cell_type": "code",
   "execution_count": null,
   "id": "4b801d79",
   "metadata": {},
   "outputs": [],
   "source": []
  }
 ],
 "metadata": {
  "kernelspec": {
   "display_name": "Python 3 (ipykernel)",
   "language": "python",
   "name": "python3"
  },
  "language_info": {
   "codemirror_mode": {
    "name": "ipython",
    "version": 3
   },
   "file_extension": ".py",
   "mimetype": "text/x-python",
   "name": "python",
   "nbconvert_exporter": "python",
   "pygments_lexer": "ipython3",
   "version": "3.9.7"
  }
 },
 "nbformat": 4,
 "nbformat_minor": 5
}
