{
 "cells": [
  {
   "cell_type": "code",
   "execution_count": 14,
   "id": "c89da24a",
   "metadata": {},
   "outputs": [
    {
     "name": "stdout",
     "output_type": "stream",
     "text": [
      "4 11\n",
      "802\n",
      "743\n",
      "457\n",
      "539\n",
      "200\n"
     ]
    }
   ],
   "source": [
    "def cnt(num):\n",
    "    cnt = 0\n",
    "    for i in lenLength:\n",
    "        cnt += (i // num)\n",
    "        \n",
    "    return cnt\n",
    "\n",
    "\n",
    "k, n = map(int, input().split())\n",
    "lenLength = []\n",
    "largest = 0\n",
    "for i in range(k):\n",
    "    tmp = int(input())\n",
    "    lenLength.append(tmp)\n",
    "    largest = max(largest, tmp)\n",
    "    \n",
    "lt = 1\n",
    "rt = largest\n",
    "\n",
    "while lt <= rt:\n",
    "    mid = (lt + rt) // 2\n",
    "    if cnt(mid) >= n:\n",
    "        res = mid\n",
    "        lt = mid + 1\n",
    "    else:\n",
    "        rt = mid - 1\n",
    "        \n",
    "print(res)"
   ]
  },
  {
   "cell_type": "code",
   "execution_count": null,
   "id": "06dae91f",
   "metadata": {},
   "outputs": [],
   "source": []
  }
 ],
 "metadata": {
  "kernelspec": {
   "display_name": "Python 3 (ipykernel)",
   "language": "python",
   "name": "python3"
  },
  "language_info": {
   "codemirror_mode": {
    "name": "ipython",
    "version": 3
   },
   "file_extension": ".py",
   "mimetype": "text/x-python",
   "name": "python",
   "nbconvert_exporter": "python",
   "pygments_lexer": "ipython3",
   "version": "3.9.12"
  }
 },
 "nbformat": 4,
 "nbformat_minor": 5
}
