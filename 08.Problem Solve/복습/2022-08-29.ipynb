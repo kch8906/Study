{
 "cells": [
  {
   "cell_type": "code",
   "execution_count": 1,
   "id": "104961fa",
   "metadata": {},
   "outputs": [
    {
     "name": "stdout",
     "output_type": "stream",
     "text": [
      "6 3\n",
      "3\n"
     ]
    }
   ],
   "source": [
    "n, k = map(int, input().split())\n",
    "\n",
    "numList = []\n",
    "for i in range(1, n + 1):\n",
    "    if n % i == 0:\n",
    "        numList.append(i)\n",
    "        \n",
    "else:\n",
    "    print(numList[k - 1])"
   ]
  },
  {
   "cell_type": "code",
   "execution_count": 16,
   "id": "73916d51",
   "metadata": {},
   "outputs": [
    {
     "name": "stdout",
     "output_type": "stream",
     "text": [
      "2\n",
      "6 2 5 3\n",
      "5 2 7 3 8 9\n",
      "#1 7\n",
      "15 3 10 3\n",
      "4 15 8 16 6 6 17 3 10 11 18 7 14 7 15\n",
      "#2 6\n"
     ]
    }
   ],
   "source": [
    "T = int(input())\n",
    "\n",
    "resList = []\n",
    "\n",
    "for i in range(T):\n",
    "    n, s, e, k = map(int, input().split())\n",
    "    nList = list(map(int, input().split()))\n",
    "    \n",
    "    nList = sorted(nList[s - 1 : e])\n",
    "    \n",
    "    print(f'#{i + 1} {nList[k - 1]}')"
   ]
  },
  {
   "cell_type": "code",
   "execution_count": 30,
   "id": "56971791",
   "metadata": {},
   "outputs": [
    {
     "name": "stdout",
     "output_type": "stream",
     "text": [
      "10 3\n",
      "13 15 34 23 45 65 33 11 26 42\n",
      "143\n"
     ]
    }
   ],
   "source": [
    "n, k = map(int, input().split())\n",
    "\n",
    "cards = list(map(int, input().split()))\n",
    "\n",
    "addList = []\n",
    "for i in range(n):\n",
    "    for j in range(i + 1 , n):\n",
    "        for q in range(j + 1, n):\n",
    "            res = cards[i] + cards[j] + cards[q]\n",
    "            addList.append(res)\n",
    "            \n",
    "else:\n",
    "    addList = sorted(list(set((addList))), reverse=True)\n",
    "    print(addList[k - 1])"
   ]
  },
  {
   "cell_type": "code",
   "execution_count": 29,
   "id": "b56c7fec",
   "metadata": {},
   "outputs": [
    {
     "name": "stdout",
     "output_type": "stream",
     "text": [
      "10\n",
      "45 73 66 87 92 67 75 79 75 80\n"
     ]
    }
   ],
   "source": [
    "n = int(input())\n",
    "scores = list(map(int, input().split()))\n",
    "\n",
    "avg = round(sum(scores) / len(scores))\n",
    "minNum = 21400000\n",
    "\n",
    "for idx, val in enumerate(scores):\n",
    "    tmp = abs(val - avg)\n",
    "    if tmp < minNum:\n",
    "        minNum = tmp\n",
    "        score = val\n",
    "        res = idx + 1\n",
    "    elif tmp == minNum:\n",
    "        if val > score:\n",
    "            score = val\n",
    "            res = idx + 1\n",
    "print(avg, res)"
   ]
  },
  {
   "cell_type": "code",
   "execution_count": 76,
   "id": "55bbf871",
   "metadata": {},
   "outputs": [
    {
     "name": "stdout",
     "output_type": "stream",
     "text": [
      "12 20\n",
      "13 14 15 16 17 18 19 20 21 "
     ]
    }
   ],
   "source": [
    "n, m = map(int, input().split())\n",
    "\n",
    "addNumList = [i + j for i in range(1, n + 1) for j in range(1, m + 1)]\n",
    "countList = [0] * len(addNumList)\n",
    "\n",
    "for i in addNumList:\n",
    "    countList[i - 1] += 1\n",
    "\n",
    "else:\n",
    "    for idx, val in enumerate(countList):\n",
    "        if max(countList) == val:\n",
    "            print(idx + 1, end = ' ')"
   ]
  },
  {
   "cell_type": "code",
   "execution_count": 105,
   "id": "2c31adfe",
   "metadata": {},
   "outputs": [
    {
     "name": "stdout",
     "output_type": "stream",
     "text": [
      "100\n",
      "7033 23832 28248 3634 29188 471 20535 7295 16029 31704 28692 2949 7412 6358 16976 9584 30872 30711 1034 9010 5575 16206 10900 11811 7301 19108 26407 9450 23019 14200 4821 10145 11202 29252 5824 12084 19024 10498 9354 13322 25714 18159 21260 10216 16875 23951 29515 18194 24572 7921 12711 1203 15413 19764 22358 5758 16778 17226 16401 25494 2985 31484 22541 23211 29835 13358 13869 29542 8265 8549 9846 24328 31538 15750 14531 11342 24090 12001 10170 25239 19700 23405 11262 22600 932 4693 4006 18544 17678 28340 5615 27560 8307 22429 2861 6206 8445 16735 4360 11666 \n",
      "16976\n"
     ]
    }
   ],
   "source": [
    "def digit_sum(x):\n",
    "    res = 0\n",
    "    for i in str(x):\n",
    "        res += int(i)\n",
    "    \n",
    "    return res\n",
    "\n",
    "n = int(input())\n",
    "numList = list(map(int, input().split()))\n",
    "sumList = []\n",
    "\n",
    "for i in range(len(numList)):\n",
    "    sumList.append(digit_sum(numList[i]))\n",
    "\n",
    "for idx, val in enumerate(sumList):\n",
    "    if max(sumList) == val:\n",
    "        print(numList[idx])\n",
    "        break"
   ]
  },
  {
   "cell_type": "code",
   "execution_count": 124,
   "id": "aec34926",
   "metadata": {},
   "outputs": [
    {
     "name": "stdout",
     "output_type": "stream",
     "text": [
      "10000\n",
      "1229\n"
     ]
    }
   ],
   "source": [
    "def sosu(x):\n",
    "    count = 0\n",
    "    for i in range(1, x + 1):\n",
    "        if x % i == 0:\n",
    "            count += 1\n",
    "    else:\n",
    "        if count == 2:\n",
    "            return 1\n",
    "        else:\n",
    "            return 0\n",
    "\n",
    "\n",
    "nList = [x + 1 for x in range(int(input()))]\n",
    "res = 0\n",
    "\n",
    "for i in nList:\n",
    "    res += sosu(i)\n",
    "    \n",
    "else:\n",
    "    print(res)"
   ]
  },
  {
   "cell_type": "code",
   "execution_count": 130,
   "id": "323d0b9a",
   "metadata": {},
   "outputs": [
    {
     "name": "stdout",
     "output_type": "stream",
     "text": [
      "150000\n",
      "13848\n"
     ]
    }
   ],
   "source": [
    "n = int(input())\n",
    "ch = [0] * (n + 1)\n",
    "cnt = 0\n",
    "for i in range(2, n + 1):\n",
    "    if ch[i] == 0:\n",
    "        cnt += 1\n",
    "        for j in range(i, n + 1, i):\n",
    "            ch[j] = 1\n",
    "print(cnt)\n",
    "    "
   ]
  },
  {
   "cell_type": "code",
   "execution_count": 137,
   "id": "d433e0c4",
   "metadata": {},
   "outputs": [
    {
     "name": "stdout",
     "output_type": "stream",
     "text": [
      "20\n",
      "8\n"
     ]
    }
   ],
   "source": [
    "n = int(input())\n",
    "ch = [0] * (n + 1)\n",
    "cnt = 0\n",
    "for i in range(2, n + 1):\n",
    "    if ch[i] == 0:\n",
    "        cnt += 1\n",
    "        for j in range(i, n + 1, i):\n",
    "            ch[j] = 1\n",
    "print(cnt)"
   ]
  },
  {
   "cell_type": "code",
   "execution_count": 170,
   "id": "3d16b3b7",
   "metadata": {},
   "outputs": [
    {
     "name": "stdout",
     "output_type": "stream",
     "text": [
      "60\n",
      "53 96 4229 2046 801 14 8058 20699 153 90 5762 12217 971 2 6075 21524 979 66 5667 7023 99 55 4749 2352 129 59 1159 28848 217 24 4169 1427 725 23 2000 18005 234 34 5787 29990 693 74 1222 4856 678 77 4005 4310 524 42 9715 11127 8 6 9309 9491 886 9 1304 20853 \n",
      "41 179 2 9511 2 43 47 2221 5179 1949 "
     ]
    }
   ],
   "source": [
    "def reverse(x):\n",
    "    stack = []\n",
    "    for i in str(x):\n",
    "        stack.append(i)        \n",
    "    res = ''.join(stack[:: -1])\n",
    "    \n",
    "    return int(res)\n",
    "\n",
    "def isPrime(x):\n",
    "    count = 0\n",
    "    for i in range(1, x + 1):\n",
    "        if x % i == 0:\n",
    "            count += 1\n",
    "    else:\n",
    "        if count == 2:\n",
    "            return 1\n",
    "        else:\n",
    "            return 0\n",
    "        \n",
    "n = int(input())\n",
    "nList = list(map(int, input().split()))\n",
    "\n",
    "for i in range(len(nList)):\n",
    "    reverse_res = reverse(nList[i])\n",
    "    isprime_res = isPrime(reverse_res)\n",
    "    \n",
    "    if isprime_res == 1:\n",
    "        print(reverse_res, end=' ')        "
   ]
  },
  {
   "cell_type": "code",
   "execution_count": null,
   "id": "9a367a9e",
   "metadata": {},
   "outputs": [],
   "source": []
  }
 ],
 "metadata": {
  "kernelspec": {
   "display_name": "Python [conda env:machine_TF2] *",
   "language": "python",
   "name": "conda-env-machine_TF2-py"
  },
  "language_info": {
   "codemirror_mode": {
    "name": "ipython",
    "version": 3
   },
   "file_extension": ".py",
   "mimetype": "text/x-python",
   "name": "python",
   "nbconvert_exporter": "python",
   "pygments_lexer": "ipython3",
   "version": "3.10.4"
  }
 },
 "nbformat": 4,
 "nbformat_minor": 5
}
