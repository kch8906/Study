{
 "cells": [
  {
   "cell_type": "markdown",
   "metadata": {},
   "source": [
    "### K번째 약수"
   ]
  },
  {
   "cell_type": "code",
   "execution_count": 14,
   "metadata": {},
   "outputs": [
    {
     "name": "stdout",
     "output_type": "stream",
     "text": [
      "3\n"
     ]
    }
   ],
   "source": [
    "n, k = map(int, input().split())\n",
    "\n",
    "res = []\n",
    "for i in range(1, n + 1):\n",
    "    if n % i == 0:\n",
    "        res.append(i)\n",
    "\n",
    "if len(res) == 0:\n",
    "    print(-1)\n",
    "else:\n",
    "    print(res[k - 1])\n"
   ]
  },
  {
   "cell_type": "markdown",
   "metadata": {},
   "source": [
    "#### 답안"
   ]
  },
  {
   "cell_type": "code",
   "execution_count": 17,
   "metadata": {},
   "outputs": [
    {
     "name": "stdout",
     "output_type": "stream",
     "text": [
      "3\n"
     ]
    }
   ],
   "source": [
    "n, k = map(int, input().split())\n",
    "cnt = 0\n",
    "for i in range(1, n + 1):\n",
    "    if n%i == 0:\n",
    "        cnt += 1\n",
    "    if cnt == k:\n",
    "        print(i)\n",
    "        break\n",
    "else:\n",
    "    print(-1)"
   ]
  },
  {
   "cell_type": "markdown",
   "metadata": {},
   "source": [
    "### K번째 수"
   ]
  },
  {
   "cell_type": "code",
   "execution_count": 32,
   "metadata": {},
   "outputs": [
    {
     "name": "stdout",
     "output_type": "stream",
     "text": [
      "#1 7\n",
      "#2 6\n"
     ]
    }
   ],
   "source": [
    "case = int(input())\n",
    "\n",
    "for i in range(case):\n",
    "    n, s, e, k = map(int, input().split())\n",
    "    res = list(map(int, input().split()))\n",
    "    res = res[s - 1 : e]\n",
    "    res.sort()\n",
    "    print(f'#{i + 1} {res[k - 1]}')\n"
   ]
  },
  {
   "cell_type": "markdown",
   "metadata": {},
   "source": [
    "#### 답안"
   ]
  },
  {
   "cell_type": "code",
   "execution_count": null,
   "metadata": {},
   "outputs": [],
   "source": [
    "T = int(input())\n",
    "for t in range(T):\n",
    "    n, s, e, k=map(int, input().split())\n",
    "    a=list(map(int, input().split()))\n",
    "    a = a[s - 1 : e]\n",
    "    a.sort()\n",
    "    print(\"#%d %d\" %(t+1, a[k-1]))"
   ]
  }
 ],
 "metadata": {
  "kernelspec": {
   "display_name": "Python 3.8.10 64-bit",
   "language": "python",
   "name": "python3"
  },
  "language_info": {
   "codemirror_mode": {
    "name": "ipython",
    "version": 3
   },
   "file_extension": ".py",
   "mimetype": "text/x-python",
   "name": "python",
   "nbconvert_exporter": "python",
   "pygments_lexer": "ipython3",
   "version": "3.8.10"
  },
  "orig_nbformat": 4,
  "vscode": {
   "interpreter": {
    "hash": "3560a4d4cbfa40fd0b7faec78b059a6c76203df81557d1677029d8669139df15"
   }
  }
 },
 "nbformat": 4,
 "nbformat_minor": 2
}
