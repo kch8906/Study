{
 "cells": [
  {
   "cell_type": "markdown",
   "metadata": {},
   "source": [
    "### K번째 큰 수"
   ]
  },
  {
   "cell_type": "code",
   "execution_count": 57,
   "metadata": {},
   "outputs": [
    {
     "name": "stdout",
     "output_type": "stream",
     "text": [
      "143\n"
     ]
    }
   ],
   "source": [
    "n, k = map(int, input().split())\n",
    "number = list(map(int, input().split()))\n",
    "\n",
    "res = []\n",
    "for i in range(n):\n",
    "    for j in range(i + 1, n):\n",
    "        for q in range(j + 1, n):\n",
    "            ans = number[i] + number[j] + number[q]\n",
    "            res.append(ans)\n",
    "\n",
    "res.sort(reverse=True)\n",
    "set(res)\n",
    "print(res[k - 1])"
   ]
  },
  {
   "cell_type": "markdown",
   "metadata": {},
   "source": [
    "#### 답안"
   ]
  },
  {
   "cell_type": "code",
   "execution_count": null,
   "metadata": {},
   "outputs": [],
   "source": [
    "n, k = map(int, input().split())\n",
    "a = list(map(int, input().split()))\n",
    "res = set()\n",
    "for i in range(n):\n",
    "    for j in range(i + 1, n):\n",
    "        for m in range(j + 1, n):\n",
    "            res.add(a[i] + a[j] + a[m])\n",
    "res=list(res)\n",
    "res.sort(reverse=True)\n",
    "print(res[k - 1])"
   ]
  },
  {
   "cell_type": "markdown",
   "metadata": {},
   "source": [
    "### 대표값"
   ]
  },
  {
   "cell_type": "code",
   "execution_count": 74,
   "metadata": {},
   "outputs": [
    {
     "name": "stdout",
     "output_type": "stream",
     "text": [
      "74 7\n"
     ]
    }
   ],
   "source": [
    "n = int(input())\n",
    "score = list(map(int, input().split()))\n",
    "\n",
    "mean = round(sum(score) / n)\n",
    "res = []\n",
    "\n",
    "for i in range(n):\n",
    "    res.append(score[i] - mean)\n",
    "\n",
    "for i in range(n):\n",
    "    for j in range(i + 1, n):\n",
    "        if res[i] <= res[j]:\n",
    "            min = res[i]\n",
    "        else:\n",
    "            min = res[j]\n",
    "\n",
    "for i in range(n):\n",
    "    if res[i] == min:\n",
    "        print(f'{mean} {i + 1}')        \n",
    "        break"
   ]
  },
  {
   "cell_type": "code",
   "execution_count": null,
   "metadata": {},
   "outputs": [],
   "source": [
    "n=int(input())\n",
    "a=list(map(int, input().split()))\n",
    "\n",
    "ave= sum(a) / n\n",
    "ave= ave + 0.5\n",
    "ave= int(ave)\n",
    "min = -2147000000\n",
    "\n",
    "for idx, x in enumerate(a):\n",
    "    tmp = abs(x-ave)\n",
    "    if tmp < min:\n",
    "        min = tmp\n",
    "        score = x\n",
    "        res = idx + 1\n",
    "    elif tmp == min:\n",
    "        if x > score:\n",
    "            score = x\n",
    "            res = idx + 1\n",
    "print(ave, res)\n"
   ]
  }
 ],
 "metadata": {
  "kernelspec": {
   "display_name": "Python 3.8.10 64-bit",
   "language": "python",
   "name": "python3"
  },
  "language_info": {
   "codemirror_mode": {
    "name": "ipython",
    "version": 3
   },
   "file_extension": ".py",
   "mimetype": "text/x-python",
   "name": "python",
   "nbconvert_exporter": "python",
   "pygments_lexer": "ipython3",
   "version": "3.8.10"
  },
  "orig_nbformat": 4,
  "vscode": {
   "interpreter": {
    "hash": "3560a4d4cbfa40fd0b7faec78b059a6c76203df81557d1677029d8669139df15"
   }
  }
 },
 "nbformat": 4,
 "nbformat_minor": 2
}
