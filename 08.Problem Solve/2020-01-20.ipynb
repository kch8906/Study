{
 "cells": [
  {
   "cell_type": "code",
   "execution_count": 3,
   "id": "f0654cfa",
   "metadata": {},
   "outputs": [
    {
     "name": "stdout",
     "output_type": "stream",
     "text": [
      "1\n",
      "1\n",
      "3\n"
     ]
    }
   ],
   "source": [
    "# 2775\n",
    "\n",
    "n = int(input())\n",
    "\n",
    "for i in range(n):\n",
    "    k = int(input())\n",
    "    n = int(input())"
   ]
  },
  {
   "cell_type": "code",
   "execution_count": 4,
   "id": "b21c3f5b",
   "metadata": {},
   "outputs": [
    {
     "name": "stdout",
     "output_type": "stream",
     "text": [
      "9223372036854775807 9223372036854775808\n",
      "18446744073709551615\n"
     ]
    }
   ],
   "source": [
    "# 10757\n",
    "a, b = map(int, input().split())\n",
    "print(a+b)"
   ]
  },
  {
   "cell_type": "code",
   "execution_count": 5,
   "id": "1f5dd13b",
   "metadata": {},
   "outputs": [
    {
     "name": "stdout",
     "output_type": "stream",
     "text": [
      "5 21\n",
      "5 6 7 8 9\n"
     ]
    }
   ],
   "source": [
    "N, M = map(int, input().split())\n",
    "card_list = list(map(int, input().split()))"
   ]
  },
  {
   "cell_type": "code",
   "execution_count": 10,
   "id": "0e6a0f24",
   "metadata": {},
   "outputs": [],
   "source": [
    "result = 0\n",
    "for i in range(N):\n",
    "    for j in range(i+1, N):\n",
    "        for k in range(j+1, N):\n",
    "            if card_list[i] + card_list[j] + card_list[k] > M:\n",
    "                continue\n",
    "            else:\n",
    "                result = max(result, card_list[i] + card_list[j] + card_list[k])"
   ]
  },
  {
   "cell_type": "code",
   "execution_count": 11,
   "id": "705880a9",
   "metadata": {},
   "outputs": [
    {
     "name": "stdout",
     "output_type": "stream",
     "text": [
      "21\n"
     ]
    }
   ],
   "source": [
    "print(result)"
   ]
  },
  {
   "cell_type": "code",
   "execution_count": 12,
   "id": "7496f2ba",
   "metadata": {},
   "outputs": [
    {
     "name": "stdout",
     "output_type": "stream",
     "text": [
      "3\n",
      "3 17 1 39 8 41 2 32 99 2\n",
      "200\n",
      "22 8 5 123 7 2 63 7 3 46\n",
      "208\n",
      "6 63 2 3 58 76 21 33 8 1   \n",
      "121\n"
     ]
    }
   ],
   "source": [
    "T = int(input())\n",
    "# 여러개의 테스트 케이스가 주어지므로, 각각을 처리합니다.\n",
    "for test_case in range(1, T + 1):\n",
    "    num_list = list(map(int, input().split()))\n",
    "    sorted_list = []\n",
    "    for i in num_list:\n",
    "        if i % 2 != 0:\n",
    "            sorted_list.append(i)\n",
    "    print(sum(sorted_list))"
   ]
  },
  {
   "cell_type": "code",
   "execution_count": 16,
   "id": "edb8d9cc",
   "metadata": {},
   "outputs": [
    {
     "name": "stdout",
     "output_type": "stream",
     "text": [
      "3\n",
      "3 17 1 39 8 41 2 32 99 2\n",
      "#1 200\n",
      "22 8 5 123 7 2 63 7 3 46\n",
      "#2 208\n"
     ]
    },
    {
     "ename": "KeyboardInterrupt",
     "evalue": "Interrupted by user",
     "output_type": "error",
     "traceback": [
      "\u001b[1;31m---------------------------------------------------------------------------\u001b[0m",
      "\u001b[1;31mKeyboardInterrupt\u001b[0m                         Traceback (most recent call last)",
      "\u001b[1;32mC:\\Users\\CHANGH~1\\AppData\\Local\\Temp/ipykernel_92088/2075056774.py\u001b[0m in \u001b[0;36m<module>\u001b[1;34m\u001b[0m\n\u001b[0;32m      2\u001b[0m \u001b[1;31m# 여러개의 테스트 케이스가 주어지므로, 각각을 처리합니다.\u001b[0m\u001b[1;33m\u001b[0m\u001b[1;33m\u001b[0m\u001b[0m\n\u001b[0;32m      3\u001b[0m \u001b[1;32mfor\u001b[0m \u001b[0mtest_case\u001b[0m \u001b[1;32min\u001b[0m \u001b[0mrange\u001b[0m\u001b[1;33m(\u001b[0m\u001b[1;36m1\u001b[0m\u001b[1;33m,\u001b[0m \u001b[0mT\u001b[0m \u001b[1;33m+\u001b[0m \u001b[1;36m1\u001b[0m\u001b[1;33m)\u001b[0m\u001b[1;33m:\u001b[0m\u001b[1;33m\u001b[0m\u001b[1;33m\u001b[0m\u001b[0m\n\u001b[1;32m----> 4\u001b[1;33m     \u001b[0mnum_list\u001b[0m \u001b[1;33m=\u001b[0m \u001b[0mlist\u001b[0m\u001b[1;33m(\u001b[0m\u001b[0mmap\u001b[0m\u001b[1;33m(\u001b[0m\u001b[0mint\u001b[0m\u001b[1;33m,\u001b[0m \u001b[0minput\u001b[0m\u001b[1;33m(\u001b[0m\u001b[1;33m)\u001b[0m\u001b[1;33m.\u001b[0m\u001b[0msplit\u001b[0m\u001b[1;33m(\u001b[0m\u001b[1;33m)\u001b[0m\u001b[1;33m)\u001b[0m\u001b[1;33m)\u001b[0m\u001b[1;33m\u001b[0m\u001b[1;33m\u001b[0m\u001b[0m\n\u001b[0m\u001b[0;32m      5\u001b[0m     \u001b[0msorted_list\u001b[0m \u001b[1;33m=\u001b[0m \u001b[1;33m[\u001b[0m\u001b[1;33m]\u001b[0m\u001b[1;33m\u001b[0m\u001b[1;33m\u001b[0m\u001b[0m\n\u001b[0;32m      6\u001b[0m     \u001b[1;32mfor\u001b[0m \u001b[0mi\u001b[0m \u001b[1;32min\u001b[0m \u001b[0mnum_list\u001b[0m\u001b[1;33m:\u001b[0m\u001b[1;33m\u001b[0m\u001b[1;33m\u001b[0m\u001b[0m\n",
      "\u001b[1;32m~\\anaconda3\\lib\\site-packages\\ipykernel\\kernelbase.py\u001b[0m in \u001b[0;36mraw_input\u001b[1;34m(self, prompt)\u001b[0m\n\u001b[0;32m   1004\u001b[0m                 \u001b[1;34m\"raw_input was called, but this frontend does not support input requests.\"\u001b[0m\u001b[1;33m\u001b[0m\u001b[1;33m\u001b[0m\u001b[0m\n\u001b[0;32m   1005\u001b[0m             )\n\u001b[1;32m-> 1006\u001b[1;33m         return self._input_request(\n\u001b[0m\u001b[0;32m   1007\u001b[0m             \u001b[0mstr\u001b[0m\u001b[1;33m(\u001b[0m\u001b[0mprompt\u001b[0m\u001b[1;33m)\u001b[0m\u001b[1;33m,\u001b[0m\u001b[1;33m\u001b[0m\u001b[1;33m\u001b[0m\u001b[0m\n\u001b[0;32m   1008\u001b[0m             \u001b[0mself\u001b[0m\u001b[1;33m.\u001b[0m\u001b[0m_parent_ident\u001b[0m\u001b[1;33m[\u001b[0m\u001b[1;34m\"shell\"\u001b[0m\u001b[1;33m]\u001b[0m\u001b[1;33m,\u001b[0m\u001b[1;33m\u001b[0m\u001b[1;33m\u001b[0m\u001b[0m\n",
      "\u001b[1;32m~\\anaconda3\\lib\\site-packages\\ipykernel\\kernelbase.py\u001b[0m in \u001b[0;36m_input_request\u001b[1;34m(self, prompt, ident, parent, password)\u001b[0m\n\u001b[0;32m   1049\u001b[0m             \u001b[1;32mexcept\u001b[0m \u001b[0mKeyboardInterrupt\u001b[0m\u001b[1;33m:\u001b[0m\u001b[1;33m\u001b[0m\u001b[1;33m\u001b[0m\u001b[0m\n\u001b[0;32m   1050\u001b[0m                 \u001b[1;31m# re-raise KeyboardInterrupt, to truncate traceback\u001b[0m\u001b[1;33m\u001b[0m\u001b[1;33m\u001b[0m\u001b[0m\n\u001b[1;32m-> 1051\u001b[1;33m                 \u001b[1;32mraise\u001b[0m \u001b[0mKeyboardInterrupt\u001b[0m\u001b[1;33m(\u001b[0m\u001b[1;34m\"Interrupted by user\"\u001b[0m\u001b[1;33m)\u001b[0m \u001b[1;32mfrom\u001b[0m \u001b[1;32mNone\u001b[0m\u001b[1;33m\u001b[0m\u001b[1;33m\u001b[0m\u001b[0m\n\u001b[0m\u001b[0;32m   1052\u001b[0m             \u001b[1;32mexcept\u001b[0m \u001b[0mException\u001b[0m\u001b[1;33m:\u001b[0m\u001b[1;33m\u001b[0m\u001b[1;33m\u001b[0m\u001b[0m\n\u001b[0;32m   1053\u001b[0m                 \u001b[0mself\u001b[0m\u001b[1;33m.\u001b[0m\u001b[0mlog\u001b[0m\u001b[1;33m.\u001b[0m\u001b[0mwarning\u001b[0m\u001b[1;33m(\u001b[0m\u001b[1;34m\"Invalid Message:\"\u001b[0m\u001b[1;33m,\u001b[0m \u001b[0mexc_info\u001b[0m\u001b[1;33m=\u001b[0m\u001b[1;32mTrue\u001b[0m\u001b[1;33m)\u001b[0m\u001b[1;33m\u001b[0m\u001b[1;33m\u001b[0m\u001b[0m\n",
      "\u001b[1;31mKeyboardInterrupt\u001b[0m: Interrupted by user"
     ]
    }
   ],
   "source": [
    "T = int(input())\n",
    "# 여러개의 테스트 케이스가 주어지므로, 각각을 처리합니다.\n",
    "for test_case in range(1, T + 1):\n",
    "    num_list = list(map(int, input().split()))\n",
    "    sorted_list = []\n",
    "    for i in num_list:\n",
    "        if i % 2 != 0:\n",
    "            sorted_list.append(i)\n",
    "    print('#{} {}'.format(test_case, sum(sorted_list)))"
   ]
  },
  {
   "cell_type": "code",
   "execution_count": 18,
   "id": "4b48e1b5",
   "metadata": {},
   "outputs": [
    {
     "name": "stdout",
     "output_type": "stream",
     "text": [
      "199\n",
      "85 72 38 80 69 65 68 96 22 49 67 51 61 63 87 66 24 80 83 71 60 64 52 90 60 49 31 23 99 94 11 25 24 51 15 13 39 67 97 19 76 12 33 99 18 92 35 74 0 95 71 39 33 39 32 37 45 57 71 95 5 71 24 86 8 51 54 74 24 75 70 33 63 29 99 59 94 52 13 35 99 46 57 71 23 17 3 94 48 77 18 83 11 83 25 59 62 2 78 86 7 94 65 80 32 39 84 60 65 72 61 58 84 8 72 12 19 47 49 49 59 71 52 34 22 21 20 92 33 80 39 74 9 28 97 100 93 29 25 4 66 79 81 98 21 91 62 82 4 59 100 34 1 51 80 92 69 77 39 38 97 51 34 35 19 22 1 67 9 90 31 82 11 51 84 78 70 74 42 100 88 53 80 57 62 32 51 48 63 92 46 4 61 31 98 69 52 88 20\n"
     ]
    },
    {
     "ename": "KeyboardInterrupt",
     "evalue": "Interrupted by user",
     "output_type": "error",
     "traceback": [
      "\u001b[1;31m---------------------------------------------------------------------------\u001b[0m",
      "\u001b[1;31mKeyboardInterrupt\u001b[0m                         Traceback (most recent call last)",
      "\u001b[1;32mC:\\Users\\CHANGH~1\\AppData\\Local\\Temp/ipykernel_92088/1916932560.py\u001b[0m in \u001b[0;36m<module>\u001b[1;34m\u001b[0m\n\u001b[0;32m      2\u001b[0m \u001b[1;31m# 여러개의 테스트 케이스가 주어지므로, 각각을 처리합니다.\u001b[0m\u001b[1;33m\u001b[0m\u001b[1;33m\u001b[0m\u001b[0m\n\u001b[0;32m      3\u001b[0m \u001b[1;32mfor\u001b[0m \u001b[0mtest_case\u001b[0m \u001b[1;32min\u001b[0m \u001b[0mrange\u001b[0m\u001b[1;33m(\u001b[0m\u001b[1;36m1\u001b[0m\u001b[1;33m,\u001b[0m \u001b[0mT\u001b[0m \u001b[1;33m+\u001b[0m \u001b[1;36m1\u001b[0m\u001b[1;33m)\u001b[0m\u001b[1;33m:\u001b[0m\u001b[1;33m\u001b[0m\u001b[1;33m\u001b[0m\u001b[0m\n\u001b[1;32m----> 4\u001b[1;33m     \u001b[0mnum_list\u001b[0m \u001b[1;33m=\u001b[0m \u001b[0mset\u001b[0m\u001b[1;33m(\u001b[0m\u001b[0mlist\u001b[0m\u001b[1;33m(\u001b[0m\u001b[0mmap\u001b[0m\u001b[1;33m(\u001b[0m\u001b[0mint\u001b[0m\u001b[1;33m,\u001b[0m \u001b[0minput\u001b[0m\u001b[1;33m(\u001b[0m\u001b[1;33m)\u001b[0m\u001b[1;33m.\u001b[0m\u001b[0msplit\u001b[0m\u001b[1;33m(\u001b[0m\u001b[1;33m)\u001b[0m\u001b[1;33m)\u001b[0m\u001b[1;33m)\u001b[0m\u001b[1;33m)\u001b[0m\u001b[1;33m\u001b[0m\u001b[1;33m\u001b[0m\u001b[0m\n\u001b[0m",
      "\u001b[1;32m~\\anaconda3\\lib\\site-packages\\ipykernel\\kernelbase.py\u001b[0m in \u001b[0;36mraw_input\u001b[1;34m(self, prompt)\u001b[0m\n\u001b[0;32m   1004\u001b[0m                 \u001b[1;34m\"raw_input was called, but this frontend does not support input requests.\"\u001b[0m\u001b[1;33m\u001b[0m\u001b[1;33m\u001b[0m\u001b[0m\n\u001b[0;32m   1005\u001b[0m             )\n\u001b[1;32m-> 1006\u001b[1;33m         return self._input_request(\n\u001b[0m\u001b[0;32m   1007\u001b[0m             \u001b[0mstr\u001b[0m\u001b[1;33m(\u001b[0m\u001b[0mprompt\u001b[0m\u001b[1;33m)\u001b[0m\u001b[1;33m,\u001b[0m\u001b[1;33m\u001b[0m\u001b[1;33m\u001b[0m\u001b[0m\n\u001b[0;32m   1008\u001b[0m             \u001b[0mself\u001b[0m\u001b[1;33m.\u001b[0m\u001b[0m_parent_ident\u001b[0m\u001b[1;33m[\u001b[0m\u001b[1;34m\"shell\"\u001b[0m\u001b[1;33m]\u001b[0m\u001b[1;33m,\u001b[0m\u001b[1;33m\u001b[0m\u001b[1;33m\u001b[0m\u001b[0m\n",
      "\u001b[1;32m~\\anaconda3\\lib\\site-packages\\ipykernel\\kernelbase.py\u001b[0m in \u001b[0;36m_input_request\u001b[1;34m(self, prompt, ident, parent, password)\u001b[0m\n\u001b[0;32m   1049\u001b[0m             \u001b[1;32mexcept\u001b[0m \u001b[0mKeyboardInterrupt\u001b[0m\u001b[1;33m:\u001b[0m\u001b[1;33m\u001b[0m\u001b[1;33m\u001b[0m\u001b[0m\n\u001b[0;32m   1050\u001b[0m                 \u001b[1;31m# re-raise KeyboardInterrupt, to truncate traceback\u001b[0m\u001b[1;33m\u001b[0m\u001b[1;33m\u001b[0m\u001b[0m\n\u001b[1;32m-> 1051\u001b[1;33m                 \u001b[1;32mraise\u001b[0m \u001b[0mKeyboardInterrupt\u001b[0m\u001b[1;33m(\u001b[0m\u001b[1;34m\"Interrupted by user\"\u001b[0m\u001b[1;33m)\u001b[0m \u001b[1;32mfrom\u001b[0m \u001b[1;32mNone\u001b[0m\u001b[1;33m\u001b[0m\u001b[1;33m\u001b[0m\u001b[0m\n\u001b[0m\u001b[0;32m   1052\u001b[0m             \u001b[1;32mexcept\u001b[0m \u001b[0mException\u001b[0m\u001b[1;33m:\u001b[0m\u001b[1;33m\u001b[0m\u001b[1;33m\u001b[0m\u001b[0m\n\u001b[0;32m   1053\u001b[0m                 \u001b[0mself\u001b[0m\u001b[1;33m.\u001b[0m\u001b[0mlog\u001b[0m\u001b[1;33m.\u001b[0m\u001b[0mwarning\u001b[0m\u001b[1;33m(\u001b[0m\u001b[1;34m\"Invalid Message:\"\u001b[0m\u001b[1;33m,\u001b[0m \u001b[0mexc_info\u001b[0m\u001b[1;33m=\u001b[0m\u001b[1;32mTrue\u001b[0m\u001b[1;33m)\u001b[0m\u001b[1;33m\u001b[0m\u001b[1;33m\u001b[0m\u001b[0m\n",
      "\u001b[1;31mKeyboardInterrupt\u001b[0m: Interrupted by user"
     ]
    }
   ],
   "source": [
    "T = int(input())\n",
    "# 여러개의 테스트 케이스가 주어지므로, 각각을 처리합니다.\n",
    "for test_case in range(1, T + 1):\n",
    "    num_list = int(input)"
   ]
  },
  {
   "cell_type": "code",
   "execution_count": 22,
   "id": "07102e26",
   "metadata": {},
   "outputs": [
    {
     "name": "stdout",
     "output_type": "stream",
     "text": [
      "6789\n",
      "30\n"
     ]
    }
   ],
   "source": [
    "n = int(input())\n",
    "add_result = 0\n",
    "for i in str(n):\n",
    "    add_result += int(i)\n",
    "    \n",
    "print(add_result)\n",
    "    "
   ]
  },
  {
   "cell_type": "code",
   "execution_count": 87,
   "id": "d39270e5",
   "metadata": {},
   "outputs": [
    {
     "name": "stdout",
     "output_type": "stream",
     "text": [
      "1\n",
      "11111111\n",
      "#1 1111/11/11\n"
     ]
    }
   ],
   "source": [
    "n = int(input())\n",
    "\n",
    "for i in range(1, n+1):\n",
    "    num = int(input())\n",
    "    y = int(num / 10000)\n",
    "    m = int(num / 100) % 100\n",
    "    d = num % 100\n",
    "\n",
    "    if m == 0:\n",
    "        print('#{} {}'.format(i, -1))\n",
    "        continue\n",
    "        \n",
    "    if y < 1000:\n",
    "        y = '{0:04d}'.format(y)    \n",
    "        \n",
    "    if m == 2 and d > 28:\n",
    "        print('#{} {}'.format(i, -1))\n",
    "        continue\n",
    "    \n",
    "    if m < 10:\n",
    "        m = '{0:02d}'.format(m)\n",
    "        \n",
    "    if d < 10:\n",
    "        d = '{0:02d}'.format(d)\n",
    "        \n",
    "   \n",
    "     \n",
    "    \n",
    "    print(\"#{} {}/{}/{}\".format(i, y, m, d))"
   ]
  },
  {
   "cell_type": "code",
   "execution_count": 77,
   "id": "fe7561db",
   "metadata": {},
   "outputs": [
    {
     "name": "stdout",
     "output_type": "stream",
     "text": [
      "22220228\n",
      "02\n",
      "None\n"
     ]
    }
   ],
   "source": [
    "print(num)\n",
    "y = int(num / 10000)\n",
    "m = int(num / 100) % 10\n",
    "d = num % 100\n",
    "\n",
    "# print(\"{}/{0:03d}/{}\".format(y,m,d))\n",
    "m = print(\"{0:02d}\".format(m))\n"
   ]
  },
  {
   "cell_type": "code",
   "execution_count": 35,
   "id": "64a29b86",
   "metadata": {},
   "outputs": [
    {
     "name": "stdout",
     "output_type": "stream",
     "text": [
      "8\n",
      "1 2 4 8 16 32 64 128 256 "
     ]
    }
   ],
   "source": [
    "n = int(input())\n",
    "result = [0] * (n + 1)\n",
    "result[0] = 1\n",
    "result[1] = 2\n",
    "for i in range(0, len(result) - 1):\n",
    "    result[i + 1] = result[i] * 2\n",
    "\n",
    "for i in range(len(result)):\n",
    "    print(result[i], end=' ')"
   ]
  },
  {
   "cell_type": "code",
   "execution_count": 40,
   "id": "1fd57166",
   "metadata": {},
   "outputs": [
    {
     "name": "stdout",
     "output_type": "stream",
     "text": [
      "8\n",
      "8 7 6 5 4 3 2 1 0 "
     ]
    }
   ],
   "source": [
    "n = int(input())\n",
    "\n",
    "num = []\n",
    "for i in range(n + 1):\n",
    "    num.append(i)\n",
    "    \n",
    "for i in reversed(num):\n",
    "    print(i, end=' ')"
   ]
  },
  {
   "cell_type": "code",
   "execution_count": 41,
   "id": "ce7bfd15",
   "metadata": {},
   "outputs": [
    {
     "name": "stdout",
     "output_type": "stream",
     "text": [
      "1\n",
      "1\n"
     ]
    }
   ],
   "source": [
    "n = int(input())\n",
    "case_number = int(input())"
   ]
  },
  {
   "cell_type": "code",
   "execution_count": 42,
   "id": "39e57172",
   "metadata": {
    "scrolled": false
   },
   "outputs": [
    {
     "name": "stdout",
     "output_type": "stream",
     "text": [
      "41 85 72 38 80 69 65 68 96 22 49 67 51 61 63 87 66 24 80 83 71 60 64 52 90 60 49 31 23 99 94 11 25 24 51 15 13 39 67 97 19 76 12 33 99 18 92 35 74 0 95 71 39 33 39 32 37 45 57 71 95 5 71 24 86 8 51 54 74 24 75 70 33 63 29 99 58 94 52 13 35 99 46 57 71 23 17 3 94 48 77 18 83 11 83 25 59 62 2 78 86 7 94 65 80 32 39 84 60 65 72 61 58 84 8 72 12 19 47 49 49 59 71 52 34 22 21 20 92 33 80 39 74 9 28 97 100 93 29 25 4 66 79 81 98 21 91 62 82 4 59 100 34 1 51 80 92 69 77 39 38 97 51 34 35 19 22 1 67 9 90 31 82 11 51 84 78 70 74 42 100 88 53 80 57 62 32 51 48 63 92 46 4 61 31 98 69 52 88 20 68 41 48 79 97 98 56 44 73 3 63 100 87 87 41 79 64 83 63 1 21 72 24 9 75 51 25 53 77 0 52 30 96 93 32 89 70 89 55 71 79 40 10 64 80 30 19 62 67 98 42 8 32 57 27 22 1 38 89 52 74 43 8 2 65 82 20 67 22 43 22 95 16 48 25 6 75 86 96 3 85 43 69 93 4 61 53 81 43 84 20 15 34 22 35 26 28 33 67 19 79 19 45 8 13 51 0 86 68 18 47 82 3 16 80 0 18 39 22 5 26 65 70 21 92 66 65 14 6 46 46 21 32 80 35 86 6 67 29 42 71 14 77 55 3 1 14 38 71 82 41 65 12 5 77 3 67 22 59 40 81 48 63 63 25 45 32 78 83 26 96 18 99 45 56 31 30 45 47 80 1 7 81 18 1 90 15 71 22 69 44 18 31 60 16 93 13 17 44 97 98 51 46 42 22 47 72 97 24 52 55 59 25 100 28 5 14 76 32 41 97 61 32 20 0 2 8 41 52 77 35 22 98 78 92 68 29 82 33 28 16 5 9 21 13 26 39 59 69 10 42 4 13 80 34 42 100 44 32 70 15 32 8 83 10 23 73 8 53 7 21 10 52 14 82 28 24 33 94 59 4 17 73 53 85 31 100 74 74 12 72 38 34 14 22 53 0 30 95 3 52 79 41 36 81 25 24 67 48 95 44 7 96 77 90 48 92 45 78 93 95 38 71 4 83 79 64 89 0 76 81 34 66 1 13 58 4 40 5 24 17 6 65 13 13 76 3 20 8 36 12 60 37 42 53 87 10 65 42 25 47 41 33 71 69 94 24 12 92 11 71 3 82 91 90 20 95 44 76 60 34 95 49 40 89 4 45 27 9 34 82 59 2 20 68 22 29 10 1 23 19 47 16 76 47 49 90 94 10 18 55 69 14 26 59 77 73 8 21 72 1 74 76 51 94 44 24 98 71 77 59 9 12 49 38 72 22 55 35 61 16 48 41 21 67 74 92 4 7 85 34 92 39 96 42 26 1 1 4 64 33 96 62 23 67 76 26 47 32 73 82 30 14 61 21 92 40 4 2 38 76 64 8 14 3 49 71 31 38 86 98 17 15 98 32 55 69 46 61 3 44 67 50 44 76 0 45 23 25 11 82 99 11 39 50 40 21 52 17 60 44 90 44 6 16 38 3 41 43 56 26 24 0 9 90 36 50 13 42 88 87 66 32 28 73 94 52 11 35 47 9 87 37 57 15 56 38 95 6 43 23 30 84 39 88 69 5 34 81 93 86 2 77 10 28 30 97 68 14 12 88 1 100 35 73 30 2 43 11 41 58 82 6 84 71 16 18 67 41 100 92 78 57 7 35 69 56 76 13 93 26 26 38 21 96 7 88 2 60 17 54 95 26 2 0 21 87 11 96 36 83 88 31 24 24 62 14 88 84 39 22 17 84 96 1 78 91 53 9 35 75 87 100 33 80 42 7 20 50 65 81 92 14 45 96 34 6 20 86 51 4 19 70 91 13 0 42 70 43 15 47 14 96 72 41 91 11 72 7 92 12 16 51 13 86 40 50 43 55 26 7 1 70 18 71 99 49 55 94 78 40 59 20 96 34 6 28 85 42 70 62 63 32 34 97 80 49 47 50 73 85 63 20 29 0 19 91 84 58 55 33 4 68 55 12 38 49 9 13 99 4 35 26 5 42 29 98 20 95 77 36 63 41 42 45 81 40 53 60 5 55 9 13 34 6 52 28 35 33 29 21 67 57 61 21 41 95 54 50 19 81 75 67 73 77 47 40 83 16 28\n"
     ]
    }
   ],
   "source": [
    "score_numbers = list(map(int, input().split()))"
   ]
  },
  {
   "cell_type": "code",
   "execution_count": 60,
   "id": "46f4ea0d",
   "metadata": {},
   "outputs": [
    {
     "data": {
      "text/plain": [
       "101"
      ]
     },
     "execution_count": 60,
     "metadata": {},
     "output_type": "execute_result"
    }
   ],
   "source": [
    "score_sort = list(set(score_numbers))\n",
    "len(score_sort)"
   ]
  },
  {
   "cell_type": "code",
   "execution_count": 76,
   "id": "f331aab4",
   "metadata": {},
   "outputs": [
    {
     "name": "stdout",
     "output_type": "stream",
     "text": [
      "[12, 15, 9, 12, 15, 9, 10, 10, 11, 11, 8, 10, 10, 15, 13, 7, 10, 8, 10, 10, 13, 15, 16, 7, 14, 10, 13, 2, 10, 8, 8, 8, 15, 12, 15, 13, 5, 3, 13, 12, 10, 15, 15, 9, 11, 10, 6, 12, 8, 11, 7, 13, 13, 9, 3, 11, 5, 7, 5, 11, 9, 9, 7, 10, 6, 10, 5, 15, 7, 11, 9, 17, 10, 9, 9, 5, 11, 12, 8, 7, 13, 10, 12, 9, 9, 6, 9, 8, 8, 5, 8, 6, 14, 7, 10, 12, 13, 9, 10, 8, 10]\n"
     ]
    },
    {
     "data": {
      "text/plain": [
       "71"
      ]
     },
     "execution_count": 76,
     "metadata": {},
     "output_type": "execute_result"
    }
   ],
   "source": [
    "count_list = []\n",
    "for score in range(len(score_sort)):\n",
    "    cnt = score_numbers.count(score)\n",
    "    count_list.append(cnt)\n",
    "    \n",
    "print(count_list)\n",
    "idx = count_list.index(max(count_list))\n",
    "idx"
   ]
  },
  {
   "cell_type": "code",
   "execution_count": 77,
   "id": "2167964f",
   "metadata": {},
   "outputs": [
    {
     "data": {
      "text/plain": [
       "[(71, 17),\n",
       " (22, 16),\n",
       " (41, 15),\n",
       " (67, 15),\n",
       " (13, 15),\n",
       " (32, 15),\n",
       " (34, 15),\n",
       " (21, 15),\n",
       " (4, 15),\n",
       " (1, 15),\n",
       " (42, 15),\n",
       " (24, 14),\n",
       " (92, 14),\n",
       " (38, 13),\n",
       " (80, 13),\n",
       " (96, 13),\n",
       " (51, 13),\n",
       " (52, 13),\n",
       " (35, 13),\n",
       " (20, 13),\n",
       " (26, 13),\n",
       " (14, 13),\n",
       " (39, 12),\n",
       " (33, 12),\n",
       " (0, 12),\n",
       " (95, 12),\n",
       " (3, 12),\n",
       " (77, 12),\n",
       " (47, 12),\n",
       " (82, 12),\n",
       " (69, 11),\n",
       " (49, 11),\n",
       " (76, 11),\n",
       " (8, 11),\n",
       " (59, 11),\n",
       " (9, 11),\n",
       " (44, 11),\n",
       " (55, 11),\n",
       " (72, 10),\n",
       " (65, 10),\n",
       " (63, 10),\n",
       " (94, 10),\n",
       " (11, 10),\n",
       " (25, 10),\n",
       " (19, 10),\n",
       " (12, 10),\n",
       " (18, 10),\n",
       " (45, 10),\n",
       " (7, 10),\n",
       " (28, 10),\n",
       " (100, 10),\n",
       " (81, 10),\n",
       " (98, 10),\n",
       " (40, 10),\n",
       " (16, 10),\n",
       " (6, 10),\n",
       " (61, 9),\n",
       " (83, 9),\n",
       " (60, 9),\n",
       " (97, 9),\n",
       " (74, 9),\n",
       " (5, 9),\n",
       " (86, 9),\n",
       " (70, 9),\n",
       " (2, 9),\n",
       " (84, 9),\n",
       " (53, 9),\n",
       " (73, 9),\n",
       " (43, 9),\n",
       " (87, 8),\n",
       " (90, 8),\n",
       " (31, 8),\n",
       " (99, 8),\n",
       " (29, 8),\n",
       " (17, 8),\n",
       " (48, 8),\n",
       " (78, 8),\n",
       " (88, 8),\n",
       " (30, 8),\n",
       " (10, 8),\n",
       " (68, 7),\n",
       " (23, 7),\n",
       " (15, 7),\n",
       " (57, 7),\n",
       " (62, 7),\n",
       " (93, 7),\n",
       " (79, 7),\n",
       " (50, 7),\n",
       " (85, 6),\n",
       " (64, 6),\n",
       " (46, 6),\n",
       " (91, 6),\n",
       " (66, 5),\n",
       " (75, 5),\n",
       " (58, 5),\n",
       " (56, 5),\n",
       " (89, 5),\n",
       " (36, 5),\n",
       " (37, 3),\n",
       " (54, 3),\n",
       " (27, 2)]"
      ]
     },
     "execution_count": 77,
     "metadata": {},
     "output_type": "execute_result"
    }
   ],
   "source": [
    "from collections import Counter\n",
    "cnt = Counter(score_numbers)\n",
    "cnt.most_common()"
   ]
  },
  {
   "cell_type": "code",
   "execution_count": 78,
   "id": "0edc6f65",
   "metadata": {},
   "outputs": [],
   "source": [
    "def modefinder(numbers):\n",
    "    cnt = Counter(numbers)\n",
    "    order = cnt.most_common()\n",
    "    maximum = order[0][1]\n",
    "    \n",
    "    modes = []\n",
    "    for num in order:\n",
    "        if num[1] == maximum:\n",
    "            modes.append(num[0])\n",
    "    return modes"
   ]
  },
  {
   "cell_type": "code",
   "execution_count": 79,
   "id": "d043c18c",
   "metadata": {},
   "outputs": [
    {
     "data": {
      "text/plain": [
       "[71]"
      ]
     },
     "execution_count": 79,
     "metadata": {},
     "output_type": "execute_result"
    }
   ],
   "source": [
    "result = modefinder(score_numbers)\n",
    "result"
   ]
  },
  {
   "cell_type": "code",
   "execution_count": 84,
   "id": "c2b55695",
   "metadata": {},
   "outputs": [
    {
     "name": "stdout",
     "output_type": "stream",
     "text": [
      "1\n",
      "1\n",
      "41 85 72 38 80 69 65 68 96 22 49 67 51 61 63 87 66 24 80 83 71 60 64 52 90 60 49 31 23 99 94 11 25 24 51 15 13 39 67 97 19 76 12 33 99 18 92 35 74 0 95 71 39 33 39 32 37 45 57 71 95 5 71 24 86 8 51 54 74 24 75 70 33 63 29 99 58 94 52 13 35 99 46 57 71 23 17 3 94 48 77 18 83 11 83 25 59 62 2 78 86 7 94 65 80 32 39 84 60 65 72 61 58 84 8 72 12 19 47 49 49 59 71 52 34 22 21 20 92 33 80 39 74 9 28 97 100 93 29 25 4 66 79 81 98 21 91 62 82 4 59 100 34 1 51 80 92 69 77 39 38 97 51 34 35 19 22 1 67 9 90 31 82 11 51 84 78 70 74 42 100 88 53 80 57 62 32 51 48 63 92 46 4 61 31 98 69 52 88 20 68 41 48 79 97 98 56 44 73 3 63 100 87 87 41 79 64 83 63 1 21 72 24 9 75 51 25 53 77 0 52 30 96 93 32 89 70 89 55 71 79 40 10 64 80 30 19 62 67 98 42 8 32 57 27 22 1 38 89 52 74 43 8 2 65 82 20 67 22 43 22 95 16 48 25 6 75 86 96 3 85 43 69 93 4 61 53 81 43 84 20 15 34 22 35 26 28 33 67 19 79 19 45 8 13 51 0 86 68 18 47 82 3 16 80 0 18 39 22 5 26 65 70 21 92 66 65 14 6 46 46 21 32 80 35 86 6 67 29 42 71 14 77 55 3 1 14 38 71 82 41 65 12 5 77 3 67 22 59 40 81 48 63 63 25 45 32 78 83 26 96 18 99 45 56 31 30 45 47 80 1 7 81 18 1 90 15 71 22 69 44 18 31 60 16 93 13 17 44 97 98 51 46 42 22 47 72 97 24 52 55 59 25 100 28 5 14 76 32 41 97 61 32 20 0 2 8 41 52 77 35 22 98 78 92 68 29 82 33 28 16 5 9 21 13 26 39 59 69 10 42 4 13 80 34 42 100 44 32 70 15 32 8 83 10 23 73 8 53 7 21 10 52 14 82 28 24 33 94 59 4 17 73 53 85 31 100 74 74 12 72 38 34 14 22 53 0 30 95 3 52 79 41 36 81 25 24 67 48 95 44 7 96 77 90 48 92 45 78 93 95 38 71 4 83 79 64 89 0 76 81 34 66 1 13 58 4 40 5 24 17 6 65 13 13 76 3 20 8 36 12 60 37 42 53 87 10 65 42 25 47 41 33 71 69 94 24 12 92 11 71 3 82 91 90 20 95 44 76 60 34 95 49 40 89 4 45 27 9 34 82 59 2 20 68 22 29 10 1 23 19 47 16 76 47 49 90 94 10 18 55 69 14 26 59 77 73 8 21 72 1 74 76 51 94 44 24 98 71 77 59 9 12 49 38 72 22 55 35 61 16 48 41 21 67 74 92 4 7 85 34 92 39 96 42 26 1 1 4 64 33 96 62 23 67 76 26 47 32 73 82 30 14 61 21 92 40 4 2 38 76 64 8 14 3 49 71 31 38 86 98 17 15 98 32 55 69 46 61 3 44 67 50 44 76 0 45 23 25 11 82 99 11 39 50 40 21 52 17 60 44 90 44 6 16 38 3 41 43 56 26 24 0 9 90 36 50 13 42 88 87 66 32 28 73 94 52 11 35 47 9 87 37 57 15 56 38 95 6 43 23 30 84 39 88 69 5 34 81 93 86 2 77 10 28 30 97 68 14 12 88 1 100 35 73 30 2 43 11 41 58 82 6 84 71 16 18 67 41 100 92 78 57 7 35 69 56 76 13 93 26 26 38 21 96 7 88 2 60 17 54 95 26 2 0 21 87 11 96 36 83 88 31 24 24 62 14 88 84 39 22 17 84 96 1 78 91 53 9 35 75 87 100 33 80 42 7 20 50 65 81 92 14 45 96 34 6 20 86 51 4 19 70 91 13 0 42 70 43 15 47 14 96 72 41 91 11 72 7 92 12 16 51 13 86 40 50 43 55 26 7 1 70 18 71 99 49 55 94 78 40 59 20 96 34 6 28 85 42 70 62 63 32 34 97 80 49 47 50 73 85 63 20 29 0 19 91 84 58 55 33 4 68 55 12 38 49 9 13 99 4 35 26 5 42 29 98 20 95 77 36 63 41 42 45 81 40 53 60 5 55 9 13 34 6 52 28 35 33 29 21 67 57 61 21 41 95 54 50 19 81 75 67 73 77 47 40 83 16 28\n"
     ]
    }
   ],
   "source": [
    "n = int(input())\n",
    "case_number = int(input())\n",
    "\n",
    "def modefinder(numbers):\n",
    "    cnt = Counter(numbers)\n",
    "    order = cnt.most_common()\n",
    "    maximum = order[0][1]\n",
    "    \n",
    "    modes = []\n",
    "    for num in order:\n",
    "        if num[1] == maximum:\n",
    "            modes.append(num[0])\n",
    "    return modes\n",
    "\n",
    "for i in range(n):\n",
    "    case_number = int(input())\n",
    "    score_numbers = list(map(int, input().split()))    \n",
    "    result = max(modefinder(score_numbers))\n",
    "    print('#{} {}'.format(case_number, result))"
   ]
  },
  {
   "cell_type": "code",
   "execution_count": 92,
   "id": "ba38a4ed",
   "metadata": {},
   "outputs": [
    {
     "name": "stdout",
     "output_type": "stream",
     "text": [
      "1\n",
      "41 85 72 38 80 69 65 68 96 22 49 67 51 61 63 87 66 24 80 83 71 60 64 52 90 60 49 31 23 99 94 11 25 24 51 15 13 39 67 97 19 76 12 33 99 18 92 35 74 0 95 71 39 33 39 32 37 45 57 71 95 5 71 24 86 8 51 54 74 24 75 70 33 63 29 99 58 94 52 13 35 99 46 57 71 23 17 3 94 48 77 18 83 11 83 25 59 62 2 78 86 7 94 65 80 32 39 84 60 65 72 61 58 84 8 72 12 19 47 49 49 59 71 52 34 22 21 20 92 33 80 39 74 9 28 97 100 93 29 25 4 66 79 81 98 21 91 62 82 4 59 100 34 1 51 80 92 69 77 39 38 97 51 34 35 19 22 1 67 9 90 31 82 11 51 84 78 70 74 42 100 88 53 80 57 62 32 51 48 63 92 46 4 61 31 98 69 52 88 20 68 41 48 79 97 98 56 44 73 3 63 100 87 87 41 79 64 83 63 1 21 72 24 9 75 51 25 53 77 0 52 30 96 93 32 89 70 89 55 71 79 40 10 64 80 30 19 62 67 98 42 8 32 57 27 22 1 38 89 52 74 43 8 2 65 82 20 67 22 43 22 95 16 48 25 6 75 86 96 3 85 43 69 93 4 61 53 81 43 84 20 15 34 22 35 26 28 33 67 19 79 19 45 8 13 51 0 86 68 18 47 82 3 16 80 0 18 39 22 5 26 65 70 21 92 66 65 14 6 46 46 21 32 80 35 86 6 67 29 42 71 14 77 55 3 1 14 38 71 82 41 65 12 5 77 3 67 22 59 40 81 48 63 63 25 45 32 78 83 26 96 18 99 45 56 31 30 45 47 80 1 7 81 18 1 90 15 71 22 69 44 18 31 60 16 93 13 17 44 97 98 51 46 42 22 47 72 97 24 52 55 59 25 100 28 5 14 76 32 41 97 61 32 20 0 2 8 41 52 77 35 22 98 78 92 68 29 82 33 28 16 5 9 21 13 26 39 59 69 10 42 4 13 80 34 42 100 44 32 70 15 32 8 83 10 23 73 8 53 7 21 10 52 14 82 28 24 33 94 59 4 17 73 53 85 31 100 74 74 12 72 38 34 14 22 53 0 30 95 3 52 79 41 36 81 25 24 67 48 95 44 7 96 77 90 48 92 45 78 93 95 38 71 4 83 79 64 89 0 76 81 34 66 1 13 58 4 40 5 24 17 6 65 13 13 76 3 20 8 36 12 60 37 42 53 87 10 65 42 25 47 41 33 71 69 94 24 12 92 11 71 3 82 91 90 20 95 44 76 60 34 95 49 40 89 4 45 27 9 34 82 59 2 20 68 22 29 10 1 23 19 47 16 76 47 49 90 94 10 18 55 69 14 26 59 77 73 8 21 72 1 74 76 51 94 44 24 98 71 77 59 9 12 49 38 72 22 55 35 61 16 48 41 21 67 74 92 4 7 85 34 92 39 96 42 26 1 1 4 64 33 96 62 23 67 76 26 47 32 73 82 30 14 61 21 92 40 4 2 38 76 64 8 14 3 49 71 31 38 86 98 17 15 98 32 55 69 46 61 3 44 67 50 44 76 0 45 23 25 11 82 99 11 39 50 40 21 52 17 60 44 90 44 6 16 38 3 41 43 56 26 24 0 9 90 36 50 13 42 88 87 66 32 28 73 94 52 11 35 47 9 87 37 57 15 56 38 95 6 43 23 30 84 39 88 69 5 34 81 93 86 2 77 10 28 30 97 68 14 12 88 1 100 35 73 30 2 43 11 41 58 82 6 84 71 16 18 67 41 100 92 78 57 7 35 69 56 76 13 93 26 26 38 21 96 7 88 2 60 17 54 95 26 2 0 21 87 11 96 36 83 88 31 24 24 62 14 88 84 39 22 17 84 96 1 78 91 53 9 35 75 87 100 33 80 42 7 20 50 65 81 92 14 45 96 34 6 20 86 51 4 19 70 91 13 0 42 70 43 15 47 14 96 72 41 91 11 72 7 92 12 16 51 13 86 40 50 43 55 26 7 1 70 18 71 99 49 55 94 78 40 59 20 96 34 6 28 85 42 70 62 63 32 34 97 80 49 47 50 73 85 63 20 29 0 19 91 84 58 55 33 4 68 55 12 38 49 9 13 99 4 35 26 5 42 29 98 20 95 77 36 63 41 42 45 81 40 53 60 5 55 9 13 34 6 52 28 35 33 29 21 67 57 61 21 41 95 54 50 19 81 75 67 73 77 47 40 83 16 28\n",
      "#1 71\n"
     ]
    }
   ],
   "source": [
    "for i in range(n):\n",
    "    case_number = int(input())\n",
    "    score_numbers = list(map(int, input().split()))    \n",
    "    result = max(modefinder(score_numbers))\n",
    "    print('#{} {}'.format(case_number, result))\n",
    "    \n"
   ]
  },
  {
   "cell_type": "code",
   "execution_count": 120,
   "id": "cba35281",
   "metadata": {},
   "outputs": [
    {
     "name": "stdout",
     "output_type": "stream",
     "text": [
      "40\n"
     ]
    }
   ],
   "source": [
    "n = int(input())"
   ]
  },
  {
   "cell_type": "code",
   "execution_count": 124,
   "id": "155e7ac3",
   "metadata": {},
   "outputs": [
    {
     "name": "stdout",
     "output_type": "stream",
     "text": [
      "[1, 2, '-', 4, 5, '-', 7, 8, '-', 10, 11, 12, '-', 14, 15, '-', 17, 18, '-', 20, 21, 22, '-', 24, 25, '-', 27, 28, '-', '-', '-', '-', '-', '-', '-', '-', '-', '-', '-', 40]\n"
     ]
    }
   ],
   "source": [
    "num_list = []\n",
    "for num in range(1, n + 1):    \n",
    "    if num % 10 == 3 or num // 10 == 3:\n",
    "        num_list.append('-')\n",
    "        \n",
    "    elif num % 10 == 6 or num // 10 == 6:\n",
    "        num_list.append('-')\n",
    "        \n",
    "    elif num % 10 == 9 or num // 10 == 9:\n",
    "        num_list.append('-')\n",
    "     \n",
    "    else:\n",
    "        num_list.append(num)\n",
    "    \n",
    "print(num_list)"
   ]
  },
  {
   "cell_type": "code",
   "execution_count": 147,
   "id": "07025a3f",
   "metadata": {},
   "outputs": [
    {
     "name": "stdout",
     "output_type": "stream",
     "text": [
      "40\n",
      "['1', '2', '3', '4', '5', '6', '7', '8', '9', '10', '11', '12', '13', '14', '15', '16', '17', '18', '19', '20', '21', '22', '23', '24', '25', '26', '27', '28', '29', '30', '31', '32', '33', '34', '35', '36', '37', '38', '39', '40']\n"
     ]
    }
   ],
   "source": [
    "n = int(input())\n",
    "num_list = []\n",
    "for i in range(1, n + 1):\n",
    "    num_list.append(str(i))\n",
    "    \n",
    "print(num_list)\n",
    "\n",
    "def t_s_n(str_num):\n",
    "    if str_num == '3':\n",
    "        return '-'\n",
    "    elif str_num == '6':\n",
    "        return '-'\n",
    "    elif str_num == '9':\n",
    "        return '-'\n",
    "    else:\n",
    "        return str_num"
   ]
  },
  {
   "cell_type": "code",
   "execution_count": 150,
   "id": "bba1f9fb",
   "metadata": {},
   "outputs": [
    {
     "data": {
      "text/plain": [
       "'4'"
      ]
     },
     "execution_count": 150,
     "metadata": {},
     "output_type": "execute_result"
    }
   ],
   "source": [
    "t_s_n('4')"
   ]
  },
  {
   "cell_type": "code",
   "execution_count": 154,
   "id": "0497e40a",
   "metadata": {},
   "outputs": [
    {
     "name": "stdout",
     "output_type": "stream",
     "text": [
      "['1', '2', '-', '4', '5', '-', '7', '8', '-', '10', '11', '12', '13', '14', '15', '16', '17', '18', '19', '20', '21', '22', '23', '24', '25', '26', '27', '28', '29', '30', '31', '32', '33', '34', '35', '36', '37', '38', '39', '40']"
     ]
    }
   ],
   "source": [
    "cnt = 0\n",
    "result = []\n",
    "for i in range(len(num_list)):\n",
    "    num_cnt = len(num_list[i])\n",
    "    result.append(t_s_n(num_list[i]))\n",
    "    \n",
    "    if num_cnt == 2:\n",
    "        for j in range()\n",
    "    \n",
    "    \n",
    "print(result, end='')\n"
   ]
  },
  {
   "cell_type": "code",
   "execution_count": null,
   "id": "a6c00725",
   "metadata": {},
   "outputs": [],
   "source": []
  }
 ],
 "metadata": {
  "kernelspec": {
   "display_name": "Python 3 (ipykernel)",
   "language": "python",
   "name": "python3"
  },
  "language_info": {
   "codemirror_mode": {
    "name": "ipython",
    "version": 3
   },
   "file_extension": ".py",
   "mimetype": "text/x-python",
   "name": "python",
   "nbconvert_exporter": "python",
   "pygments_lexer": "ipython3",
   "version": "3.9.7"
  }
 },
 "nbformat": 4,
 "nbformat_minor": 5
}
