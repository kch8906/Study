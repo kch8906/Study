{
 "cells": [
  {
   "cell_type": "markdown",
   "id": "a74ff36e",
   "metadata": {},
   "source": [
    "### Anagram(아나그램 : 구글 인터뷰 문제)\n",
    "Anagram이란 두 문자열이 알파벳의 나열 순서를 다르지만 그 구성이 일치하면 두 단어는 아\n",
    "나그램이라고 합니다.<br>예를 들면 AbaAeCe 와 baeeACA 는 알파벳을 나열 순서는 다르지만 그 구성을 살펴보면 \n",
    "A(2), a(1), b(1), C(1), e(2)로 알파벳과 그 개수가 모두 일치합니다.\n",
    "즉 어느 한 단어를 재 배열하면 상대편 단어가 될 수 있는 것을 아나그램이라 합니다.\n",
    "<br>길이가 같은 두 개의 단어가 주어지면 두 단어가 아나그램인지 판별하는 프로그램을 작성하세\n",
    "요. 아나그램 판별시 대소문자가 구분됩니다.\n"
   ]
  },
  {
   "cell_type": "code",
   "execution_count": 78,
   "id": "ce918019",
   "metadata": {},
   "outputs": [
    {
     "name": "stdout",
     "output_type": "stream",
     "text": [
      "ABCDEGHKNOPQRUWXbcdfghikotuwxy\n",
      "XbCdfGhiNoPuwUyABcDEgHKkOtQRxW\n",
      "YES\n"
     ]
    }
   ],
   "source": [
    "# Anagram (딕셔너리 해쉬)\n",
    "\n",
    "x = []\n",
    "y = []\n",
    "\n",
    "for i in range(2):\n",
    "    p = dict()\n",
    "    word = input()\n",
    "    word = sorted(word)\n",
    "    word = sorted(word, key=str.lower)\n",
    "    for j in word:\n",
    "        if j in p:\n",
    "            p[j] += 1\n",
    "        else:\n",
    "            p[j] = 1\n",
    "            \n",
    "    if len(x) == 0:\n",
    "        x.append(p)\n",
    "    else:\n",
    "        y.append(p)\n",
    "        \n",
    "result = bool(x == y)\n",
    "if result == True:\n",
    "    print('YES')\n",
    "else:\n",
    "    print('NO')"
   ]
  },
  {
   "cell_type": "code",
   "execution_count": 81,
   "id": "a6d40be6",
   "metadata": {},
   "outputs": [
    {
     "name": "stdout",
     "output_type": "stream",
     "text": [
      "AbaAeCe\n",
      "baeeACA\n",
      "YES\n"
     ]
    }
   ],
   "source": [
    "# 답안\n",
    "\n",
    "a = input()\n",
    "b = input()\n",
    "sH = dict()\n",
    "\n",
    "for x in a:\n",
    "    sH[x] = sH.get(x, 0) + 1\n",
    "    \n",
    "for x in b:\n",
    "    sH[x] = sH.get(x, 0) - 1\n",
    "    \n",
    "for x in a:\n",
    "    if sH.get(x) > 0:\n",
    "        print('NO')\n",
    "        break\n",
    "else:\n",
    "    print('YES')"
   ]
  },
  {
   "cell_type": "code",
   "execution_count": 83,
   "id": "dfad12fb",
   "metadata": {},
   "outputs": [
    {
     "name": "stdout",
     "output_type": "stream",
     "text": [
      "AbaAeCe\n",
      "baeeACA\n",
      "[2, 0, 1, 0, 0, 0, 0, 0, 0, 0, 0, 0, 0, 0, 0, 0, 0, 0, 0, 0, 0, 0, 0, 0, 0, 0, 1, 1, 0, 0, 2, 0, 0, 0, 0, 0, 0, 0, 0, 0, 0, 0, 0, 0, 0, 0, 0, 0, 0, 0, 0, 0]\n",
      "[2, 0, 1, 0, 0, 0, 0, 0, 0, 0, 0, 0, 0, 0, 0, 0, 0, 0, 0, 0, 0, 0, 0, 0, 0, 0, 1, 1, 0, 0, 2, 0, 0, 0, 0, 0, 0, 0, 0, 0, 0, 0, 0, 0, 0, 0, 0, 0, 0, 0, 0, 0]\n",
      "YES\n"
     ]
    }
   ],
   "source": [
    "# 답안 (리스트 해쉬)\n",
    "\n",
    "a = input()\n",
    "b = input()\n",
    "str1 = [0] * 52\n",
    "str2 = [0] * 52\n",
    "\n",
    "for x in a:\n",
    "    if x.isupper():\n",
    "        str1[ord(x) - 65] += 1\n",
    "    else:\n",
    "        str1[ord(x) - 71] += 1\n",
    "        \n",
    "for x in b:\n",
    "    if x.isupper():\n",
    "        str2[ord(x) - 65] += 1\n",
    "    else:\n",
    "        str2[ord(x) - 71] += 1\n",
    "        \n",
    "print(str1)\n",
    "print(str2)\n",
    "\n",
    "for i in range(52):\n",
    "    if str1[i] != str2[i]:\n",
    "        print('NO')\n",
    "        break\n",
    "else:\n",
    "    print('YES')"
   ]
  }
 ],
 "metadata": {
  "kernelspec": {
   "display_name": "Python 3 (ipykernel)",
   "language": "python",
   "name": "python3"
  },
  "language_info": {
   "codemirror_mode": {
    "name": "ipython",
    "version": 3
   },
   "file_extension": ".py",
   "mimetype": "text/x-python",
   "name": "python",
   "nbconvert_exporter": "python",
   "pygments_lexer": "ipython3",
   "version": "3.9.7"
  }
 },
 "nbformat": 4,
 "nbformat_minor": 5
}
