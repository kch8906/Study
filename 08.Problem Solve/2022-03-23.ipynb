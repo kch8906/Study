{
 "cells": [
  {
   "cell_type": "markdown",
   "id": "86261a66",
   "metadata": {},
   "source": [
    "### 순열 구하기\n",
    "\n",
    "1부터 N까지 번호가 적힌 구슬이 있습니다. 이 중 M개를 뽑아 일렬로 나열하는 방법을 모두 출력합니다.\n",
    "\n",
    "- **출력설명**<br>\n",
    "첫 번째 줄에 결과를 출력합니다. 맨 마지막 총 경우의 수를 출력합니다.<br>\n",
    "출력순서는 사전순으로 오름차순으로 출력합니다.<br>\n",
    "<br>\n",
    "- **입력예제**<br>\n",
    "3 2<br>\n",
    "<br>\n",
    "- **출력예제**<br>\n",
    "1 2<br>\n",
    "1 3<br>\n",
    "2 1<br>\n",
    "2 3<br>\n",
    "3 1<br>\n",
    "3 2<br>\n",
    "6\n"
   ]
  },
  {
   "cell_type": "markdown",
   "id": "79047e4b",
   "metadata": {},
   "source": [
    "- 이전 중복순열 문제의 응용"
   ]
  },
  {
   "cell_type": "code",
   "execution_count": 24,
   "id": "ae6e0963",
   "metadata": {},
   "outputs": [
    {
     "name": "stdout",
     "output_type": "stream",
     "text": [
      "3 2\n",
      "1 2 \n",
      "1 3 \n",
      "2 1 \n",
      "2 3 \n",
      "3 1 \n",
      "3 2 \n",
      "6\n"
     ]
    }
   ],
   "source": [
    "def DFS(level):\n",
    "    global cnt   \n",
    "    if level == m:\n",
    "        if level >= 1:\n",
    "            if n_list[level - 1] == n_list[level - 2]:\n",
    "                pass\n",
    "            else:\n",
    "                for i in range(m):\n",
    "                    print(n_list[i], end=' ')\n",
    "                print()\n",
    "                cnt += 1\n",
    "    else:\n",
    "        for i in range(1, n + 1):\n",
    "            n_list[level] = i\n",
    "            DFS(level + 1)            \n",
    "                \n",
    "\n",
    "n, m = map(int, input().split())\n",
    "n_list = [0] * n\n",
    "cnt = 0\n",
    "\n",
    "DFS(0)\n",
    "print(cnt)"
   ]
  },
  {
   "cell_type": "code",
   "execution_count": 23,
   "id": "935a8419",
   "metadata": {},
   "outputs": [
    {
     "name": "stdout",
     "output_type": "stream",
     "text": [
      "3 2\n",
      "1 2 \n",
      "1 3 \n",
      "2 1 \n",
      "2 3 \n",
      "3 1 \n",
      "3 2 \n",
      "6\n"
     ]
    }
   ],
   "source": [
    "# 풀이\n",
    "\n",
    "def DFS(level):\n",
    "    global cnt   \n",
    "    if level == m:  \n",
    "        for i in range(m):\n",
    "            print(n_list[i], end=' ')\n",
    "        print()\n",
    "        cnt += 1\n",
    "    else:\n",
    "        for i in range(1, n + 1):\n",
    "            if check_list[i] == 0:\n",
    "                check_list[i] = 1\n",
    "                n_list[level] = i\n",
    "                DFS(level + 1)\n",
    "                check_list[i] = 0\n",
    "                \n",
    "\n",
    "n, m = map(int, input().split())\n",
    "n_list = [0] * m\n",
    "check_list = [0] * (n + 1)\n",
    "cnt = 0\n",
    "\n",
    "DFS(0)\n",
    "print(cnt)"
   ]
  }
 ],
 "metadata": {
  "kernelspec": {
   "display_name": "Python [conda env:machine] *",
   "language": "python",
   "name": "conda-env-machine-py"
  },
  "language_info": {
   "codemirror_mode": {
    "name": "ipython",
    "version": 3
   },
   "file_extension": ".py",
   "mimetype": "text/x-python",
   "name": "python",
   "nbconvert_exporter": "python",
   "pygments_lexer": "ipython3",
   "version": "3.8.12"
  }
 },
 "nbformat": 4,
 "nbformat_minor": 5
}
