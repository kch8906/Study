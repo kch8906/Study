{
 "cells": [
  {
   "cell_type": "code",
   "execution_count": 17,
   "id": "855fcd53",
   "metadata": {},
   "outputs": [
    {
     "name": "stdout",
     "output_type": "stream",
     "text": [
      "g0en2Ts8eSoft\n",
      "28\n",
      "6\n"
     ]
    }
   ],
   "source": [
    "word = input()\n",
    "a = word.isdecimal()\n",
    "words_list = []\n",
    "\n",
    "for i in word:\n",
    "    if i.isdecimal() == True:\n",
    "        words_list.append(i)\n",
    "    \n",
    "res = int(''.join(words_list))\n",
    "\n",
    "count = 0 \n",
    "for i in range(1, res + 1):\n",
    "    if res % i == 0:\n",
    "        count += 1\n",
    "        \n",
    "print(f'{res}\\n{count}')"
   ]
  },
  {
   "cell_type": "code",
   "execution_count": 130,
   "id": "b36f4a76",
   "metadata": {},
   "outputs": [
    {
     "name": "stdout",
     "output_type": "stream",
     "text": [
      "5 10\n",
      "9 13\n",
      "1 2\n",
      "3 4\n",
      "5 6\n",
      "1 2\n",
      "3 4\n",
      "5 6\n",
      "1 20\n",
      "1 20\n",
      "1 2 3 4 10 9 8 7 13 12 11 5 6 14 15 16 17 18 19 20 "
     ]
    }
   ],
   "source": [
    "num_list = list(range(1, 21))\n",
    "\n",
    "for _ in range(10):\n",
    "    a, b = map(int, input().split())\n",
    "    extract_list = list(reversed(num_list[a - 1 : b]))\n",
    "    del num_list[a - 1 : b]\n",
    "    for i in range(b - a + 1):\n",
    "        num_list.insert(a - 1 + i , extract_list[i])\n",
    "        \n",
    "else:\n",
    "    for i in range(len(num_list)):\n",
    "        print(num_list[i], end=' ')"
   ]
  },
  {
   "cell_type": "code",
   "execution_count": null,
   "id": "c5bf5ef2",
   "metadata": {},
   "outputs": [],
   "source": []
  }
 ],
 "metadata": {
  "kernelspec": {
   "display_name": "Python 3 (ipykernel)",
   "language": "python",
   "name": "python3"
  },
  "language_info": {
   "codemirror_mode": {
    "name": "ipython",
    "version": 3
   },
   "file_extension": ".py",
   "mimetype": "text/x-python",
   "name": "python",
   "nbconvert_exporter": "python",
   "pygments_lexer": "ipython3",
   "version": "3.9.7"
  }
 },
 "nbformat": 4,
 "nbformat_minor": 5
}
