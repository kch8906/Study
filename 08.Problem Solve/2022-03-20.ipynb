{
 "cells": [
  {
   "cell_type": "markdown",
   "id": "86861be3",
   "metadata": {},
   "source": [
    "### 바둑이 승차(DFS)\n",
    "\n",
    "철수는 그의 바둑이들을 데리고 시장에 가려고 한다. 그런데 그의 트럭은 C킬로그램 넘게 태울수가 없다. 철수는 C를 넘지 않으면서 그의 바둑이들을 가장 무겁게 태우고 싶다.<br>N마리의 바둑이와 각 바둑이의 무게 W가 주어지면, 철수가 트럭에 태울 수 있는 가장 무거운 무게를 구하는 프로그램을 작성하세요.\n",
    "\n",
    "- **입력설명**<br>\n",
    "첫 번째 줄에 자연수 C(1<=C<=100,000,000)와 N(1<=N<=30)이 주어집니다.<br>\n",
    "둘째 줄부터 N마리 바둑이의 무게가 주어진다.<br>\n",
    "<br>\n",
    "- **출력설명**<br>\n",
    "첫 번째 줄에 가장 무거운 무게를 출력한다.<br>\n",
    "<br>\n",
    "- **입력예제**<br>\n",
    "259 5<br>\n",
    "81<br>\n",
    "58<br>\n",
    "42<br>\n",
    "33<br>\n",
    "61<br>\n",
    "<br>\n",
    "- **출력예제**<br>\n",
    "242\n"
   ]
  },
  {
   "cell_type": "code",
   "execution_count": 162,
   "id": "916ed76f",
   "metadata": {},
   "outputs": [],
   "source": [
    "import time\n",
    "\n",
    "n = 1000000\n",
    "test = range(1000000)"
   ]
  },
  {
   "cell_type": "code",
   "execution_count": 163,
   "id": "62b7e3d1",
   "metadata": {},
   "outputs": [
    {
     "name": "stdout",
     "output_type": "stream",
     "text": [
      "time : 0.24503207206726074\n"
     ]
    }
   ],
   "source": [
    "start = time.time() \n",
    "n_list = [0] * n\n",
    "[n_list[i] + test[i] for i in range(n)] \n",
    "\n",
    "print(\"time : {}\".format(time.time() - start))"
   ]
  },
  {
   "cell_type": "code",
   "execution_count": 164,
   "id": "34a57bf8",
   "metadata": {},
   "outputs": [
    {
     "name": "stdout",
     "output_type": "stream",
     "text": [
      "time : 0.22941088676452637\n"
     ]
    }
   ],
   "source": [
    "start = time.time()  \n",
    "n_list = []\n",
    "[n_list.append(test[i]) for i in range(n)]\n",
    "\n",
    "print(\"time : {}\".format(time.time() - start))"
   ]
  },
  {
   "cell_type": "markdown",
   "id": "109bf575",
   "metadata": {},
   "source": [
    "- 리스트에 할당되는 크기를 픽스해서 메모리 사용을 줄이고 각 원소에 + 연산을 해주는 것이 append보다 더 빠를줄 알았는데 아니었다."
   ]
  },
  {
   "cell_type": "code",
   "execution_count": 258,
   "id": "19d04bf2",
   "metadata": {},
   "outputs": [
    {
     "name": "stdout",
     "output_type": "stream",
     "text": [
      "259 5\n",
      "81\n",
      "58\n",
      "42\n",
      "33\n",
      "61\n",
      "242\n"
     ]
    }
   ],
   "source": [
    "# testcase 2개 실패(시간초과) \n",
    "# 계산량이 너무 많음\n",
    "# 연산량 = 2 ** n\n",
    "def DFS(idx, val):\n",
    "    if idx > n:\n",
    "        return\n",
    "    if idx == n:\n",
    "        if val < c:            \n",
    "            result.append(val)\n",
    "    else:\n",
    "        DFS(idx + 1, val + n_list[idx])\n",
    "        DFS(idx + 1, val)\n",
    "\n",
    "c, n = list(map(int, input().split()))\n",
    "n_list = []\n",
    "result = []\n",
    "for i in range(n):\n",
    "    n_list.append(int(input()))\n",
    "\n",
    "DFS(0, 0)\n",
    "print(max(result))"
   ]
  },
  {
   "cell_type": "code",
   "execution_count": 259,
   "id": "e068111b",
   "metadata": {},
   "outputs": [
    {
     "name": "stdout",
     "output_type": "stream",
     "text": [
      "259 5\n",
      "81\n",
      "58\n",
      "42\n",
      "33\n",
      "61\n",
      "242\n"
     ]
    },
    {
     "ename": "SystemExit",
     "evalue": "0",
     "output_type": "error",
     "traceback": [
      "An exception has occurred, use %tb to see the full traceback.\n",
      "\u001b[1;31mSystemExit\u001b[0m\u001b[1;31m:\u001b[0m 0\n"
     ]
    }
   ],
   "source": [
    "# 다시 시도\n",
    "# 연산량 = math.sqrt(2 ** n) // n + @\n",
    "import sys\n",
    "import math\n",
    "\n",
    "def DFS(idx, val):\n",
    "    global max_val\n",
    "    global cnt\n",
    "    if idx > n:\n",
    "        return\n",
    "    if idx == n:\n",
    "        if val < c:           \n",
    "            if max_val > val:                     # max_val이 클 때 카운트를 증가시켜 max_val가 지속된다면 프로그램 종료\n",
    "                cnt += 1               \n",
    "                if cnt > math.sqrt(2 ** n) // n: # 계산량 줄이기\n",
    "                        print(max_val)\n",
    "                        sys.exit(0) \n",
    "            else:\n",
    "                max_val = val\n",
    "                cnt = 0\n",
    "    else:  \n",
    "        DFS(idx + 1, val + n_list[idx - 1]) \n",
    "        DFS(idx + 1, val)\n",
    "        \n",
    "c, n = list(map(int, input().split()))\n",
    "n_list = []\n",
    "max_val = 0\n",
    "cnt = 0\n",
    "for i in range(n):\n",
    "    n_list.append(int(input()))\n",
    "    \n",
    "\n",
    "DFS(0, 0)"
   ]
  },
  {
   "cell_type": "code",
   "execution_count": 265,
   "id": "f4d308f6",
   "metadata": {},
   "outputs": [
    {
     "name": "stdout",
     "output_type": "stream",
     "text": [
      "259 5\n",
      "81\n",
      "58\n",
      "42\n",
      "33\n",
      "61\n",
      "242\n"
     ]
    }
   ],
   "source": [
    "# 풀이\n",
    "# 연산량 96\n",
    "def DFS(L, sum_a, tsum):\n",
    "    global result\n",
    "    if sum_a + (total - tsum) < result:\n",
    "        return\n",
    "    if sum_a > c:\n",
    "        return\n",
    "    if L == n:\n",
    "        if sum_a > result:\n",
    "            result = sum_a\n",
    "    else:\n",
    "        DFS(L + 1, sum_a + a[L], tsum+a[L])\n",
    "        DFS(L + 1, sum_a, tsum + a[L])\n",
    "\n",
    "if __name__ == \"__main__\":\n",
    "    c, n = map(int, input().split())\n",
    "    a = [0] * n\n",
    "    result = -2147000000\n",
    "    for i in range(n):\n",
    "        a[i] = int(input())\n",
    "    total = sum(a)\n",
    "    DFS(0, 0, 0)\n",
    "    print(result)"
   ]
  }
 ],
 "metadata": {
  "kernelspec": {
   "display_name": "Python [conda env:machine] *",
   "language": "python",
   "name": "conda-env-machine-py"
  },
  "language_info": {
   "codemirror_mode": {
    "name": "ipython",
    "version": 3
   },
   "file_extension": ".py",
   "mimetype": "text/x-python",
   "name": "python",
   "nbconvert_exporter": "python",
   "pygments_lexer": "ipython3",
   "version": "3.8.12"
  }
 },
 "nbformat": 4,
 "nbformat_minor": 5
}
