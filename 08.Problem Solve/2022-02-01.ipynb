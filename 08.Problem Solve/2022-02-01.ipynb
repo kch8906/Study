{
 "cells": [
  {
   "cell_type": "code",
   "execution_count": 17,
   "id": "83795eca",
   "metadata": {},
   "outputs": [
    {
     "name": "stdout",
     "output_type": "stream",
     "text": [
      "5\n",
      "10 13 10 12 15\n",
      "12 39 30 23 11\n",
      "11 25 50 53 15\n",
      "19 27 29 37 27\n",
      "19 13 30 13 19\n"
     ]
    }
   ],
   "source": [
    "# 사과 나무\n",
    "\n",
    "n = int(input())\n",
    "apple_tree = [list(map(int, input().split())) for i in range(n)]\n",
    "\n",
    "result = 0\n",
    "pi_a = pi_b = n // 2\n",
    "\n",
    "for i in range(n):\n",
    "    if i <= n // 2 :\n",
    "        for j in range(pi_a, pi_b + 1):\n",
    "            result += apple_tree[i][j]           \n",
    "            \n",
    "        if pi_a == 0:\n",
    "            continue\n",
    "            \n",
    "        pi_a -= 1\n",
    "        pi_b += 1\n",
    "    \n",
    "    else:\n",
    "        pi_a += 1\n",
    "        pi_b -= 1\n",
    "        for j in range(pi_a, pi_b + 1):\n",
    "            result += apple_tree[i][j]            \n",
    "    \n",
    "print(result)"
   ]
  },
  {
   "cell_type": "code",
   "execution_count": 114,
   "id": "0ae4f6c1",
   "metadata": {},
   "outputs": [
    {
     "name": "stdout",
     "output_type": "stream",
     "text": [
      "5\n",
      "10 13 10 12 15\n",
      "12 39 30 23 11\n",
      "11 25 50 53 15\n",
      "19 27 29 37 27\n",
      "19 13 30 13 19\n"
     ]
    }
   ],
   "source": [
    "# 곳감(모래시계)\n",
    "n = int(input())\n",
    "persimmon = [list(map(int, input().split())) for _ in range(n)]"
   ]
  },
  {
   "cell_type": "code",
   "execution_count": 117,
   "id": "ed6197d1",
   "metadata": {},
   "outputs": [
    {
     "ename": "KeyboardInterrupt",
     "evalue": "Interrupted by user",
     "output_type": "error",
     "traceback": [
      "\u001b[1;31m---------------------------------------------------------------------------\u001b[0m",
      "\u001b[1;31mKeyboardInterrupt\u001b[0m                         Traceback (most recent call last)",
      "\u001b[1;32mC:\\Users\\CHANGH~1\\AppData\\Local\\Temp/ipykernel_55780/2593527571.py\u001b[0m in \u001b[0;36m<module>\u001b[1;34m\u001b[0m\n\u001b[1;32m----> 1\u001b[1;33m \u001b[1;32mfor\u001b[0m \u001b[0m_\u001b[0m \u001b[1;32min\u001b[0m \u001b[0mrange\u001b[0m\u001b[1;33m(\u001b[0m\u001b[0mint\u001b[0m\u001b[1;33m(\u001b[0m\u001b[0minput\u001b[0m\u001b[1;33m(\u001b[0m\u001b[1;33m)\u001b[0m\u001b[1;33m)\u001b[0m\u001b[1;33m)\u001b[0m\u001b[1;33m:\u001b[0m\u001b[1;33m\u001b[0m\u001b[1;33m\u001b[0m\u001b[0m\n\u001b[0m\u001b[0;32m      2\u001b[0m     \u001b[0mrow\u001b[0m\u001b[1;33m,\u001b[0m \u001b[0mlocation\u001b[0m\u001b[1;33m,\u001b[0m \u001b[0mmove\u001b[0m \u001b[1;33m=\u001b[0m \u001b[0mmap\u001b[0m\u001b[1;33m(\u001b[0m\u001b[0mint\u001b[0m\u001b[1;33m,\u001b[0m \u001b[0minput\u001b[0m\u001b[1;33m(\u001b[0m\u001b[1;33m)\u001b[0m\u001b[1;33m.\u001b[0m\u001b[0msplit\u001b[0m\u001b[1;33m(\u001b[0m\u001b[1;33m)\u001b[0m\u001b[1;33m)\u001b[0m\u001b[1;33m\u001b[0m\u001b[1;33m\u001b[0m\u001b[0m\n\u001b[0;32m      3\u001b[0m     \u001b[1;32mif\u001b[0m \u001b[0mlocation\u001b[0m \u001b[1;33m==\u001b[0m \u001b[1;36m0\u001b[0m\u001b[1;33m:\u001b[0m\u001b[1;33m\u001b[0m\u001b[1;33m\u001b[0m\u001b[0m\n\u001b[0;32m      4\u001b[0m         \u001b[1;32mfor\u001b[0m \u001b[0m_\u001b[0m \u001b[1;32min\u001b[0m \u001b[0mrange\u001b[0m\u001b[1;33m(\u001b[0m\u001b[0mmove\u001b[0m\u001b[1;33m)\u001b[0m\u001b[1;33m:\u001b[0m\u001b[1;33m\u001b[0m\u001b[1;33m\u001b[0m\u001b[0m\n\u001b[0;32m      5\u001b[0m             \u001b[0mpersimmon\u001b[0m\u001b[1;33m[\u001b[0m\u001b[0mrow\u001b[0m \u001b[1;33m-\u001b[0m \u001b[1;36m1\u001b[0m\u001b[1;33m]\u001b[0m\u001b[1;33m.\u001b[0m\u001b[0mappend\u001b[0m\u001b[1;33m(\u001b[0m\u001b[0mpersimmon\u001b[0m\u001b[1;33m[\u001b[0m\u001b[0mrow\u001b[0m \u001b[1;33m-\u001b[0m \u001b[1;36m1\u001b[0m\u001b[1;33m]\u001b[0m\u001b[1;33m.\u001b[0m\u001b[0mpop\u001b[0m\u001b[1;33m(\u001b[0m\u001b[1;36m0\u001b[0m\u001b[1;33m)\u001b[0m\u001b[1;33m)\u001b[0m\u001b[1;33m\u001b[0m\u001b[1;33m\u001b[0m\u001b[0m\n",
      "\u001b[1;32m~\\anaconda3\\lib\\site-packages\\ipykernel\\kernelbase.py\u001b[0m in \u001b[0;36mraw_input\u001b[1;34m(self, prompt)\u001b[0m\n\u001b[0;32m   1004\u001b[0m                 \u001b[1;34m\"raw_input was called, but this frontend does not support input requests.\"\u001b[0m\u001b[1;33m\u001b[0m\u001b[1;33m\u001b[0m\u001b[0m\n\u001b[0;32m   1005\u001b[0m             )\n\u001b[1;32m-> 1006\u001b[1;33m         return self._input_request(\n\u001b[0m\u001b[0;32m   1007\u001b[0m             \u001b[0mstr\u001b[0m\u001b[1;33m(\u001b[0m\u001b[0mprompt\u001b[0m\u001b[1;33m)\u001b[0m\u001b[1;33m,\u001b[0m\u001b[1;33m\u001b[0m\u001b[1;33m\u001b[0m\u001b[0m\n\u001b[0;32m   1008\u001b[0m             \u001b[0mself\u001b[0m\u001b[1;33m.\u001b[0m\u001b[0m_parent_ident\u001b[0m\u001b[1;33m[\u001b[0m\u001b[1;34m\"shell\"\u001b[0m\u001b[1;33m]\u001b[0m\u001b[1;33m,\u001b[0m\u001b[1;33m\u001b[0m\u001b[1;33m\u001b[0m\u001b[0m\n",
      "\u001b[1;32m~\\anaconda3\\lib\\site-packages\\ipykernel\\kernelbase.py\u001b[0m in \u001b[0;36m_input_request\u001b[1;34m(self, prompt, ident, parent, password)\u001b[0m\n\u001b[0;32m   1049\u001b[0m             \u001b[1;32mexcept\u001b[0m \u001b[0mKeyboardInterrupt\u001b[0m\u001b[1;33m:\u001b[0m\u001b[1;33m\u001b[0m\u001b[1;33m\u001b[0m\u001b[0m\n\u001b[0;32m   1050\u001b[0m                 \u001b[1;31m# re-raise KeyboardInterrupt, to truncate traceback\u001b[0m\u001b[1;33m\u001b[0m\u001b[1;33m\u001b[0m\u001b[0m\n\u001b[1;32m-> 1051\u001b[1;33m                 \u001b[1;32mraise\u001b[0m \u001b[0mKeyboardInterrupt\u001b[0m\u001b[1;33m(\u001b[0m\u001b[1;34m\"Interrupted by user\"\u001b[0m\u001b[1;33m)\u001b[0m \u001b[1;32mfrom\u001b[0m \u001b[1;32mNone\u001b[0m\u001b[1;33m\u001b[0m\u001b[1;33m\u001b[0m\u001b[0m\n\u001b[0m\u001b[0;32m   1052\u001b[0m             \u001b[1;32mexcept\u001b[0m \u001b[0mException\u001b[0m\u001b[1;33m:\u001b[0m\u001b[1;33m\u001b[0m\u001b[1;33m\u001b[0m\u001b[0m\n\u001b[0;32m   1053\u001b[0m                 \u001b[0mself\u001b[0m\u001b[1;33m.\u001b[0m\u001b[0mlog\u001b[0m\u001b[1;33m.\u001b[0m\u001b[0mwarning\u001b[0m\u001b[1;33m(\u001b[0m\u001b[1;34m\"Invalid Message:\"\u001b[0m\u001b[1;33m,\u001b[0m \u001b[0mexc_info\u001b[0m\u001b[1;33m=\u001b[0m\u001b[1;32mTrue\u001b[0m\u001b[1;33m)\u001b[0m\u001b[1;33m\u001b[0m\u001b[1;33m\u001b[0m\u001b[0m\n",
      "\u001b[1;31mKeyboardInterrupt\u001b[0m: Interrupted by user"
     ]
    }
   ],
   "source": [
    "for _ in range(int(input())):\n",
    "    row, location, move = map(int, input().split())\n",
    "    if location == 0:\n",
    "        for _ in range(move):\n",
    "            persimmon[row - 1].append(persimmon[row - 1].pop(0))\n",
    "            \n",
    "    else:\n",
    "        for _ in range(move):\n",
    "            persimmon[row - 1].insert(0, persimmon[row - 1].pop())\n",
    "            \n",
    "            \n",
    "pi_l = 0\n",
    "pi_r = n\n",
    "pivot = n // 2\n",
    "result = 0\n",
    "for i in range(n):\n",
    "    if i <= pivot:\n",
    "        for j in range(pi_l, pi_r):\n",
    "            result += persimmon[i][j]\n",
    "           \n",
    "            \n",
    "        pi_l += 1\n",
    "        pi_r -= 1\n",
    "        \n",
    "    else:\n",
    "        pi_l -= 1\n",
    "        pi_r += 1\n",
    "        for j in range(pi_l, pi_r):\n",
    "            result += persimmon[i][j]\n",
    "            \n",
    "print(result)\n",
    "         \n",
    "                "
   ]
  },
  {
   "cell_type": "code",
   "execution_count": 119,
   "id": "acbc3eb5",
   "metadata": {},
   "outputs": [
    {
     "name": "stdout",
     "output_type": "stream",
     "text": [
      "5\n",
      "10 13 10 12 15\n",
      "12 39 30 23 11\n",
      "11 25 50 53 15\n",
      "19 27 29 37 27\n",
      "19 13 30 13 19\n",
      "3\n",
      "2 0 3\n",
      "5 1 2\n",
      "3 1 4\n",
      "60\n"
     ]
    }
   ],
   "source": [
    "n=int(input())\n",
    "a=[list(map(int, input().split())) for _ in range(n)]\n",
    "m=int(input())\n",
    "for i in range(m):\n",
    "    h, t, k=map(int, input().split())\n",
    "    if(t==0):\n",
    "        for _ in range(k):\n",
    "            a[h-1].append(a[h-1].pop(0))\n",
    "    else:\n",
    "        for _ in range(k):\n",
    "            a[h-1].insert(0, a[h-1].pop())\n",
    "\n",
    "res=0\n",
    "s=0\n",
    "e=n-1\n",
    "for i in range(n):\n",
    "    for j in range(s, e+1):\n",
    "        res+=a[i][j]\n",
    "    if i<n//2:\n",
    "        s+=1\n",
    "        e-=1\n",
    "    else:\n",
    "        s-=1\n",
    "        e+=1\n",
    "print(res)"
   ]
  },
  {
   "cell_type": "code",
   "execution_count": 120,
   "id": "fe62ed84",
   "metadata": {},
   "outputs": [
    {
     "name": "stdout",
     "output_type": "stream",
     "text": [
      "5\n",
      "10 13 10 12 15\n",
      "12 39 30 23 11\n",
      "11 25 50 53 15\n",
      "19 27 29 37 27\n",
      "19 13 30 13 19\n",
      "3\n",
      "2 0 3\n",
      "5 1 2\n",
      "3 1 4\n",
      "362\n"
     ]
    }
   ],
   "source": [
    "n=int(input())\n",
    "a=[list(map(int, input().split())) for _ in range(n)]\n",
    "m=int(input())\n",
    "for i in range(m):\n",
    "    h, t, k=map(int, input().split())\n",
    "    if(t==0):\n",
    "        for _ in range(k):\n",
    "            a[h-1].append(a[h-1].pop(0))\n",
    "    else:\n",
    "        for _ in range(k):\n",
    "            a[h-1].insert(0, a[h-1].pop())\n",
    "\n",
    "res=0\n",
    "s=0\n",
    "e=n-1\n",
    "for i in range(n):\n",
    "    for j in range(s, e+1):\n",
    "        res+=a[i][j]\n",
    "    if i<n//2:\n",
    "        s+=1\n",
    "        e-=1\n",
    "    else:\n",
    "        s-=1\n",
    "        e+=1\n",
    "print(res)"
   ]
  },
  {
   "cell_type": "code",
   "execution_count": 135,
   "id": "56ddc91c",
   "metadata": {},
   "outputs": [
    {
     "name": "stdout",
     "output_type": "stream",
     "text": [
      "5\n"
     ]
    }
   ],
   "source": [
    "# 봉우리\n",
    "\n",
    "def compare(x, y):    \n",
    "    \n",
    "    location = [mount[x - 1][y], mount[x + 1][y], mount[x][y - 1], mount[x][y + 1]]\n",
    "    cnt = 0\n",
    "    for i in location:\n",
    "        if mount[x][y] > i:\n",
    "            cnt += 1\n",
    "            \n",
    "    if cnt == 4:\n",
    "        result = 1\n",
    "        return result\n",
    "\n",
    "\n",
    "n = int(input())\n",
    "mount = [list(map(int, input().split())) for _ in range(n)] \n",
    "\n",
    "for i in range(n):    \n",
    "    mount[i].append(0)\n",
    "    mount[i].insert(0, 0)\n",
    "    \n",
    "arr = [0] * (n + 2)\n",
    "mount.insert(0, arr)\n",
    "mount.append(arr)\n",
    "\n",
    "cnt = 0\n",
    "for i in range(1, n + 1):\n",
    "    for j in range(1, n + 1):\n",
    "        if compare(i, j) == 1:\n",
    "            cnt += 1\n",
    "print(cnt)          "
   ]
  },
  {
   "cell_type": "code",
   "execution_count": null,
   "id": "da251dca",
   "metadata": {},
   "outputs": [],
   "source": [
    "# 모범답안\n",
    "n = int(input())\n",
    "a = [list(map(int, input().split())) for _ in range(n)]\n",
    "a.insert(0, [0] * n)\n",
    "a.append([0] * n)\n",
    "for x in a:\n",
    "    x.insert(0, 0)\n",
    "    x.append(0)\n",
    "\n",
    "dx = [-1, 0, 1, 0]\n",
    "dy = [0, 1, 0, -1]\n",
    "cnt = 0\n",
    "for i in range(1, n + 1):\n",
    "    for j in range(1, n + 1):\n",
    "        if all(a[i][j] > a[i + dx[k]][j+dy[k]] for k in range(4)):  # *****\n",
    "            cnt += 1\n",
    "            \n",
    "print(cnt)\n",
    "        "
   ]
  },
  {
   "cell_type": "code",
   "execution_count": 160,
   "id": "23d00b31",
   "metadata": {},
   "outputs": [
    {
     "name": "stdout",
     "output_type": "stream",
     "text": [
      "1 4 3 6 2 8 5 7 9\n",
      "5 7 2 1 3 9 4 6 8\n",
      "9 8 6 7 5 4 2 3 1 \n",
      "3 9 1 5 4 2 7 8 6 \n",
      "4 6 8 9 1 7 3 5 2 \n",
      "7 2 5 8 6 3 9 1 4 \n",
      "2 3 7 4 8 1 6 9 5 \n",
      "6 1 9 2 7 5 8 4 3 \n",
      "8 5 4 3 9 6 1 2 7\n"
     ]
    }
   ],
   "source": [
    "# 스도쿠 검사\n",
    "\n",
    "sudoku = [list(map(int, input().split())) for _ in range(9)]"
   ]
  },
  {
   "cell_type": "code",
   "execution_count": 180,
   "id": "604a0f9e",
   "metadata": {},
   "outputs": [],
   "source": [
    "# 스도쿠 검사\n",
    "\n",
    "def check(arr):\n",
    "    \n",
    "    for i in range(9):\n",
    "        ch1 = [0] * 10\n",
    "        ch2 = [0] * 10\n",
    "        for j in range(9):\n",
    "            ch1[arr[i][j]] = 1\n",
    "            ch2[arr[j][i]] = 1\n",
    "            \n",
    "        if sum(ch1) != 9 or sum(ch2) != 9:\n",
    "            return False\n",
    "        \n",
    "        \n",
    "    for i in range(3):\n",
    "        for j in range(3):\n",
    "            ch3 = [0] * 10\n",
    "            for k in range(3):\n",
    "                for s in range(3):\n",
    "                    ch3[arr[i * 3 + k][j * 3 + s]] = 1\n",
    "                    \n",
    "            if sum(ch3) != 9:\n",
    "                return False\n",
    "            \n",
    "    return True     \n",
    "\n",
    "sudoku = [list(map(int, input().split())) for _ in range(9)]\n",
    "            \n",
    "if check(sudoku):\n",
    "    print('YES')\n",
    "    \n",
    "else:\n",
    "    print('NO')"
   ]
  },
  {
   "cell_type": "code",
   "execution_count": 182,
   "id": "e28571bb",
   "metadata": {},
   "outputs": [
    {
     "name": "stdout",
     "output_type": "stream",
     "text": [
      "2 4 1 5 3 2 6 \n",
      "3 5 1 8 7 1 7 \n",
      "8 3 2 7 1 3 8 \n",
      "6 1 2 3 2 1 1 \n",
      "1 3 1 3 5 3 2 \n",
      "1 1 2 5 6 5 2 \n",
      "1 2 2 2 2 1 5\n"
     ]
    }
   ],
   "source": [
    "# 격자판 회문수\n",
    "arr = [list(map(int, input().split())) for _ in range(7)]"
   ]
  },
  {
   "cell_type": "code",
   "execution_count": 218,
   "id": "c8646c68",
   "metadata": {},
   "outputs": [
    {
     "name": "stdout",
     "output_type": "stream",
     "text": [
      "3\n"
     ]
    }
   ],
   "source": [
    "# 격자판 회문수\n",
    "arr = [list(map(int, input().split())) for _ in range(7)]\n",
    "\n",
    "def check_w(arr):\n",
    "    cnt = 0\n",
    "    for i in range(len(arr)//2):\n",
    "        if arr[i] == arr[-i - 1]:\n",
    "            cnt += 1\n",
    "            \n",
    "    if cnt == 2:\n",
    "        return True\n",
    "    \n",
    "    else:\n",
    "        return False\n",
    "\n",
    "arr = [list(map(int, input().split())) for _ in range(7)]    \n",
    "\n",
    "cnt = 0 \n",
    "for i in range(7):\n",
    "    for j in range(3):\n",
    "        ch1 = []\n",
    "        ch2 = []\n",
    "        for k in range(j, j + 5):\n",
    "            ch1.append(arr[i][k])\n",
    "            ch2.append(arr[k][i])\n",
    "        \n",
    "        if check_w(ch1):\n",
    "            cnt += 1\n",
    "            \n",
    "        if check_w(ch2):\n",
    "            cnt += 1\n",
    "\n",
    "            \n",
    "print(cnt)        "
   ]
  },
  {
   "cell_type": "code",
   "execution_count": null,
   "id": "caa2d03b",
   "metadata": {},
   "outputs": [],
   "source": [
    "# 모범답안\n",
    "board = [list(map(int, input().split())) for _ in range(7)]\n",
    "cnt = 0\n",
    "\n",
    "for i in range(3):\n",
    "    for j in range(7):\n",
    "        tmp=board[j][i : i + 5]\n",
    "        if tmp == tmp[::-1]:\n",
    "            cnt += 1\n",
    "            \n",
    "        for k in range(2):\n",
    "            if board[i + k][j] != board[i + 5 - k - 1][j]:\n",
    "                break\n",
    "            \n",
    "            else:\n",
    "                cnt += 1\n"
   ]
  }
 ],
 "metadata": {
  "kernelspec": {
   "display_name": "Python 3 (ipykernel)",
   "language": "python",
   "name": "python3"
  },
  "language_info": {
   "codemirror_mode": {
    "name": "ipython",
    "version": 3
   },
   "file_extension": ".py",
   "mimetype": "text/x-python",
   "name": "python",
   "nbconvert_exporter": "python",
   "pygments_lexer": "ipython3",
   "version": "3.9.7"
  }
 },
 "nbformat": 4,
 "nbformat_minor": 5
}
