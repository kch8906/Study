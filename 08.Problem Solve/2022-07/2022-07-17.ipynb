{
 "cells": [
  {
   "cell_type": "markdown",
   "metadata": {},
   "source": [
    "### 정다면체"
   ]
  },
  {
   "cell_type": "code",
   "execution_count": 37,
   "metadata": {},
   "outputs": [
    {
     "name": "stdout",
     "output_type": "stream",
     "text": [
      "5 6 7 "
     ]
    }
   ],
   "source": [
    "n, m = map(int, input().split())\n",
    "\n",
    "res = [0] * (n + m)\n",
    "for i in range(1, n + 1):\n",
    "    for j in range(1, m + 1):\n",
    "       res[i + j - 1] += 1\n",
    "\n",
    "for idx, val in enumerate(res):\n",
    "    if val == max(res):\n",
    "        print(idx + 1, end=' ')"
   ]
  },
  {
   "cell_type": "markdown",
   "metadata": {},
   "source": [
    "#### 답안"
   ]
  },
  {
   "cell_type": "code",
   "execution_count": 38,
   "metadata": {},
   "outputs": [
    {
     "name": "stdout",
     "output_type": "stream",
     "text": [
      "5 6 7 "
     ]
    }
   ],
   "source": [
    "n, m = map(int, input().split())\n",
    "cnt=[0] * (n+m+3)\n",
    "max = 0\n",
    "for i in range(1, n + 1):\n",
    "    for j in range(1, m + 1):\n",
    "        cnt[i + j]=cnt[i + j] + 1\n",
    "\n",
    "for i in range(n + m + 1):\n",
    "    if cnt[i] > max:\n",
    "        max = cnt[i]\n",
    "    \n",
    "for i in range(n + m + 1):\n",
    "    if cnt[i] == max:\n",
    "        print(i, end=' ')"
   ]
  },
  {
   "cell_type": "markdown",
   "metadata": {},
   "source": [
    "### 자릿수의 합\n"
   ]
  },
  {
   "cell_type": "code",
   "execution_count": 12,
   "metadata": {},
   "outputs": [
    {
     "name": "stdout",
     "output_type": "stream",
     "text": [
      "97\n"
     ]
    }
   ],
   "source": [
    "def digit_sum(x : list):\n",
    "    global res\n",
    "    for i in range(len(num)):\n",
    "        for j in str(num[i]):\n",
    "            res_list[i] += int(j)\n",
    "\n",
    "    tmp = max(res_list)\n",
    "    index = res_list.index(tmp)\n",
    "\n",
    "    return num[index]\n",
    "\n",
    "if __name__==\"__main__\":\n",
    "    n = int(input())\n",
    "    num = list(map(int, input().split()))\n",
    "    res_list = [0] * len(num)\n",
    "    print(digit_sum(num))"
   ]
  },
  {
   "cell_type": "markdown",
   "metadata": {},
   "source": [
    "### 답안"
   ]
  },
  {
   "cell_type": "code",
   "execution_count": 13,
   "metadata": {},
   "outputs": [
    {
     "name": "stdout",
     "output_type": "stream",
     "text": [
      "97\n"
     ]
    }
   ],
   "source": [
    "def digit_sum(x):\n",
    "    sum = 0\n",
    "    while x > 0:\n",
    "        sum += x % 10\n",
    "        x = x // 10\n",
    "    return sum\n",
    "\n",
    "n = int(input())\n",
    "a = list(map(int, input().split()))\n",
    "res = 0\n",
    "max = -2147000000\n",
    "for x in a:\n",
    "    tot = digit_sum(x)\n",
    "    if tot > max:\n",
    "        max = tot\n",
    "        res = x\n",
    "print(res)"
   ]
  }
 ],
 "metadata": {
  "kernelspec": {
   "display_name": "Python 3.8.10 64-bit",
   "language": "python",
   "name": "python3"
  },
  "language_info": {
   "codemirror_mode": {
    "name": "ipython",
    "version": 3
   },
   "file_extension": ".py",
   "mimetype": "text/x-python",
   "name": "python",
   "nbconvert_exporter": "python",
   "pygments_lexer": "ipython3",
   "version": "3.8.10"
  },
  "orig_nbformat": 4,
  "vscode": {
   "interpreter": {
    "hash": "3560a4d4cbfa40fd0b7faec78b059a6c76203df81557d1677029d8669139df15"
   }
  }
 },
 "nbformat": 4,
 "nbformat_minor": 2
}
