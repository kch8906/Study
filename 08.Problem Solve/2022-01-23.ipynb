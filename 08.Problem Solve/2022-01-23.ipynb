{
 "cells": [
  {
   "cell_type": "code",
   "execution_count": 13,
   "id": "4847f77d",
   "metadata": {
    "scrolled": true
   },
   "outputs": [
    {
     "name": "stdout",
     "output_type": "stream",
     "text": [
      "WA\n",
      "13\n"
     ]
    }
   ],
   "source": [
    "# 5622\n",
    "\n",
    "n = input()\n",
    "n_list = ['ABC', 'DEF', 'GHI', 'JKL', 'MNO', 'PQRS', 'TUV', 'WXYZ']\n",
    "time = 0\n",
    "for unit in n_list:\n",
    "    for i in unit:\n",
    "        for x in n:\n",
    "            if i == x:\n",
    "                time += n_list.index(unit) + 3\n",
    "print(time)"
   ]
  },
  {
   "cell_type": "code",
   "execution_count": 24,
   "id": "ec0ea2e9",
   "metadata": {},
   "outputs": [
    {
     "name": "stdout",
     "output_type": "stream",
     "text": [
      "0 4 2 5 6\n",
      "1\n"
     ]
    }
   ],
   "source": [
    "# 2475\n",
    "\n",
    "n = input().split()\n",
    "\n",
    "result = 0\n",
    "for i in range(len(n)):\n",
    "    result += int(n[i]) ** 2\n",
    "    \n",
    "result = result % 10\n",
    "\n",
    "print(result)"
   ]
  },
  {
   "cell_type": "code",
   "execution_count": 29,
   "id": "a1a2db70",
   "metadata": {},
   "outputs": [
    {
     "name": "stdout",
     "output_type": "stream",
     "text": [
      "5 21\n",
      "5 6 7 8 9\n",
      "21\n"
     ]
    }
   ],
   "source": [
    "# 2798\n",
    "\n",
    "n, correct_num = map(int, input().split())\n",
    "card_nums = list(map(int, input().split()))\n",
    "result = 0\n",
    "\n",
    "for i in range(n):\n",
    "    for j in range(i + 1, n):\n",
    "        for k in range(j + 1, n):\n",
    "            if card_nums[i] + card_nums[j] + card_nums[k] > correct_num:\n",
    "                continue\n",
    "                \n",
    "            else:\n",
    "                result = max(result, card_nums[i] + card_nums[j] + card_nums[k])\n",
    "    \n",
    "print(result)"
   ]
  },
  {
   "cell_type": "code",
   "execution_count": 31,
   "id": "647815d1",
   "metadata": {
    "scrolled": true
   },
   "outputs": [
    {
     "name": "stdout",
     "output_type": "stream",
     "text": [
      "5\n",
      "55 185\n",
      "58 183\n",
      "88 186\n",
      "60 175\n",
      "46 155\n",
      "[(55, 185), (58, 183), (88, 186), (60, 175), (46, 155)]\n"
     ]
    }
   ],
   "source": [
    "# 7568\n",
    "\n",
    "people = int(input())\n",
    "people_list = []\n",
    "for i in range(people):\n",
    "    x, y = map(int, input().split())\n",
    "    people_list.append((x, y))\n",
    "    \n",
    "for i in people_list:\n",
    "    rank = 1\n",
    "    for j in people_list:\n",
    "        if i[0] < j[0] and i[1] < j[1]:\n",
    "            rank += 1\n",
    "    print(rank, end = ' ')"
   ]
  },
  {
   "cell_type": "code",
   "execution_count": 65,
   "id": "3b2d5439",
   "metadata": {},
   "outputs": [
    {
     "name": "stdout",
     "output_type": "stream",
     "text": [
      "10 13\n",
      "BBBBBBBBWBWBW\n",
      "BBBBBBBBBWBWB\n",
      "BBBBBBBBWBWBW\n",
      "BBBBBBBBBWBWB\n",
      "BBBBBBBBWBWBW\n",
      "BBBBBBBBBWBWB\n",
      "BBBBBBBBWBWBW\n",
      "BBBBBBBBBWBWB\n",
      "WWWWWWWWWWBWB\n",
      "WWWWWWWWWWBWB\n",
      "12\n"
     ]
    }
   ],
   "source": [
    "# 1018\n",
    "\n",
    "N, M = map(int, input().split())\n",
    "original = []\n",
    "count = []\n",
    "\n",
    "for _ in range(N):\n",
    "    original.append(input())\n",
    "\n",
    "for a in range(N-7):\n",
    "    for b in range(M-7):\n",
    "        index1 = 0\n",
    "        index2 = 0\n",
    "        for i in range(a, a+8):\n",
    "            for j in range(b, b+8):\n",
    "                if (i+j) % 2 == 0:\n",
    "                    if original[i][j] != 'W':\n",
    "                        index1 += 1\n",
    "                    if original[i][j] != 'B':\n",
    "                        index2 += 1\n",
    "                else:\n",
    "                    if original[i][j] != 'B':\n",
    "                        index1 += 1\n",
    "                    if original[i][j] != 'W':\n",
    "                        index2 += 1\n",
    "        count.append(min(index1, index2))\n",
    "\n",
    "print(min(count))"
   ]
  },
  {
   "cell_type": "code",
   "execution_count": 74,
   "id": "b35af2bf",
   "metadata": {},
   "outputs": [
    {
     "name": "stdout",
     "output_type": "stream",
     "text": [
      "10 13\n",
      "BBBBBBBBWBWBW\n",
      "BBBBBBBBBWBWB\n",
      "BBBBBBBBWBWBW\n",
      "BBBBBBBBBWBWB\n",
      "BBBBBBBBWBWBW\n",
      "BBBBBBBBBWBWB\n",
      "BBBBBBBBWBWBW\n",
      "BBBBBBBBBWBWB\n",
      "WWWWWWWWWWBWB\n",
      "WWWWWWWWWWBWB\n"
     ]
    }
   ],
   "source": [
    "# 1018\n",
    "\n",
    "N, M = map(int, input().split())\n",
    "original = []\n",
    "count = []\n",
    "\n",
    "for _ in range(N):\n",
    "    original.append(input())\n",
    "\n",
    "a=0\n",
    "b=0\n",
    "index1 = 0\n",
    "index2 = 0\n",
    "for i in range(a, a+8):\n",
    "     for j in range(b, b+8):\n",
    "            if (i+j) % 2 == 0:\n",
    "                if original[i][j] != 'W':\n",
    "                    index1 += 1\n",
    "                if original[i][j] != 'B':\n",
    "                    index2 += 1\n",
    "            else:\n",
    "                if original[i][j] != 'B':\n",
    "                    index1 += 1\n",
    "                if original[i][j] != 'W':\n",
    "                    index2 += 1\n",
    "count.append(min(index1, index2))"
   ]
  },
  {
   "cell_type": "code",
   "execution_count": 75,
   "id": "2daf1777",
   "metadata": {},
   "outputs": [
    {
     "name": "stdout",
     "output_type": "stream",
     "text": [
      "32\n"
     ]
    }
   ],
   "source": [
    "print(min(count))"
   ]
  },
  {
   "cell_type": "code",
   "execution_count": 91,
   "id": "1151549f",
   "metadata": {},
   "outputs": [
    {
     "name": "stdout",
     "output_type": "stream",
     "text": [
      "0\n",
      "666\n"
     ]
    }
   ],
   "source": [
    "n = int(input())\n",
    "result = 666 + (n * 1000)\n",
    "result"
   ]
  },
  {
   "cell_type": "code",
   "execution_count": 102,
   "id": "4dabcd25",
   "metadata": {},
   "outputs": [
    {
     "name": "stdout",
     "output_type": "stream",
     "text": [
      "187\n"
     ]
    },
    {
     "data": {
      "text/plain": [
       "187666"
      ]
     },
     "execution_count": 102,
     "metadata": {},
     "output_type": "execute_result"
    }
   ],
   "source": [
    "n = int(input())\n",
    "continue_num = 0\n",
    "while True:\n",
    "    continue_num += 1\n",
    "    \n",
    "    for i in str(continue_num):\n",
    "    \n",
    "    \n",
    "    \n",
    "\n"
   ]
  },
  {
   "cell_type": "code",
   "execution_count": 130,
   "id": "560477e2",
   "metadata": {},
   "outputs": [
    {
     "ename": "IndentationError",
     "evalue": "unindent does not match any outer indentation level (<tokenize>, line 15)",
     "output_type": "error",
     "traceback": [
      "\u001b[1;36m  File \u001b[1;32m\"<tokenize>\"\u001b[1;36m, line \u001b[1;32m15\u001b[0m\n\u001b[1;33m    if cnt == 3:\u001b[0m\n\u001b[1;37m    ^\u001b[0m\n\u001b[1;31mIndentationError\u001b[0m\u001b[1;31m:\u001b[0m unindent does not match any outer indentation level\n"
     ]
    }
   ],
   "source": [
    "continue_num = 558666\n",
    "num_list = []\n",
    "for num in str(continue_num):\n",
    "    num_list.append(int(num))\n",
    "    \n",
    "print(num_list)\n",
    "reversed_list = []\n",
    "for i in reversed(num_list):    \n",
    "    reversed_list.append(i)\n",
    "\n",
    "cnt = 0\n",
    "for j in range(3):\n",
    "    if reversed_list[j] == 3:\n",
    "        cnt += 1\n",
    "         \n",
    "         if cnt == 3:\n",
    "              break\n",
    "       "
   ]
  },
  {
   "cell_type": "code",
   "execution_count": null,
   "id": "88c60b4c",
   "metadata": {},
   "outputs": [],
   "source": []
  }
 ],
 "metadata": {
  "kernelspec": {
   "display_name": "Python 3 (ipykernel)",
   "language": "python",
   "name": "python3"
  },
  "language_info": {
   "codemirror_mode": {
    "name": "ipython",
    "version": 3
   },
   "file_extension": ".py",
   "mimetype": "text/x-python",
   "name": "python",
   "nbconvert_exporter": "python",
   "pygments_lexer": "ipython3",
   "version": "3.9.7"
  }
 },
 "nbformat": 4,
 "nbformat_minor": 5
}
