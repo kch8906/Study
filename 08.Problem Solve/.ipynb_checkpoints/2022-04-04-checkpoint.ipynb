{
 "cells": [
  {
   "cell_type": "markdown",
   "id": "135fa6f5",
   "metadata": {},
   "source": [
    "### 수열 추측하기"
   ]
  },
  {
   "cell_type": "code",
   "execution_count": 17,
   "id": "452e3893",
   "metadata": {},
   "outputs": [
    {
     "name": "stdout",
     "output_type": "stream",
     "text": [
      "4 16\n",
      "3 1 2 4 "
     ]
    },
    {
     "ename": "SystemExit",
     "evalue": "0",
     "output_type": "error",
     "traceback": [
      "An exception has occurred, use %tb to see the full traceback.\n",
      "\u001b[1;31mSystemExit\u001b[0m\u001b[1;31m:\u001b[0m 0\n"
     ]
    },
    {
     "name": "stderr",
     "output_type": "stream",
     "text": [
      "C:\\Users\\Changhyun\\anaconda3\\envs\\machine\\lib\\site-packages\\IPython\\core\\interactiveshell.py:3369: UserWarning: To exit: use 'exit', 'quit', or Ctrl-D.\n",
      "  warn(\"To exit: use 'exit', 'quit', or Ctrl-D.\", stacklevel=1)\n"
     ]
    }
   ],
   "source": [
    "import sys\n",
    "\n",
    "def DFS(level, sum_a):\n",
    "    if level == n and sum_a == f:\n",
    "        for i in n_list:\n",
    "            print(i, end=' ')\n",
    "        sys.exit(0)\n",
    "    else:\n",
    "        for i in range(1, n + 1):\n",
    "            if check[i]==0:\n",
    "                check[i]=1\n",
    "                n_list[level]=i\n",
    "                DFS(level + 1, sum_a + (n_list[level] * bi[level]))\n",
    "                check[i]=0\n",
    "\n",
    "\n",
    "n, f = map(int, input().split())\n",
    "n_list = [0] * n\n",
    "bi = [1] * n\n",
    "check = [0]*(n+1)\n",
    "for i in range(1, n):\n",
    "    bi[i] = bi[i - 1] * (n - i) // i\n",
    "DFS(0, 0)"
   ]
  },
  {
   "cell_type": "markdown",
   "id": "ce3b4d88",
   "metadata": {},
   "source": [
    "### 조합 구하기"
   ]
  },
  {
   "cell_type": "code",
   "execution_count": 31,
   "id": "41af2d87",
   "metadata": {},
   "outputs": [
    {
     "name": "stdout",
     "output_type": "stream",
     "text": [
      "4 2\n",
      "1 2 \n",
      "1 3 \n",
      "1 4 \n",
      "2 3 \n",
      "2 4 \n",
      "3 4 \n",
      "6\n"
     ]
    }
   ],
   "source": [
    "def DFS(level, val):\n",
    "    global cnt\n",
    "    if level == m:\n",
    "        for i in range(m):\n",
    "            print(n_list[i], end=' ')\n",
    "        print()\n",
    "        cnt += 1\n",
    "    else:\n",
    "        for i in range(val, n+1):\n",
    "            n_list[level]=i\n",
    "            DFS(level+1, i+1)\n",
    "           \n",
    "\n",
    "n, m = map(int, input().split())\n",
    "n_list = [0] * (n + 1)\n",
    "cnt = 0\n",
    "DFS(0, 1)\n",
    "print(cnt)"
   ]
  }
 ],
 "metadata": {
  "kernelspec": {
   "display_name": "Python [conda env:machine]",
   "language": "python",
   "name": "conda-env-machine-py"
  },
  "language_info": {
   "codemirror_mode": {
    "name": "ipython",
    "version": 3
   },
   "file_extension": ".py",
   "mimetype": "text/x-python",
   "name": "python",
   "nbconvert_exporter": "python",
   "pygments_lexer": "ipython3",
   "version": "3.8.12"
  }
 },
 "nbformat": 4,
 "nbformat_minor": 5
}
