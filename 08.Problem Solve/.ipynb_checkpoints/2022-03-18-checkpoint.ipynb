{
 "cells": [
  {
   "cell_type": "markdown",
   "id": "5e8a2b61",
   "metadata": {},
   "source": [
    "### 부분집합 구하기(DFS)\n",
    "자연수 N이 주어지면 1부터 N까지의 원소를 갖는 집합의 부분집합을 모두 출력하는 프로그램\n",
    "을 작성하세요.\n",
    "\n",
    "- 첫 번째 줄부터 각 줄에 하나씩 부분집합을 아래와 출력예제와 같은 순서로 출력한다. \n",
    "단 공집합은 출력하지 않습니다."
   ]
  },
  {
   "cell_type": "code",
   "execution_count": 84,
   "id": "75469420",
   "metadata": {
    "scrolled": false
   },
   "outputs": [
    {
     "name": "stdout",
     "output_type": "stream",
     "text": [
      "3\n",
      "1 2 3 1 2 3 "
     ]
    }
   ],
   "source": [
    "# 실패 - 아무리 해도 모르겠다\n",
    "def DFS(x):\n",
    "    if x > len(num_list):\n",
    "        for i in range(len(result)):\n",
    "            print(result[i], end = ' ')\n",
    "        return\n",
    "    else:\n",
    "        if x > 1:\n",
    "            result.append(num_list[x - 1])  \n",
    "            DFS(x * 2)\n",
    "            if x == 2:\n",
    "                return\n",
    "            DFS((x * 2) + 1)  \n",
    "        else:\n",
    "            result.append(num_list[x - 1])\n",
    "            DFS(x * 2)\n",
    "\n",
    "n = list(range(1, int(input()) + 1))\n",
    "num = (2 ** len(n)) - 1\n",
    "num_list = []\n",
    "result = []\n",
    "i = 1\n",
    "cnt = 0\n",
    "while num > i:    \n",
    "    for _ in range(i):\n",
    "        num_list.append(n[cnt])\n",
    "    i = 2 * i\n",
    "    cnt += 1\n",
    "    \n",
    "\n",
    "DFS(1)               "
   ]
  },
  {
   "cell_type": "code",
   "execution_count": 82,
   "id": "b9b31791",
   "metadata": {},
   "outputs": [
    {
     "name": "stdout",
     "output_type": "stream",
     "text": [
      "3\n",
      "1 2 3 1 2 1 3 1 2 3 2 3 "
     ]
    }
   ],
   "source": [
    "# 풀이 (상태트리 이해)\n",
    "\n",
    "def DFS(v):\n",
    "    if v == n + 1:\n",
    "        for i in range(1, n + 1):\n",
    "            if ch[i] == 1:\n",
    "                print(i, end = ' ')\n",
    "    else:\n",
    "        ch[v] = 1\n",
    "        DFS(v + 1)\n",
    "        ch[v] = 0\n",
    "        DFS(v + 1)\n",
    "        \n",
    "n = int(input())\n",
    "ch = [0] * (n + 1)\n",
    "DFS(1)"
   ]
  }
 ],
 "metadata": {
  "kernelspec": {
   "display_name": "Python 3 (ipykernel)",
   "language": "python",
   "name": "python3"
  },
  "language_info": {
   "codemirror_mode": {
    "name": "ipython",
    "version": 3
   },
   "file_extension": ".py",
   "mimetype": "text/x-python",
   "name": "python",
   "nbconvert_exporter": "python",
   "pygments_lexer": "ipython3",
   "version": "3.8.12"
  }
 },
 "nbformat": 4,
 "nbformat_minor": 5
}
