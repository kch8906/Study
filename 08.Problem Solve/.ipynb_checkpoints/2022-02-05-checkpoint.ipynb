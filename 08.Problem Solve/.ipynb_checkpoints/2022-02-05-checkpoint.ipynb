{
 "cells": [
  {
   "cell_type": "code",
   "execution_count": 129,
   "id": "75222e1a",
   "metadata": {},
   "outputs": [
    {
     "name": "stdout",
     "output_type": "stream",
     "text": [
      "9977252641 5\n",
      "92641\n"
     ]
    }
   ],
   "source": [
    "# 가장 큰 수\n",
    "num, n = map(int, input().split())\n",
    "\n",
    "num_list = [int(i) for i in str(num)]\n",
    "\n",
    "cnt = 0\n",
    "lt = 0\n",
    "rt = 1\n",
    "\n",
    "while True:    \n",
    "    if cnt == n:\n",
    "        break\n",
    "    if num_list[lt] > num_list[rt]:\n",
    "        num_list.remove(num_list[rt])\n",
    "        cnt += 1\n",
    "        \n",
    "    else:\n",
    "        num_list.remove(num_list[rt])\n",
    "        cnt += 1\n",
    "\n",
    "result = ''\n",
    "for i in str(num_list):\n",
    "    if i.isdecimal():\n",
    "        result += i\n",
    "\n",
    "print(int(result))"
   ]
  },
  {
   "cell_type": "code",
   "execution_count": 145,
   "id": "3939072f",
   "metadata": {},
   "outputs": [
    {
     "name": "stdout",
     "output_type": "stream",
     "text": [
      "5276823 3\n"
     ]
    }
   ],
   "source": [
    "# 모범답안\n",
    "\n",
    "num, m = map(int, input().split())\n",
    "\n",
    "num = [int(i) for i in str(num)]\n",
    "\n",
    "stack=[]\n",
    "for x in num:\n",
    "    while stack and m > 0 and stack[-1] < x:\n",
    "        stack.pop()\n",
    "        m -= 1\n",
    "    stack.append(x)\n",
    "    \n",
    "if m != 0:\n",
    "    stack=stack[:-m]\n",
    "    \n",
    "res = ''.join(map(str, stack))\n",
    "print(res)"
   ]
  },
  {
   "cell_type": "code",
   "execution_count": 153,
   "id": "8c32f12a",
   "metadata": {},
   "outputs": [
    {
     "name": "stdout",
     "output_type": "stream",
     "text": [
      "(())\n"
     ]
    }
   ],
   "source": [
    "n = list(map(str, input()))"
   ]
  },
  {
   "cell_type": "code",
   "execution_count": 154,
   "id": "b5d4b0de",
   "metadata": {},
   "outputs": [
    {
     "data": {
      "text/plain": [
       "['(', '(', ')', ')']"
      ]
     },
     "execution_count": 154,
     "metadata": {},
     "output_type": "execute_result"
    }
   ],
   "source": [
    "stack\n",
    "        "
   ]
  },
  {
   "cell_type": "code",
   "execution_count": 155,
   "id": "90725d6e",
   "metadata": {},
   "outputs": [
    {
     "data": {
      "text/plain": [
       "4"
      ]
     },
     "execution_count": 155,
     "metadata": {},
     "output_type": "execute_result"
    }
   ],
   "source": [
    "stack"
   ]
  },
  {
   "cell_type": "code",
   "execution_count": null,
   "id": "648fbb11",
   "metadata": {},
   "outputs": [],
   "source": []
  }
 ],
 "metadata": {
  "kernelspec": {
   "display_name": "Python 3 (ipykernel)",
   "language": "python",
   "name": "python3"
  },
  "language_info": {
   "codemirror_mode": {
    "name": "ipython",
    "version": 3
   },
   "file_extension": ".py",
   "mimetype": "text/x-python",
   "name": "python",
   "nbconvert_exporter": "python",
   "pygments_lexer": "ipython3",
   "version": "3.9.7"
  }
 },
 "nbformat": 4,
 "nbformat_minor": 5
}
