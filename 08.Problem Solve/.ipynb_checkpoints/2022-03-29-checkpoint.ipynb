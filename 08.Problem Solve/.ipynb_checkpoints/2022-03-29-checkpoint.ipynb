{
 "cells": [
  {
   "cell_type": "markdown",
   "id": "ae959593",
   "metadata": {},
   "source": [
    "### 재귀함수를 이용한 이진수 출력"
   ]
  },
  {
   "cell_type": "code",
   "execution_count": 5,
   "id": "2c3c7e18",
   "metadata": {},
   "outputs": [
    {
     "name": "stdout",
     "output_type": "stream",
     "text": [
      "11\n",
      "1011"
     ]
    }
   ],
   "source": [
    "def DFS(num):\n",
    "    if num == 0:\n",
    "        return\n",
    "    else:\n",
    "        DFS(num // 2)\n",
    "        print(num % 2, end='')\n",
    "    \n",
    "\n",
    "n = int(input())\n",
    "DFS(n)"
   ]
  },
  {
   "cell_type": "markdown",
   "id": "8fdf0ef8",
   "metadata": {},
   "source": [
    "### 이진트리 순회(깊이우선탐색)\n"
   ]
  },
  {
   "cell_type": "code",
   "execution_count": 14,
   "id": "0d626332",
   "metadata": {},
   "outputs": [
    {
     "name": "stdout",
     "output_type": "stream",
     "text": [
      "1 2 4 5 3 6 7 "
     ]
    }
   ],
   "source": [
    "def DFS(level):\n",
    "    if level > 7:\n",
    "        return\n",
    "    else:\n",
    "        print(level, end=' ')\n",
    "        DFS(2 * level)\n",
    "        DFS(2 * level + 1)\n",
    "\n",
    "DFS(1)"
   ]
  },
  {
   "cell_type": "code",
   "execution_count": 15,
   "id": "d57b5421",
   "metadata": {},
   "outputs": [
    {
     "name": "stdout",
     "output_type": "stream",
     "text": [
      "4 2 5 1 6 3 7 "
     ]
    }
   ],
   "source": [
    "def DFS(level):\n",
    "    if level > 7:\n",
    "        return\n",
    "    else:\n",
    "        DFS(2 * level)\n",
    "        print(level, end=' ')\n",
    "        DFS(2 * level + 1)\n",
    "\n",
    "DFS(1)"
   ]
  },
  {
   "cell_type": "code",
   "execution_count": 16,
   "id": "90bd959a",
   "metadata": {},
   "outputs": [
    {
     "name": "stdout",
     "output_type": "stream",
     "text": [
      "4 5 2 6 7 3 1 "
     ]
    }
   ],
   "source": [
    "def DFS(level):\n",
    "    if level > 7:\n",
    "        return\n",
    "    else:\n",
    "        DFS(2 * level)\n",
    "        DFS(2 * level + 1)\n",
    "        print(level, end=' ')\n",
    "\n",
    "DFS(1)"
   ]
  }
 ],
 "metadata": {
  "kernelspec": {
   "display_name": "Python [conda env:machine] *",
   "language": "python",
   "name": "conda-env-machine-py"
  },
  "language_info": {
   "codemirror_mode": {
    "name": "ipython",
    "version": 3
   },
   "file_extension": ".py",
   "mimetype": "text/x-python",
   "name": "python",
   "nbconvert_exporter": "python",
   "pygments_lexer": "ipython3",
   "version": "3.8.12"
  }
 },
 "nbformat": 4,
 "nbformat_minor": 5
}
