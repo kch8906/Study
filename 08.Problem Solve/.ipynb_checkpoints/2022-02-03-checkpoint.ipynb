{
 "cells": [
  {
   "cell_type": "code",
   "execution_count": 59,
   "id": "545d4cbb",
   "metadata": {},
   "outputs": [
    {
     "name": "stdout",
     "output_type": "stream",
     "text": [
      "5 140\n",
      "90 50 70 100 60\n"
     ]
    }
   ],
   "source": [
    "# 창고정리\n",
    "L = int(input())\n",
    "box = list(map(int, input().split()))\n",
    "M = int(input())\n",
    "\n",
    "box.sort()\n",
    "for _ in range(M):\n",
    "    box[0] += 1\n",
    "    box[-1] -= 1\n",
    "    box.sort()\n",
    "    \n",
    "print(box[-1] - box[0])\n"
   ]
  },
  {
   "cell_type": "code",
   "execution_count": 61,
   "id": "d2328da5",
   "metadata": {},
   "outputs": [
    {
     "name": "stdout",
     "output_type": "stream",
     "text": [
      "[60]\n",
      "3\n"
     ]
    }
   ],
   "source": [
    "# 침몰하는 타이타닉\n",
    "n, m = map(int, input().split())\n",
    "w = list(map(int, input().split()))\n",
    "\n",
    "w.sort()\n",
    "\n",
    "cnt = 0\n",
    "for i in range((len(w)//2) + 1):\n",
    "    if w[0] + w[-1] < m:\n",
    "        cnt += 1\n",
    "        w.pop(0)\n",
    "        w.pop(-1)        \n",
    "    else:\n",
    "        cnt += 1\n",
    "        w.pop(-1)\n",
    "        \n",
    "print(cnt)"
   ]
  },
  {
   "cell_type": "markdown",
   "id": "d17dc39f",
   "metadata": {},
   "source": [
    "- 리스트에서 앞자리를 pop(0)처리 시켜버리면 뒷자리부터 앞으로 땡기는 연산을 자동으로 수행\n",
    "- 연산시간이 증가\n",
    "\n",
    "- deque() 자료구조는 pop(0)을 처리하더라도 앞으로 땡기는 연산을 하지않고 인덱스가 pop(0)된 자리 뒤로가서 진행하는 형식\n",
    "- 연산시간이 추가로 들지 않는다"
   ]
  },
  {
   "cell_type": "code",
   "execution_count": 66,
   "id": "ba7d20bc",
   "metadata": {},
   "outputs": [
    {
     "name": "stdout",
     "output_type": "stream",
     "text": [
      "5 140\n",
      "90 50 70 100 60\n",
      "3\n"
     ]
    }
   ],
   "source": [
    "# 모범답안\n",
    "n, limit = map(int, input().split())\n",
    "p = list(map(int, input().split()))\n",
    "p.sort()\n",
    "cnt = 0\n",
    "while p:\n",
    "    if len(p) == 1:\n",
    "        cnt += 1\n",
    "        break\n",
    "    if p[0] + p[-1] > limit:\n",
    "        p.pop()\n",
    "        cnt += 1\n",
    "    else:\n",
    "        p.pop(0) \n",
    "        p.pop()\n",
    "        cnt += 1\n",
    "        \n",
    "print(cnt)"
   ]
  },
  {
   "cell_type": "code",
   "execution_count": 65,
   "id": "1cb0d83b",
   "metadata": {},
   "outputs": [
    {
     "data": {
      "text/plain": [
       "3"
      ]
     },
     "execution_count": 65,
     "metadata": {},
     "output_type": "execute_result"
    }
   ],
   "source": [
    "from collections import deque\n",
    "\n",
    "n, limit = map(int, input().split())\n",
    "p = list(map(int, input().split()))\n",
    "p.sort()\n",
    "p = deque(p)\n",
    "cnt = 0\n",
    "while p:\n",
    "    if len(p) == 1:\n",
    "        cnt += 1\n",
    "        break\n",
    "    if p[0] + p[-1] > limit:\n",
    "        p.pop()\n",
    "        cnt += 1\n",
    "    else:\n",
    "        p.popleft()\n",
    "        p.pop()\n",
    "        cnt += 1\n",
    "        \n",
    "print(cnt)"
   ]
  },
  {
   "cell_type": "code",
   "execution_count": 116,
   "id": "0a17df38",
   "metadata": {},
   "outputs": [
    {
     "name": "stdout",
     "output_type": "stream",
     "text": [
      "5\n",
      "2 4 5 1 3\n"
     ]
    }
   ],
   "source": [
    "# 증가수열 만들기\n",
    "from collections import deque\n",
    "\n",
    "n = int(input())\n",
    "num = list(map(int, input().split()))"
   ]
  },
  {
   "cell_type": "code",
   "execution_count": 117,
   "id": "e3b57ba0",
   "metadata": {},
   "outputs": [
    {
     "name": "stdout",
     "output_type": "stream",
     "text": [
      "deque([4, 5, 1, 3])\n",
      "deque([4, 5, 1])\n",
      "deque([4, 5])\n",
      "deque([4])\n"
     ]
    },
    {
     "ename": "IndexError",
     "evalue": "deque index out of range",
     "output_type": "error",
     "traceback": [
      "\u001b[1;31m---------------------------------------------------------------------------\u001b[0m",
      "\u001b[1;31mIndexError\u001b[0m                                Traceback (most recent call last)",
      "\u001b[1;32mC:\\Users\\CHANGH~1\\AppData\\Local\\Temp/ipykernel_114716/3874464512.py\u001b[0m in \u001b[0;36m<module>\u001b[1;34m\u001b[0m\n\u001b[0;32m      7\u001b[0m \u001b[1;33m\u001b[0m\u001b[0m\n\u001b[0;32m      8\u001b[0m \u001b[1;32mwhile\u001b[0m \u001b[0mnum\u001b[0m\u001b[1;33m:\u001b[0m\u001b[1;33m\u001b[0m\u001b[1;33m\u001b[0m\u001b[0m\n\u001b[1;32m----> 9\u001b[1;33m     \u001b[1;32mif\u001b[0m \u001b[0mnum\u001b[0m\u001b[1;33m[\u001b[0m\u001b[0mln\u001b[0m\u001b[1;33m]\u001b[0m \u001b[1;33m>=\u001b[0m \u001b[0mstart_num\u001b[0m\u001b[1;33m[\u001b[0m\u001b[1;36m0\u001b[0m\u001b[1;33m]\u001b[0m \u001b[1;32mor\u001b[0m \u001b[0mnum\u001b[0m\u001b[1;33m[\u001b[0m\u001b[1;33m-\u001b[0m\u001b[1;36m1\u001b[0m\u001b[1;33m]\u001b[0m \u001b[1;33m>=\u001b[0m \u001b[0mstart_num\u001b[0m\u001b[1;33m[\u001b[0m\u001b[1;36m0\u001b[0m\u001b[1;33m]\u001b[0m\u001b[1;33m:\u001b[0m\u001b[1;33m\u001b[0m\u001b[1;33m\u001b[0m\u001b[0m\n\u001b[0m\u001b[0;32m     10\u001b[0m         \u001b[1;32mif\u001b[0m \u001b[0mnum\u001b[0m\u001b[1;33m[\u001b[0m\u001b[0mln\u001b[0m\u001b[1;33m]\u001b[0m \u001b[1;33m<\u001b[0m \u001b[0mnum\u001b[0m\u001b[1;33m[\u001b[0m\u001b[1;33m-\u001b[0m\u001b[1;36m1\u001b[0m\u001b[1;33m]\u001b[0m\u001b[1;33m:\u001b[0m\u001b[1;33m\u001b[0m\u001b[1;33m\u001b[0m\u001b[0m\n\u001b[0;32m     11\u001b[0m             \u001b[0mcnt\u001b[0m \u001b[1;33m+=\u001b[0m \u001b[1;36m1\u001b[0m\u001b[1;33m\u001b[0m\u001b[1;33m\u001b[0m\u001b[0m\n",
      "\u001b[1;31mIndexError\u001b[0m: deque index out of range"
     ]
    }
   ],
   "source": [
    "ln = 0\n",
    "rn = 0\n",
    "cnt = 0\n",
    "num = deque(num)\n",
    "string = []\n",
    "start_num = [num[0] if num[0] < num[-1] else num[-1]]\n",
    "\n",
    "while num:\n",
    "    if num[ln] >= start_num[0] or num[-1] >= start_num[0]:\n",
    "        if num[ln] < num[-1]:\n",
    "            cnt += 1\n",
    "            string.append('L')\n",
    "            ln += 1\n",
    "            num.popleft()\n",
    "        \n",
    "        else:\n",
    "            cnt += 1\n",
    "            string.append('R')\n",
    "            num.pop()\n",
    "            \n",
    "        print(num)\n",
    "        \n",
    "print(cnt)\n",
    "for i in string:\n",
    "    print(i, end='')"
   ]
  },
  {
   "cell_type": "code",
   "execution_count": 120,
   "id": "4f1acd05",
   "metadata": {},
   "outputs": [
    {
     "name": "stdout",
     "output_type": "stream",
     "text": [
      "4\n",
      "LRLL\n"
     ]
    }
   ],
   "source": [
    "# 모범답안\n",
    "\n",
    "n = int(input())\n",
    "a = list(map(int, input().split()))\n",
    "\n",
    "lt = 0\n",
    "rt = n - 1\n",
    "last = 0\n",
    "res = ''\n",
    "tmp = []\n",
    "\n",
    "while lt <= rt:\n",
    "    if a[lt] > last:\n",
    "        tmp.append((a[lt], 'L'))\n",
    "        \n",
    "    if a[rt] > last:\n",
    "        tmp.append((a[rt], 'R'))\n",
    "        \n",
    "    tmp.sort()\n",
    "    if len(tmp) == 0:\n",
    "        break\n",
    "        \n",
    "    else:\n",
    "        res = res + tmp[0][1]\n",
    "        last = tmp[0][0]\n",
    "        if tmp[0][1] == 'L':\n",
    "            lt += 1\n",
    "            \n",
    "        else:\n",
    "            rt -= 1\n",
    "            \n",
    "    tmp.clear()\n",
    "    \n",
    "print(len(res))\n",
    "print(res)"
   ]
  },
  {
   "cell_type": "code",
   "execution_count": 124,
   "id": "81e0768d",
   "metadata": {},
   "outputs": [
    {
     "data": {
      "text/plain": [
       "[1, 0, 0, 0, 0, 0, 0, 0, 0]"
      ]
     },
     "execution_count": 124,
     "metadata": {},
     "output_type": "execute_result"
    }
   ],
   "source": [
    "n_list = [0] * 9\n",
    "\n",
    "n_list[0]\n",
    "n_list[0] = 1\n",
    "n_list"
   ]
  },
  {
   "cell_type": "code",
   "execution_count": 126,
   "id": "a956f32d",
   "metadata": {},
   "outputs": [
    {
     "data": {
      "text/plain": [
       "[[0, 1, 0], [0, 1, 0], [0, 1, 0]]"
      ]
     },
     "execution_count": 126,
     "metadata": {},
     "output_type": "execute_result"
    }
   ],
   "source": [
    "n_list = [[0,0,0]] * 3\n",
    "n_list[0][1] = 1\n",
    "n_list"
   ]
  },
  {
   "cell_type": "code",
   "execution_count": 130,
   "id": "63ef2455",
   "metadata": {},
   "outputs": [],
   "source": [
    "n_list = [[ 0 for _ in range(3)] for _ in range(3)]"
   ]
  },
  {
   "cell_type": "code",
   "execution_count": 132,
   "id": "e65a0570",
   "metadata": {},
   "outputs": [
    {
     "data": {
      "text/plain": [
       "[[0, 1, 0], [0, 0, 0], [0, 0, 0]]"
      ]
     },
     "execution_count": 132,
     "metadata": {},
     "output_type": "execute_result"
    }
   ],
   "source": [
    "n_list[0][1] = 1\n",
    "n_list "
   ]
  },
  {
   "cell_type": "code",
   "execution_count": 141,
   "id": "9e171e79",
   "metadata": {},
   "outputs": [
    {
     "name": "stdout",
     "output_type": "stream",
     "text": [
      "8\n",
      "5 3 4 0 2 1 1 0\n",
      "3\n"
     ]
    },
    {
     "data": {
      "text/plain": [
       "[7, 6, 4, 1, 2, 0, 0, 0, 0]"
      ]
     },
     "execution_count": 141,
     "metadata": {},
     "output_type": "execute_result"
    }
   ],
   "source": [
    "# 역수열\n",
    "n = int(input())\n",
    "num = list(map(int, input().split()))\n",
    "\n",
    "n_list = [0] * n\n",
    "start_num = 1\n",
    "for idx, i in enumerate(num):\n",
    "    cnt = 0\n",
    "    for j in range(n):\n",
    "        if n_list[j] == 0:\n",
    "            if cnt == i:\n",
    "                n_list[i] = idx\n",
    "                \n",
    "            cnt += 1    \n",
    "                \n",
    "print(cnt)\n",
    "\n",
    "n_list"
   ]
  },
  {
   "cell_type": "code",
   "execution_count": 142,
   "id": "be111d69",
   "metadata": {},
   "outputs": [
    {
     "name": "stdout",
     "output_type": "stream",
     "text": [
      "8\n",
      "5 3 4 0 2 1 1 0\n",
      "4 8 6 2 5 1 3 7 "
     ]
    }
   ],
   "source": [
    "# 모범답안\n",
    "\n",
    "n = int(input())\n",
    "a = list(map(int, input().split()))\n",
    "seq = [0] * n\n",
    "for i in range(n):\n",
    "    for j in range(n):\n",
    "        if a[i] == 0 and seq[j] == 0:\n",
    "            seq[j] = i + 1\n",
    "            break\n",
    "        elif seq[j] == 0:\n",
    "            a[i] -= 1\n",
    "            \n",
    "for x in seq:\n",
    "    print(x, end=' ')"
   ]
  },
  {
   "cell_type": "code",
   "execution_count": null,
   "id": "0d6f040e",
   "metadata": {},
   "outputs": [],
   "source": [
    "# 가장 큰 수"
   ]
  }
 ],
 "metadata": {
  "kernelspec": {
   "display_name": "Python 3 (ipykernel)",
   "language": "python",
   "name": "python3"
  },
  "language_info": {
   "codemirror_mode": {
    "name": "ipython",
    "version": 3
   },
   "file_extension": ".py",
   "mimetype": "text/x-python",
   "name": "python",
   "nbconvert_exporter": "python",
   "pygments_lexer": "ipython3",
   "version": "3.9.7"
  }
 },
 "nbformat": 4,
 "nbformat_minor": 5
}
