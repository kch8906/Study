{
 "cells": [
  {
   "cell_type": "markdown",
   "id": "8545570b",
   "metadata": {},
   "source": [
    "### 대표값 오류 수정\n",
    "- round()는 round_half_even 방식을 택한다\n",
    "- round_half_even 방식 half 지점일 때 짝수 값으로 근사치를 출력함\n",
    "- 정확한 반올림 방식이 아님"
   ]
  },
  {
   "cell_type": "code",
   "execution_count": 5,
   "id": "68e09035",
   "metadata": {},
   "outputs": [
    {
     "name": "stdout",
     "output_type": "stream",
     "text": [
      "4\n",
      "6\n"
     ]
    }
   ],
   "source": [
    "a = 4.500\n",
    "print(round(a))\n",
    "a = 5.500\n",
    "print(round(a))"
   ]
  },
  {
   "cell_type": "code",
   "execution_count": 10,
   "id": "cd33dcf0",
   "metadata": {},
   "outputs": [
    {
     "name": "stdout",
     "output_type": "stream",
     "text": [
      "67\n"
     ]
    }
   ],
   "source": [
    "a = 66.5\n",
    "a = a + 0.5\n",
    "print(int(a))"
   ]
  },
  {
   "cell_type": "code",
   "execution_count": 36,
   "id": "9c6735e9",
   "metadata": {},
   "outputs": [
    {
     "ename": "SyntaxError",
     "evalue": "invalid syntax (Temp/ipykernel_63220/4265362.py, line 1)",
     "output_type": "error",
     "traceback": [
      "\u001b[1;36m  File \u001b[1;32m\"C:\\Users\\CHANGH~1\\AppData\\Local\\Temp/ipykernel_63220/4265362.py\"\u001b[1;36m, line \u001b[1;32m1\u001b[0m\n\u001b[1;33m    import collections from Counting\u001b[0m\n\u001b[1;37m                       ^\u001b[0m\n\u001b[1;31mSyntaxError\u001b[0m\u001b[1;31m:\u001b[0m invalid syntax\n"
     ]
    }
   ],
   "source": [
    "import collections \n",
    "\n",
    "N, M = map(int, input().split())\n",
    "result = []\n",
    "for i in range(1, N + 1):\n",
    "    for j in range(i + 1, M):\n",
    "        result.append(i + j)\n",
    "\n"
   ]
  },
  {
   "cell_type": "code",
   "execution_count": 48,
   "id": "18329216",
   "metadata": {},
   "outputs": [
    {
     "data": {
      "text/plain": [
       "[3, 4, 5, 6, 5, 6, 7, 7, 8, 9]"
      ]
     },
     "execution_count": 48,
     "metadata": {},
     "output_type": "execute_result"
    }
   ],
   "source": [
    "a = set(result)\n",
    "# for idx, val in enumerate(a):\n",
    "#     print(idx, val)\n",
    "    \n",
    "result  \n",
    "    "
   ]
  },
  {
   "cell_type": "code",
   "execution_count": 57,
   "id": "1ebaaa41",
   "metadata": {},
   "outputs": [
    {
     "name": "stdout",
     "output_type": "stream",
     "text": [
      "4 6\n"
     ]
    }
   ],
   "source": [
    "n, m = map(int, input().split())\n",
    "cnt = [0] * (n + m + 3)\n",
    "max_n = -2147000000\n",
    "\n",
    "for i in range(1, n + 1):\n",
    "    for j in range(1, m + 1):\n",
    "        cnt[i + j] += 1\n",
    "        \n",
    "for i in range(n + m + 1):\n",
    "    if cnt[i] > max_n:\n",
    "        max_n = cnt[i]\n",
    "\n",
    "for i in range(n + m + 1):\n",
    "    if cnt[i] == max_n:\n",
    "        print(i, end=' ')"
   ]
  },
  {
   "cell_type": "code",
   "execution_count": 59,
   "id": "d565b656",
   "metadata": {},
   "outputs": [
    {
     "name": "stdout",
     "output_type": "stream",
     "text": [
      "3\n",
      "125 15232 97\n",
      "[8, 13, 16]\n"
     ]
    }
   ],
   "source": [
    "# 내 문제풀이\n",
    "def digit_sum(x):\n",
    "    result = 0\n",
    "    \n",
    "    for i in str(x):\n",
    "        result += int(i)\n",
    "        \n",
    "    return result\n",
    "\n",
    "\n",
    "n = int(input())\n",
    "arr = list(map(int, input().split()))\n",
    "\n",
    "result_arr = []\n",
    "for i in range(n):    \n",
    "    result_arr.append(digit_sum(arr[i]))\n",
    "    \n",
    "max_n = 0\n",
    "for i in range(n):\n",
    "    if result_arr[i] > max_n:\n",
    "        max_n = result_arr[i]\n",
    "        k = i\n",
    "        \n",
    "    elif max_n == result_arr[i]:\n",
    "        k = i - 1\n",
    "        \n",
    "print(arr[k])"
   ]
  },
  {
   "cell_type": "code",
   "execution_count": 64,
   "id": "86b80fa0",
   "metadata": {},
   "outputs": [
    {
     "name": "stdout",
     "output_type": "stream",
     "text": [
      "ㅇ\n"
     ]
    },
    {
     "ename": "ValueError",
     "evalue": "invalid literal for int() with base 10: 'ㅇ'",
     "output_type": "error",
     "traceback": [
      "\u001b[1;31m---------------------------------------------------------------------------\u001b[0m",
      "\u001b[1;31mValueError\u001b[0m                                Traceback (most recent call last)",
      "\u001b[1;32mC:\\Users\\CHANGH~1\\AppData\\Local\\Temp/ipykernel_63220/3699411632.py\u001b[0m in \u001b[0;36m<module>\u001b[1;34m\u001b[0m\n\u001b[0;32m      1\u001b[0m \u001b[1;31m# 정석풀이\u001b[0m\u001b[1;33m\u001b[0m\u001b[1;33m\u001b[0m\u001b[0m\n\u001b[0;32m      2\u001b[0m \u001b[1;33m\u001b[0m\u001b[0m\n\u001b[1;32m----> 3\u001b[1;33m \u001b[0mn\u001b[0m \u001b[1;33m=\u001b[0m \u001b[0mint\u001b[0m\u001b[1;33m(\u001b[0m\u001b[0minput\u001b[0m\u001b[1;33m(\u001b[0m\u001b[1;33m)\u001b[0m\u001b[1;33m)\u001b[0m\u001b[1;33m\u001b[0m\u001b[1;33m\u001b[0m\u001b[0m\n\u001b[0m\u001b[0;32m      4\u001b[0m \u001b[0ma\u001b[0m \u001b[1;33m=\u001b[0m \u001b[0mlist\u001b[0m\u001b[1;33m(\u001b[0m\u001b[0mmap\u001b[0m\u001b[1;33m(\u001b[0m\u001b[0mint\u001b[0m\u001b[1;33m,\u001b[0m \u001b[0minput\u001b[0m\u001b[1;33m(\u001b[0m\u001b[1;33m)\u001b[0m\u001b[1;33m.\u001b[0m\u001b[0msplit\u001b[0m\u001b[1;33m(\u001b[0m\u001b[1;33m)\u001b[0m\u001b[1;33m)\u001b[0m\u001b[1;33m)\u001b[0m\u001b[1;33m\u001b[0m\u001b[1;33m\u001b[0m\u001b[0m\n\u001b[0;32m      5\u001b[0m \u001b[1;33m\u001b[0m\u001b[0m\n",
      "\u001b[1;31mValueError\u001b[0m: invalid literal for int() with base 10: 'ㅇ'"
     ]
    }
   ],
   "source": [
    "# 정석풀이\n",
    "\n",
    "n = int(input())\n",
    "a = list(map(int, input().split()))\n",
    "\n",
    "def digit_sum(x):\n",
    "    sum_n = 0\n",
    "    \n",
    "    while x > 0:\n",
    "        sum_n = x % 10\n",
    "        x = x // 10\n",
    "    \n",
    "    return sum_n\n",
    "\n",
    "max_n = -2147000000\n",
    "for x in a:\n",
    "    tot = digit_sum(x)\n",
    "    if tot>max_n:\n",
    "        max_n = tot\n",
    "        res = x\n",
    "print(res)"
   ]
  },
  {
   "cell_type": "code",
   "execution_count": 97,
   "id": "83ccff0d",
   "metadata": {},
   "outputs": [
    {
     "name": "stdout",
     "output_type": "stream",
     "text": [
      "20\n",
      "[1, 2, 2, 3, 2, 4, 2, 4, 3, 4, 2, 6, 2, 4, 4, 5, 2, 6, 2, 6]\n",
      "8\n"
     ]
    }
   ],
   "source": [
    "n = int(input())\n",
    "\n",
    "sosu_arr = []\n",
    "for i in range(1, n + 1):\n",
    "    cnt = 0\n",
    "    for j in range(1, n + 1):\n",
    "        if i % j == 0:\n",
    "            cnt += 1\n",
    "            \n",
    "    sosu_arr.append(cnt)\n",
    "\n",
    "print(sosu_arr)\n",
    "arr=[]\n",
    "for i in range(len(sosu_arr)):\n",
    "    if sosu_arr[i] <= 2:\n",
    "        if sosu_arr[i] == 1:\n",
    "            continue\n",
    "        arr.append(i + 1)\n",
    "        \n",
    "print(len(arr))"
   ]
  },
  {
   "cell_type": "code",
   "execution_count": 99,
   "id": "6456ae07",
   "metadata": {},
   "outputs": [
    {
     "name": "stdout",
     "output_type": "stream",
     "text": [
      "20\n"
     ]
    }
   ],
   "source": [
    "n = int(input())\n",
    "arr = [0] * (n + 1)\n",
    "cnt = 0"
   ]
  },
  {
   "cell_type": "code",
   "execution_count": 100,
   "id": "6d4e6d26",
   "metadata": {},
   "outputs": [
    {
     "name": "stdout",
     "output_type": "stream",
     "text": [
      "8\n"
     ]
    }
   ],
   "source": [
    "if n % i == 0:\n",
    "        print(i)\n",
    "\n",
    "for i in range(2, n + 1):\n",
    "    if arr[i] == 0:\n",
    "        cnt += 1\n",
    "        for j in range(i, n + 1, i):\n",
    "            arr[j] = 1\n",
    "            \n",
    "print(cnt)"
   ]
  },
  {
   "cell_type": "code",
   "execution_count": null,
   "id": "d8c2193b",
   "metadata": {},
   "outputs": [],
   "source": []
  }
 ],
 "metadata": {
  "kernelspec": {
   "display_name": "Python 3 (ipykernel)",
   "language": "python",
   "name": "python3"
  },
  "language_info": {
   "codemirror_mode": {
    "name": "ipython",
    "version": 3
   },
   "file_extension": ".py",
   "mimetype": "text/x-python",
   "name": "python",
   "nbconvert_exporter": "python",
   "pygments_lexer": "ipython3",
   "version": "3.9.7"
  }
 },
 "nbformat": 4,
 "nbformat_minor": 5
}
