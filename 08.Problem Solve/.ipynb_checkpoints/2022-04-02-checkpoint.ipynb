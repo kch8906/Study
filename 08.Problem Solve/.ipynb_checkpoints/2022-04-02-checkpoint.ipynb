{
 "cells": [
  {
   "cell_type": "markdown",
   "id": "e4e738c5",
   "metadata": {},
   "source": [
    "### 트리 순회 - 백준 1991\n",
    "이진 트리를 입력받아 전위 순회(preorder traversal), 중위 순회(inorder traversal), 후위 순회(postorder traversal)한 결과를 출력하는 프로그램을 작성하시오.<br>\n",
    "<br>\n",
    "![nn](img/트리순회.PNG)\n",
    "예를 들어 위와 같은 이진 트리가 입력되면,<br>\n",
    "<br>\n",
    "- 전위 순회한 결과 : ABDCEFG // (루트) (왼쪽 자식) (오른쪽 자식)\n",
    "- 중위 순회한 결과 : DBAECFG // (왼쪽 자식) (루트) (오른쪽 자식)\n",
    "- 후위 순회한 결과 : DBEGFCA // (왼쪽 자식) (오른쪽 자식) (루트)\n",
    "가 된다.<br>\n",
    "<br>\n",
    "- **입력**<br>\n",
    "첫째 줄에는 이진 트리의 노드의 개수 N(1 ≤ N ≤ 26)이 주어진다. 둘째 줄부터 N개의 줄에 걸쳐 각 노드와 그의 왼쪽 자식 노드, 오른쪽 자식 노드가 주어진다. 노드의 이름은 A부터 차례대로 알파벳 대문자로 매겨지며, 항상 A가 루트 노드가 된다. 자식 노드가 없는 경우에는 .으로 표현한다.<br>\n",
    "<br>\n",
    "- **출력**<br>\n",
    "첫째 줄에 전위 순회, 둘째 줄에 중위 순회, 셋째 줄에 후위 순회한 결과를 출력한다. 각 줄에 N개의 알파벳을 공백 없이 출력하면 된다."
   ]
  },
  {
   "cell_type": "code",
   "execution_count": 22,
   "id": "93d0a8f4",
   "metadata": {},
   "outputs": [
    {
     "name": "stdout",
     "output_type": "stream",
     "text": [
      "2\n",
      "a b c\n",
      "b c .\n",
      "1\n"
     ]
    }
   ],
   "source": [
    "n = int(input())\n",
    "word_list = ''\n",
    "for i in range(n):\n",
    "    if len(word_list) == 0:\n",
    "        word_list = list(input().split())\n",
    "    else:\n",
    "        add_word = input().split()\n",
    "        if add_word[0] in word_list:\n",
    "            for j in range(1, len(add_word) + 1):\n",
    "                if word_list[i] = add_word[0]:\n",
    "                    word_list[2 * i] = add_word[0]"
   ]
  },
  {
   "cell_type": "code",
   "execution_count": 18,
   "id": "4caa54e1",
   "metadata": {},
   "outputs": [
    {
     "data": {
      "text/plain": [
       "['a', 'b', 'c']"
      ]
     },
     "execution_count": 18,
     "metadata": {},
     "output_type": "execute_result"
    }
   ],
   "source": [
    "word_list"
   ]
  },
  {
   "cell_type": "code",
   "execution_count": 19,
   "id": "dbe3d271",
   "metadata": {},
   "outputs": [
    {
     "data": {
      "text/plain": [
       "'b'"
      ]
     },
     "execution_count": 19,
     "metadata": {},
     "output_type": "execute_result"
    }
   ],
   "source": [
    "add_word[0]"
   ]
  },
  {
   "cell_type": "code",
   "execution_count": 20,
   "id": "670a3f2d",
   "metadata": {},
   "outputs": [
    {
     "data": {
      "text/plain": [
       "False"
      ]
     },
     "execution_count": 20,
     "metadata": {},
     "output_type": "execute_result"
    }
   ],
   "source": [
    "add_word[0] == any(word_list)"
   ]
  },
  {
   "cell_type": "code",
   "execution_count": null,
   "id": "57bded9f",
   "metadata": {},
   "outputs": [],
   "source": []
  }
 ],
 "metadata": {
  "kernelspec": {
   "display_name": "Python [conda env:machine_TF15] *",
   "language": "python",
   "name": "conda-env-machine_TF15-py"
  },
  "language_info": {
   "codemirror_mode": {
    "name": "ipython",
    "version": 3
   },
   "file_extension": ".py",
   "mimetype": "text/x-python",
   "name": "python",
   "nbconvert_exporter": "python",
   "pygments_lexer": "ipython3",
   "version": "3.7.13"
  }
 },
 "nbformat": 4,
 "nbformat_minor": 5
}
