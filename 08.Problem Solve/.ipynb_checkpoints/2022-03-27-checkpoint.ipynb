{
 "cells": [
  {
   "cell_type": "markdown",
   "id": "9ff422a5",
   "metadata": {},
   "source": [
    "### 인접행렬(가중치 방향그래프)\n",
    "아래 그림과 같은 그래프 정보를 인접행렬로 표현해보세요.\n",
    "\n",
    "![nn](img/가중치방향그래프.PNG)\n",
    "<br>\n",
    "- **입력설명**<br>\n",
    "첫째 줄에는 정점의 수 N(2<=N<=20)와 간선의 수 M가 주어진다. 그 다음부터 M줄에 걸쳐 연결정보와 거리비용이 주어진다.<br>\n",
    "<br>\n",
    "- **출력설명**<br>\n",
    "인접행렬을 출력하세요.<br>\n",
    "<br>\n",
    "- **입력예제**<br>\n",
    "6 9<br>\n",
    "1 2 7<br>\n",
    "1 3 4<br>\n",
    "2 1 2<br>\n",
    "2 3 5<br>\n",
    "2 5 5<br>\n",
    "3 4 5<br>\n",
    "4 2 2<br>\n",
    "4 5 5<br>\n",
    "6 4 5<br>\n",
    "<br>\n",
    "- **출력예제**<br>\n",
    "0 7 4 0 0 0<br>\n",
    "2 0 5 0 5 0<br>\n",
    "0 0 0 5 0 0<br>\n",
    "0 2 0 0 5 0<br>\n",
    "0 0 0 0 0 0<br>\n",
    "0 0 0 5 0 0<br>\n"
   ]
  },
  {
   "cell_type": "code",
   "execution_count": 7,
   "id": "43ac1cd1",
   "metadata": {},
   "outputs": [
    {
     "name": "stdout",
     "output_type": "stream",
     "text": [
      "6 9\n",
      "1 2 7\n",
      "1 3 4\n",
      "2 1 2\n",
      "2 3 5\n",
      "2 5 5\n",
      "3 4 5\n",
      "4 2 2\n",
      "4 5 5\n",
      "6 4 5\n",
      "0 7 4 0 0 0 \n",
      "2 0 5 0 5 0 \n",
      "0 0 0 5 0 0 \n",
      "0 2 0 0 5 0 \n",
      "0 0 0 0 0 0 \n",
      "0 0 0 5 0 0 \n"
     ]
    }
   ],
   "source": [
    "n, m = map(int, input().split())\n",
    "\n",
    "matrix = [[0 for i in range(n)] for j in range(n)]\n",
    "\n",
    "for i in range(m):\n",
    "    x, y, weight = map(int, input().split())\n",
    "    matrix[x - 1][y - 1] = weight\n",
    "    \n",
    "for i in range(n):\n",
    "    for j in range(n):\n",
    "        print(matrix[i][j], end=' ')\n",
    "    print()"
   ]
  },
  {
   "cell_type": "code",
   "execution_count": 11,
   "id": "891cde89",
   "metadata": {},
   "outputs": [
    {
     "name": "stdout",
     "output_type": "stream",
     "text": [
      "6 9\n",
      "1 2 7\n",
      "1 3 4\n",
      "2 1 2\n",
      "2 3 5\n",
      "2 5 5\n",
      "3 4 5\n",
      "4 2 2\n",
      "4 5 5\n",
      "6 4 5\n",
      "0 7 4 0 0 0 \n",
      "2 0 5 0 5 0 \n",
      "0 0 0 5 0 0 \n",
      "0 2 0 0 5 0 \n",
      "0 0 0 0 0 0 \n",
      "0 0 0 5 0 0 \n"
     ]
    }
   ],
   "source": [
    "n, m = map(int, input().split())\n",
    "g=[[0]*(n+1) for _ in range(n+1)]\n",
    "for i in range(m):\n",
    "    a, b, c = map(int, input().split())\n",
    "    g[a][b]= c\n",
    "   \n",
    "\n",
    "for i in range(1, n+1):\n",
    "    for j in range(1, n+1):\n",
    "        print(g[i][j], end=' ')\n",
    "    print()"
   ]
  }
 ],
 "metadata": {
  "kernelspec": {
   "display_name": "Python [conda env:machine] *",
   "language": "python",
   "name": "conda-env-machine-py"
  },
  "language_info": {
   "codemirror_mode": {
    "name": "ipython",
    "version": 3
   },
   "file_extension": ".py",
   "mimetype": "text/x-python",
   "name": "python",
   "nbconvert_exporter": "python",
   "pygments_lexer": "ipython3",
   "version": "3.8.12"
  }
 },
 "nbformat": 4,
 "nbformat_minor": 5
}
