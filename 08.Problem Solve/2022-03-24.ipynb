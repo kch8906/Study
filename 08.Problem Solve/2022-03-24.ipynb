{
 "cells": [
  {
   "cell_type": "markdown",
   "id": "62c8c53d",
   "metadata": {},
   "source": [
    "### 수열 추측하기\n",
    "\n",
    "가장 윗줄에 1부터 N까지의 숫자가 한 개씩 적혀 있다. 그리고 둘째 줄부터 차례대로 파스칼의 삼각형처럼 위의 두개를 더한 값이 저장되게 된다.<br> 예를 들어 N이 4 이고 가장 윗 줄에 3 1 2 4 가 있다고 했을 때, 다음과 같은 삼각형이 그려진다.<br>\n",
    "<br>\n",
    "**<center>3 1 2 4</center>**\n",
    "**<center>4 3 6</center>**\n",
    "**<center>7 9</center>**\n",
    "**<center>16</center>**\n",
    "\n",
    "N과 가장 밑에 있는 숫자가 주어져 있을 때 가장 윗줄에 있는 숫자를 구하는 프로그램을 작성하시오.<br> 단, 답이 여러가지가 나오는 경우에는 사전순으로 가장 앞에 오는 것을 출력하여야 한다.\n",
    "\n",
    "- **입력설명**<br>\n",
    "첫째 줄에 두개의 정수 N(1≤N≤10)과 F가 주어진다. N은 가장 윗줄에 있는 숫자의 개수를 의미하며 F는 가장 밑에 줄에 있는 수로 1,000,000 이하이다.<br>\n",
    "<br>\n",
    "- **출력설명**<br>\n",
    "첫째 줄에 삼각형에서 가장 위에 들어갈 N개의 숫자를 빈 칸을 사이에 두고 출력한다. 답이 존재하지 않는 경우는 입력으로 주어지지 않는다.<br>\n",
    "<br>\n",
    "- **입력예제**<br>\n",
    "4 16<br>\n",
    "<br>\n",
    "- **출력예제**<br>\n",
    "3 1 2 4"
   ]
  },
  {
   "cell_type": "markdown",
   "id": "0326d92d",
   "metadata": {},
   "source": [
    "#############################################################################"
   ]
  },
  {
   "cell_type": "code",
   "execution_count": 14,
   "id": "d272bb2d",
   "metadata": {},
   "outputs": [
    {
     "name": "stdout",
     "output_type": "stream",
     "text": [
      "4 16\n",
      "1 2 3 4 \n",
      "1 2 4 3 \n",
      "1 3 2 4 \n",
      "1 3 4 2 \n",
      "1 4 2 3 \n",
      "1 4 3 2 \n",
      "2 1 3 4 \n",
      "2 1 4 3 \n",
      "2 3 1 4 \n",
      "2 3 4 1 \n",
      "2 4 1 3 \n",
      "2 4 3 1 \n",
      "3 1 2 4 \n",
      "3 1 4 2 \n",
      "3 2 1 4 \n",
      "3 2 4 1 \n",
      "3 4 1 2 \n",
      "3 4 2 1 \n",
      "4 1 2 3 \n",
      "4 1 3 2 \n",
      "4 2 1 3 \n",
      "4 2 3 1 \n",
      "4 3 1 2 \n",
      "4 3 2 1 \n"
     ]
    }
   ],
   "source": [
    "def DFS(level):\n",
    "    if level == n:\n",
    "        # 이항계수 적용\n",
    "        for i in range(n):\n",
    "            print(n_list[i], end=' ')            \n",
    "        print()\n",
    "    else:\n",
    "        for i in range(1, n + 1):\n",
    "            if check[i] == 0:\n",
    "                check[i] = 1\n",
    "                n_list[level] = i\n",
    "                DFS(level + 1)\n",
    "                check[i] = 0\n",
    "\n",
    "n, f = map(int, input().split())\n",
    "n_list = list(range(n + 1))\n",
    "check = [0] * (n + 1)\n",
    "\n",
    "DFS(0)"
   ]
  },
  {
   "cell_type": "code",
   "execution_count": 17,
   "id": "e9cc1afc",
   "metadata": {},
   "outputs": [
    {
     "name": "stdout",
     "output_type": "stream",
     "text": [
      "24\n"
     ]
    }
   ],
   "source": [
    "def factorial(n):\n",
    "    if n == 0:\n",
    "        return 1\n",
    "    return n * factorial(n-1)\n",
    "\n",
    "\n",
    "print(factorial(n))"
   ]
  },
  {
   "cell_type": "code",
   "execution_count": null,
   "id": "c4f5e9e5",
   "metadata": {},
   "outputs": [],
   "source": []
  }
 ],
 "metadata": {
  "kernelspec": {
   "display_name": "Python [conda env:machine] *",
   "language": "python",
   "name": "conda-env-machine-py"
  },
  "language_info": {
   "codemirror_mode": {
    "name": "ipython",
    "version": 3
   },
   "file_extension": ".py",
   "mimetype": "text/x-python",
   "name": "python",
   "nbconvert_exporter": "python",
   "pygments_lexer": "ipython3",
   "version": "3.8.12"
  }
 },
 "nbformat": 4,
 "nbformat_minor": 5
}
