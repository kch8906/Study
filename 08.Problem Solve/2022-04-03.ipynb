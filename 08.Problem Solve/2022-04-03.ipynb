{
 "cells": [
  {
   "cell_type": "markdown",
   "id": "e4e738c5",
   "metadata": {},
   "source": [
    "### 트리 순회 - 백준 1991\n",
    "이진 트리를 입력받아 전위 순회(preorder traversal), 중위 순회(inorder traversal), 후위 순회(postorder traversal)한 결과를 출력하는 프로그램을 작성하시오.<br>\n",
    "<br>\n",
    "![nn](img/트리순회.PNG)\n",
    "예를 들어 위와 같은 이진 트리가 입력되면,<br>\n",
    "<br>\n",
    "- 전위 순회한 결과 : ABDCEFG // (루트) (왼쪽 자식) (오른쪽 자식)\n",
    "- 중위 순회한 결과 : DBAECFG // (왼쪽 자식) (루트) (오른쪽 자식)\n",
    "- 후위 순회한 결과 : DBEGFCA // (왼쪽 자식) (오른쪽 자식) (루트)\n",
    "가 된다.<br>\n",
    "<br>\n",
    "- **입력**<br>\n",
    "첫째 줄에는 이진 트리의 노드의 개수 N(1 ≤ N ≤ 26)이 주어진다. 둘째 줄부터 N개의 줄에 걸쳐 각 노드와 그의 왼쪽 자식 노드, 오른쪽 자식 노드가 주어진다. 노드의 이름은 A부터 차례대로 알파벳 대문자로 매겨지며, 항상 A가 루트 노드가 된다. 자식 노드가 없는 경우에는 .으로 표현한다.<br>\n",
    "<br>\n",
    "- **출력**<br>\n",
    "첫째 줄에 전위 순회, 둘째 줄에 중위 순회, 셋째 줄에 후위 순회한 결과를 출력한다. 각 줄에 N개의 알파벳을 공백 없이 출력하면 된다.\n",
    "<br>\n",
    "- **예제입력**<br>\n",
    "7<br>\n",
    "A B C<br>\n",
    "B D .<br>\n",
    "C E F<br>\n",
    "E . .<br>\n",
    "F . G<br>\n",
    "D . .<br>\n",
    "G . .<br>"
   ]
  },
  {
   "cell_type": "code",
   "execution_count": 9,
   "id": "faec1caf",
   "metadata": {},
   "outputs": [],
   "source": [
    "def binary_tree(input_list):\n",
    "    for i in range(1, len(input_list) + 1):\n",
    "        if check[i] == 0:\n",
    "            check[i] = input_list[i - 1]\n",
    "            \n",
    "        if check[i] == parent:\n",
    "            location = i\n",
    "            left_check = lambda x : left if x != '.' else ''\n",
    "            right_check = lambda x : right if x != '.' else ''\n",
    "            check[i * 2] = left_check(left)\n",
    "            check[(i * 2) + 1] = right_check(right)"
   ]
  },
  {
   "cell_type": "code",
   "execution_count": 15,
   "id": "93d0a8f4",
   "metadata": {},
   "outputs": [
    {
     "name": "stdout",
     "output_type": "stream",
     "text": [
      "7\n",
      "a b c\n",
      "b d .\n",
      "c e f\n",
      "e . .\n",
      "f . g\n",
      "d . .\n",
      "g . .\n"
     ]
    }
   ],
   "source": [
    "n = int(input())\n",
    "check = [0] * (n + 1)\n",
    "cnt = 1\n",
    "for _ in range(n):\n",
    "    parent, left, right = input().split()\n",
    "    input_list = [parent, left, right]\n",
    "#     binary_tree(input_list)    \n",
    "    for i in range(cnt, len(input_list) + 1):\n",
    "        if check[i] == 0:\n",
    "            check[i] = input_list[i - 1]\n",
    "\n",
    "        if check[i] == parent:\n",
    "            location = i\n",
    "            left_check = lambda x : left if x != '.' else ''\n",
    "            right_check = lambda x : right if x != '.' else ''\n",
    "            check[i * 2] = left_check(left)\n",
    "            check[(i * 2) + 1] = right_check(right)\n",
    "\n",
    "    else:\n",
    "        cnt += 1"
   ]
  },
  {
   "cell_type": "code",
   "execution_count": 12,
   "id": "12850c0c",
   "metadata": {},
   "outputs": [],
   "source": [
    "cnt = 1\n",
    "for i in range(cnt, len(input_list) + 1):\n",
    "    if check[i] == 0:\n",
    "        check[i] = input_list[i - 1]\n",
    "\n",
    "    if check[i] == parent:\n",
    "        location = i\n",
    "        left_check = lambda x : left if x != '.' else ''\n",
    "        right_check = lambda x : right if x != '.' else ''\n",
    "        check[i * 2] = left_check(left)\n",
    "        check[(i * 2) + 1] = right_check(right)\n",
    "        \n",
    "else:\n",
    "    cnt += 1"
   ]
  },
  {
   "cell_type": "code",
   "execution_count": 16,
   "id": "2363c688",
   "metadata": {
    "scrolled": true
   },
   "outputs": [
    {
     "data": {
      "text/plain": [
       "[0, 'a', 'b', 'c', 'd', '', 'e', 'f']"
      ]
     },
     "execution_count": 16,
     "metadata": {},
     "output_type": "execute_result"
    }
   ],
   "source": [
    "check"
   ]
  },
  {
   "cell_type": "markdown",
   "id": "5207ce53",
   "metadata": {},
   "source": [
    "입력값으로 . 부분이 오면 해당노드에 자식이 없다는 것을 간주하고 list에 넣고 최종적으로 전위,중위,후위를 출력 하려고 했는데 g 삽입부분에서 막혔다 왜 막히는지는 알겠는데 풀 능력이 안됨"
   ]
  },
  {
   "cell_type": "code",
   "execution_count": null,
   "id": "30de69aa",
   "metadata": {},
   "outputs": [],
   "source": [
    "# 풀이 \n",
    "\n",
    "n = int(input())\n",
    "tree = dict()\n",
    "\n",
    "# 반복문을 통해 트리 생성\n",
    "for i in range(n):\n",
    "    root, left, right = map(str, input().split())\n",
    "    tree[root] = left, right\n",
    "\n",
    "\n",
    "# 전위 순회\n",
    "def preorder(v):\n",
    "    if v != \".\": # 자식이 있다면\n",
    "        print(v, end=\"\") # 루트 노드 출력\n",
    "        preorder(tree[v][0]) # 재귀적으로 왼쪽 노드 탐색\n",
    "        preorder(tree[v][1]) # 재귀적으로 오른쪽 노드 탐색\n",
    "\n",
    "\n",
    "# 중위 순회\n",
    "def inorder(v):\n",
    "    if v != \".\": # 자식이 있다면\n",
    "        inorder(tree[v][0]) # 재귀적으로 왼쪽 노드 탐색\n",
    "        print(v, end=\"\") # 루트 노드 출력\n",
    "        inorder(tree[v][1]) # 재귀적으로 오른쪽 노드 탐색\n",
    "\n",
    "\n",
    "# 후위 순회\n",
    "def postorder(v):\n",
    "    if v != \".\": # 자식이 있다면\n",
    "        postorder(tree[v][0]) # 재귀적으로 왼쪽 노드 탐색\n",
    "        postorder(tree[v][1]) # 재귀적으로 오른쪽 노드 탐색\n",
    "        print(v, end=\"\") # 루트 노드 출력\n",
    "\n",
    "\n",
    "preorder('A')\n",
    "print()\n",
    "inorder('A')\n",
    "print()\n",
    "postorder('A')"
   ]
  }
 ],
 "metadata": {
  "kernelspec": {
   "display_name": "Python [conda env:machine_TF15]",
   "language": "python",
   "name": "conda-env-machine_TF15-py"
  },
  "language_info": {
   "codemirror_mode": {
    "name": "ipython",
    "version": 3
   },
   "file_extension": ".py",
   "mimetype": "text/x-python",
   "name": "python",
   "nbconvert_exporter": "python",
   "pygments_lexer": "ipython3",
   "version": "3.7.13"
  }
 },
 "nbformat": 4,
 "nbformat_minor": 5
}
