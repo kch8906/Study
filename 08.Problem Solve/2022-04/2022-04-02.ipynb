{
 "cells": [
  {
   "cell_type": "markdown",
   "id": "2af3be06",
   "metadata": {},
   "source": [
    "### 동전교환"
   ]
  },
  {
   "cell_type": "code",
   "execution_count": 13,
   "id": "c26b8f48",
   "metadata": {},
   "outputs": [],
   "source": [
    "def DFS(level, sum_n):\n",
    "    global result\n",
    "    if level >= result:\n",
    "        return\n",
    "    if sum_n > m:\n",
    "        return\n",
    "    if sum_n == m:\n",
    "        if level < result:\n",
    "            result = level\n",
    "    else:\n",
    "        for i in range(n):\n",
    "            DFS(level + 1, sum_n + n_list[i])"
   ]
  },
  {
   "cell_type": "code",
   "execution_count": 17,
   "id": "8f81028d",
   "metadata": {},
   "outputs": [
    {
     "name": "stdout",
     "output_type": "stream",
     "text": [
      "3\n",
      "1 2 5\n",
      "15\n",
      "3\n"
     ]
    }
   ],
   "source": [
    "n = int(input())\n",
    "n_list = list(map(int, input().split()))\n",
    "m = int(input())\n",
    "result = 2147000000\n",
    "n_list.sort(reverse=True)\n",
    "DFS(0, 0)\n",
    "print(result)"
   ]
  },
  {
   "cell_type": "markdown",
   "id": "5c76b50c",
   "metadata": {},
   "source": [
    "### 순열 구하기"
   ]
  },
  {
   "cell_type": "code",
   "execution_count": 38,
   "id": "f3c22844",
   "metadata": {},
   "outputs": [],
   "source": [
    "def DFS(level):\n",
    "    global cnt\n",
    "    if level == m:\n",
    "        for i in range(m):\n",
    "            print(n_list[i], end = ' ')\n",
    "        print()\n",
    "        cnt += 1\n",
    "    else:\n",
    "        for i in range(1, n + 1):\n",
    "            if check_list[i] == 0:\n",
    "                check_list[i] = 1\n",
    "                n_list[level] = i\n",
    "                DFS(level + 1)\n",
    "                check_list[i] = 0\n",
    "                "
   ]
  },
  {
   "cell_type": "code",
   "execution_count": 39,
   "id": "136cb8f8",
   "metadata": {},
   "outputs": [
    {
     "name": "stdout",
     "output_type": "stream",
     "text": [
      "3 2\n",
      "1 2 \n",
      "1 3 \n",
      "2 1 \n",
      "2 3 \n",
      "3 1 \n",
      "3 2 \n",
      "6\n"
     ]
    }
   ],
   "source": [
    "n, m = map(int, input().split())\n",
    "n_list = [0] * m\n",
    "check_list = [0] * (n + 1)\n",
    "cnt = 0\n",
    "DFS(0)\n",
    "print(cnt)"
   ]
  },
  {
   "cell_type": "code",
   "execution_count": null,
   "id": "930a348d",
   "metadata": {},
   "outputs": [],
   "source": []
  }
 ],
 "metadata": {
  "kernelspec": {
   "display_name": "Python [conda env:machine] *",
   "language": "python",
   "name": "conda-env-machine-py"
  },
  "language_info": {
   "codemirror_mode": {
    "name": "ipython",
    "version": 3
   },
   "file_extension": ".py",
   "mimetype": "text/x-python",
   "name": "python",
   "nbconvert_exporter": "python",
   "pygments_lexer": "ipython3",
   "version": "3.8.12"
  }
 },
 "nbformat": 4,
 "nbformat_minor": 5
}
