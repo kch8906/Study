{
 "cells": [
  {
   "cell_type": "markdown",
   "id": "bd708ee3",
   "metadata": {},
   "source": [
    "### 바둑이 승차(DFS)\n"
   ]
  },
  {
   "cell_type": "code",
   "execution_count": 34,
   "id": "075dee15",
   "metadata": {},
   "outputs": [
    {
     "name": "stdout",
     "output_type": "stream",
     "text": [
      "259 5\n",
      "81\n",
      "58\n",
      "42\n",
      "33\n",
      "61\n",
      "242\n"
     ]
    }
   ],
   "source": [
    "def DFS(level, sum_a, total_sum):\n",
    "    global result\n",
    "    if sum_a + (total - total_sum) < result:\n",
    "        return\n",
    "    if sum_a > c:\n",
    "        return\n",
    "    if level == n:\n",
    "        if sum_a > result:\n",
    "            result = sum_a\n",
    "    else:\n",
    "        DFS(level + 1, sum_a + num_list[level], total_sum + num_list[level])\n",
    "        DFS(level + 1, sum_a, total_sum + num_list[level])\n",
    "\n",
    "if __name__ == \"__main__\":\n",
    "    c, n = map(int, input().split())\n",
    "    num_list = [0] * n\n",
    "    result = 0\n",
    "    for i in range(n):\n",
    "        num_list[i] = int(input())\n",
    "    total = sum(num_list)\n",
    "    DFS(0, 0, 0)\n",
    "    print(result)"
   ]
  },
  {
   "cell_type": "markdown",
   "id": "35552360",
   "metadata": {},
   "source": [
    "### 중복순열 구하기"
   ]
  },
  {
   "cell_type": "code",
   "execution_count": 55,
   "id": "28398e12",
   "metadata": {},
   "outputs": [
    {
     "name": "stdout",
     "output_type": "stream",
     "text": [
      "3 2\n",
      "1 1 \n",
      "1 2 \n",
      "1 3 \n",
      "2 1 \n",
      "2 2 \n",
      "2 3 \n",
      "3 1 \n",
      "3 2 \n",
      "3 3 \n",
      "9\n"
     ]
    }
   ],
   "source": [
    "def DFS(level):\n",
    "    global cnt\n",
    "    if level == m:\n",
    "        for j in range(m):\n",
    "            print(num_list[j], end = ' ')\n",
    "        print()\n",
    "        cnt += 1\n",
    "    else:\n",
    "        for i in range(1, n + 1):\n",
    "            num_list[level] = i\n",
    "            DFS(level + 1)\n",
    "\n",
    "\n",
    "n, m = map(int, input().split())\n",
    "num_list = [0] * m\n",
    "cnt = 0\n",
    "DFS(0)\n",
    "print(cnt)"
   ]
  }
 ],
 "metadata": {
  "kernelspec": {
   "display_name": "Python [conda env:machine]",
   "language": "python",
   "name": "conda-env-machine-py"
  },
  "language_info": {
   "codemirror_mode": {
    "name": "ipython",
    "version": 3
   },
   "file_extension": ".py",
   "mimetype": "text/x-python",
   "name": "python",
   "nbconvert_exporter": "python",
   "pygments_lexer": "ipython3",
   "version": "3.8.12"
  }
 },
 "nbformat": 4,
 "nbformat_minor": 5
}
