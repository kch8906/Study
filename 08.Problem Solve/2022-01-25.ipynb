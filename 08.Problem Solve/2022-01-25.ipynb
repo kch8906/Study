{
 "cells": [
  {
   "cell_type": "code",
   "execution_count": 2,
   "id": "8b991d5a",
   "metadata": {
    "scrolled": true
   },
   "outputs": [
    {
     "name": "stdout",
     "output_type": "stream",
     "text": [
      "5\n",
      "x:4\n",
      "line:2\n",
      "x:2\n",
      "line:3\n"
     ]
    }
   ],
   "source": [
    "x = int(input())\n",
    "\n",
    "line = 1\n",
    "\n",
    "while x > line:\n",
    "    x -= line\n",
    "    line += 1\n",
    "    print('x:{}'.format(x))\n",
    "    print('line:{}'.format(line))\n",
    "\n",
    "# if line % 2 == 0:\n",
    "#     a = x\n",
    "#     b = line - x + 1\n",
    "    \n",
    "# else:\n",
    "#     a = line - x + 1\n",
    "#     b = x\n",
    "    \n",
    "# print(a, '/', b, sep='')"
   ]
  },
  {
   "cell_type": "code",
   "execution_count": 36,
   "id": "eb4c2536",
   "metadata": {},
   "outputs": [
    {
     "name": "stdout",
     "output_type": "stream",
     "text": [
      "3 1\n"
     ]
    }
   ],
   "source": [
    "# 15649\n",
    "\n",
    "x, y = list(map(int, input().split()))"
   ]
  },
  {
   "cell_type": "code",
   "execution_count": 37,
   "id": "e012bd04",
   "metadata": {},
   "outputs": [
    {
     "name": "stdout",
     "output_type": "stream",
     "text": [
      "1\n",
      "2\n",
      "3\n"
     ]
    }
   ],
   "source": [
    "for i in range(1, x + 1, y):\n",
    "    if y > 1:\n",
    "        for j in range()"
   ]
  },
  {
   "cell_type": "code",
   "execution_count": null,
   "id": "9aee5f1f",
   "metadata": {},
   "outputs": [],
   "source": [
    "n = 60\n",
    "\n",
    "b = bin(n) # 2진수\n",
    "o = oct(n) # 10진수\n",
    "h = hex(n) # 16진수"
   ]
  },
  {
   "cell_type": "code",
   "execution_count": 39,
   "id": "5f23e269",
   "metadata": {},
   "outputs": [
    {
     "name": "stdout",
     "output_type": "stream",
     "text": [
      "53\n",
      "110101\n"
     ]
    }
   ],
   "source": [
    "# 10829\n",
    "def trans(n):\n",
    "    if (n < 1):\n",
    "        return '0'\n",
    "    elif n == 1:\n",
    "        return '1'\n",
    "    if n % 2 == 0:\n",
    "        return trans(int(n/2)) + '0'\n",
    "    elif n % 2 == 1:\n",
    "        return trans(int(n/2)) + '1'\n",
    "    \n",
    "    \n",
    "n = int(input())\n",
    "answer = trans(n)\n",
    "print(answer)"
   ]
  },
  {
   "cell_type": "code",
   "execution_count": 1,
   "id": "5748d3fd",
   "metadata": {},
   "outputs": [
    {
     "name": "stdout",
     "output_type": "stream",
     "text": [
      "55\n"
     ]
    }
   ],
   "source": [
    "# sum_to() 함수는 숫자 n을 인자로 받아서 1부터 n까지의 숫자를 모두 더한다\n",
    "\n",
    "def sum_to(n):\n",
    "    if n == 1:\n",
    "        return 1\n",
    "    \n",
    "    sub_solution = sum_to(n - 1)\n",
    "    return sub_solution + n\n",
    "\n",
    "print(sum_to(10))"
   ]
  },
  {
   "cell_type": "code",
   "execution_count": 111,
   "id": "a122f04d",
   "metadata": {},
   "outputs": [
    {
     "name": "stdout",
     "output_type": "stream",
     "text": [
      "6 10\n",
      "4 6 5 1 3 2\n",
      "2 4\n",
      "4.429464340209961\n"
     ]
    }
   ],
   "source": [
    "# 23968 버블정렬\n",
    "import time\n",
    "\n",
    "start_time = time.time()\n",
    "a, k = list(map(int, input().split()))\n",
    "a_list = [0] * a\n",
    "a_list = list(map(int, input().split()))\n",
    "\n",
    "\n",
    "n = len(a_list)\n",
    "cnt = 0\n",
    "for i in range(n):\n",
    "    for j in range(0, n - i - 1):\n",
    "        if a_list[j] > a_list[j + 1]:                        \n",
    "            a_list[j], a_list[j + 1] = a_list[j + 1], a_list[j]    \n",
    "            cnt += 1\n",
    "            if cnt == k:\n",
    "                print('{} {}'.format(a_list[j], a_list[j + 1]))\n",
    "                   \n",
    "if cnt < k:\n",
    "    print('-1')\n",
    "    \n",
    "print(time.time() - start_time)"
   ]
  },
  {
   "cell_type": "code",
   "execution_count": 110,
   "id": "a617b6fa",
   "metadata": {},
   "outputs": [
    {
     "name": "stdout",
     "output_type": "stream",
     "text": [
      "6 10\n",
      "4 6 5 1 3 2\n",
      "2 4\n",
      "None\n"
     ]
    }
   ],
   "source": [
    "def bubble_sort(arr, k):\n",
    "    cnt = 0\n",
    "    for i in range(len(arr)):\n",
    "        for j in range(len(arr) - i - 1):\n",
    "            if arr[j] > arr[j + 1]:\n",
    "                arr[j], arr[j + 1] = arr[j + 1], arr[j]\n",
    "                cnt += 1\n",
    "                if cnt == k:\n",
    "                    return print('{} {}'.format(arr[j], arr[j + 1]))\n",
    "                    \n",
    "    if cnt < k:\n",
    "        return -1\n",
    "    \n",
    "    \n",
    "a, k = list(map(int, input().split()))\n",
    "a_list = list(map(int, input().split()))\n",
    "\n",
    "print(bubble_sort(a_list, k))"
   ]
  },
  {
   "cell_type": "code",
   "execution_count": 89,
   "id": "d55ee780",
   "metadata": {},
   "outputs": [
    {
     "name": "stdout",
     "output_type": "stream",
     "text": [
      "-1\n"
     ]
    }
   ],
   "source": [
    "n = len(a_list)\n",
    "cnt = 0\n",
    "for i in range(n):\n",
    "    for j in range(0, n - i - 1):\n",
    "        if a_list[j] > a_list[j + 1]:\n",
    "            cnt += 1            \n",
    "            a_list[j], a_list[j + 1] = a_list[j + 1], a_list[j]            \n",
    "            if cnt == k:\n",
    "                print('{} {}'.format(a_list[j], a_list[j + 1]))\n",
    "                   \n",
    "if cnt < k:\n",
    "    print('-1')\n",
    "            \n"
   ]
  },
  {
   "cell_type": "code",
   "execution_count": 128,
   "id": "e0da2428",
   "metadata": {},
   "outputs": [
    {
     "name": "stdout",
     "output_type": "stream",
     "text": [
      "5 2\n",
      "4 1 2 3 5\n"
     ]
    }
   ],
   "source": [
    "# 11004\n",
    "\n",
    "MIS = lambda : map(int, input().split())\n",
    "\n",
    "N, K = MIS()\n",
    "a_list = [0] * N\n",
    "a_list = list(MIS())\n",
    "counting_list = [0] * (max(a_list) + 1)\n",
    "for i in range(max(a_list)):\n",
    "    counting_list[a_list[i]] += 1\n",
    "    \n",
    "for idx, val in enumerate(counting_list):\n",
    "    if idx == K:\n",
    "        print(idx)"
   ]
  },
  {
   "cell_type": "code",
   "execution_count": 134,
   "id": "fa784be2",
   "metadata": {},
   "outputs": [
    {
     "name": "stdout",
     "output_type": "stream",
     "text": [
      "2\n"
     ]
    }
   ],
   "source": [
    "for idx, val in enumerate(counting_list):\n",
    "    if idx == K:\n",
    "        print(idx)"
   ]
  },
  {
   "cell_type": "code",
   "execution_count": 139,
   "id": "08af05c4",
   "metadata": {},
   "outputs": [
    {
     "name": "stdout",
     "output_type": "stream",
     "text": [
      "5 2\n",
      "4 1 2 3 5\n",
      "2\n"
     ]
    }
   ],
   "source": [
    "MIS = lambda : map(int, input().split())\n",
    "\n",
    "N, K = MIS()\n",
    "a_list = list(MIS())\n",
    "a_list = sorted(a_list)\n",
    "\n",
    "print(a_list[K - 1])"
   ]
  },
  {
   "cell_type": "code",
   "execution_count": 138,
   "id": "003f61df",
   "metadata": {},
   "outputs": [
    {
     "name": "stdout",
     "output_type": "stream",
     "text": [
      "[1, 2, 3, 4, 5]\n"
     ]
    }
   ],
   "source": [
    "# 2309\n",
    "MIS = lambda : int(input())\n",
    "small_9_kid = []\n",
    "for i in range(9):\n",
    "    small_9_kid.append(MIS())\n",
    "    \n",
    "small_9_kid = sorted(small_9_kid)\n",
    "small_9_kid\n",
    "\n",
    "result = 0\n",
    "for i in range(len(small_9_kid)):\n",
    "    if result < 100 and result > 90:\n",
    "        break\n",
    "    else:\n",
    "        result += small_9_kid[i]\n",
    "        print(small_9_kid[i])"
   ]
  },
  {
   "cell_type": "code",
   "execution_count": null,
   "id": "2d6b609e",
   "metadata": {},
   "outputs": [
    {
     "name": "stdout",
     "output_type": "stream",
     "text": [
      "20\n",
      "7\n",
      "23\n",
      "19\n",
      "10\n",
      "15\n",
      "25\n",
      "8\n"
     ]
    }
   ],
   "source": [
    "n_list = [int(input()) for i in range(9)]\n",
    "\n",
    "total = sum(n_list)"
   ]
  },
  {
   "cell_type": "code",
   "execution_count": 176,
   "id": "b95c862a",
   "metadata": {},
   "outputs": [
    {
     "ename": "IndexError",
     "evalue": "list index out of range",
     "output_type": "error",
     "traceback": [
      "\u001b[1;31m---------------------------------------------------------------------------\u001b[0m",
      "\u001b[1;31mIndexError\u001b[0m                                Traceback (most recent call last)",
      "\u001b[1;32mC:\\Users\\CHANGH~1\\AppData\\Local\\Temp/ipykernel_105228/1399351430.py\u001b[0m in \u001b[0;36m<module>\u001b[1;34m\u001b[0m\n\u001b[0;32m      1\u001b[0m \u001b[1;32mfor\u001b[0m \u001b[0mi\u001b[0m \u001b[1;32min\u001b[0m \u001b[0mrange\u001b[0m\u001b[1;33m(\u001b[0m\u001b[1;36m9\u001b[0m\u001b[1;33m)\u001b[0m\u001b[1;33m:\u001b[0m\u001b[1;33m\u001b[0m\u001b[1;33m\u001b[0m\u001b[0m\n\u001b[0;32m      2\u001b[0m     \u001b[1;32mfor\u001b[0m \u001b[0mj\u001b[0m \u001b[1;32min\u001b[0m \u001b[0mrange\u001b[0m\u001b[1;33m(\u001b[0m\u001b[0mi\u001b[0m \u001b[1;33m+\u001b[0m \u001b[1;36m1\u001b[0m\u001b[1;33m,\u001b[0m \u001b[1;36m9\u001b[0m\u001b[1;33m)\u001b[0m\u001b[1;33m:\u001b[0m\u001b[1;33m\u001b[0m\u001b[1;33m\u001b[0m\u001b[0m\n\u001b[1;32m----> 3\u001b[1;33m         \u001b[1;32mif\u001b[0m \u001b[1;36m100\u001b[0m \u001b[1;33m==\u001b[0m \u001b[0mtotal\u001b[0m \u001b[1;33m-\u001b[0m \u001b[1;33m(\u001b[0m\u001b[0mn_list\u001b[0m\u001b[1;33m[\u001b[0m\u001b[0mi\u001b[0m\u001b[1;33m]\u001b[0m \u001b[1;33m+\u001b[0m \u001b[0mn_list\u001b[0m\u001b[1;33m[\u001b[0m\u001b[0mj\u001b[0m\u001b[1;33m]\u001b[0m\u001b[1;33m)\u001b[0m\u001b[1;33m:\u001b[0m\u001b[1;33m\u001b[0m\u001b[1;33m\u001b[0m\u001b[0m\n\u001b[0m\u001b[0;32m      4\u001b[0m             \u001b[0mnum1\u001b[0m\u001b[1;33m,\u001b[0m \u001b[0mnum2\u001b[0m \u001b[1;33m=\u001b[0m \u001b[0mn_list\u001b[0m\u001b[1;33m[\u001b[0m\u001b[0mi\u001b[0m\u001b[1;33m]\u001b[0m\u001b[1;33m,\u001b[0m \u001b[0mn_list\u001b[0m\u001b[1;33m[\u001b[0m\u001b[0mj\u001b[0m\u001b[1;33m]\u001b[0m\u001b[1;33m\u001b[0m\u001b[1;33m\u001b[0m\u001b[0m\n\u001b[0;32m      5\u001b[0m \u001b[1;33m\u001b[0m\u001b[0m\n",
      "\u001b[1;31mIndexError\u001b[0m: list index out of range"
     ]
    }
   ],
   "source": [
    "for i in range(9):\n",
    "    for j in range(i + 1, 9):\n",
    "        if 100 == total - (n_list[i] + n_list[j]):\n",
    "            num1, num2 = n_list[i], n_list[j]\n",
    "            \n",
    "            n_list.remove(num1)\n",
    "            n_list.remove(num2)\n",
    "            n_list.sort()\n",
    "            for i in range(len(n_list)):\n",
    "                print(n_list[i])\n",
    "            break\n",
    "            \n",
    "            \n",
    "    if len(n_list) < 9:\n",
    "        break"
   ]
  },
  {
   "cell_type": "code",
   "execution_count": 3,
   "id": "160885a6",
   "metadata": {},
   "outputs": [
    {
     "name": "stdout",
     "output_type": "stream",
     "text": [
      "Hello\n",
      "Baekjoon\n",
      "Online Judge\n",
      "Hello\n",
      "Baekjoon\n",
      "Online Judge\n"
     ]
    }
   ],
   "source": [
    "# 11718\n",
    "\n",
    "import sys\n",
    "n = 100\n",
    "a = [sys.stdin.readline() for i in range(n)]\n",
    "\n",
    "for i in a:\n",
    "    print(i)"
   ]
  },
  {
   "cell_type": "code",
   "execution_count": null,
   "id": "3859845b",
   "metadata": {},
   "outputs": [],
   "source": [
    "while True:\n",
    "    try:\n",
    "        print(input())\n",
    "    except EOFerror:\n",
    "        break"
   ]
  }
 ],
 "metadata": {
  "kernelspec": {
   "display_name": "Python 3 (ipykernel)",
   "language": "python",
   "name": "python3"
  },
  "language_info": {
   "codemirror_mode": {
    "name": "ipython",
    "version": 3
   },
   "file_extension": ".py",
   "mimetype": "text/x-python",
   "name": "python",
   "nbconvert_exporter": "python",
   "pygments_lexer": "ipython3",
   "version": "3.9.7"
  }
 },
 "nbformat": 4,
 "nbformat_minor": 5
}
