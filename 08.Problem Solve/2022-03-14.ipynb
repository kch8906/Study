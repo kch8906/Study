{
 "cells": [
  {
   "cell_type": "code",
   "execution_count": 3,
   "id": "316bac91",
   "metadata": {},
   "outputs": [
    {
     "name": "stdout",
     "output_type": "stream",
     "text": [
      "5\n",
      "big\n",
      "good\n",
      "sky\n",
      "blue\n",
      "mouse\n",
      "sky\n",
      "good\n",
      "mouse\n",
      "big\n",
      "blue\n"
     ]
    }
   ],
   "source": [
    "# 단어 찾기\n",
    "\n",
    "from collections import deque\n",
    "\n",
    "n = int(input())\n",
    "word_list = []\n",
    "for i in range(n + (n - 1)):\n",
    "    word_list.append(input().lower())\n",
    "    \n",
    "word_list = deque(word_list)\n",
    "unwritten = []\n",
    "\n",
    "for _ in range(n):\n",
    "    unwritten.append(word_list.popleft())\n",
    "    \n",
    "for i in word_list:\n",
    "    if i in unwritten: \n",
    "        for j in unwritten:\n",
    "            if unwritten[0] != i:\n",
    "                unwritten.append(unwritten.pop(0))\n",
    "            else:\n",
    "                unwritten.pop(0)\n",
    "                \n",
    "for i in range(len(unwritten)):\n",
    "    print(unwritten[i])"
   ]
  },
  {
   "cell_type": "code",
   "execution_count": 11,
   "id": "c83cc44d",
   "metadata": {},
   "outputs": [
    {
     "name": "stdout",
     "output_type": "stream",
     "text": [
      "5\n",
      "big\n",
      "good\n",
      "sky\n",
      "blue\n",
      "mouse\n",
      "sky\n",
      "good\n",
      "mouse\n",
      "big\n",
      "blue\n"
     ]
    }
   ],
   "source": [
    "# 정답\n",
    "\n",
    "n = int(input())\n",
    "p = dict()\n",
    "for i in range(n):\n",
    "    word = input()\n",
    "    p[word] = 1\n",
    "for i in range(n - 1):\n",
    "    word = input()\n",
    "    p[word] = 0\n",
    "for key, val in p.items():\n",
    "    if val == 1:\n",
    "        print(key)\n",
    "        break"
   ]
  },
  {
   "cell_type": "markdown",
   "id": "471bc0cf",
   "metadata": {},
   "source": []
  }
 ],
 "metadata": {
  "kernelspec": {
   "display_name": "Python 3 (ipykernel)",
   "language": "python",
   "name": "python3"
  },
  "language_info": {
   "codemirror_mode": {
    "name": "ipython",
    "version": 3
   },
   "file_extension": ".py",
   "mimetype": "text/x-python",
   "name": "python",
   "nbconvert_exporter": "python",
   "pygments_lexer": "ipython3",
   "version": "3.9.7"
  }
 },
 "nbformat": 4,
 "nbformat_minor": 5
}
