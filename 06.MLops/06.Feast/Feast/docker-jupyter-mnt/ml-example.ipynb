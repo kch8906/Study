{
 "cells": [
  {
   "cell_type": "code",
   "execution_count": 1,
   "id": "c75d3f46-2bcf-426a-bfce-b73ee6692b86",
   "metadata": {},
   "outputs": [],
   "source": [
    "import numpy as np\n",
    "import pandas as pd"
   ]
  },
  {
   "cell_type": "code",
   "execution_count": 3,
   "id": "a883a2de-72b8-4ee6-bc76-7d844dc5cd83",
   "metadata": {},
   "outputs": [],
   "source": [
    "minio_uri = \"http://172.17.0.3:9000\"\n",
    "bucket_name = \"feast-example\"\n",
    "fname = \"driver_stats.parquet\""
   ]
  },
  {
   "cell_type": "code",
   "execution_count": 5,
   "id": "a7f050c7-f8d7-41e3-91c1-7b9fb2496813",
   "metadata": {},
   "outputs": [],
   "source": [
    "store_data = pd.read_parquet(f\"{minio_uri}/{bucket_name}/{fname}\")"
   ]
  },
  {
   "cell_type": "code",
   "execution_count": 6,
   "id": "f3218915-578e-4af0-8306-aa3949d26ba9",
   "metadata": {},
   "outputs": [],
   "source": [
    "query_data = store_data.sample(n=10)[[\"event_timestamp\",\"driver_id\"]]"
   ]
  },
  {
   "cell_type": "code",
   "execution_count": 8,
   "id": "daabcb2c-7ec8-4a64-95ab-08ca68fc6a6b",
   "metadata": {},
   "outputs": [],
   "source": [
    "query_data['trip_completed'] = np.random.randint(0, 2, query_data.shape[0])"
   ]
  },
  {
   "cell_type": "code",
   "execution_count": 9,
   "id": "8330f22f-ab9b-4a38-97aa-76b0eaebba1a",
   "metadata": {},
   "outputs": [
    {
     "data": {
      "text/html": [
       "<div>\n",
       "<style scoped>\n",
       "    .dataframe tbody tr th:only-of-type {\n",
       "        vertical-align: middle;\n",
       "    }\n",
       "\n",
       "    .dataframe tbody tr th {\n",
       "        vertical-align: top;\n",
       "    }\n",
       "\n",
       "    .dataframe thead th {\n",
       "        text-align: right;\n",
       "    }\n",
       "</style>\n",
       "<table border=\"1\" class=\"dataframe\">\n",
       "  <thead>\n",
       "    <tr style=\"text-align: right;\">\n",
       "      <th></th>\n",
       "      <th>event_timestamp</th>\n",
       "      <th>driver_id</th>\n",
       "      <th>trip_completed</th>\n",
       "    </tr>\n",
       "  </thead>\n",
       "  <tbody>\n",
       "    <tr>\n",
       "      <th>1022</th>\n",
       "      <td>2022-09-03 04:00:00+00:00</td>\n",
       "      <td>1003</td>\n",
       "      <td>0</td>\n",
       "    </tr>\n",
       "    <tr>\n",
       "      <th>426</th>\n",
       "      <td>2022-08-24 09:00:00+00:00</td>\n",
       "      <td>1004</td>\n",
       "      <td>0</td>\n",
       "    </tr>\n",
       "    <tr>\n",
       "      <th>644</th>\n",
       "      <td>2022-09-02 11:00:00+00:00</td>\n",
       "      <td>1004</td>\n",
       "      <td>1</td>\n",
       "    </tr>\n",
       "    <tr>\n",
       "      <th>19</th>\n",
       "      <td>2022-08-22 11:00:00+00:00</td>\n",
       "      <td>1005</td>\n",
       "      <td>0</td>\n",
       "    </tr>\n",
       "    <tr>\n",
       "      <th>453</th>\n",
       "      <td>2022-08-25 12:00:00+00:00</td>\n",
       "      <td>1004</td>\n",
       "      <td>1</td>\n",
       "    </tr>\n",
       "    <tr>\n",
       "      <th>408</th>\n",
       "      <td>2022-08-23 15:00:00+00:00</td>\n",
       "      <td>1004</td>\n",
       "      <td>0</td>\n",
       "    </tr>\n",
       "    <tr>\n",
       "      <th>844</th>\n",
       "      <td>2022-08-26 18:00:00+00:00</td>\n",
       "      <td>1003</td>\n",
       "      <td>1</td>\n",
       "    </tr>\n",
       "    <tr>\n",
       "      <th>96</th>\n",
       "      <td>2022-08-25 16:00:00+00:00</td>\n",
       "      <td>1005</td>\n",
       "      <td>0</td>\n",
       "    </tr>\n",
       "    <tr>\n",
       "      <th>102</th>\n",
       "      <td>2022-08-25 22:00:00+00:00</td>\n",
       "      <td>1005</td>\n",
       "      <td>1</td>\n",
       "    </tr>\n",
       "    <tr>\n",
       "      <th>590</th>\n",
       "      <td>2022-08-31 05:00:00+00:00</td>\n",
       "      <td>1004</td>\n",
       "      <td>1</td>\n",
       "    </tr>\n",
       "  </tbody>\n",
       "</table>\n",
       "</div>"
      ],
      "text/plain": [
       "               event_timestamp  driver_id  trip_completed\n",
       "1022 2022-09-03 04:00:00+00:00       1003               0\n",
       "426  2022-08-24 09:00:00+00:00       1004               0\n",
       "644  2022-09-02 11:00:00+00:00       1004               1\n",
       "19   2022-08-22 11:00:00+00:00       1005               0\n",
       "453  2022-08-25 12:00:00+00:00       1004               1\n",
       "408  2022-08-23 15:00:00+00:00       1004               0\n",
       "844  2022-08-26 18:00:00+00:00       1003               1\n",
       "96   2022-08-25 16:00:00+00:00       1005               0\n",
       "102  2022-08-25 22:00:00+00:00       1005               1\n",
       "590  2022-08-31 05:00:00+00:00       1004               1"
      ]
     },
     "execution_count": 9,
     "metadata": {},
     "output_type": "execute_result"
    }
   ],
   "source": [
    "query_data"
   ]
  },
  {
   "cell_type": "code",
   "execution_count": 10,
   "id": "eeb79b4b-eaaf-4806-b920-245d06c54035",
   "metadata": {},
   "outputs": [],
   "source": [
    "query_data.to_csv('/home/jovyan/jupyter/ml_project_1/data/driver_orders.csv', sep=\"\\t\", index=False)"
   ]
  },
  {
   "cell_type": "code",
   "execution_count": 11,
   "id": "f6dc59c4-0515-469c-8571-e9ec359cfe35",
   "metadata": {},
   "outputs": [],
   "source": [
    "import pandas as pd\n",
    "from pprint import pprint\n",
    "from sklearn.linear_model import ElasticNet\n",
    "import feast"
   ]
  },
  {
   "cell_type": "code",
   "execution_count": 42,
   "id": "3735ac02-4599-49ac-b7ca-f19452eba21c",
   "metadata": {},
   "outputs": [
    {
     "name": "stdout",
     "output_type": "stream",
     "text": [
      "\"ElasticNet params: {'alpha': 0.5, 'l1_ratio': 0.15}\"\n",
      "Model run id: <bound method DriverRankingTrainModel.train_model of <__main__.DriverRankingTrainModel object at 0x7fbc087d05b0>>\n",
      "\"ElasticNet params: {'alpha': 0.75, 'l1_ratio': 0.25}\"\n",
      "Model run id: <bound method DriverRankingTrainModel.train_model of <__main__.DriverRankingTrainModel object at 0x7fbc087d0550>>\n",
      "\"ElasticNet params: {'alpha': 1.0, 'l1_ratio': 0.5}\"\n",
      "Model run id: <bound method DriverRankingTrainModel.train_model of <__main__.DriverRankingTrainModel object at 0x7fbc087d05b0>>\n"
     ]
    }
   ],
   "source": [
    "class DriverRankingTrainModel:\n",
    "    def __init__(self, repo_path: str, f_service_name: str, tuning_params={}) -> None:\n",
    "        self._repo_path = repo_path\n",
    "        self._params = tuning_params\n",
    "        self._feature_service_name = f_service_name\n",
    "        \n",
    "    def get_training_data(self) -> pd.DataFrame:\n",
    "        orders = pd.read_csv(\"/home/jovyan/jupyter/ml_project_1/data/driver_orders.csv\", sep=\"\\t\")\n",
    "        orders[\"event_timestamp\"] = pd.to_datetime(orders[\"event_timestamp\"])\n",
    "        \n",
    "        store = feast.FeatureStore(repo_path=self._repo_path)\n",
    "        feature_service = store.get_feature_service(self._feature_service_name)\n",
    "        \n",
    "        training_df = store.get_historical_features(\n",
    "            entity_df = orders,\n",
    "            features = feature_service\n",
    "        ).to_df()\n",
    "        \n",
    "        return training_df\n",
    "    \n",
    "    def train_model(self) -> str:\n",
    "        mlflow.set_tracking_uri(\"sqlite:///mlruns.db\")\n",
    "        mlflow.sklearn.autolog()\n",
    "\n",
    "        model = ElasticNet(**self._params)\n",
    "        target = \"trip_completed\"\n",
    "        training_df = self.get_training_data()\n",
    "        train_X = training_df[training_df.columns.drop(target).drop(\"event_timestamp\")]\n",
    "        train_y = training_df.loc[:, target]\n",
    "        \n",
    "        with mlflow.start_run() as run:\n",
    "            model.fit(train_X[sorted(train_X)], train_y)\n",
    "            mlflow.log_dict({\"features\": [\"driver_hourly_stats:conv_rate\",\n",
    "                                  \"driver_hourly_stats:acc_rate\",\n",
    "                                  \"driver_hourly_stats:avg_daily_trips\"],\n",
    "                     \"feast_feature_service\": self._feature_service_name,\n",
    "                     \"feast_feature_data\": \"driver_hourly_stats\"}, \"feast_data.json\")\n",
    "            mlflow.sklearn.log_model(\n",
    "                    sk_model=model,\n",
    "                    artifact_path=\"sklearn-model\",\n",
    "                    registered_model_name=\"sk-learn-elasticnet-model\"\n",
    "            )\n",
    "        return {run.info.run_id}     \n",
    "    \n",
    "if __name__ == '__main__':\n",
    "    REPO_PATH = \"/home/jovyan/feature_repo/feature_repo/\"\n",
    "    FEATURE_SERVICE_NAME = \"driver_ranking_fv_svc\"\n",
    "    params_list = [{\"alpha\": 0.5, \"l1_ratio\": 0.15},\n",
    "                   {\"alpha\": 0.75, \"l1_ratio\": 0.25},\n",
    "                   {\"alpha\": 1.0, \"l1_ratio\": 0.5}]\n",
    "    \n",
    "    for params in params_list:\n",
    "        mlflow_run = DriverRankingTrainModel(REPO_PATH, FEATURE_SERVICE_NAME, params)\n",
    "        # model_coef_ = model_cls.train_model()\n",
    "        mlflow_run_id = mlflow_run.train_model\n",
    "        pprint(f\"ElasticNet params: {params}\")\n",
    "        print(f\"Model run id: {mlflow_run_id}\")\n",
    "        # print(f\"Model coefficients: {model_coef_}\")\n",
    "        "
   ]
  }
 ],
 "metadata": {
  "kernelspec": {
   "display_name": "Python 3 (ipykernel)",
   "language": "python",
   "name": "python3"
  },
  "language_info": {
   "codemirror_mode": {
    "name": "ipython",
    "version": 3
   },
   "file_extension": ".py",
   "mimetype": "text/x-python",
   "name": "python",
   "nbconvert_exporter": "python",
   "pygments_lexer": "ipython3",
   "version": "3.10.6"
  }
 },
 "nbformat": 4,
 "nbformat_minor": 5
}
