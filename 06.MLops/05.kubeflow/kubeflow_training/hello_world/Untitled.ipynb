{
 "cells": [
  {
   "cell_type": "code",
   "execution_count": 13,
   "id": "c9a28989",
   "metadata": {
    "scrolled": true
   },
   "outputs": [
    {
     "data": {
      "text/html": [
       "<a href=\"http://127.0.0.1:8080/pipeline/#/experiments/details/None\" target=\"_blank\" >Experiment details</a>."
      ],
      "text/plain": [
       "<IPython.core.display.HTML object>"
      ]
     },
     "metadata": {},
     "output_type": "display_data"
    },
    {
     "ename": "AttributeError",
     "evalue": "'NoneType' object has no attribute 'id'",
     "output_type": "error",
     "traceback": [
      "\u001b[0;31m---------------------------------------------------------------------------\u001b[0m",
      "\u001b[0;31mAttributeError\u001b[0m                            Traceback (most recent call last)",
      "Input \u001b[0;32mIn [13]\u001b[0m, in \u001b[0;36m<cell line: 16>\u001b[0;34m()\u001b[0m\n\u001b[1;32m     17\u001b[0m kfp\u001b[38;5;241m.\u001b[39mcompiler\u001b[38;5;241m.\u001b[39mCompiler()\u001b[38;5;241m.\u001b[39mcompile(hello_world_pipeline, \u001b[38;5;124m'\u001b[39m\u001b[38;5;124mhello-world-pipeline.zip\u001b[39m\u001b[38;5;124m'\u001b[39m)\n\u001b[1;32m     18\u001b[0m client \u001b[38;5;241m=\u001b[39m kfp\u001b[38;5;241m.\u001b[39mClient(host\u001b[38;5;241m=\u001b[39mKUBEFLOW_HOST)\n\u001b[0;32m---> 19\u001b[0m \u001b[43mclient\u001b[49m\u001b[38;5;241;43m.\u001b[39;49m\u001b[43mcreate_run_from_pipeline_func\u001b[49m\u001b[43m(\u001b[49m\n\u001b[1;32m     20\u001b[0m \u001b[43m    \u001b[49m\u001b[43mhello_world_pipeline\u001b[49m\u001b[43m,\u001b[49m\u001b[43m \u001b[49m\u001b[43marguments\u001b[49m\u001b[38;5;241;43m=\u001b[39;49m\u001b[43m{\u001b[49m\u001b[43m}\u001b[49m\u001b[43m,\u001b[49m\u001b[43mrun_name\u001b[49m\u001b[38;5;241;43m=\u001b[39;49m\u001b[38;5;124;43m'\u001b[39;49m\u001b[38;5;124;43mtest\u001b[39;49m\u001b[38;5;124;43m'\u001b[39;49m\u001b[43m,\u001b[49m\u001b[43m \u001b[49m\u001b[43mexperiment_name\u001b[49m\u001b[38;5;241;43m=\u001b[39;49m\u001b[38;5;124;43m'\u001b[39;49m\u001b[38;5;124;43mhello-world-experiment\u001b[39;49m\u001b[38;5;124;43m'\u001b[39;49m\n\u001b[1;32m     21\u001b[0m \u001b[43m\u001b[49m\u001b[43m)\u001b[49m\n",
      "File \u001b[0;32m~/anaconda3/envs/machine_TF2/lib/python3.10/site-packages/kfp/_client.py:1001\u001b[0m, in \u001b[0;36mClient.create_run_from_pipeline_func\u001b[0;34m(self, pipeline_func, arguments, run_name, experiment_name, pipeline_conf, namespace, mode, launcher_image, pipeline_root, enable_caching, service_account)\u001b[0m\n\u001b[1;32m    994\u001b[0m pipeline_package_path \u001b[38;5;241m=\u001b[39m os\u001b[38;5;241m.\u001b[39mpath\u001b[38;5;241m.\u001b[39mjoin(tmpdir, \u001b[38;5;124m'\u001b[39m\u001b[38;5;124mpipeline.yaml\u001b[39m\u001b[38;5;124m'\u001b[39m)\n\u001b[1;32m    995\u001b[0m compiler\u001b[38;5;241m.\u001b[39mCompiler(\n\u001b[1;32m    996\u001b[0m     mode\u001b[38;5;241m=\u001b[39mmode, launcher_image\u001b[38;5;241m=\u001b[39mlauncher_image)\u001b[38;5;241m.\u001b[39mcompile(\n\u001b[1;32m    997\u001b[0m         pipeline_func\u001b[38;5;241m=\u001b[39mpipeline_func,\n\u001b[1;32m    998\u001b[0m         package_path\u001b[38;5;241m=\u001b[39mpipeline_package_path,\n\u001b[1;32m    999\u001b[0m         pipeline_conf\u001b[38;5;241m=\u001b[39mpipeline_conf)\n\u001b[0;32m-> 1001\u001b[0m \u001b[38;5;28;01mreturn\u001b[39;00m \u001b[38;5;28;43mself\u001b[39;49m\u001b[38;5;241;43m.\u001b[39;49m\u001b[43mcreate_run_from_pipeline_package\u001b[49m\u001b[43m(\u001b[49m\n\u001b[1;32m   1002\u001b[0m \u001b[43m    \u001b[49m\u001b[43mpipeline_file\u001b[49m\u001b[38;5;241;43m=\u001b[39;49m\u001b[43mpipeline_package_path\u001b[49m\u001b[43m,\u001b[49m\n\u001b[1;32m   1003\u001b[0m \u001b[43m    \u001b[49m\u001b[43marguments\u001b[49m\u001b[38;5;241;43m=\u001b[39;49m\u001b[43marguments\u001b[49m\u001b[43m,\u001b[49m\n\u001b[1;32m   1004\u001b[0m \u001b[43m    \u001b[49m\u001b[43mrun_name\u001b[49m\u001b[38;5;241;43m=\u001b[39;49m\u001b[43mrun_name\u001b[49m\u001b[43m,\u001b[49m\n\u001b[1;32m   1005\u001b[0m \u001b[43m    \u001b[49m\u001b[43mexperiment_name\u001b[49m\u001b[38;5;241;43m=\u001b[39;49m\u001b[43mexperiment_name\u001b[49m\u001b[43m,\u001b[49m\n\u001b[1;32m   1006\u001b[0m \u001b[43m    \u001b[49m\u001b[43mnamespace\u001b[49m\u001b[38;5;241;43m=\u001b[39;49m\u001b[43mnamespace\u001b[49m\u001b[43m,\u001b[49m\n\u001b[1;32m   1007\u001b[0m \u001b[43m    \u001b[49m\u001b[43mpipeline_root\u001b[49m\u001b[38;5;241;43m=\u001b[39;49m\u001b[43mpipeline_root\u001b[49m\u001b[43m,\u001b[49m\n\u001b[1;32m   1008\u001b[0m \u001b[43m    \u001b[49m\u001b[43menable_caching\u001b[49m\u001b[38;5;241;43m=\u001b[39;49m\u001b[43menable_caching\u001b[49m\u001b[43m,\u001b[49m\n\u001b[1;32m   1009\u001b[0m \u001b[43m    \u001b[49m\u001b[43mservice_account\u001b[49m\u001b[38;5;241;43m=\u001b[39;49m\u001b[43mservice_account\u001b[49m\u001b[43m,\u001b[49m\n\u001b[1;32m   1010\u001b[0m \u001b[43m\u001b[49m\u001b[43m)\u001b[49m\n",
      "File \u001b[0;32m~/anaconda3/envs/machine_TF2/lib/python3.10/site-packages/kfp/_client.py:1082\u001b[0m, in \u001b[0;36mClient.create_run_from_pipeline_package\u001b[0;34m(self, pipeline_file, arguments, run_name, experiment_name, namespace, pipeline_root, enable_caching, service_account)\u001b[0m\n\u001b[1;32m   1077\u001b[0m run_name \u001b[38;5;241m=\u001b[39m run_name \u001b[38;5;129;01mor\u001b[39;00m (\n\u001b[1;32m   1078\u001b[0m     pipeline_name \u001b[38;5;241m+\u001b[39m \u001b[38;5;124m'\u001b[39m\u001b[38;5;124m \u001b[39m\u001b[38;5;124m'\u001b[39m \u001b[38;5;241m+\u001b[39m\n\u001b[1;32m   1079\u001b[0m     datetime\u001b[38;5;241m.\u001b[39mdatetime\u001b[38;5;241m.\u001b[39mnow()\u001b[38;5;241m.\u001b[39mstrftime(\u001b[38;5;124m'\u001b[39m\u001b[38;5;124m%\u001b[39m\u001b[38;5;124mY-\u001b[39m\u001b[38;5;124m%\u001b[39m\u001b[38;5;124mm-\u001b[39m\u001b[38;5;132;01m%d\u001b[39;00m\u001b[38;5;124m \u001b[39m\u001b[38;5;124m%\u001b[39m\u001b[38;5;124mH-\u001b[39m\u001b[38;5;124m%\u001b[39m\u001b[38;5;124mM-\u001b[39m\u001b[38;5;124m%\u001b[39m\u001b[38;5;124mS\u001b[39m\u001b[38;5;124m'\u001b[39m))\n\u001b[1;32m   1080\u001b[0m experiment \u001b[38;5;241m=\u001b[39m \u001b[38;5;28mself\u001b[39m\u001b[38;5;241m.\u001b[39mcreate_experiment(\n\u001b[1;32m   1081\u001b[0m     name\u001b[38;5;241m=\u001b[39mexperiment_name, namespace\u001b[38;5;241m=\u001b[39mnamespace)\n\u001b[0;32m-> 1082\u001b[0m run_info \u001b[38;5;241m=\u001b[39m \u001b[38;5;28;43mself\u001b[39;49m\u001b[38;5;241;43m.\u001b[39;49m\u001b[43mrun_pipeline\u001b[49m\u001b[43m(\u001b[49m\n\u001b[1;32m   1083\u001b[0m \u001b[43m    \u001b[49m\u001b[43mexperiment_id\u001b[49m\u001b[38;5;241;43m=\u001b[39;49m\u001b[43mexperiment\u001b[49m\u001b[38;5;241;43m.\u001b[39;49m\u001b[43mid\u001b[49m\u001b[43m,\u001b[49m\n\u001b[1;32m   1084\u001b[0m \u001b[43m    \u001b[49m\u001b[43mjob_name\u001b[49m\u001b[38;5;241;43m=\u001b[39;49m\u001b[43mrun_name\u001b[49m\u001b[43m,\u001b[49m\n\u001b[1;32m   1085\u001b[0m \u001b[43m    \u001b[49m\u001b[43mpipeline_package_path\u001b[49m\u001b[38;5;241;43m=\u001b[39;49m\u001b[43mpipeline_file\u001b[49m\u001b[43m,\u001b[49m\n\u001b[1;32m   1086\u001b[0m \u001b[43m    \u001b[49m\u001b[43mparams\u001b[49m\u001b[38;5;241;43m=\u001b[39;49m\u001b[43marguments\u001b[49m\u001b[43m,\u001b[49m\n\u001b[1;32m   1087\u001b[0m \u001b[43m    \u001b[49m\u001b[43mpipeline_root\u001b[49m\u001b[38;5;241;43m=\u001b[39;49m\u001b[43mpipeline_root\u001b[49m\u001b[43m,\u001b[49m\n\u001b[1;32m   1088\u001b[0m \u001b[43m    \u001b[49m\u001b[43menable_caching\u001b[49m\u001b[38;5;241;43m=\u001b[39;49m\u001b[43menable_caching\u001b[49m\u001b[43m,\u001b[49m\n\u001b[1;32m   1089\u001b[0m \u001b[43m    \u001b[49m\u001b[43mservice_account\u001b[49m\u001b[38;5;241;43m=\u001b[39;49m\u001b[43mservice_account\u001b[49m\u001b[43m,\u001b[49m\n\u001b[1;32m   1090\u001b[0m \u001b[43m\u001b[49m\u001b[43m)\u001b[49m\n\u001b[1;32m   1091\u001b[0m \u001b[38;5;28;01mreturn\u001b[39;00m RunPipelineResult(\u001b[38;5;28mself\u001b[39m, run_info)\n",
      "File \u001b[0;32m~/anaconda3/envs/machine_TF2/lib/python3.10/site-packages/kfp/_client.py:758\u001b[0m, in \u001b[0;36mClient.run_pipeline\u001b[0;34m(self, experiment_id, job_name, pipeline_package_path, params, pipeline_id, version_id, pipeline_root, enable_caching, service_account)\u001b[0m\n\u001b[1;32m    754\u001b[0m \u001b[38;5;28;01mif\u001b[39;00m \u001b[38;5;28mself\u001b[39m\u001b[38;5;241m.\u001b[39m_is_ipython():\n\u001b[1;32m    755\u001b[0m     \u001b[38;5;28;01mimport\u001b[39;00m \u001b[38;5;21;01mIPython\u001b[39;00m\n\u001b[1;32m    756\u001b[0m     html \u001b[38;5;241m=\u001b[39m (\n\u001b[1;32m    757\u001b[0m         \u001b[38;5;124m'\u001b[39m\u001b[38;5;124m<a href=\u001b[39m\u001b[38;5;124m\"\u001b[39m\u001b[38;5;132;01m%s\u001b[39;00m\u001b[38;5;124m/#/runs/details/\u001b[39m\u001b[38;5;132;01m%s\u001b[39;00m\u001b[38;5;124m\"\u001b[39m\u001b[38;5;124m target=\u001b[39m\u001b[38;5;124m\"\u001b[39m\u001b[38;5;124m_blank\u001b[39m\u001b[38;5;124m\"\u001b[39m\u001b[38;5;124m >Run details</a>.\u001b[39m\u001b[38;5;124m'\u001b[39m\n\u001b[0;32m--> 758\u001b[0m         \u001b[38;5;241m%\u001b[39m (\u001b[38;5;28mself\u001b[39m\u001b[38;5;241m.\u001b[39m_get_url_prefix(), \u001b[43mresponse\u001b[49m\u001b[38;5;241;43m.\u001b[39;49m\u001b[43mrun\u001b[49m\u001b[38;5;241;43m.\u001b[39;49m\u001b[43mid\u001b[49m))\n\u001b[1;32m    759\u001b[0m     IPython\u001b[38;5;241m.\u001b[39mdisplay\u001b[38;5;241m.\u001b[39mdisplay(IPython\u001b[38;5;241m.\u001b[39mdisplay\u001b[38;5;241m.\u001b[39mHTML(html))\n\u001b[1;32m    760\u001b[0m \u001b[38;5;28;01mreturn\u001b[39;00m response\u001b[38;5;241m.\u001b[39mrun\n",
      "\u001b[0;31mAttributeError\u001b[0m: 'NoneType' object has no attribute 'id'"
     ]
    }
   ],
   "source": [
    "import kfp\n",
    "\n",
    "KUBEFLOW_HOST = \"http://127.0.0.1:8080/pipeline\"\n",
    "\n",
    "def hello_world_component():\n",
    "    ret = 'Hello World!'\n",
    "    print(ret)\n",
    "    return ret\n",
    "\n",
    "@kfp.dsl.pipeline(name='hello_pipeline', description='Hello World Pipeline!')\n",
    "def hello_world_pipeline():\n",
    "    hello_world_op = kfp.components.func_to_container_op(hello_world_component)\n",
    "    _ = hello_world_op()\n",
    "\n",
    "\n",
    "if __name__ == \"__main__\":\n",
    "    kfp.compiler.Compiler().compile(hello_world_pipeline, 'hello-world-pipeline.zip')\n",
    "    client = kfp.Client(host=KUBEFLOW_HOST)\n",
    "    client.create_run_from_pipeline_func(\n",
    "        hello_world_pipeline, arguments={},run_name='test', experiment_name='hello-world-experiment'\n",
    "    )"
   ]
  },
  {
   "cell_type": "code",
   "execution_count": null,
   "id": "98cdfc75",
   "metadata": {},
   "outputs": [],
   "source": [
    "client = kfp.Client()\n",
    "my_experiment = client.create_experiment(name='demo')\n",
    "my_run = client.run_pipeline(my_experiment.id, 'my-pipeline', \n",
    "  'my_pipeline.zip')"
   ]
  },
  {
   "cell_type": "code",
   "execution_count": null,
   "id": "8ad0e2e5",
   "metadata": {},
   "outputs": [],
   "source": [
    "if __name__ == \"__main__\":\n",
    "    kfp.compiler.Compiler().compile(hello_world_pipeline, 'hello-world-pipeline.zip')\n",
    "    client = kfp.Client(host=KUBEFLOW_HOST)\n",
    "    my_experiment = client.create_experiment(name='Basic Experiment')\n",
    "    my_run = client.run_pipeline(my_experiment.id, 'hello_world_pipeline', 'hello-world-pipeline.zip')\n",
    "    "
   ]
  },
  {
   "cell_type": "code",
   "execution_count": null,
   "id": "202fad26",
   "metadata": {},
   "outputs": [],
   "source": [
    "    # Compile\n",
    "    pipeline_package_path = 'my_pipeline.zip'\n",
    "    kfp.compiler.Compiler().compile(my_pipeline, pipeline_package_path)\n",
    "    # Run\n",
    "    client = kfp.Client()\n",
    "    my_experiment = client.create_experiment(name='Basic Experiment')\n",
    "    my_run = client.run_pipeline(my_experiment.id, 'my_pipeline', pipeline_package_path)"
   ]
  }
 ],
 "metadata": {
  "kernelspec": {
   "display_name": "Python [conda env:machine_TF2] *",
   "language": "python",
   "name": "conda-env-machine_TF2-py"
  },
  "language_info": {
   "codemirror_mode": {
    "name": "ipython",
    "version": 3
   },
   "file_extension": ".py",
   "mimetype": "text/x-python",
   "name": "python",
   "nbconvert_exporter": "python",
   "pygments_lexer": "ipython3",
   "version": "3.10.4"
  }
 },
 "nbformat": 4,
 "nbformat_minor": 5
}
