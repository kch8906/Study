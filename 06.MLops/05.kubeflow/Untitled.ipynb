{
 "cells": [
  {
   "cell_type": "code",
   "execution_count": 3,
   "id": "09edd7c8",
   "metadata": {},
   "outputs": [],
   "source": [
    "import kfp\n",
    "from kfp import dsl\n",
    "from kfp.components import create_component_from_func"
   ]
  },
  {
   "cell_type": "code",
   "execution_count": 4,
   "id": "77272465",
   "metadata": {},
   "outputs": [],
   "source": [
    "@create_component_from_func\n",
    "def generate_random_list_op() -> list:\n",
    "    import random\n",
    "\n",
    "    total = random.randint(5, 10)\n",
    "    result = [i for i in range(1, total)]\n",
    "\n",
    "    return result\n",
    "\n",
    "\n",
    "@create_component_from_func\n",
    "def print_op(num: int):\n",
    "    print(f\"{num} is Generated!\")\n",
    "\n",
    "\n",
    "@dsl.pipeline(\n",
    "    name='Parallel pipeline',\n",
    ")\n",
    "def parallel_pipeline():\n",
    "    _generate_random_list_op = generate_random_list_op()\n",
    "    client = kfp.Client()\n",
    "    client.create_run_from_pipeline_func(parallel_pipeline, arguments={})\n",
    "\n",
    "\n",
    "    # random_list = generate_random_list_op().output\n",
    "\n",
    "    # with dsl.ParallelFor(random_list) as item:\n",
    "    #     print_op(item)\n",
    "\n",
    "\n",
    "# if __name__ == \"__main__\":\n",
    "    # kfp.compiler.Compiler().compile(\n",
    "    #     parallel_pipeline,\n",
    "    #     \"./parallel_pipeline.yaml\"\n",
    "    # )"
   ]
  },
  {
   "cell_type": "code",
   "execution_count": null,
   "id": "d682da92",
   "metadata": {},
   "outputs": [],
   "source": []
  },
  {
   "cell_type": "code",
   "execution_count": 1,
   "id": "9aba954e",
   "metadata": {},
   "outputs": [],
   "source": [
    "import kfp\n",
    "from kfp import dsl\n",
    "from kfp.aws import use_aws_secret\n",
    "\n",
    "S3_PATH = 's3://changhyun-kubeflow/LPOINT_BIG_COMP_01_DEMO.csv'\n",
    "\n",
    "def s3_sync():\n",
    "    return kfp.dsl.ContainerOp(\n",
    "        name='s3_sync',\n",
    "        image='amazon/aws-cli:latest',\n",
    "        command=['aws', 's3', 'sync', S3_PATH, '/tmp'],\n",
    "        file_outputs={\n",
    "            'data': '/tmp'\n",
    "        }\n",
    "    )\n",
    "\n",
    "\n",
    "@dsl.pipeline(name='s3_sync_pipeline', description='s3 sync pipeline.')\n",
    "def s3_sync_pipeline():\n",
    "    _ = s3_sync().apply(use_aws_secret('aws-secret', 'AWS_ACCESS_KEY_ID', 'AWS_SECRET_ACCESS_KEY'))"
   ]
  },
  {
   "cell_type": "code",
   "execution_count": null,
   "id": "d709e5b4",
   "metadata": {},
   "outputs": [],
   "source": [
    "if __name__ == \"__main__\":\n",
    "    kfp.compiler.Compiler().compile(s3_sync_pipeline, 's3_sync_pipeline.tar.gz')"
   ]
  },
  {
   "cell_type": "code",
   "execution_count": 5,
   "id": "e8e2ece5",
   "metadata": {},
   "outputs": [],
   "source": [
    "a = s3_sync().apply(use_aws_secret('aws-secret', 'AWS_ACCESS_KEY_ID', 'AWS_SECRET_ACCESS_KEY'))"
   ]
  },
  {
   "cell_type": "code",
   "execution_count": 6,
   "id": "2dbba789",
   "metadata": {},
   "outputs": [
    {
     "data": {
      "text/plain": [
       "{'ContainerOp': {'is_exit_handler': False, 'human_name': 's3_sync', 'display_name': None, 'name': 's3_sync 800007f583459da8', 'node_selector': {}, 'volumes': [], 'tolerations': [], 'affinity': {}, 'pod_annotations': {}, 'pod_labels': {}, 'num_retries': 0, 'retry_policy': None, 'backoff_factor': None, 'backoff_duration': None, 'backoff_max_duration': None, 'timeout': 0, 'init_containers': [], 'sidecars': [], 'loop_args': None, '_component_spec_inputs_with_pipeline_params': [], '_inputs': [], 'dependent_names': [], 'enable_caching': True, 'attrs_with_pipelineparams': ['node_selector', 'volumes', 'pod_annotations', 'pod_labels', 'num_retries', 'init_containers', 'sidecars', 'tolerations', '_container', 'artifact_arguments', '_parameter_arguments'], '_is_v2': False, '_container': {'args': None,\n",
       " 'command': ['aws',\n",
       "             's3',\n",
       "             'sync',\n",
       "             's3://changhyun-kubeflow/LPOINT_BIG_COMP_01_DEMO.csv',\n",
       "             '/tmp'],\n",
       " 'env': [{'name': 'AWS_ACCESS_KEY_ID',\n",
       "          'value': None,\n",
       "          'value_from': {'config_map_key_ref': None,\n",
       "                         'field_ref': None,\n",
       "                         'resource_field_ref': None,\n",
       "                         'secret_key_ref': {'key': 'AWS_ACCESS_KEY_ID',\n",
       "                                            'name': 'aws-secret',\n",
       "                                            'optional': None}}},\n",
       "         {'name': 'AWS_SECRET_ACCESS_KEY',\n",
       "          'value': None,\n",
       "          'value_from': {'config_map_key_ref': None,\n",
       "                         'field_ref': None,\n",
       "                         'resource_field_ref': None,\n",
       "                         'secret_key_ref': {'key': 'AWS_SECRET_ACCESS_KEY',\n",
       "                                            'name': 'aws-secret',\n",
       "                                            'optional': None}}}],\n",
       " 'env_from': None,\n",
       " 'image': 'amazon/aws-cli:latest',\n",
       " 'image_pull_policy': None,\n",
       " 'lifecycle': None,\n",
       " 'liveness_probe': None,\n",
       " 'ports': None,\n",
       " 'readiness_probe': None,\n",
       " 'resources': None,\n",
       " 'security_context': None,\n",
       " 'startup_probe': None,\n",
       " 'stdin': None,\n",
       " 'stdin_once': None,\n",
       " 'termination_message_path': None,\n",
       " 'termination_message_policy': None,\n",
       " 'tty': None,\n",
       " 'volume_devices': None,\n",
       " 'volume_mounts': None,\n",
       " 'working_dir': None}, 'add_env_from': <function deprecation_warning.<locals>._wrapped at 0x7f5834599ab0>, 'add_env_variable': <function deprecation_warning.<locals>._wrapped at 0x7f5834599bd0>, 'add_port': <function deprecation_warning.<locals>._wrapped at 0x7f5834599cf0>, 'add_resource_limit': <function deprecation_warning.<locals>._wrapped at 0x7f5834599e10>, 'add_resource_request': <function deprecation_warning.<locals>._wrapped at 0x7f5834599f30>, 'add_volume_devices': <function deprecation_warning.<locals>._wrapped at 0x7f583459a050>, 'add_volume_mount': <function deprecation_warning.<locals>._wrapped at 0x7f583459a170>, 'get_resource_limit': <function deprecation_warning.<locals>._wrapped at 0x7f583459a290>, 'get_resource_request': <function deprecation_warning.<locals>._wrapped at 0x7f583459a3b0>, 'set_cpu_limit': <function deprecation_warning.<locals>._wrapped at 0x7f583459a4d0>, 'set_cpu_request': <function deprecation_warning.<locals>._wrapped at 0x7f583459a5f0>, 'set_env_variable': <function deprecation_warning.<locals>._wrapped at 0x7f583459a710>, 'set_ephemeral_storage_limit': <function deprecation_warning.<locals>._wrapped at 0x7f583459a830>, 'set_ephemeral_storage_request': <function deprecation_warning.<locals>._wrapped at 0x7f583459a950>, 'set_gpu_limit': <function deprecation_warning.<locals>._wrapped at 0x7f583459aa70>, 'set_image_pull_policy': <function deprecation_warning.<locals>._wrapped at 0x7f583459ab90>, 'set_lifecycle': <function deprecation_warning.<locals>._wrapped at 0x7f583459acb0>, 'set_liveness_probe': <function deprecation_warning.<locals>._wrapped at 0x7f583459add0>, 'set_memory_limit': <function deprecation_warning.<locals>._wrapped at 0x7f583459aef0>, 'set_memory_request': <function deprecation_warning.<locals>._wrapped at 0x7f583459b010>, 'set_readiness_probe': <function deprecation_warning.<locals>._wrapped at 0x7f583459b130>, 'set_security_context': <function deprecation_warning.<locals>._wrapped at 0x7f583459b250>, 'set_stdin': <function deprecation_warning.<locals>._wrapped at 0x7f583459b370>, 'set_stdin_once': <function deprecation_warning.<locals>._wrapped at 0x7f583459b490>, 'set_termination_message_path': <function deprecation_warning.<locals>._wrapped at 0x7f583459b5b0>, 'set_termination_message_policy': <function deprecation_warning.<locals>._wrapped at 0x7f583459b6d0>, 'set_tty': <function deprecation_warning.<locals>._wrapped at 0x7f583459b7f0>, 'input_artifact_paths': {}, 'artifact_arguments': {}, 'file_outputs': {'data': '/tmp'}, 'output_artifact_paths': {}, '_metadata': None, '_parameter_arguments': None, 'execution_options': ExecutionOptionsSpec(retry_strategy=None, caching_strategy=CachingStrategySpec(max_cache_staleness=None)), 'outputs': {'data': {{pipelineparam:op=s3_sync 800007f583459da8;name=data}}}, 'output': {{pipelineparam:op=s3_sync 800007f583459da8;name=data}}, 'pvolumes': {}, 'pvolume': None}}"
      ]
     },
     "execution_count": 6,
     "metadata": {},
     "output_type": "execute_result"
    }
   ],
   "source": [
    "a"
   ]
  },
  {
   "cell_type": "code",
   "execution_count": null,
   "id": "890ce3fb",
   "metadata": {},
   "outputs": [],
   "source": []
  }
 ],
 "metadata": {
  "kernelspec": {
   "display_name": "Python [conda env:machine_TF2] *",
   "language": "python",
   "name": "conda-env-machine_TF2-py"
  },
  "language_info": {
   "codemirror_mode": {
    "name": "ipython",
    "version": 3
   },
   "file_extension": ".py",
   "mimetype": "text/x-python",
   "name": "python",
   "nbconvert_exporter": "python",
   "pygments_lexer": "ipython3",
   "version": "3.10.4"
  }
 },
 "nbformat": 4,
 "nbformat_minor": 5
}
