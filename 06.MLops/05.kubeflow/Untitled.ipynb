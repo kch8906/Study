{
 "cells": [
  {
   "cell_type": "code",
   "execution_count": 3,
   "id": "09edd7c8",
   "metadata": {},
   "outputs": [],
   "source": [
    "import kfp\n",
    "from kfp import dsl\n",
    "from kfp.components import create_component_from_func"
   ]
  },
  {
   "cell_type": "code",
   "execution_count": 4,
   "id": "77272465",
   "metadata": {},
   "outputs": [],
   "source": [
    "@create_component_from_func\n",
    "def generate_random_list_op() -> list:\n",
    "    import random\n",
    "\n",
    "    total = random.randint(5, 10)\n",
    "    result = [i for i in range(1, total)]\n",
    "\n",
    "    return result\n",
    "\n",
    "\n",
    "@create_component_from_func\n",
    "def print_op(num: int):\n",
    "    print(f\"{num} is Generated!\")\n",
    "\n",
    "\n",
    "@dsl.pipeline(\n",
    "    name='Parallel pipeline',\n",
    ")\n",
    "def parallel_pipeline():\n",
    "    _generate_random_list_op = generate_random_list_op()\n",
    "    client = kfp.Client()\n",
    "    client.create_run_from_pipeline_func(parallel_pipeline, arguments={})\n",
    "\n",
    "\n",
    "    # random_list = generate_random_list_op().output\n",
    "\n",
    "    # with dsl.ParallelFor(random_list) as item:\n",
    "    #     print_op(item)\n",
    "\n",
    "\n",
    "# if __name__ == \"__main__\":\n",
    "    # kfp.compiler.Compiler().compile(\n",
    "    #     parallel_pipeline,\n",
    "    #     \"./parallel_pipeline.yaml\"\n",
    "    # )"
   ]
  },
  {
   "cell_type": "code",
   "execution_count": null,
   "id": "e8e2ece5",
   "metadata": {},
   "outputs": [],
   "source": []
  }
 ],
 "metadata": {
  "kernelspec": {
   "display_name": "Python [conda env:machine_TF2] *",
   "language": "python",
   "name": "conda-env-machine_TF2-py"
  },
  "language_info": {
   "codemirror_mode": {
    "name": "ipython",
    "version": 3
   },
   "file_extension": ".py",
   "mimetype": "text/x-python",
   "name": "python",
   "nbconvert_exporter": "python",
   "pygments_lexer": "ipython3",
   "version": "3.10.4"
  }
 },
 "nbformat": 4,
 "nbformat_minor": 5
}
