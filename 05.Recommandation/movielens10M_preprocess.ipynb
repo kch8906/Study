{
 "cells": [
  {
   "cell_type": "code",
   "execution_count": 1,
   "id": "f16cda26",
   "metadata": {},
   "outputs": [],
   "source": [
    "import datetime as dt\n",
    "import pandas as pd\n",
    "import numpy as np\n",
    "import keras\n",
    "import time"
   ]
  },
  {
   "cell_type": "code",
   "execution_count": 2,
   "id": "225773f8",
   "metadata": {},
   "outputs": [
    {
     "data": {
      "text/html": [
       "<div>\n",
       "<style scoped>\n",
       "    .dataframe tbody tr th:only-of-type {\n",
       "        vertical-align: middle;\n",
       "    }\n",
       "\n",
       "    .dataframe tbody tr th {\n",
       "        vertical-align: top;\n",
       "    }\n",
       "\n",
       "    .dataframe thead th {\n",
       "        text-align: right;\n",
       "    }\n",
       "</style>\n",
       "<table border=\"1\" class=\"dataframe\">\n",
       "  <thead>\n",
       "    <tr style=\"text-align: right;\">\n",
       "      <th></th>\n",
       "      <th>userId</th>\n",
       "      <th>movieId</th>\n",
       "      <th>rating</th>\n",
       "      <th>timestamp</th>\n",
       "    </tr>\n",
       "  </thead>\n",
       "  <tbody>\n",
       "    <tr>\n",
       "      <th>0</th>\n",
       "      <td>1</td>\n",
       "      <td>2</td>\n",
       "      <td>3.5</td>\n",
       "      <td>1112486027</td>\n",
       "    </tr>\n",
       "    <tr>\n",
       "      <th>1</th>\n",
       "      <td>1</td>\n",
       "      <td>29</td>\n",
       "      <td>3.5</td>\n",
       "      <td>1112484676</td>\n",
       "    </tr>\n",
       "    <tr>\n",
       "      <th>2</th>\n",
       "      <td>1</td>\n",
       "      <td>32</td>\n",
       "      <td>3.5</td>\n",
       "      <td>1112484819</td>\n",
       "    </tr>\n",
       "    <tr>\n",
       "      <th>3</th>\n",
       "      <td>1</td>\n",
       "      <td>47</td>\n",
       "      <td>3.5</td>\n",
       "      <td>1112484727</td>\n",
       "    </tr>\n",
       "    <tr>\n",
       "      <th>4</th>\n",
       "      <td>1</td>\n",
       "      <td>50</td>\n",
       "      <td>3.5</td>\n",
       "      <td>1112484580</td>\n",
       "    </tr>\n",
       "    <tr>\n",
       "      <th>...</th>\n",
       "      <td>...</td>\n",
       "      <td>...</td>\n",
       "      <td>...</td>\n",
       "      <td>...</td>\n",
       "    </tr>\n",
       "    <tr>\n",
       "      <th>20000258</th>\n",
       "      <td>138493</td>\n",
       "      <td>68954</td>\n",
       "      <td>4.5</td>\n",
       "      <td>1258126920</td>\n",
       "    </tr>\n",
       "    <tr>\n",
       "      <th>20000259</th>\n",
       "      <td>138493</td>\n",
       "      <td>69526</td>\n",
       "      <td>4.5</td>\n",
       "      <td>1259865108</td>\n",
       "    </tr>\n",
       "    <tr>\n",
       "      <th>20000260</th>\n",
       "      <td>138493</td>\n",
       "      <td>69644</td>\n",
       "      <td>3.0</td>\n",
       "      <td>1260209457</td>\n",
       "    </tr>\n",
       "    <tr>\n",
       "      <th>20000261</th>\n",
       "      <td>138493</td>\n",
       "      <td>70286</td>\n",
       "      <td>5.0</td>\n",
       "      <td>1258126944</td>\n",
       "    </tr>\n",
       "    <tr>\n",
       "      <th>20000262</th>\n",
       "      <td>138493</td>\n",
       "      <td>71619</td>\n",
       "      <td>2.5</td>\n",
       "      <td>1255811136</td>\n",
       "    </tr>\n",
       "  </tbody>\n",
       "</table>\n",
       "<p>20000263 rows × 4 columns</p>\n",
       "</div>"
      ],
      "text/plain": [
       "          userId  movieId  rating   timestamp\n",
       "0              1        2     3.5  1112486027\n",
       "1              1       29     3.5  1112484676\n",
       "2              1       32     3.5  1112484819\n",
       "3              1       47     3.5  1112484727\n",
       "4              1       50     3.5  1112484580\n",
       "...          ...      ...     ...         ...\n",
       "20000258  138493    68954     4.5  1258126920\n",
       "20000259  138493    69526     4.5  1259865108\n",
       "20000260  138493    69644     3.0  1260209457\n",
       "20000261  138493    70286     5.0  1258126944\n",
       "20000262  138493    71619     2.5  1255811136\n",
       "\n",
       "[20000263 rows x 4 columns]"
      ]
     },
     "execution_count": 2,
     "metadata": {},
     "output_type": "execute_result"
    }
   ],
   "source": [
    "ratings_df = pd.read_csv('/home/changhyun/workspace/dataset/ml-20m/ratings.csv')\n",
    "ratings_df"
   ]
  },
  {
   "cell_type": "code",
   "execution_count": 3,
   "id": "271db8b3",
   "metadata": {},
   "outputs": [],
   "source": [
    "all_train_start = \"09/01/1995\"\n",
    "all_train_end = \"01/03/2013\""
   ]
  },
  {
   "cell_type": "code",
   "execution_count": 4,
   "id": "79c60ddf",
   "metadata": {},
   "outputs": [],
   "source": [
    "all_train_start_ts = time.mktime(dt.datetime.strptime(all_train_start, \"%d/%m/%Y\").timetuple())\n",
    "all_train_end_ts = time.mktime(dt.datetime.strptime(all_train_end, \"%d/%m/%Y\").timetuple())\n",
    "all_train_data = ratings_df.drop(['rating'], axis=1)"
   ]
  },
  {
   "cell_type": "code",
   "execution_count": 5,
   "id": "1136da70",
   "metadata": {},
   "outputs": [],
   "source": [
    "all_train_data = all_train_data.loc[(all_train_data['timestamp'] >= all_train_start_ts) & (all_train_data['timestamp'] <= all_train_end_ts)]"
   ]
  },
  {
   "cell_type": "code",
   "execution_count": 6,
   "id": "f0118e67",
   "metadata": {},
   "outputs": [],
   "source": [
    "all_train_data = all_train_data.groupby(\"userId\").filter(lambda x: len(x) > 5 and len(x) < 101)"
   ]
  },
  {
   "cell_type": "code",
   "execution_count": 7,
   "id": "624eb599",
   "metadata": {},
   "outputs": [],
   "source": [
    "train_start = \"01/01/2008\"\n",
    "train_end = \"01/03/2013\"\n",
    "train_start_ts = time.mktime(dt.datetime.strptime(train_start, \"%d/%m/%Y\").timetuple())\n",
    "train_end_ts = time.mktime(dt.datetime.strptime(train_end, \"%d/%m/%Y\").timetuple())\n",
    "train_data = ratings_df.drop(['rating'], axis=1)"
   ]
  },
  {
   "cell_type": "code",
   "execution_count": 8,
   "id": "f8a81dd7",
   "metadata": {},
   "outputs": [],
   "source": [
    "train_data = train_data.loc[(train_data['timestamp'] >= train_start_ts) & (train_data['timestamp'] <= train_end_ts)]\n",
    "train_data = train_data.groupby(\"userId\").filter(lambda x: len(x) > 5 and len(x) < 101)"
   ]
  },
  {
   "cell_type": "code",
   "execution_count": 9,
   "id": "e5bbb3f2",
   "metadata": {},
   "outputs": [],
   "source": [
    "dev_start = \"01/04/2013\"\n",
    "dev_end = \"01/04/2014\"\n",
    "dev_start_ts = time.mktime(dt.datetime.strptime(dev_start, \"%d/%m/%Y\").timetuple())\n",
    "dev_end_ts = time.mktime(dt.datetime.strptime(dev_end, \"%d/%m/%Y\").timetuple())\n",
    "dev_data = ratings_df.drop(['rating'], axis=1)"
   ]
  },
  {
   "cell_type": "code",
   "execution_count": 10,
   "id": "482c953e",
   "metadata": {},
   "outputs": [],
   "source": [
    "dev_data = dev_data.loc[(dev_data['timestamp'] >= dev_start_ts) & (dev_data['timestamp'] <= dev_end_ts)]\n",
    "dev_data = dev_data.groupby(\"userId\").filter(lambda x: len(x) > 5 and len(x) < 101)"
   ]
  },
  {
   "cell_type": "code",
   "execution_count": 11,
   "id": "81f7bf4d",
   "metadata": {},
   "outputs": [],
   "source": [
    "# TEST SET\n",
    "# Get only ratings between April 2015 to April 2016\n",
    "test_start = \"02/04/2014\"\n",
    "test_end = \"01/04/2015\"\n",
    "test_start_ts = time.mktime(dt.datetime.strptime(test_start, \"%d/%m/%Y\").timetuple())\n",
    "test_end_ts = time.mktime(dt.datetime.strptime(test_end, \"%d/%m/%Y\").timetuple())\n",
    "test_data = ratings_df.drop(['rating'], axis=1)"
   ]
  },
  {
   "cell_type": "code",
   "execution_count": 12,
   "id": "e5c1fd8f",
   "metadata": {},
   "outputs": [],
   "source": [
    "test_data = test_data.loc[(test_data['timestamp'] >= test_start_ts) & (test_data['timestamp'] <= test_end_ts)]\n",
    "test_data = test_data.groupby(\"userId\").filter(lambda x: len(x) > 5 and len(x) < 101)"
   ]
  },
  {
   "cell_type": "code",
   "execution_count": 13,
   "id": "1159e691",
   "metadata": {},
   "outputs": [],
   "source": [
    "all_train_data.columns = ['SessionId', 'ItemId', 'Time']\n",
    "train_data.columns = ['SessionId', 'ItemId', 'Time']\n",
    "dev_data.columns = ['SessionId', 'ItemId', 'Time']\n",
    "test_data.columns = ['SessionId', 'ItemId', 'Time']"
   ]
  },
  {
   "cell_type": "code",
   "execution_count": 15,
   "id": "70b80762",
   "metadata": {},
   "outputs": [],
   "source": [
    "all_train_data.to_csv('../../dataset/ml-20m/preprocessing_data/all_train.csv', sep='\\t', index=False)\n",
    "train_data.to_csv('../../dataset/ml-20m/preprocessing_data/train.csv', sep='\\t', index=False)\n",
    "dev_data.to_csv('../../dataset/ml-20m/preprocessing_data/dev.csv', sep='\\t', index=False)\n",
    "test_data.to_csv('../../dataset/ml-20m/preprocessing_data/test.csv', sep='\\t', index=False)    "
   ]
  },
  {
   "cell_type": "code",
   "execution_count": null,
   "id": "0df2212e",
   "metadata": {},
   "outputs": [],
   "source": []
  }
 ],
 "metadata": {
  "kernelspec": {
   "display_name": "Python [conda env:machine_TF2] *",
   "language": "python",
   "name": "conda-env-machine_TF2-py"
  },
  "language_info": {
   "codemirror_mode": {
    "name": "ipython",
    "version": 3
   },
   "file_extension": ".py",
   "mimetype": "text/x-python",
   "name": "python",
   "nbconvert_exporter": "python",
   "pygments_lexer": "ipython3",
   "version": "3.10.4"
  }
 },
 "nbformat": 4,
 "nbformat_minor": 5
}
