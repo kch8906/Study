{
 "cells": [
  {
   "cell_type": "code",
   "execution_count": 2,
   "id": "6cd5763f",
   "metadata": {},
   "outputs": [],
   "source": [
    "import numpy as np\n",
    "import pandas as pd\n",
    "import os\n",
    "from tensorflow.keras.datasets import fashion_mnist"
   ]
  },
  {
   "cell_type": "code",
   "execution_count": 4,
   "id": "b7572087",
   "metadata": {},
   "outputs": [
    {
     "name": "stdout",
     "output_type": "stream",
     "text": [
      "train dataset shape: (60000, 28, 28) (60000,)\n",
      "test dataset shape: (10000, 28, 28) (10000,)\n"
     ]
    }
   ],
   "source": [
    "(train_images, train_labels), (test_images, test_labels) = fashion_mnist.load_data()\n",
    "print('train dataset shape:', train_images.shape, train_labels.shape)\n",
    "print('test dataset shape:', test_images.shape, test_labels.shape)"
   ]
  },
  {
   "cell_type": "code",
   "execution_count": 5,
   "id": "d76e716f",
   "metadata": {},
   "outputs": [
    {
     "data": {
      "text/plain": [
       "Text(0.5, 1.0, '9')"
      ]
     },
     "execution_count": 5,
     "metadata": {},
     "output_type": "execute_result"
    },
    {
     "data": {
      "image/png": "[encoded data removed]",
      "text/plain": [
       "<Figure size 432x288 with 1 Axes>"
      ]
     },
     "metadata": {
      "needs_background": "light"
     },
     "output_type": "display_data"
    }
   ],
   "source": [
    "import matplotlib.pyplot as plt\n",
    "\n",
    "plt.imshow(train_images[0], cmap='gray')\n",
    "plt.title(train_labels[0])"
   ]
  },
  {
   "cell_type": "code",
   "execution_count": 8,
   "id": "3b6b2bb5",
   "metadata": {
    "scrolled": true
   },
   "outputs": [
    {
     "data": {
      "text/plain": [
       "(array([[  0,   0,   0,   0,   0,   0,   0,   0,   0,   0,   0,   0,   0,\n",
       "           0,   0,   0,   0,   0,   0,   0,   0,   0,   0,   0,   0,   0,\n",
       "           0,   0],\n",
       "        [  0,   0,   0,   0,   0,   0,   0,   0,   0,   0,   0,   0,   0,\n",
       "           0,   0,   0,   0,   0,   0,   0,   0,   0,   0,   0,   0,   0,\n",
       "           0,   0],\n",
       "        [  0,   0,   0,   0,   0,   0,   0,   0,   0,   0,   0,   0,   0,\n",
       "           0,   0,   0,   0,   0,   0,   0,   0,   0,   0,   0,   0,   0,\n",
       "           0,   0],\n",
       "        [  0,   0,   0,   0,   0,   0,   0,   0,   0,   0,   0,   0,   1,\n",
       "           0,   0,  13,  73,   0,   0,   1,   4,   0,   0,   0,   0,   1,\n",
       "           1,   0],\n",
       "        [  0,   0,   0,   0,   0,   0,   0,   0,   0,   0,   0,   0,   3,\n",
       "           0,  36, 136, 127,  62,  54,   0,   0,   0,   1,   3,   4,   0,\n",
       "           0,   3],\n",
       "        [  0,   0,   0,   0,   0,   0,   0,   0,   0,   0,   0,   0,   6,\n",
       "           0, 102, 204, 176, 134, 144, 123,  23,   0,   0,   0,   0,  12,\n",
       "          10,   0],\n",
       "        [  0,   0,   0,   0,   0,   0,   0,   0,   0,   0,   0,   0,   0,\n",
       "           0, 155, 236, 207, 178, 107, 156, 161, 109,  64,  23,  77, 130,\n",
       "          72,  15],\n",
       "        [  0,   0,   0,   0,   0,   0,   0,   0,   0,   0,   0,   1,   0,\n",
       "          69, 207, 223, 218, 216, 216, 163, 127, 121, 122, 146, 141,  88,\n",
       "         172,  66],\n",
       "        [  0,   0,   0,   0,   0,   0,   0,   0,   0,   1,   1,   1,   0,\n",
       "         200, 232, 232, 233, 229, 223, 223, 215, 213, 164, 127, 123, 196,\n",
       "         229,   0],\n",
       "        [  0,   0,   0,   0,   0,   0,   0,   0,   0,   0,   0,   0,   0,\n",
       "         183, 225, 216, 223, 228, 235, 227, 224, 222, 224, 221, 223, 245,\n",
       "         173,   0],\n",
       "        [  0,   0,   0,   0,   0,   0,   0,   0,   0,   0,   0,   0,   0,\n",
       "         193, 228, 218, 213, 198, 180, 212, 210, 211, 213, 223, 220, 243,\n",
       "         202,   0],\n",
       "        [  0,   0,   0,   0,   0,   0,   0,   0,   0,   1,   3,   0,  12,\n",
       "         219, 220, 212, 218, 192, 169, 227, 208, 218, 224, 212, 226, 197,\n",
       "         209,  52],\n",
       "        [  0,   0,   0,   0,   0,   0,   0,   0,   0,   0,   6,   0,  99,\n",
       "         244, 222, 220, 218, 203, 198, 221, 215, 213, 222, 220, 245, 119,\n",
       "         167,  56],\n",
       "        [  0,   0,   0,   0,   0,   0,   0,   0,   0,   4,   0,   0,  55,\n",
       "         236, 228, 230, 228, 240, 232, 213, 218, 223, 234, 217, 217, 209,\n",
       "          92,   0],\n",
       "        [  0,   0,   1,   4,   6,   7,   2,   0,   0,   0,   0,   0, 237,\n",
       "         226, 217, 223, 222, 219, 222, 221, 216, 223, 229, 215, 218, 255,\n",
       "          77,   0],\n",
       "        [  0,   3,   0,   0,   0,   0,   0,   0,   0,  62, 145, 204, 228,\n",
       "         207, 213, 221, 218, 208, 211, 218, 224, 223, 219, 215, 224, 244,\n",
       "         159,   0],\n",
       "        [  0,   0,   0,   0,  18,  44,  82, 107, 189, 228, 220, 222, 217,\n",
       "         226, 200, 205, 211, 230, 224, 234, 176, 188, 250, 248, 233, 238,\n",
       "         215,   0],\n",
       "        [  0,  57, 187, 208, 224, 221, 224, 208, 204, 214, 208, 209, 200,\n",
       "         159, 245, 193, 206, 223, 255, 255, 221, 234, 221, 211, 220, 232,\n",
       "         246,   0],\n",
       "        [  3, 202, 228, 224, 221, 211, 211, 214, 205, 205, 205, 220, 240,\n",
       "          80, 150, 255, 229, 221, 188, 154, 191, 210, 204, 209, 222, 228,\n",
       "         225,   0],\n",
       "        [ 98, 233, 198, 210, 222, 229, 229, 234, 249, 220, 194, 215, 217,\n",
       "         241,  65,  73, 106, 117, 168, 219, 221, 215, 217, 223, 223, 224,\n",
       "         229,  29],\n",
       "        [ 75, 204, 212, 204, 193, 205, 211, 225, 216, 185, 197, 206, 198,\n",
       "         213, 240, 195, 227, 245, 239, 223, 218, 212, 209, 222, 220, 221,\n",
       "         230,  67],\n",
       "        [ 48, 203, 183, 194, 213, 197, 185, 190, 194, 192, 202, 214, 219,\n",
       "         221, 220, 236, 225, 216, 199, 206, 186, 181, 177, 172, 181, 205,\n",
       "         206, 115],\n",
       "        [  0, 122, 219, 193, 179, 171, 183, 196, 204, 210, 213, 207, 211,\n",
       "         210, 200, 196, 194, 191, 195, 191, 198, 192, 176, 156, 167, 177,\n",
       "         210,  92],\n",
       "        [  0,   0,  74, 189, 212, 191, 175, 172, 175, 181, 185, 188, 189,\n",
       "         188, 193, 198, 204, 209, 210, 210, 211, 188, 188, 194, 192, 216,\n",
       "         170,   0],\n",
       "        [  2,   0,   0,   0,  66, 200, 222, 237, 239, 242, 246, 243, 244,\n",
       "         221, 220, 193, 191, 179, 182, 182, 181, 176, 166, 168,  99,  58,\n",
       "           0,   0],\n",
       "        [  0,   0,   0,   0,   0,   0,   0,  40,  61,  44,  72,  41,  35,\n",
       "           0,   0,   0,   0,   0,   0,   0,   0,   0,   0,   0,   0,   0,\n",
       "           0,   0],\n",
       "        [  0,   0,   0,   0,   0,   0,   0,   0,   0,   0,   0,   0,   0,\n",
       "           0,   0,   0,   0,   0,   0,   0,   0,   0,   0,   0,   0,   0,\n",
       "           0,   0],\n",
       "        [  0,   0,   0,   0,   0,   0,   0,   0,   0,   0,   0,   0,   0,\n",
       "           0,   0,   0,   0,   0,   0,   0,   0,   0,   0,   0,   0,   0,\n",
       "           0,   0]], dtype=uint8),\n",
       " 9)"
      ]
     },
     "execution_count": 8,
     "metadata": {},
     "output_type": "execute_result"
    }
   ],
   "source": [
    "train_images[0,:,:], train_labels[0]"
   ]
  },
  {
   "cell_type": "code",
   "execution_count": 11,
   "id": "47188c72",
   "metadata": {},
   "outputs": [
    {
     "data": {
      "image/png": "[encoded data removed]",
      "text/plain": [
       "<Figure size 1584x432 with 8 Axes>"
      ]
     },
     "metadata": {
      "needs_background": "light"
     },
     "output_type": "display_data"
    },
    {
     "data": {
      "image/png": "[encoded data removed]",
      "text/plain": [
       "<Figure size 1584x432 with 8 Axes>"
      ]
     },
     "metadata": {
      "needs_background": "light"
     },
     "output_type": "display_data"
    }
   ],
   "source": [
    "class_name = ['T-shirt/top', 'Trouser', 'Pullover', 'Dress', 'Coat', 'Sandal', 'Shirt', 'Sneaker', 'Bag', 'Ankle boot']\n",
    "\n",
    "def show_images(images, labels, ncols=8):\n",
    "    figure, axs = plt.subplots(figsize=(22, 6), nrows=1, ncols=ncols)\n",
    "    for i in range(ncols):\n",
    "        axs[i].imshow(images[i], cmap='gray')\n",
    "        axs[i].set_title(class_name[labels[i]])\n",
    "        \n",
    "show_images(train_images[:8], train_labels[:8], ncols=8)\n",
    "show_images(train_images[8:16], train_labels[8:16], ncols=8)"
   ]
  },
  {
   "cell_type": "markdown",
   "id": "73b5a779",
   "metadata": {},
   "source": [
    "#### 데이터 전처리 수행\n",
    "\n",
    "- 0 ~ 255 사이의 픽셀 값을 0 ~ 1 사이 값으로 변환\n",
    "- array type은 float32"
   ]
  },
  {
   "cell_type": "code",
   "execution_count": 15,
   "id": "8c2c3397",
   "metadata": {},
   "outputs": [
    {
     "name": "stdout",
     "output_type": "stream",
     "text": [
      "train dataset shape: (60000, 28, 28) (60000,)\n",
      "test dataset shape: (10000, 28, 28) (10000,)\n"
     ]
    }
   ],
   "source": [
    "(train_images, train_labels), (test_images, test_labels) = fashion_mnist.load_data()\n",
    "\n",
    "def get_preprocessed_data(images, labels):\n",
    "    images = np.array(images/255.0, dtype=np.float32)\n",
    "    labels = np.array(labels, dtype=np.float32)\n",
    "    \n",
    "    return images, labels\n",
    "\n",
    "train_images, train_labels = get_preprocessed_data(train_images, train_labels)\n",
    "test_images, test_labels = get_preprocessed_data(test_images, test_labels)\n",
    "\n",
    "print('train dataset shape:', train_images.shape, train_labels.shape)\n",
    "print('test dataset shape:', test_images.shape, test_labels.shape)"
   ]
  },
  {
   "cell_type": "markdown",
   "id": "7a8f9b88",
   "metadata": {},
   "source": [
    "#### Danse Layer 기반으로 모델을 생성"
   ]
  },
  {
   "cell_type": "code",
   "execution_count": 19,
   "id": "2833fd5a",
   "metadata": {},
   "outputs": [],
   "source": [
    "INPUT_SIZE = 28"
   ]
  },
  {
   "cell_type": "code",
   "execution_count": 20,
   "id": "bf9b3205",
   "metadata": {},
   "outputs": [
    {
     "name": "stdout",
     "output_type": "stream",
     "text": [
      "Model: \"sequential\"\n",
      "_________________________________________________________________\n",
      " Layer (type)                Output Shape              Param #   \n",
      "=================================================================\n",
      " flatten (Flatten)           (None, 784)               0         \n",
      "                                                                 \n",
      " dense (Dense)               (None, 100)               78500     \n",
      "                                                                 \n",
      " dense_1 (Dense)             (None, 30)                3030      \n",
      "                                                                 \n",
      " dense_2 (Dense)             (None, 10)                310       \n",
      "                                                                 \n",
      "=================================================================\n",
      "Total params: 81,840\n",
      "Trainable params: 81,840\n",
      "Non-trainable params: 0\n",
      "_________________________________________________________________\n"
     ]
    }
   ],
   "source": [
    "from tensorflow.keras.layers import Dense, Flatten\n",
    "from tensorflow.keras.models import Sequential\n",
    "\n",
    "model = Sequential([\n",
    "    Flatten(input_shape=(INPUT_SIZE, INPUT_SIZE)),\n",
    "    Dense(100, activation='relu'),\n",
    "    Dense(30, activation='relu'),\n",
    "    Dense(10, activation='softmax')\n",
    "])\n",
    "\n",
    "model.summary()"
   ]
  },
  {
   "cell_type": "markdown",
   "id": "f24ce6b0",
   "metadata": {},
   "source": [
    "### 모델의 Loss와 Optimizer 설정하고 학습 수행\n",
    "\n",
    "* loss는 categorical_crossentropy로, optimizer는 Adam으로 설정\n",
    "* categorical crossentropy를 위해서 Lable을 OHE 로 변경"
   ]
  },
  {
   "cell_type": "code",
   "execution_count": 21,
   "id": "534ab79b",
   "metadata": {},
   "outputs": [],
   "source": [
    "from tensorflow.keras.optimizers import Adam\n",
    "from tensorflow.keras.losses import CategoricalCrossentropy\n",
    "from tensorflow.keras.metrics import Accuracy\n",
    "\n",
    "model.compile(optimizer=Adam(0.001), loss='categorical_crossentropy', metrics=['accuracy'])"
   ]
  },
  {
   "cell_type": "code",
   "execution_count": 22,
   "id": "d4a02155",
   "metadata": {},
   "outputs": [
    {
     "name": "stdout",
     "output_type": "stream",
     "text": [
      "(60000, 10) (10000, 10)\n"
     ]
    }
   ],
   "source": [
    "from tensorflow.keras.utils import to_categorical\n",
    "\n",
    "train_oh_labels = to_categorical(train_labels)\n",
    "test_oh_labels = to_categorical(test_labels)\n",
    "\n",
    "print(train_oh_labels.shape, test_oh_labels.shape)"
   ]
  },
  {
   "cell_type": "code",
   "execution_count": 28,
   "id": "41cde294",
   "metadata": {},
   "outputs": [],
   "source": [
    "import os\n",
    "os.environ[\"CUDA_VISIBLE_DEVICES\"] = \"0\"\n",
    "import tensorflow as tf"
   ]
  },
  {
   "cell_type": "code",
   "execution_count": 33,
   "id": "d8586936",
   "metadata": {},
   "outputs": [
    {
     "name": "stdout",
     "output_type": "stream",
     "text": [
      "Epoch 1/20\n",
      "1875/1875 [==============================] - 6s 3ms/step - loss: 0.1126 - accuracy: 0.9571\n",
      "Epoch 2/20\n",
      "1875/1875 [==============================] - 6s 3ms/step - loss: 0.1106 - accuracy: 0.9587\n",
      "Epoch 3/20\n",
      "1875/1875 [==============================] - 6s 3ms/step - loss: 0.1093 - accuracy: 0.9584\n",
      "Epoch 4/20\n",
      "1875/1875 [==============================] - 6s 3ms/step - loss: 0.1092 - accuracy: 0.9585\n",
      "Epoch 5/20\n",
      "1875/1875 [==============================] - 6s 3ms/step - loss: 0.1050 - accuracy: 0.9605\n",
      "Epoch 6/20\n",
      "1875/1875 [==============================] - 6s 3ms/step - loss: 0.1034 - accuracy: 0.9603\n",
      "Epoch 7/20\n",
      "1875/1875 [==============================] - 6s 3ms/step - loss: 0.1019 - accuracy: 0.9620\n",
      "Epoch 8/20\n",
      "1875/1875 [==============================] - 5s 3ms/step - loss: 0.1025 - accuracy: 0.9620\n",
      "Epoch 9/20\n",
      "1875/1875 [==============================] - 5s 3ms/step - loss: 0.1002 - accuracy: 0.9621\n",
      "Epoch 10/20\n",
      "1875/1875 [==============================] - 5s 3ms/step - loss: 0.0979 - accuracy: 0.9639\n",
      "Epoch 11/20\n",
      "1875/1875 [==============================] - 5s 3ms/step - loss: 0.0991 - accuracy: 0.9633\n",
      "Epoch 12/20\n",
      "1875/1875 [==============================] - 5s 3ms/step - loss: 0.0956 - accuracy: 0.9639\n",
      "Epoch 13/20\n",
      "1875/1875 [==============================] - 5s 3ms/step - loss: 0.0940 - accuracy: 0.9651\n",
      "Epoch 14/20\n",
      "1875/1875 [==============================] - 5s 3ms/step - loss: 0.0971 - accuracy: 0.9639\n",
      "Epoch 15/20\n",
      "1875/1875 [==============================] - 5s 3ms/step - loss: 0.0948 - accuracy: 0.9636\n",
      "Epoch 16/20\n",
      "1875/1875 [==============================] - 5s 3ms/step - loss: 0.0912 - accuracy: 0.9661: 0s - loss: 0\n",
      "Epoch 17/20\n",
      "1875/1875 [==============================] - 5s 3ms/step - loss: 0.0907 - accuracy: 0.9663\n",
      "Epoch 18/20\n",
      "1875/1875 [==============================] - 5s 3ms/step - loss: 0.0869 - accuracy: 0.9665\n",
      "Epoch 19/20\n",
      "1875/1875 [==============================] - 5s 3ms/step - loss: 0.0899 - accuracy: 0.9663\n",
      "Epoch 20/20\n",
      "1875/1875 [==============================] - 5s 3ms/step - loss: 0.0871 - accuracy: 0.9674\n"
     ]
    }
   ],
   "source": [
    "with tf.device('/device:GPU:0'): \n",
    "    history = model.fit(x=train_images, y=train_oh_labels, batch_size=32, epochs=20, verbose=1)"
   ]
  },
  {
   "cell_type": "code",
   "execution_count": 38,
   "id": "bc07bf6b",
   "metadata": {},
   "outputs": [
    {
     "name": "stdout",
     "output_type": "stream",
     "text": [
      "[0.11264251917600632, 0.11061368882656097, 0.10929132252931595, 0.10920735448598862, 0.10499212890863419, 0.1033681184053421, 0.10185673832893372, 0.10245940089225769, 0.10018831491470337, 0.0979326069355011, 0.09911242872476578, 0.09556020796298981, 0.09396855533123016, 0.09711953997612, 0.09477349370718002, 0.09118294715881348, 0.09074226766824722, 0.08691388368606567, 0.08986718207597733, 0.0870894193649292]\n",
      "[0.9571333527565002, 0.9586666822433472, 0.9583666920661926, 0.9585000276565552, 0.9604833126068115, 0.960266649723053, 0.961983323097229, 0.9620333313941956, 0.9621166586875916, 0.9639333486557007, 0.9632666707038879, 0.9638833403587341, 0.9651333093643188, 0.9638500213623047, 0.9636499881744385, 0.9661499857902527, 0.9662666916847229, 0.9665499925613403, 0.9662500023841858, 0.9674333333969116]\n"
     ]
    }
   ],
   "source": [
    "print(history.history['loss'])\n",
    "print(history.history['accuracy'])"
   ]
  },
  {
   "cell_type": "markdown",
   "id": "0e48e64e",
   "metadata": {},
   "source": [
    "### 테스트 데이터를 기반으로 Label 값 예측\n",
    "* model.predict()를 이용하여 label값 예측\n",
    "* predict()의 인자로 입력되는 feature array는 학습의 feature array와 shape가 동일해야함. \n",
    "* fit() 시 3차원(28x28 2차원 array가 여러개 존재) array 입력 했으므로 predict()도 동일한 3차원 데이터 입력\n",
    "* 특히 한건만 predict() 할때도 3차원 데이터여야 함. 이를 위해 expand_dims()로 2차원 image 배열을 3차원으로 변경"
   ]
  },
  {
   "cell_type": "code",
   "execution_count": 40,
   "id": "4b2b0bb6",
   "metadata": {},
   "outputs": [
    {
     "name": "stdout",
     "output_type": "stream",
     "text": [
      "(10000, 10)\n"
     ]
    }
   ],
   "source": [
    "pred_proba = model.predict(test_images)\n",
    "print(pred_proba.shape)"
   ]
  },
  {
   "cell_type": "code",
   "execution_count": 49,
   "id": "a076595f",
   "metadata": {},
   "outputs": [
    {
     "name": "stdout",
     "output_type": "stream",
     "text": [
      "softmax output: [[1.8690302e-22 5.7499074e-22 0.0000000e+00 2.0315718e-28 5.4692390e-28\n",
      "  1.5962027e-13 3.0282675e-29 9.0192344e-08 4.0561123e-33 9.9999988e-01]]\n",
      "predicted class value: 9\n"
     ]
    }
   ],
   "source": [
    "pred_proba = model.predict(np.expand_dims(test_images[0], axis=0))\n",
    "print('softmax output:', pred_proba)\n",
    "pred = np.argmax(np.squeeze(pred_proba))\n",
    "print('predicted class value:', pred)"
   ]
  },
  {
   "cell_type": "code",
   "execution_count": 50,
   "id": "5f0ab10e",
   "metadata": {},
   "outputs": [
    {
     "name": "stdout",
     "output_type": "stream",
     "text": [
      "target class value: 9.0 predicted class value: 9\n"
     ]
    }
   ],
   "source": [
    "class_names = ['T-shirt/top', 'Trouser', 'Pullover', 'Dress', 'Coat','Sandal', 'Shirt', 'Sneaker', 'Bag', 'Ankle boot']\n",
    "print('target class value:', test_labels[0], 'predicted class value:', pred)"
   ]
  },
  {
   "cell_type": "markdown",
   "id": "3e0fe7cc",
   "metadata": {},
   "source": [
    "### 테스트 데이터 세트로 모델 성능 검증"
   ]
  },
  {
   "cell_type": "code",
   "execution_count": 51,
   "id": "42e301bf",
   "metadata": {},
   "outputs": [
    {
     "name": "stdout",
     "output_type": "stream",
     "text": [
      "157/157 [==============================] - 1s 4ms/step - loss: 0.6372 - accuracy: 0.8864\n"
     ]
    },
    {
     "data": {
      "text/plain": [
       "[0.6372392177581787, 0.8863999843597412]"
      ]
     },
     "execution_count": 51,
     "metadata": {},
     "output_type": "execute_result"
    }
   ],
   "source": [
    "model.evaluate(test_images, test_oh_labels, batch_size=64)"
   ]
  },
  {
   "cell_type": "markdown",
   "id": "24f89976",
   "metadata": {},
   "source": [
    "### 검증 데이터 세트를 이용하여 학습 수행. \n",
    "* 일반적으로 fit() 수행시 별도의 검증 데이터 세트를 이용하여 학습 시 과적합(Overfitting)이 발생하는지 모니터링\n",
    "* fit()을 수행하면 iteration을 반복하기 때문에 중간에 하이퍼파라미터 변경(예: Learning Rate)등의 작업이 어려움. \n",
    "* fit() iteration시 여러 작업을 하기 위해 Callback 객체를 가짐. \n",
    "* 검증 데이터 세트를 fit() 시 적용하여 과적합이나 더이상 검증 데이터 성능이 좋아 지지 않을 때 Callback을 사용하여 Learning Rate 보정 작업등을 수행 가능"
   ]
  },
  {
   "cell_type": "code",
   "execution_count": 54,
   "id": "d663928c",
   "metadata": {},
   "outputs": [],
   "source": [
    "import numpy as np \n",
    "import pandas as pd\n",
    "from tensorflow.keras.datasets import fashion_mnist\n",
    "\n",
    "(train_images, train_labels), (test_images, test_labels) = fashion_mnist.load_data()\n",
    "\n",
    "def get_preprocessed_data(images, labels):\n",
    "    \n",
    "    # 학습과 테스트 이미지 array를 0~1 사이값으로 scale 및 float32 형 변형. \n",
    "    images = np.array(images/255.0, dtype=np.float32)\n",
    "    labels = np.array(labels, dtype=np.float32)\n",
    "    \n",
    "    return images, labels\n",
    "\n",
    "train_images, train_labels = get_preprocessed_data(train_images, train_labels)\n",
    "test_images, test_labels = get_preprocessed_data(test_images, test_labels)"
   ]
  },
  {
   "cell_type": "code",
   "execution_count": 55,
   "id": "db611369",
   "metadata": {},
   "outputs": [
    {
     "name": "stdout",
     "output_type": "stream",
     "text": [
      "train과 validation shape: (51000, 28, 28) (51000,) (9000, 28, 28) (9000,)\n",
      "after OHE: (51000, 10) (9000, 10)\n"
     ]
    }
   ],
   "source": [
    "from sklearn.model_selection import train_test_split\n",
    "from tensorflow.keras.utils import to_categorical\n",
    "\n",
    "# 기존 학습 데이터를 다시 학습과 검증 데이터 세트로 분리\n",
    "tr_images, val_images, tr_labels, val_labels = train_test_split(train_images, train_labels, test_size=0.15, random_state=2021)\n",
    "print('train과 validation shape:', tr_images.shape, tr_labels.shape, val_images.shape, val_labels.shape)\n",
    "\n",
    "# OHE 적용\n",
    "tr_oh_labels = to_categorical(tr_labels)\n",
    "val_oh_labels = to_categorical(val_labels)\n",
    "\n",
    "print('after OHE:', tr_oh_labels.shape, val_oh_labels.shape)"
   ]
  },
  {
   "cell_type": "markdown",
   "id": "a49bd6a0",
   "metadata": {},
   "source": [
    "### 검증 데이터 세트를 적용하여 학습 수행"
   ]
  },
  {
   "cell_type": "code",
   "execution_count": 59,
   "id": "dd06e306",
   "metadata": {},
   "outputs": [],
   "source": [
    "INPUT_SIZE = 28\n",
    "model = Sequential([\n",
    "    Flatten(input_shape=(INPUT_SIZE, INPUT_SIZE)),\n",
    "    Dense(100, activation='relu'),\n",
    "    Dense(30, activation='relu'),\n",
    "    Dense(10, activation='softmax')\n",
    "])\n",
    "model.compile(optimizer=Adam(0.001), loss='categorical_crossentropy', metrics=['accuracy'])"
   ]
  },
  {
   "cell_type": "code",
   "execution_count": 60,
   "id": "d171230c",
   "metadata": {},
   "outputs": [
    {
     "name": "stdout",
     "output_type": "stream",
     "text": [
      "Epoch 1/20\n",
      "399/399 [==============================] - 2s 5ms/step - loss: 0.6008 - accuracy: 0.7930 - val_loss: 0.5005 - val_accuracy: 0.8183\n",
      "Epoch 2/20\n",
      "399/399 [==============================] - 2s 4ms/step - loss: 0.4087 - accuracy: 0.8563 - val_loss: 0.4212 - val_accuracy: 0.8483\n",
      "Epoch 3/20\n",
      "399/399 [==============================] - 2s 4ms/step - loss: 0.3699 - accuracy: 0.8689 - val_loss: 0.3825 - val_accuracy: 0.8642\n",
      "Epoch 4/20\n",
      "399/399 [==============================] - 1s 4ms/step - loss: 0.3453 - accuracy: 0.8765 - val_loss: 0.3692 - val_accuracy: 0.8669\n",
      "Epoch 5/20\n",
      "399/399 [==============================] - 1s 4ms/step - loss: 0.3236 - accuracy: 0.8835 - val_loss: 0.3446 - val_accuracy: 0.8768\n",
      "Epoch 6/20\n",
      "399/399 [==============================] - 2s 4ms/step - loss: 0.3096 - accuracy: 0.8875 - val_loss: 0.3392 - val_accuracy: 0.8779\n",
      "Epoch 7/20\n",
      "399/399 [==============================] - 1s 4ms/step - loss: 0.2948 - accuracy: 0.8929 - val_loss: 0.3534 - val_accuracy: 0.8726\n",
      "Epoch 8/20\n",
      "399/399 [==============================] - 2s 4ms/step - loss: 0.2841 - accuracy: 0.8960 - val_loss: 0.3311 - val_accuracy: 0.8807\n",
      "Epoch 9/20\n",
      "399/399 [==============================] - 2s 4ms/step - loss: 0.2740 - accuracy: 0.9012 - val_loss: 0.3234 - val_accuracy: 0.8831\n",
      "Epoch 10/20\n",
      "399/399 [==============================] - 2s 4ms/step - loss: 0.2659 - accuracy: 0.9031 - val_loss: 0.3145 - val_accuracy: 0.8863\n",
      "Epoch 11/20\n",
      "399/399 [==============================] - 2s 4ms/step - loss: 0.2563 - accuracy: 0.9057 - val_loss: 0.3338 - val_accuracy: 0.8806\n",
      "Epoch 12/20\n",
      "399/399 [==============================] - 1s 4ms/step - loss: 0.2501 - accuracy: 0.9070 - val_loss: 0.3152 - val_accuracy: 0.8861\n",
      "Epoch 13/20\n",
      "399/399 [==============================] - 1s 4ms/step - loss: 0.2422 - accuracy: 0.9104 - val_loss: 0.3111 - val_accuracy: 0.8869\n",
      "Epoch 14/20\n",
      "399/399 [==============================] - 1s 4ms/step - loss: 0.2349 - accuracy: 0.9135 - val_loss: 0.3085 - val_accuracy: 0.8887\n",
      "Epoch 15/20\n",
      "399/399 [==============================] - 1s 4ms/step - loss: 0.2315 - accuracy: 0.9140 - val_loss: 0.3361 - val_accuracy: 0.8786\n",
      "Epoch 16/20\n",
      "399/399 [==============================] - 1s 4ms/step - loss: 0.2235 - accuracy: 0.9171 - val_loss: 0.3170 - val_accuracy: 0.8871\n",
      "Epoch 17/20\n",
      "399/399 [==============================] - 1s 4ms/step - loss: 0.2180 - accuracy: 0.9192 - val_loss: 0.3356 - val_accuracy: 0.8793\n",
      "Epoch 18/20\n",
      "399/399 [==============================] - 1s 4ms/step - loss: 0.2139 - accuracy: 0.9210 - val_loss: 0.3137 - val_accuracy: 0.8873\n",
      "Epoch 19/20\n",
      "399/399 [==============================] - 1s 4ms/step - loss: 0.2073 - accuracy: 0.9234 - val_loss: 0.3340 - val_accuracy: 0.8854\n",
      "Epoch 20/20\n",
      "399/399 [==============================] - 1s 4ms/step - loss: 0.2036 - accuracy: 0.9252 - val_loss: 0.3239 - val_accuracy: 0.8847\n"
     ]
    }
   ],
   "source": [
    "history = model.fit(x=tr_images, y=tr_oh_labels, batch_size=128, validation_data=(val_images, val_oh_labels), \n",
    "                    epochs=20, verbose=1)"
   ]
  },
  {
   "cell_type": "code",
   "execution_count": 61,
   "id": "2943f424",
   "metadata": {},
   "outputs": [
    {
     "name": "stdout",
     "output_type": "stream",
     "text": [
      "[0.6008362174034119, 0.4086809456348419, 0.36994054913520813, 0.34525471925735474, 0.32364344596862793, 0.30964556336402893, 0.2948073744773865, 0.2841251790523529, 0.27404290437698364, 0.26594284176826477, 0.25633591413497925, 0.25010696053504944, 0.2421943098306656, 0.23492857813835144, 0.23149153590202332, 0.2235420048236847, 0.21797120571136475, 0.21385860443115234, 0.20732347667217255, 0.20358170568943024]\n",
      "[0.7930195927619934, 0.8563137054443359, 0.8689411878585815, 0.8765097856521606, 0.8835294246673584, 0.8874706029891968, 0.8929215669631958, 0.8960391879081726, 0.901215672492981, 0.9030980467796326, 0.9056862592697144, 0.9069607853889465, 0.9104313850402832, 0.9134901762008667, 0.9140195846557617, 0.9170588254928589, 0.919176459312439, 0.9210196137428284, 0.9233529567718506, 0.9251960515975952]\n",
      "[0.5005223751068115, 0.4211958348751068, 0.3824646472930908, 0.36924394965171814, 0.34456706047058105, 0.3391827642917633, 0.3534383773803711, 0.3310733735561371, 0.32340335845947266, 0.3144699037075043, 0.33378705382347107, 0.31515106558799744, 0.31110239028930664, 0.30846723914146423, 0.33608493208885193, 0.3170108199119568, 0.33556491136550903, 0.31373170018196106, 0.33397045731544495, 0.32393234968185425]\n",
      "[0.8183333277702332, 0.8483333587646484, 0.8642222285270691, 0.8668888807296753, 0.8767777681350708, 0.8778889179229736, 0.8725555539131165, 0.8806666731834412, 0.8831111192703247, 0.8863333463668823, 0.8805555701255798, 0.8861111402511597, 0.886888861656189, 0.8886666893959045, 0.8785555362701416, 0.8871111273765564, 0.8793333172798157, 0.887333333492279, 0.8854444622993469, 0.8846666812896729]\n"
     ]
    }
   ],
   "source": [
    "print(history.history['loss'])\n",
    "print(history.history['accuracy'])\n",
    "print(history.history['val_loss'])\n",
    "print(history.history['val_accuracy'])"
   ]
  },
  {
   "cell_type": "code",
   "execution_count": 62,
   "id": "d24d7fc8",
   "metadata": {},
   "outputs": [
    {
     "data": {
      "text/plain": [
       "<matplotlib.legend.Legend at 0x18ebe084640>"
      ]
     },
     "execution_count": 62,
     "metadata": {},
     "output_type": "execute_result"
    },
    {
     "data": {
      "image/png": "[encoded data removed]",
      "text/plain": [
       "<Figure size 432x288 with 1 Axes>"
      ]
     },
     "metadata": {
      "needs_background": "light"
     },
     "output_type": "display_data"
    }
   ],
   "source": [
    "import matplotlib.pyplot as plt\n",
    "\n",
    "plt.plot(history.history['accuracy'], label='train')\n",
    "plt.plot(history.history['val_accuracy'], label='valid')\n",
    "plt.legend()"
   ]
  },
  {
   "cell_type": "markdown",
   "id": "17d717cc",
   "metadata": {},
   "source": [
    "### Functional API"
   ]
  },
  {
   "cell_type": "code",
   "execution_count": 63,
   "id": "5bdc140a",
   "metadata": {},
   "outputs": [
    {
     "name": "stdout",
     "output_type": "stream",
     "text": [
      "Model: \"sequential_2\"\n",
      "_________________________________________________________________\n",
      " Layer (type)                Output Shape              Param #   \n",
      "=================================================================\n",
      " flatten_2 (Flatten)         (None, 784)               0         \n",
      "                                                                 \n",
      " dense_6 (Dense)             (None, 100)               78500     \n",
      "                                                                 \n",
      " dense_7 (Dense)             (None, 30)                3030      \n",
      "                                                                 \n",
      " dense_8 (Dense)             (None, 10)                310       \n",
      "                                                                 \n",
      "=================================================================\n",
      "Total params: 81,840\n",
      "Trainable params: 81,840\n",
      "Non-trainable params: 0\n",
      "_________________________________________________________________\n",
      "Model: \"sequential_3\"\n",
      "_________________________________________________________________\n",
      " Layer (type)                Output Shape              Param #   \n",
      "=================================================================\n",
      " flatten_3 (Flatten)         (None, 784)               0         \n",
      "                                                                 \n",
      " dense_9 (Dense)             (None, 100)               78500     \n",
      "                                                                 \n",
      " dense_10 (Dense)            (None, 30)                3030      \n",
      "                                                                 \n",
      " dense_11 (Dense)            (None, 10)                310       \n",
      "                                                                 \n",
      "=================================================================\n",
      "Total params: 81,840\n",
      "Trainable params: 81,840\n",
      "Non-trainable params: 0\n",
      "_________________________________________________________________\n"
     ]
    }
   ],
   "source": [
    "from tensorflow.keras.layers import Dense, Flatten\n",
    "from tensorflow.keras.models import Sequential\n",
    "\n",
    "INPUT_SIZE = 28\n",
    "\n",
    "model = Sequential([\n",
    "    Flatten(input_shape=(INPUT_SIZE, INPUT_SIZE)),\n",
    "    Dense(100, activation='relu'),\n",
    "    Dense(30, activation='relu'),\n",
    "    Dense(10, activation='softmax')\n",
    "])\n",
    "\n",
    "model.summary()\n",
    "\n",
    "model1 = Sequential()\n",
    "model1.add(Flatten(input_shape=(INPUT_SIZE, INPUT_SIZE)))\n",
    "model1.add(Dense(100, activation='relu'))\n",
    "model1.add(Dense(30, activation='relu'))\n",
    "model1.add(Dense(10, activation='softmax'))\n",
    "\n",
    "model1.summary()\n"
   ]
  },
  {
   "cell_type": "code",
   "execution_count": 66,
   "id": "58aec574",
   "metadata": {},
   "outputs": [
    {
     "name": "stdout",
     "output_type": "stream",
     "text": [
      "Model: \"model\"\n",
      "_________________________________________________________________\n",
      " Layer (type)                Output Shape              Param #   \n",
      "=================================================================\n",
      " input_1 (InputLayer)        [(None, 28, 28)]          0         \n",
      "                                                                 \n",
      " flatten_4 (Flatten)         (None, 784)               0         \n",
      "                                                                 \n",
      " dense_12 (Dense)            (None, 100)               78500     \n",
      "                                                                 \n",
      " dense_13 (Dense)            (None, 30)                3030      \n",
      "                                                                 \n",
      " dense_14 (Dense)            (None, 10)                310       \n",
      "                                                                 \n",
      "=================================================================\n",
      "Total params: 81,840\n",
      "Trainable params: 81,840\n",
      "Non-trainable params: 0\n",
      "_________________________________________________________________\n"
     ]
    }
   ],
   "source": [
    "from tensorflow.keras.layers import Input, Dense, Flatten\n",
    "from tensorflow.keras.models import Model\n",
    "\n",
    "input_tensor = Input(shape=(INPUT_SIZE, INPUT_SIZE))\n",
    "x = Flatten()(input_tensor)\n",
    "x = Dense(100, activation='relu')(x)\n",
    "x = Dense(30, activation='relu')(x)\n",
    "output = Dense(10, activation='softmax')(x)\n",
    "\n",
    "model = Model(inputs=input_tensor, outputs=output)\n",
    "\n",
    "model.summary()"
   ]
  },
  {
   "cell_type": "markdown",
   "id": "20ae1aea",
   "metadata": {},
   "source": [
    "### Custom한 Dense Layer 생성하기"
   ]
  },
  {
   "cell_type": "code",
   "execution_count": 68,
   "id": "bda228f0",
   "metadata": {},
   "outputs": [],
   "source": [
    "from tensorflow.keras.layers import Layer, Input\n",
    "from tensorflow.keras.models import Model\n",
    "import tensorflow as tf\n",
    "\n",
    "class CustomDense(tf.keras.layers.Layer):\n",
    "    # CustomDense 객체 생성시 입력되는 초기화 parameter 처리\n",
    "    def __init__(self, units=32):\n",
    "        super(CustomDense, self).__init__()\n",
    "        self.units = units\n",
    "        \n",
    "    def build(self, input_shape):\n",
    "        self.w = self.add_weight(\n",
    "            shape=(input_shape[-1], self.units),\n",
    "            initializer='random_normal',\n",
    "            trainable=True\n",
    "        )\n",
    "        self.b = self.add_weight(\n",
    "            shape=(self.units,),\n",
    "            initializer='random_normal',\n",
    "            trainable=True\n",
    "        )\n",
    "    # CustomDense 객체에 callable로 입력된 입력 데이터 처리\n",
    "    def call(self, inputs):\n",
    "        return tf.matmul(inputs, self.w) + self.b"
   ]
  },
  {
   "cell_type": "code",
   "execution_count": 69,
   "id": "0e03cb21",
   "metadata": {},
   "outputs": [
    {
     "name": "stdout",
     "output_type": "stream",
     "text": [
      "Model: \"model_1\"\n",
      "_________________________________________________________________\n",
      " Layer (type)                Output Shape              Param #   \n",
      "=================================================================\n",
      " input_2 (InputLayer)        [(None, 4)]               0         \n",
      "                                                                 \n",
      " custom_dense (CustomDense)  (None, 10)                50        \n",
      "                                                                 \n",
      "=================================================================\n",
      "Total params: 50\n",
      "Trainable params: 50\n",
      "Non-trainable params: 0\n",
      "_________________________________________________________________\n"
     ]
    }
   ],
   "source": [
    "inputs = Input((4,))\n",
    "outputs = CustomDense(10)(inputs)\n",
    "\n",
    "model = Model(inputs, outputs)\n",
    "model.summary()"
   ]
  },
  {
   "cell_type": "markdown",
   "id": "a3f803f6",
   "metadata": {},
   "source": [
    "### Functional API는 객체 생성 부분과 Callable 인자 입력 부분을 별도로 수행해도 무방."
   ]
  },
  {
   "cell_type": "code",
   "execution_count": 70,
   "id": "db1dbd78",
   "metadata": {},
   "outputs": [
    {
     "name": "stdout",
     "output_type": "stream",
     "text": [
      "Model: \"model_2\"\n",
      "_________________________________________________________________\n",
      " Layer (type)                Output Shape              Param #   \n",
      "=================================================================\n",
      " input_3 (InputLayer)        [(None, 4)]               0         \n",
      "                                                                 \n",
      " custom_dense_1 (CustomDense  (None, 10)               50        \n",
      " )                                                               \n",
      "                                                                 \n",
      "=================================================================\n",
      "Total params: 50\n",
      "Trainable params: 50\n",
      "Non-trainable params: 0\n",
      "_________________________________________________________________\n"
     ]
    }
   ],
   "source": [
    "inputs = Input((4,))\n",
    "# 10개의 unit을 가지는 CustomDense 객체를 생성 후 callable로 inputs값 입력 \n",
    "my_layer = CustomDense(10)\n",
    "outputs = my_layer(inputs)\n",
    "\n",
    "# inputs와 outputs로 model 생성. \n",
    "model = Model(inputs, outputs)\n",
    "model.summary()"
   ]
  },
  {
   "cell_type": "markdown",
   "id": "ca6c6f8f",
   "metadata": {},
   "source": [
    "### Sequential Model 생성은 단지 Functional API Layer들을 iteration 하면서 연결한 것을 model로 만든 것임"
   ]
  },
  {
   "cell_type": "code",
   "execution_count": 72,
   "id": "d5bbd603",
   "metadata": {},
   "outputs": [
    {
     "name": "stdout",
     "output_type": "stream",
     "text": [
      "Model: \"sequential_5\"\n",
      "_________________________________________________________________\n",
      " Layer (type)                Output Shape              Param #   \n",
      "=================================================================\n",
      " custom_dense_4 (CustomDense  (None, 10)               50        \n",
      " )                                                               \n",
      "                                                                 \n",
      " custom_dense_5 (CustomDense  (None, 8)                88        \n",
      " )                                                               \n",
      "                                                                 \n",
      " re_lu_1 (ReLU)              (None, 8)                 0         \n",
      "                                                                 \n",
      "=================================================================\n",
      "Total params: 138\n",
      "Trainable params: 138\n",
      "Non-trainable params: 0\n",
      "_________________________________________________________________\n"
     ]
    }
   ],
   "source": [
    "from tensorflow.keras.models import Sequential\n",
    "\n",
    "model = Sequential([Input((4,)),\n",
    "                    CustomDense(10),\n",
    "                    CustomDense(8),\n",
    "                    tf.keras.layers.ReLU()])\n",
    "\n",
    "model.summary()"
   ]
  },
  {
   "cell_type": "markdown",
   "id": "c12cd894",
   "metadata": {},
   "source": [
    "### Sequential Model을 Functional 객체를 For loop 반복 호출하여 작성"
   ]
  },
  {
   "cell_type": "code",
   "execution_count": 73,
   "id": "c99f06a3",
   "metadata": {},
   "outputs": [
    {
     "name": "stdout",
     "output_type": "stream",
     "text": [
      "Model: \"model_3\"\n",
      "_________________________________________________________________\n",
      " Layer (type)                Output Shape              Param #   \n",
      "=================================================================\n",
      " input_6 (InputLayer)        [(None, 4)]               0         \n",
      "                                                                 \n",
      " custom_dense_6 (CustomDense  (None, 10)               50        \n",
      " )                                                               \n",
      "                                                                 \n",
      " custom_dense_7 (CustomDense  (None, 8)                88        \n",
      " )                                                               \n",
      "                                                                 \n",
      " re_lu_2 (ReLU)              (None, 8)                 0         \n",
      "                                                                 \n",
      "=================================================================\n",
      "Total params: 138\n",
      "Trainable params: 138\n",
      "Non-trainable params: 0\n",
      "_________________________________________________________________\n"
     ]
    }
   ],
   "source": [
    "layers_list = [Input((4,)), CustomDense(10), CustomDense(8), tf.keras.layers.ReLU()]\n",
    "\n",
    "inputs = None\n",
    "callable_inputs = None\n",
    "outputs = None\n",
    "# layers_list에 있는 Functional 객체를 iteration 수행하면서 적용. \n",
    "for index, layer in enumerate(layers_list):\n",
    "    # layers_list의 첫번째 인자는 Input 간주. \n",
    "    if index == 0:\n",
    "        inputs = layer\n",
    "        callable_inputs = layer\n",
    "    # Functional 객체에 callable 인자로 callable_inputs를 입력하고 반환 결과 값을 다시 callable_inputs로 할당.     \n",
    "    else: \n",
    "        callable_inputs = layer(callable_inputs)\n",
    "    \n",
    "outputs = callable_inputs\n",
    "model = Model(inputs, outputs)\n",
    "model.summary()"
   ]
  },
  {
   "cell_type": "markdown",
   "id": "11a86ae5",
   "metadata": {},
   "source": [
    "### 앞에서 생성한 로직들을 함수화 \n",
    "* Functional API로 모델 만들기\n",
    "* pixel값 1 ~ 255를 0 ~ 1사이값 Float 32로 만들기\n",
    "* One Hot Encoding Label에 적용하기\n",
    "* 학습과 검증 데이터로 나누기.\n",
    "* compile, 학습/예측/평가"
   ]
  },
  {
   "cell_type": "code",
   "execution_count": 75,
   "id": "c97866a4",
   "metadata": {},
   "outputs": [
    {
     "name": "stdout",
     "output_type": "stream",
     "text": [
      "Model: \"model_4\"\n",
      "_________________________________________________________________\n",
      " Layer (type)                Output Shape              Param #   \n",
      "=================================================================\n",
      " input_7 (InputLayer)        [(None, 28, 28)]          0         \n",
      "                                                                 \n",
      " flatten_5 (Flatten)         (None, 784)               0         \n",
      "                                                                 \n",
      " dense_15 (Dense)            (None, 100)               78500     \n",
      "                                                                 \n",
      " dense_16 (Dense)            (None, 30)                3030      \n",
      "                                                                 \n",
      " dense_17 (Dense)            (None, 10)                310       \n",
      "                                                                 \n",
      "=================================================================\n",
      "Total params: 81,840\n",
      "Trainable params: 81,840\n",
      "Non-trainable params: 0\n",
      "_________________________________________________________________\n"
     ]
    }
   ],
   "source": [
    "INPUT_SIZE = 28\n",
    "\n",
    "def create_model():\n",
    "    input_tensor = Input(shape=(INPUT_SIZE, INPUT_SIZE))\n",
    "    x = Flatten()(input_tensor)\n",
    "    x = Dense(100, activation='relu')(x)\n",
    "    x = Dense(30, activation='relu')(x)\n",
    "    output = Dense(10, activation='softmax')(x)\n",
    "    \n",
    "    model = Model(inputs=input_tensor, outputs=output)\n",
    "    return model\n",
    "\n",
    "model = create_model()\n",
    "model.summary()"
   ]
  },
  {
   "cell_type": "code",
   "execution_count": 76,
   "id": "b8cc8159",
   "metadata": {},
   "outputs": [],
   "source": [
    "# 0 ~ 1 사이값의 float32로 변경하는 함수\n",
    "def get_preprocessed_data(images, labels):\n",
    "    images = np.array(images/255.0, dtype=np.float32)\n",
    "    labels = np.array(labels, dtype=np.float32)\n",
    "    \n",
    "    return images, labels\n",
    "\n",
    "# 0 ~ 1 사이값 float32로 변경하는 함수 호출 한 뒤 OHE 적용\n",
    "def get_preprocessed_ohe(images, labels):\n",
    "    images, labels = get_preprocessed_data(images, labels)\n",
    "    oh_labels = to_categorical(labels)\n",
    "    return images, oh_labels\n",
    "\n",
    "# 학습/검증/테스트 데이터 세트에 전처리 및 ohe 적용한 뒤 반환\n",
    "def get_train_valid_test_set(train_images, train_labels, test_images, test_labels, valid_size=0.15, random_state=2021):\n",
    "    train_images, train_oh_labels = get_preprocessed_ohe(train_images, train_labels)\n",
    "    test_images, test_oh_labels = get_preprocessed_ohe(test_images, test_labels)\n",
    "    \n",
    "    tr_images, val_images, tr_oh_labels, val_oh_labels = train_test_split(train_images, train_oh_labels, test_size=valid_size, random_state=random_state)\n",
    "    \n",
    "    return (tr_images, tr_oh_labels), (val_images, val_oh_labels), (test_images, test_oh_labels)"
   ]
  },
  {
   "cell_type": "code",
   "execution_count": 79,
   "id": "dc1acbd3",
   "metadata": {},
   "outputs": [
    {
     "name": "stdout",
     "output_type": "stream",
     "text": [
      "(60000, 28, 28) (60000,) (10000, 28, 28) (10000,)\n",
      "(51000, 28, 28) (51000, 10) (9000, 28, 28) (9000, 10) (10000, 28, 28) (10000, 10)\n"
     ]
    }
   ],
   "source": [
    "# Fashion MNIST 데이터 재 로딩 및 전처리 적용하여 학습/검증/데이터 세트 생성. \n",
    "\n",
    "(train_images, train_labels), (test_images, test_labels) = fashion_mnist.load_data()\n",
    "print(train_images.shape, train_labels.shape, test_images.shape, test_labels.shape)\n",
    "\n",
    "(tr_images, tr_oh_labels), (val_images, val_oh_labels), (test_images, test_oh_labels) = get_train_valid_test_set(train_images, train_labels, test_images, test_labels, valid_size=0.15, random_state=2021)\n",
    "print(tr_images.shape, tr_oh_labels.shape, val_images.shape, val_oh_labels.shape, test_images.shape, test_oh_labels.shape)"
   ]
  },
  {
   "cell_type": "code",
   "execution_count": 80,
   "id": "85865858",
   "metadata": {},
   "outputs": [
    {
     "name": "stdout",
     "output_type": "stream",
     "text": [
      "Model: \"model_5\"\n",
      "_________________________________________________________________\n",
      " Layer (type)                Output Shape              Param #   \n",
      "=================================================================\n",
      " input_8 (InputLayer)        [(None, 28, 28)]          0         \n",
      "                                                                 \n",
      " flatten_6 (Flatten)         (None, 784)               0         \n",
      "                                                                 \n",
      " dense_18 (Dense)            (None, 100)               78500     \n",
      "                                                                 \n",
      " dense_19 (Dense)            (None, 30)                3030      \n",
      "                                                                 \n",
      " dense_20 (Dense)            (None, 10)                310       \n",
      "                                                                 \n",
      "=================================================================\n",
      "Total params: 81,840\n",
      "Trainable params: 81,840\n",
      "Non-trainable params: 0\n",
      "_________________________________________________________________\n"
     ]
    }
   ],
   "source": [
    "# Model 생성 및 optimizer, loss, metric 적용\n",
    "model = create_model()\n",
    "model.summary()\n",
    "\n",
    "model.compile(optimizer=Adam(0.001), loss='categorical_crossentropy', metrics=['accuracy'])\n"
   ]
  },
  {
   "cell_type": "code",
   "execution_count": 81,
   "id": "94ad6803",
   "metadata": {},
   "outputs": [
    {
     "name": "stdout",
     "output_type": "stream",
     "text": [
      "Epoch 1/20\n",
      "1594/1594 [==============================] - 7s 4ms/step - loss: 0.5175 - accuracy: 0.8171 - val_loss: 0.4323 - val_accuracy: 0.8359\n",
      "Epoch 2/20\n",
      "1594/1594 [==============================] - 6s 4ms/step - loss: 0.3837 - accuracy: 0.8603 - val_loss: 0.3709 - val_accuracy: 0.8659\n",
      "Epoch 3/20\n",
      "1594/1594 [==============================] - 5s 3ms/step - loss: 0.3461 - accuracy: 0.8735 - val_loss: 0.3575 - val_accuracy: 0.8690\n",
      "Epoch 4/20\n",
      "1594/1594 [==============================] - 5s 3ms/step - loss: 0.3230 - accuracy: 0.8813 - val_loss: 0.3455 - val_accuracy: 0.8787\n",
      "Epoch 5/20\n",
      "1594/1594 [==============================] - 5s 3ms/step - loss: 0.3060 - accuracy: 0.8872 - val_loss: 0.3380 - val_accuracy: 0.8776\n",
      "Epoch 6/20\n",
      "1594/1594 [==============================] - 5s 3ms/step - loss: 0.2905 - accuracy: 0.8922 - val_loss: 0.3320 - val_accuracy: 0.8790\n",
      "Epoch 7/20\n",
      "1594/1594 [==============================] - 5s 3ms/step - loss: 0.2818 - accuracy: 0.8955 - val_loss: 0.3328 - val_accuracy: 0.8820\n",
      "Epoch 8/20\n",
      "1594/1594 [==============================] - 5s 3ms/step - loss: 0.2705 - accuracy: 0.8991 - val_loss: 0.3272 - val_accuracy: 0.8828\n",
      "Epoch 9/20\n",
      "1594/1594 [==============================] - 5s 3ms/step - loss: 0.2591 - accuracy: 0.9040 - val_loss: 0.3266 - val_accuracy: 0.8801\n",
      "Epoch 10/20\n",
      "1594/1594 [==============================] - 5s 3ms/step - loss: 0.2520 - accuracy: 0.9060 - val_loss: 0.3191 - val_accuracy: 0.8872\n",
      "Epoch 11/20\n",
      "1594/1594 [==============================] - 6s 4ms/step - loss: 0.2443 - accuracy: 0.9095 - val_loss: 0.3388 - val_accuracy: 0.8761\n",
      "Epoch 12/20\n",
      "1594/1594 [==============================] - 6s 3ms/step - loss: 0.2338 - accuracy: 0.9126 - val_loss: 0.3390 - val_accuracy: 0.8832\n",
      "Epoch 13/20\n",
      "1594/1594 [==============================] - 6s 3ms/step - loss: 0.2298 - accuracy: 0.9135 - val_loss: 0.3221 - val_accuracy: 0.8892\n",
      "Epoch 14/20\n",
      "1594/1594 [==============================] - 5s 3ms/step - loss: 0.2255 - accuracy: 0.9145 - val_loss: 0.3233 - val_accuracy: 0.8867\n",
      "Epoch 15/20\n",
      "1594/1594 [==============================] - 6s 4ms/step - loss: 0.2163 - accuracy: 0.9196 - val_loss: 0.3158 - val_accuracy: 0.8907\n",
      "Epoch 16/20\n",
      "1594/1594 [==============================] - 6s 4ms/step - loss: 0.2096 - accuracy: 0.9208 - val_loss: 0.3331 - val_accuracy: 0.8889\n",
      "Epoch 17/20\n",
      "1594/1594 [==============================] - 6s 3ms/step - loss: 0.2073 - accuracy: 0.9225 - val_loss: 0.3244 - val_accuracy: 0.8920\n",
      "Epoch 18/20\n",
      "1594/1594 [==============================] - 6s 4ms/step - loss: 0.1985 - accuracy: 0.9260 - val_loss: 0.3436 - val_accuracy: 0.8878\n",
      "Epoch 19/20\n",
      "1594/1594 [==============================] - 5s 3ms/step - loss: 0.1947 - accuracy: 0.9264 - val_loss: 0.3264 - val_accuracy: 0.8928\n",
      "Epoch 20/20\n",
      "1594/1594 [==============================] - 6s 4ms/step - loss: 0.1900 - accuracy: 0.9281 - val_loss: 0.3342 - val_accuracy: 0.8929\n"
     ]
    }
   ],
   "source": [
    "# 학습 수행. \n",
    "hostory = model.fit(x=tr_images, y=tr_oh_labels, batch_size=32, epochs=20, validation_data=(val_images, val_oh_labels))"
   ]
  },
  {
   "cell_type": "code",
   "execution_count": 82,
   "id": "24f08a41",
   "metadata": {},
   "outputs": [
    {
     "data": {
      "image/png": "[encoded data removed]",
      "text/plain": [
       "<Figure size 432x288 with 1 Axes>"
      ]
     },
     "metadata": {
      "needs_background": "light"
     },
     "output_type": "display_data"
    }
   ],
   "source": [
    "def show_history(history):\n",
    "    plt.plot(history.history['accuracy'], label='train')\n",
    "    plt.plot(history.history['val_accuracy'], label='valid')\n",
    "    plt.legend()\n",
    "    \n",
    "show_history(history)"
   ]
  },
  {
   "cell_type": "code",
   "execution_count": 83,
   "id": "1653d538",
   "metadata": {},
   "outputs": [
    {
     "name": "stdout",
     "output_type": "stream",
     "text": [
      "40/40 [==============================] - 0s 5ms/step - loss: 0.3731 - accuracy: 0.8815\n"
     ]
    },
    {
     "data": {
      "text/plain": [
       "[0.3731217682361603, 0.8815000057220459]"
      ]
     },
     "execution_count": 83,
     "metadata": {},
     "output_type": "execute_result"
    }
   ],
   "source": [
    "# 테스트 데이터 세트로 모델 성능 검증\n",
    "model.evaluate(test_images, test_oh_labels, batch_size=256, verbose=1)"
   ]
  },
  {
   "cell_type": "markdown",
   "id": "ca7191fd",
   "metadata": {},
   "source": [
    "### Callback"
   ]
  },
  {
   "cell_type": "markdown",
   "id": "2653e951",
   "metadata": {},
   "source": [
    "#### ModelCheckpoint(filepath, monitor='val_loss', verbose=0, save_best_only=False, save_weights_only=False, mode='auto', period=1)\n",
    "* 특정 조건에 맞춰서 모델을 파일로 저장\n",
    "* filepath: filepath는 (on_epoch_end에서 전달되는) epoch의 값과 logs의 키로 채워진 이름 형식 옵션을 가질 수 있음.\n",
    "예를 들어 filepath가 weights.{epoch:02d}-{val_loss:.2f}.hdf5라면, 파일 이름에 세대 번호와 검증 손실을 넣어 모델의 체크포인트가 저장 \n",
    "* monitor: 모니터할 지표(loss 또는 평가 지표) \n",
    "* save_best_only: 가장 좋은 성능을 나타내는 모델만 저장할 여부\n",
    "* save_weights_only: Weights만 저장할 지 여부 \n",
    "* mode: {auto, min, max} 중 하나. monitor 지표가 감소해야 좋을 경우 min, 증가해야 좋을 경우 max, auto는 monitor 이름에서 자동으로 유추. "
   ]
  },
  {
   "cell_type": "code",
   "execution_count": 87,
   "id": "d03966d4",
   "metadata": {},
   "outputs": [
    {
     "name": "stdout",
     "output_type": "stream",
     "text": [
      "WARNING:tensorflow:`period` argument is deprecated. Please use `save_freq` to specify the frequency in number of batches seen.\n",
      "Epoch 1/10\n",
      "399/399 [==============================] - 2s 5ms/step - loss: 0.5901 - accuracy: 0.8008 - val_loss: 0.4694 - val_accuracy: 0.8297\n",
      "Epoch 2/10\n",
      "399/399 [==============================] - 1s 4ms/step - loss: 0.4101 - accuracy: 0.8548 - val_loss: 0.3953 - val_accuracy: 0.8569\n",
      "Epoch 3/10\n",
      "394/399 [============================>.] - ETA: 0s - loss: 0.3690 - accuracy: 0.8700\n",
      "Epoch 00003: val_loss improved from inf to 0.36641, saving model to ./save_model\\weights.03-0.37.hdf5\n",
      "399/399 [==============================] - 1s 4ms/step - loss: 0.3685 - accuracy: 0.8703 - val_loss: 0.3664 - val_accuracy: 0.8663\n",
      "Epoch 4/10\n",
      "399/399 [==============================] - 1s 4ms/step - loss: 0.3451 - accuracy: 0.8768 - val_loss: 0.3984 - val_accuracy: 0.8549\n",
      "Epoch 5/10\n",
      "399/399 [==============================] - 1s 4ms/step - loss: 0.3220 - accuracy: 0.8851 - val_loss: 0.3507 - val_accuracy: 0.8722\n",
      "Epoch 6/10\n",
      "396/399 [============================>.] - ETA: 0s - loss: 0.3102 - accuracy: 0.8878\n",
      "Epoch 00006: val_loss improved from 0.36641 to 0.34608, saving model to ./save_model\\weights.06-0.35.hdf5\n",
      "399/399 [==============================] - 1s 3ms/step - loss: 0.3103 - accuracy: 0.8877 - val_loss: 0.3461 - val_accuracy: 0.8716\n",
      "Epoch 7/10\n",
      "399/399 [==============================] - 1s 3ms/step - loss: 0.2942 - accuracy: 0.8933 - val_loss: 0.3249 - val_accuracy: 0.8820\n",
      "Epoch 8/10\n",
      "399/399 [==============================] - 1s 3ms/step - loss: 0.2868 - accuracy: 0.8948 - val_loss: 0.3173 - val_accuracy: 0.8831\n",
      "Epoch 9/10\n",
      "397/399 [============================>.] - ETA: 0s - loss: 0.2769 - accuracy: 0.8974\n",
      "Epoch 00009: val_loss improved from 0.34608 to 0.33201, saving model to ./save_model\\weights.09-0.33.hdf5\n",
      "399/399 [==============================] - 1s 3ms/step - loss: 0.2768 - accuracy: 0.8974 - val_loss: 0.3320 - val_accuracy: 0.8814\n",
      "Epoch 10/10\n",
      "399/399 [==============================] - 1s 3ms/step - loss: 0.2682 - accuracy: 0.9028 - val_loss: 0.3338 - val_accuracy: 0.8789\n"
     ]
    }
   ],
   "source": [
    "from tensorflow.keras.callbacks import ModelCheckpoint\n",
    "\n",
    "model = create_model()\n",
    "model.compile(optimizer=Adam(0.001), loss='categorical_crossentropy', metrics=['accuracy'])\n",
    "\n",
    "mcp_cb = ModelCheckpoint(filepath='./save_model/weights.{epoch:02d}-{val_loss:.2f}.hdf5', monitor='val_loss',\n",
    "                         save_best_only=True, save_weights_only=True, mode='min', period=3, verbose=1)\n",
    "history = model.fit(x=tr_images, y=tr_oh_labels, batch_size=128, epochs=10, validation_data=(val_images, val_oh_labels),\n",
    "                    callbacks=[mcp_cb])"
   ]
  },
  {
   "cell_type": "markdown",
   "id": "dacf3614",
   "metadata": {},
   "source": [
    "#### ReduceLROnPlateau(monitor='val_loss', factor=0.1, patience=10, verbose=0, mode='auto', min_delta=0.0001, cooldown=0, min_lr=0)\n",
    "* 특정 epochs 횟수동안 성능이 개선 되지 않을 시 Learning rate를 동적으로 감소 시킴 \n",
    "* monitor: 모니터할 지표(loss 또는 평가 지표) \n",
    "* factor: 학습 속도를 줄일 인수. new_lr = lr * factor \n",
    "* patience: Learing Rate를 줄이기 전에 monitor할 epochs 횟수. \n",
    "* mode: {auto, min, max} 중 하나. monitor 지표가 감소해야 좋을 경우 min, 증가해야 좋을 경우 max, auto는 monitor 이름에서 유추. "
   ]
  },
  {
   "cell_type": "code",
   "execution_count": 88,
   "id": "46f3ad80",
   "metadata": {},
   "outputs": [
    {
     "name": "stdout",
     "output_type": "stream",
     "text": [
      "Epoch 1/30\n",
      "399/399 [==============================] - 2s 5ms/step - loss: 0.5875 - accuracy: 0.8037 - val_loss: 0.4641 - val_accuracy: 0.8301 - lr: 0.0010\n",
      "Epoch 2/30\n",
      "399/399 [==============================] - 2s 4ms/step - loss: 0.4172 - accuracy: 0.8527 - val_loss: 0.4115 - val_accuracy: 0.8512 - lr: 0.0010\n",
      "Epoch 3/30\n",
      "399/399 [==============================] - 2s 5ms/step - loss: 0.3792 - accuracy: 0.8661 - val_loss: 0.3829 - val_accuracy: 0.8616 - lr: 0.0010\n",
      "Epoch 4/30\n",
      "399/399 [==============================] - 1s 4ms/step - loss: 0.3515 - accuracy: 0.8737 - val_loss: 0.3846 - val_accuracy: 0.8589 - lr: 0.0010\n",
      "Epoch 5/30\n",
      "399/399 [==============================] - 2s 4ms/step - loss: 0.3319 - accuracy: 0.8794 - val_loss: 0.3573 - val_accuracy: 0.8689 - lr: 0.0010\n",
      "Epoch 6/30\n",
      "399/399 [==============================] - 2s 4ms/step - loss: 0.3165 - accuracy: 0.8852 - val_loss: 0.3580 - val_accuracy: 0.8686 - lr: 0.0010\n",
      "Epoch 7/30\n",
      "399/399 [==============================] - 1s 3ms/step - loss: 0.3025 - accuracy: 0.8880 - val_loss: 0.3451 - val_accuracy: 0.8722 - lr: 0.0010\n",
      "Epoch 8/30\n",
      "399/399 [==============================] - 2s 4ms/step - loss: 0.2910 - accuracy: 0.8932 - val_loss: 0.3429 - val_accuracy: 0.8739 - lr: 0.0010\n",
      "Epoch 9/30\n",
      "399/399 [==============================] - 2s 4ms/step - loss: 0.2795 - accuracy: 0.8967 - val_loss: 0.3465 - val_accuracy: 0.8754 - lr: 0.0010\n",
      "Epoch 10/30\n",
      "399/399 [==============================] - 1s 4ms/step - loss: 0.2697 - accuracy: 0.8998 - val_loss: 0.3235 - val_accuracy: 0.8788 - lr: 0.0010\n",
      "Epoch 11/30\n",
      "399/399 [==============================] - 2s 4ms/step - loss: 0.2646 - accuracy: 0.9021 - val_loss: 0.3422 - val_accuracy: 0.8746 - lr: 0.0010\n",
      "Epoch 12/30\n",
      "399/399 [==============================] - 2s 4ms/step - loss: 0.2543 - accuracy: 0.9054 - val_loss: 0.3289 - val_accuracy: 0.8812 - lr: 0.0010\n",
      "Epoch 13/30\n",
      "398/399 [============================>.] - ETA: 0s - loss: 0.2483 - accuracy: 0.9075\n",
      "Epoch 00013: ReduceLROnPlateau reducing learning rate to 0.0003000000142492354.\n",
      "399/399 [==============================] - 2s 4ms/step - loss: 0.2482 - accuracy: 0.9075 - val_loss: 0.3307 - val_accuracy: 0.8823 - lr: 0.0010\n",
      "Epoch 14/30\n",
      "399/399 [==============================] - 2s 4ms/step - loss: 0.2178 - accuracy: 0.9202 - val_loss: 0.3128 - val_accuracy: 0.8888 - lr: 3.0000e-04\n",
      "Epoch 15/30\n",
      "399/399 [==============================] - 2s 4ms/step - loss: 0.2131 - accuracy: 0.9227 - val_loss: 0.3082 - val_accuracy: 0.8902 - lr: 3.0000e-04\n",
      "Epoch 16/30\n",
      "399/399 [==============================] - 2s 4ms/step - loss: 0.2112 - accuracy: 0.9233 - val_loss: 0.3071 - val_accuracy: 0.8883 - lr: 3.0000e-04\n",
      "Epoch 17/30\n",
      "399/399 [==============================] - 2s 4ms/step - loss: 0.2083 - accuracy: 0.9228 - val_loss: 0.3138 - val_accuracy: 0.8874 - lr: 3.0000e-04\n",
      "Epoch 18/30\n",
      "399/399 [==============================] - 2s 4ms/step - loss: 0.2048 - accuracy: 0.9258 - val_loss: 0.3126 - val_accuracy: 0.8887 - lr: 3.0000e-04\n",
      "Epoch 19/30\n",
      "399/399 [==============================] - ETA: 0s - loss: 0.2023 - accuracy: 0.9274\n",
      "Epoch 00019: ReduceLROnPlateau reducing learning rate to 9.000000427477062e-05.\n",
      "399/399 [==============================] - 2s 4ms/step - loss: 0.2023 - accuracy: 0.9274 - val_loss: 0.3087 - val_accuracy: 0.8902 - lr: 3.0000e-04\n",
      "Epoch 20/30\n",
      "399/399 [==============================] - 2s 4ms/step - loss: 0.1918 - accuracy: 0.9309 - val_loss: 0.3073 - val_accuracy: 0.8910 - lr: 9.0000e-05\n",
      "Epoch 21/30\n",
      "399/399 [==============================] - 1s 4ms/step - loss: 0.1901 - accuracy: 0.9315 - val_loss: 0.3039 - val_accuracy: 0.8910 - lr: 9.0000e-05\n",
      "Epoch 22/30\n",
      "399/399 [==============================] - 2s 4ms/step - loss: 0.1891 - accuracy: 0.9321 - val_loss: 0.3064 - val_accuracy: 0.8917 - lr: 9.0000e-05\n",
      "Epoch 23/30\n",
      "399/399 [==============================] - 2s 4ms/step - loss: 0.1881 - accuracy: 0.9320 - val_loss: 0.3062 - val_accuracy: 0.8929 - lr: 9.0000e-05\n",
      "Epoch 24/30\n",
      "390/399 [============================>.] - ETA: 0s - loss: 0.1871 - accuracy: 0.9324\n",
      "Epoch 00024: ReduceLROnPlateau reducing learning rate to 2.700000040931627e-05.\n",
      "399/399 [==============================] - 1s 4ms/step - loss: 0.1869 - accuracy: 0.9325 - val_loss: 0.3060 - val_accuracy: 0.8930 - lr: 9.0000e-05\n",
      "Epoch 25/30\n",
      "399/399 [==============================] - 2s 4ms/step - loss: 0.1838 - accuracy: 0.9342 - val_loss: 0.3053 - val_accuracy: 0.8928 - lr: 2.7000e-05\n",
      "Epoch 26/30\n",
      "399/399 [==============================] - 2s 4ms/step - loss: 0.1832 - accuracy: 0.9349 - val_loss: 0.3051 - val_accuracy: 0.8928 - lr: 2.7000e-05\n",
      "Epoch 27/30\n",
      "399/399 [==============================] - ETA: 0s - loss: 0.1828 - accuracy: 0.9340 ETA: 0s - loss: 0.1884  - ETA: 0s - loss: 0.1840 - accuracy\n",
      "Epoch 00027: ReduceLROnPlateau reducing learning rate to 8.100000013655517e-06.\n",
      "399/399 [==============================] - 2s 4ms/step - loss: 0.1828 - accuracy: 0.9340 - val_loss: 0.3053 - val_accuracy: 0.8929 - lr: 2.7000e-05\n",
      "Epoch 28/30\n",
      "399/399 [==============================] - 1s 4ms/step - loss: 0.1817 - accuracy: 0.9353 - val_loss: 0.3048 - val_accuracy: 0.8930 - lr: 8.1000e-06\n",
      "Epoch 29/30\n",
      "399/399 [==============================] - 1s 4ms/step - loss: 0.1816 - accuracy: 0.9351 - val_loss: 0.3051 - val_accuracy: 0.8937 - lr: 8.1000e-06\n",
      "Epoch 30/30\n",
      "392/399 [============================>.] - ETA: 0s - loss: 0.1814 - accuracy: 0.9348\n",
      "Epoch 00030: ReduceLROnPlateau reducing learning rate to 2.429999949526973e-06.\n",
      "399/399 [==============================] - 2s 4ms/step - loss: 0.1814 - accuracy: 0.9347 - val_loss: 0.3051 - val_accuracy: 0.8930 - lr: 8.1000e-06\n"
     ]
    }
   ],
   "source": [
    "from tensorflow.keras.callbacks import ReduceLROnPlateau\n",
    "\n",
    "model = create_model()\n",
    "model.compile(optimizer=Adam(0.001), loss='categorical_crossentropy', metrics=['accuracy'])\n",
    "\n",
    "rlr_cb = ReduceLROnPlateau(monitor='val_loss', factor=0.3, patience=3, mode='min', verbose=1)\n",
    "history = model.fit(x=tr_images, y=tr_oh_labels, batch_size=128, epochs=30, validation_data=(val_images, val_oh_labels),\n",
    "                   callbacks=[rlr_cb])"
   ]
  },
  {
   "cell_type": "markdown",
   "id": "f814ef81",
   "metadata": {},
   "source": [
    "#### EarlyStopping(monitor='val_loss', min_delta=0, patience=0, verbose=0, mode='auto', baseline=None, restore_best_weights=False)\n",
    "* 특정 epochs 동안 성능이 개선되지 않을 시 학습을 조기에 중단\n",
    "* monitor: 모니터할 지표(loss 또는 평가 지표) \n",
    "* patience: Early Stopping 적용 전에 monitor할 epochs 횟수. \n",
    "* mode: {auto, min, max} 중 하나. monitor 지표가 감소해야 좋을 경우 min, 증가해야 좋을 경우 max, auto는 monitor 이름에서 유추. "
   ]
  },
  {
   "cell_type": "code",
   "execution_count": 89,
   "id": "2f635c9f",
   "metadata": {},
   "outputs": [
    {
     "name": "stdout",
     "output_type": "stream",
     "text": [
      "Epoch 1/30\n",
      "399/399 [==============================] - 2s 5ms/step - loss: 0.6021 - accuracy: 0.7936 - val_loss: 0.4720 - val_accuracy: 0.8307\n",
      "Epoch 2/30\n",
      "399/399 [==============================] - 1s 4ms/step - loss: 0.4220 - accuracy: 0.8530 - val_loss: 0.4192 - val_accuracy: 0.8518\n",
      "Epoch 3/30\n",
      "399/399 [==============================] - 2s 4ms/step - loss: 0.3765 - accuracy: 0.8678 - val_loss: 0.3760 - val_accuracy: 0.8631\n",
      "Epoch 4/30\n",
      "399/399 [==============================] - 2s 4ms/step - loss: 0.3517 - accuracy: 0.8755 - val_loss: 0.3775 - val_accuracy: 0.8660\n",
      "Epoch 5/30\n",
      "399/399 [==============================] - 2s 4ms/step - loss: 0.3348 - accuracy: 0.8795 - val_loss: 0.3634 - val_accuracy: 0.8678\n",
      "Epoch 6/30\n",
      "399/399 [==============================] - 2s 4ms/step - loss: 0.3203 - accuracy: 0.8833 - val_loss: 0.3443 - val_accuracy: 0.8756\n",
      "Epoch 7/30\n",
      "399/399 [==============================] - 1s 4ms/step - loss: 0.3019 - accuracy: 0.8913 - val_loss: 0.3322 - val_accuracy: 0.8789\n",
      "Epoch 8/30\n",
      "399/399 [==============================] - 2s 4ms/step - loss: 0.2902 - accuracy: 0.8955 - val_loss: 0.3251 - val_accuracy: 0.8808\n",
      "Epoch 9/30\n",
      "399/399 [==============================] - 2s 4ms/step - loss: 0.2829 - accuracy: 0.8955 - val_loss: 0.3225 - val_accuracy: 0.8840\n",
      "Epoch 10/30\n",
      "399/399 [==============================] - 2s 4ms/step - loss: 0.2717 - accuracy: 0.9010 - val_loss: 0.3205 - val_accuracy: 0.8817\n",
      "Epoch 11/30\n",
      "399/399 [==============================] - 2s 4ms/step - loss: 0.2635 - accuracy: 0.9033 - val_loss: 0.3218 - val_accuracy: 0.8833\n",
      "Epoch 12/30\n",
      "399/399 [==============================] - 2s 4ms/step - loss: 0.2541 - accuracy: 0.9069 - val_loss: 0.3108 - val_accuracy: 0.8893\n",
      "Epoch 13/30\n",
      "399/399 [==============================] - 2s 4ms/step - loss: 0.2455 - accuracy: 0.9101 - val_loss: 0.3111 - val_accuracy: 0.8877\n",
      "Epoch 14/30\n",
      "399/399 [==============================] - 2s 4ms/step - loss: 0.2431 - accuracy: 0.9104 - val_loss: 0.3128 - val_accuracy: 0.8877\n",
      "Epoch 15/30\n",
      "399/399 [==============================] - 2s 4ms/step - loss: 0.2331 - accuracy: 0.9136 - val_loss: 0.3119 - val_accuracy: 0.8876\n",
      "Epoch 00015: early stopping\n"
     ]
    }
   ],
   "source": [
    "from tensorflow.keras.callbacks import EarlyStopping\n",
    "\n",
    "model = create_model()\n",
    "model.compile(optimizer=Adam(0.001), loss='categorical_crossentropy', metrics=['accuracy'])\n",
    "\n",
    "ely_cb = EarlyStopping(monitor='val_loss', patience=3, mode='min', verbose=1)\n",
    "history = model.fit(x=tr_images, y=tr_oh_labels, batch_size=128, epochs=30, validation_data=(val_images, val_oh_labels),\n",
    "                   callbacks=[ely_cb])"
   ]
  },
  {
   "cell_type": "code",
   "execution_count": 91,
   "id": "0fdb4b05",
   "metadata": {},
   "outputs": [
    {
     "name": "stdout",
     "output_type": "stream",
     "text": [
      "WARNING:tensorflow:`period` argument is deprecated. Please use `save_freq` to specify the frequency in number of batches seen.\n",
      "Epoch 1/40\n",
      "399/399 [==============================] - 2s 5ms/step - loss: 0.5894 - accuracy: 0.8005 - val_loss: 0.4497 - val_accuracy: 0.8432 - lr: 0.0010\n",
      "Epoch 2/40\n",
      "399/399 [==============================] - 2s 4ms/step - loss: 0.4073 - accuracy: 0.8589 - val_loss: 0.4023 - val_accuracy: 0.8542 - lr: 0.0010\n",
      "Epoch 3/40\n",
      "399/399 [==============================] - 2s 4ms/step - loss: 0.3690 - accuracy: 0.8693 - val_loss: 0.4040 - val_accuracy: 0.8532 - lr: 0.0010\n",
      "Epoch 4/40\n",
      "399/399 [==============================] - 2s 4ms/step - loss: 0.3464 - accuracy: 0.8752 - val_loss: 0.3663 - val_accuracy: 0.8671 - lr: 0.0010\n",
      "Epoch 5/40\n",
      "399/399 [==============================] - 2s 4ms/step - loss: 0.3275 - accuracy: 0.8815 - val_loss: 0.3451 - val_accuracy: 0.8757 - lr: 0.0010\n",
      "Epoch 6/40\n",
      "399/399 [==============================] - 2s 4ms/step - loss: 0.3059 - accuracy: 0.8890 - val_loss: 0.3425 - val_accuracy: 0.8767 - lr: 0.0010\n",
      "Epoch 7/40\n",
      "399/399 [==============================] - 2s 4ms/step - loss: 0.2934 - accuracy: 0.8932 - val_loss: 0.3248 - val_accuracy: 0.8826 - lr: 0.0010\n",
      "Epoch 8/40\n",
      "399/399 [==============================] - 2s 4ms/step - loss: 0.2832 - accuracy: 0.8960 - val_loss: 0.3365 - val_accuracy: 0.8759 - lr: 0.0010\n",
      "Epoch 9/40\n",
      "399/399 [==============================] - 2s 4ms/step - loss: 0.2713 - accuracy: 0.9000 - val_loss: 0.3192 - val_accuracy: 0.8843 - lr: 0.0010\n",
      "Epoch 10/40\n",
      "399/399 [==============================] - 2s 4ms/step - loss: 0.2612 - accuracy: 0.9038 - val_loss: 0.3191 - val_accuracy: 0.8854 - lr: 0.0010\n",
      "Epoch 11/40\n",
      "399/399 [==============================] - 2s 4ms/step - loss: 0.2577 - accuracy: 0.9058 - val_loss: 0.3254 - val_accuracy: 0.8853 - lr: 0.0010\n",
      "Epoch 12/40\n",
      "399/399 [==============================] - 2s 4ms/step - loss: 0.2450 - accuracy: 0.9103 - val_loss: 0.3182 - val_accuracy: 0.8859 - lr: 0.0010\n",
      "Epoch 13/40\n",
      "399/399 [==============================] - 2s 4ms/step - loss: 0.2423 - accuracy: 0.9110 - val_loss: 0.3372 - val_accuracy: 0.8773 - lr: 0.0010\n",
      "Epoch 14/40\n",
      "399/399 [==============================] - 2s 5ms/step - loss: 0.2365 - accuracy: 0.9124 - val_loss: 0.3233 - val_accuracy: 0.8854 - lr: 0.0010\n",
      "Epoch 15/40\n",
      "399/399 [==============================] - 2s 4ms/step - loss: 0.2294 - accuracy: 0.9150 - val_loss: 0.3288 - val_accuracy: 0.8828 - lr: 0.0010\n",
      "Epoch 16/40\n",
      "399/399 [==============================] - 1s 3ms/step - loss: 0.2249 - accuracy: 0.9174 - val_loss: 0.3653 - val_accuracy: 0.8756 - lr: 0.0010\n",
      "Epoch 17/40\n",
      "385/399 [===========================>..] - ETA: 0s - loss: 0.2188 - accuracy: 0.9182\n",
      "Epoch 00017: ReduceLROnPlateau reducing learning rate to 0.0003000000142492354.\n",
      "399/399 [==============================] - 1s 3ms/step - loss: 0.2200 - accuracy: 0.9180 - val_loss: 0.3246 - val_accuracy: 0.8842 - lr: 0.0010\n",
      "Epoch 18/40\n",
      "399/399 [==============================] - 2s 4ms/step - loss: 0.1899 - accuracy: 0.9306 - val_loss: 0.3100 - val_accuracy: 0.8923 - lr: 3.0000e-04\n",
      "Epoch 19/40\n",
      "399/399 [==============================] - 1s 4ms/step - loss: 0.1859 - accuracy: 0.9325 - val_loss: 0.3096 - val_accuracy: 0.8913 - lr: 3.0000e-04\n",
      "Epoch 20/40\n",
      "399/399 [==============================] - 1s 4ms/step - loss: 0.1820 - accuracy: 0.9336 - val_loss: 0.3162 - val_accuracy: 0.8908 - lr: 3.0000e-04\n",
      "Epoch 21/40\n",
      "399/399 [==============================] - 2s 4ms/step - loss: 0.1796 - accuracy: 0.9346 - val_loss: 0.3133 - val_accuracy: 0.8926 - lr: 3.0000e-04\n",
      "Epoch 22/40\n",
      "399/399 [==============================] - 2s 4ms/step - loss: 0.1769 - accuracy: 0.9373 - val_loss: 0.3115 - val_accuracy: 0.8924 - lr: 3.0000e-04\n",
      "Epoch 23/40\n",
      "399/399 [==============================] - 1s 4ms/step - loss: 0.1748 - accuracy: 0.9368 - val_loss: 0.3209 - val_accuracy: 0.8897 - lr: 3.0000e-04\n",
      "Epoch 24/40\n",
      "387/399 [============================>.] - ETA: 0s - loss: 0.1719 - accuracy: 0.9376\n",
      "Epoch 00024: ReduceLROnPlateau reducing learning rate to 9.000000427477062e-05.\n",
      "399/399 [==============================] - 1s 3ms/step - loss: 0.1717 - accuracy: 0.9376 - val_loss: 0.3183 - val_accuracy: 0.8919 - lr: 3.0000e-04\n",
      "Epoch 25/40\n",
      "399/399 [==============================] - 2s 4ms/step - loss: 0.1622 - accuracy: 0.9416 - val_loss: 0.3115 - val_accuracy: 0.8938 - lr: 9.0000e-05\n",
      "Epoch 26/40\n",
      "399/399 [==============================] - 1s 3ms/step - loss: 0.1605 - accuracy: 0.9422 - val_loss: 0.3137 - val_accuracy: 0.8928 - lr: 9.0000e-05\n",
      "Epoch 00026: early stopping\n"
     ]
    }
   ],
   "source": [
    "from tensorflow.keras.callbacks import ModelCheckpoint, ReduceLROnPlateau, EarlyStopping\n",
    "\n",
    "model = create_model()\n",
    "model.compile(optimizer=Adam(0.001), loss='categorical_crossentropy', metrics=['accuracy'])\n",
    "\n",
    "mcp_cb = ModelCheckpoint(filepath='./save_model/weights.{epoch:02d}-{val_loss:.2f}.hdf5', monitor='val_loss', \n",
    "                         save_best_only=True, save_weights_only=True, mode='min', period=1, verbose=0)\n",
    "rlr_cb = ReduceLROnPlateau(monitor='val_loss', factor=0.3, patience=5, mode='min', verbose=1)\n",
    "ely_cb = EarlyStopping(monitor='val_loss', patience=7, mode='min', verbose=1)\n",
    "\n",
    "history = model.fit(x=tr_images, y=tr_oh_labels, batch_size=128, epochs=40, validation_data=(val_images, val_oh_labels),\n",
    "                   callbacks=[mcp_cb, rlr_cb, ely_cb])"
   ]
  },
  {
   "cell_type": "code",
   "execution_count": null,
   "id": "2eb572e2",
   "metadata": {},
   "outputs": [],
   "source": []
  }
 ],
 "metadata": {
  "kernelspec": {
   "display_name": "Python 3 (ipykernel)",
   "language": "python",
   "name": "python3"
  },
  "language_info": {
   "codemirror_mode": {
    "name": "ipython",
    "version": 3
   },
   "file_extension": ".py",
   "mimetype": "text/x-python",
   "name": "python",
   "nbconvert_exporter": "python",
   "pygments_lexer": "ipython3",
   "version": "3.9.7"
  }
 },
 "nbformat": 4,
 "nbformat_minor": 5
}
