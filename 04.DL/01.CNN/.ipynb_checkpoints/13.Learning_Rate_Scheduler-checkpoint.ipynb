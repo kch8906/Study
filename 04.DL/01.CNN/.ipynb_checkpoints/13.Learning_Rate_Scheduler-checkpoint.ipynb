{
 "cells": [
  {
   "cell_type": "markdown",
   "id": "23d15cde",
   "metadata": {},
   "source": [
    "### LearningRateScheduler callback 객체에 입력될 scheduler 함수 선언. \n",
    "* epoch 증가 시 마다 LR이 exponentially decay 되도록 설정. "
   ]
  },
  {
   "cell_type": "code",
   "execution_count": 1,
   "id": "293c2ae0",
   "metadata": {},
   "outputs": [],
   "source": [
    "import tensorflow as tf\n",
    "import numpy as np\n",
    "\n",
    "def scheduler_exp(epoch, lr):\n",
    "    if epoch < 1:\n",
    "        return lr\n",
    "    else:\n",
    "        return lr * np.exp(-1.0)"
   ]
  },
  {
   "cell_type": "code",
   "execution_count": 2,
   "id": "81835a87",
   "metadata": {},
   "outputs": [
    {
     "data": {
      "text/plain": [
       "0.1353352832366127"
      ]
     },
     "execution_count": 2,
     "metadata": {},
     "output_type": "execute_result"
    }
   ],
   "source": [
    "np.exp(-2.0)"
   ]
  },
  {
   "cell_type": "markdown",
   "id": "61267bdc",
   "metadata": {},
   "source": [
    "### LearningRateScheduler 로 Learning Rate를 epochs 시마다 변경하기\n",
    "* LearningRateScheduler 객체 생성 시 인자로 scheduler 함수 입력하여 생성\n",
    "* model.fit() callbacks인자로 LearningRateScheduler 객체 입력"
   ]
  },
  {
   "cell_type": "code",
   "execution_count": 3,
   "id": "e6e59742",
   "metadata": {},
   "outputs": [
    {
     "name": "stdout",
     "output_type": "stream",
     "text": [
      "최초 learning rated: 0.01\n",
      "\n",
      "Epoch 1: LearningRateScheduler setting learning rate to 0.009999999776482582.\n",
      "Epoch 1/15\n",
      "1/1 [==============================] - 1s 832ms/step - loss: 1674.2283 - lr: 0.0100\n",
      "\n",
      "Epoch 2: LearningRateScheduler setting learning rate to 0.0036787943294869607.\n",
      "Epoch 2/15\n",
      "1/1 [==============================] - 0s 6ms/step - loss: 27865872.0000 - lr: 0.0037\n",
      "\n",
      "Epoch 3: LearningRateScheduler setting learning rate to 0.0013533527735202996.\n",
      "Epoch 3/15\n",
      "1/1 [==============================] - 0s 9ms/step - loss: 62076301312.0000 - lr: 0.0014\n",
      "\n",
      "Epoch 4: LearningRateScheduler setting learning rate to 0.0004978706704056293.\n",
      "Epoch 4/15\n",
      "1/1 [==============================] - 0s 9ms/step - loss: 17377162952704.0000 - lr: 4.9787e-04\n",
      "\n",
      "Epoch 5: LearningRateScheduler setting learning rate to 0.00018315638425888493.\n",
      "Epoch 5/15\n",
      "1/1 [==============================] - 0s 7ms/step - loss: 530052382982144.0000 - lr: 1.8316e-04\n",
      "\n",
      "Epoch 6: LearningRateScheduler setting learning rate to 6.73794688923822e-05.\n",
      "Epoch 6/15\n",
      "1/1 [==============================] - 0s 9ms/step - loss: 1038389008662528.0000 - lr: 6.7379e-05\n",
      "\n",
      "Epoch 7: LearningRateScheduler setting learning rate to 2.4787522192144945e-05.\n",
      "Epoch 7/15\n",
      "1/1 [==============================] - 0s 9ms/step - loss: 14267201880064.0000 - lr: 2.4788e-05\n",
      "\n",
      "Epoch 8: LearningRateScheduler setting learning rate to 9.118819519637878e-06.\n",
      "Epoch 8/15\n",
      "1/1 [==============================] - 0s 6ms/step - loss: 6505158934528.0000 - lr: 9.1188e-06\n",
      "\n",
      "Epoch 9: LearningRateScheduler setting learning rate to 3.35462619776653e-06.\n",
      "Epoch 9/15\n",
      "1/1 [==============================] - 0s 7ms/step - loss: 5043645317120.0000 - lr: 3.3546e-06\n",
      "\n",
      "Epoch 10: LearningRateScheduler setting learning rate to 1.2340980071972145e-06.\n",
      "Epoch 10/15\n",
      "1/1 [==============================] - 0s 8ms/step - loss: 4610039742464.0000 - lr: 1.2341e-06\n",
      "\n",
      "Epoch 11: LearningRateScheduler setting learning rate to 4.539992906826829e-07.\n",
      "Epoch 11/15\n",
      "1/1 [==============================] - 0s 6ms/step - loss: 4462167982080.0000 - lr: 4.5400e-07\n",
      "\n",
      "Epoch 12: LearningRateScheduler setting learning rate to 1.670170056471376e-07.\n",
      "Epoch 12/15\n",
      "1/1 [==============================] - 0s 14ms/step - loss: 4409242681344.0000 - lr: 1.6702e-07\n",
      "\n",
      "Epoch 13: LearningRateScheduler setting learning rate to 6.144212299791121e-08.\n",
      "Epoch 13/15\n",
      "1/1 [==============================] - 0s 12ms/step - loss: 4389966970880.0000 - lr: 6.1442e-08\n",
      "\n",
      "Epoch 14: LearningRateScheduler setting learning rate to 2.2603293690026104e-08.\n",
      "Epoch 14/15\n",
      "1/1 [==============================] - 0s 9ms/step - loss: 4382902190080.0000 - lr: 2.2603e-08\n",
      "\n",
      "Epoch 15: LearningRateScheduler setting learning rate to 8.31528696638835e-09.\n",
      "Epoch 15/15\n",
      "1/1 [==============================] - 0s 10ms/step - loss: 4380306702336.0000 - lr: 8.3153e-09\n"
     ]
    }
   ],
   "source": [
    "from tensorflow.keras.models import Sequential\n",
    "from tensorflow.keras.layers import Dense\n",
    "from tensorflow.keras.optimizers import SGD\n",
    "\n",
    "from tensorflow.keras.callbacks import LearningRateScheduler\n",
    "\n",
    "\n",
    "def scheduler_exp(epoch, lr):\n",
    "    if epoch < 1:\n",
    "        return lr\n",
    "    else:\n",
    "        return lr * np.exp(-1.0)\n",
    "    \n",
    "# 테스트용 임시 모델을 생성. \n",
    "model = Sequential([Dense(10)])\n",
    "model.compile(optimizer=SGD(), loss='mse')\n",
    "print('최초 learning rated:', round(model.optimizer.lr.numpy(), 5))\n",
    "\n",
    "# LearningRateScheduler 객체에 인자로 scheduler_exp 함수 등록 \n",
    "lr_scheduler = LearningRateScheduler(scheduler_exp, verbose=1)\n",
    "\n",
    "history = model.fit(np.arange(100).reshape(5, 20), np.zeros(5),\n",
    "                    epochs=15, callbacks=[lr_scheduler], verbose=1)"
   ]
  },
  {
   "cell_type": "markdown",
   "id": "fd819d6a",
   "metadata": {},
   "source": [
    "### scheduler_exp 함수 결과를 시각화"
   ]
  },
  {
   "cell_type": "code",
   "execution_count": 4,
   "id": "91e9cb14",
   "metadata": {},
   "outputs": [
    {
     "name": "stdout",
     "output_type": "stream",
     "text": [
      "최초 learning rated: 0.01\n",
      "\n",
      "Epoch 1: LearningRateScheduler setting learning rate to 0.01.\n",
      "Epoch 1/15\n",
      "1/1 [==============================] - 0s 320ms/step - loss: 4950.2373 - lr: 0.0100\n",
      "\n",
      "Epoch 2: LearningRateScheduler setting learning rate to 0.0036787944117144234.\n",
      "Epoch 2/15\n",
      "1/1 [==============================] - 0s 5ms/step - loss: 83516952.0000 - lr: 0.0037\n",
      "\n",
      "Epoch 3: LearningRateScheduler setting learning rate to 0.0013533528323661271.\n",
      "Epoch 3/15\n",
      "1/1 [==============================] - 0s 20ms/step - loss: 186049331200.0000 - lr: 0.0014\n",
      "\n",
      "Epoch 4: LearningRateScheduler setting learning rate to 0.0004978706836786395.\n",
      "Epoch 4/15\n",
      "1/1 [==============================] - 0s 7ms/step - loss: 52081205444608.0000 - lr: 4.9787e-04\n",
      "\n",
      "Epoch 5: LearningRateScheduler setting learning rate to 0.00018315638888734184.\n",
      "Epoch 5/15\n",
      "1/1 [==============================] - 0s 28ms/step - loss: 1588623577186304.0000 - lr: 1.8316e-04\n",
      "\n",
      "Epoch 6: LearningRateScheduler setting learning rate to 6.737946999085469e-05.\n",
      "Epoch 6/15\n",
      "1/1 [==============================] - 0s 8ms/step - loss: 3112162562146304.0000 - lr: 6.7379e-05\n",
      "\n",
      "Epoch 7: LearningRateScheduler setting learning rate to 2.4787521766663588e-05.\n",
      "Epoch 7/15\n",
      "1/1 [==============================] - 0s 34ms/step - loss: 42760321105920.0000 - lr: 2.4788e-05\n",
      "\n",
      "Epoch 8: LearningRateScheduler setting learning rate to 9.118819655545164e-06.\n",
      "Epoch 8/15\n",
      "1/1 [==============================] - 0s 9ms/step - loss: 19496653815808.0000 - lr: 9.1188e-06\n",
      "\n",
      "Epoch 9: LearningRateScheduler setting learning rate to 3.354626279025119e-06.\n",
      "Epoch 9/15\n",
      "1/1 [==============================] - 0s 13ms/step - loss: 15116340822016.0000 - lr: 3.3546e-06\n",
      "\n",
      "Epoch 10: LearningRateScheduler setting learning rate to 1.234098040866796e-06.\n",
      "Epoch 10/15\n",
      "1/1 [==============================] - 0s 8ms/step - loss: 13816777670656.0000 - lr: 1.2341e-06\n",
      "\n",
      "Epoch 11: LearningRateScheduler setting learning rate to 4.539992976248487e-07.\n",
      "Epoch 11/15\n",
      "1/1 [==============================] - 0s 9ms/step - loss: 13373590732800.0000 - lr: 4.5400e-07\n",
      "\n",
      "Epoch 12: LearningRateScheduler setting learning rate to 1.6701700790245666e-07.\n",
      "Epoch 12/15\n",
      "1/1 [==============================] - 0s 8ms/step - loss: 13214968446976.0000 - lr: 1.6702e-07\n",
      "\n",
      "Epoch 13: LearningRateScheduler setting learning rate to 6.144212353328212e-08.\n",
      "Epoch 13/15\n",
      "1/1 [==============================] - 0s 7ms/step - loss: 13157196103680.0000 - lr: 6.1442e-08\n",
      "\n",
      "Epoch 14: LearningRateScheduler setting learning rate to 2.2603294069810555e-08.\n",
      "Epoch 14/15\n",
      "1/1 [==============================] - 0s 6ms/step - loss: 13136021159936.0000 - lr: 2.2603e-08\n",
      "\n",
      "Epoch 15: LearningRateScheduler setting learning rate to 8.315287191035682e-09.\n",
      "Epoch 15/15\n",
      "1/1 [==============================] - 0s 8ms/step - loss: 13128244920320.0000 - lr: 8.3153e-09\n"
     ]
    }
   ],
   "source": [
    "def scheduler_exp(epoch):\n",
    "    initial_lr = 0.01\n",
    "    if epoch < 1:\n",
    "        return initial_lr\n",
    "    else:\n",
    "        return initial_lr * np.exp(-1.0)**epoch\n",
    "\n",
    "    \n",
    "model = Sequential([Dense(10)])\n",
    "model.compile(optimizer=SGD(), loss='mse')\n",
    "print('최초 learning rated:', round(model.optimizer.lr.numpy(), 5))\n",
    "\n",
    "# LearningRateScheduler 객체에 인자로 scheduler_exp 함수 등록 \n",
    "lr_scheduler = LearningRateScheduler(scheduler_exp, verbose=1)\n",
    "history = model.fit(np.arange(100).reshape(5, 20), np.zeros(5),\n",
    "                    epochs=15, callbacks=[lr_scheduler], verbose=1)"
   ]
  },
  {
   "cell_type": "code",
   "execution_count": 5,
   "id": "c7a8da06",
   "metadata": {},
   "outputs": [],
   "source": [
    "epochs_list = range(30)\n",
    "lr_list = [ scheduler_exp(epoch) for epoch in epochs_list]"
   ]
  },
  {
   "cell_type": "code",
   "execution_count": 6,
   "id": "a1bc781b",
   "metadata": {},
   "outputs": [],
   "source": [
    "import matplotlib.pyplot as plt\n",
    "%matplotlib inline\n",
    "\n",
    "def plot_scheduler(epochs_list, lr_list, title=None):\n",
    "    plt.figure(figsize=(6,4))\n",
    "    plt.plot(epochs_list, lr_list)\n",
    "    plt.xlabel('epochs')\n",
    "    plt.ylabel('learning rate')\n",
    "    plt.title(title)"
   ]
  },
  {
   "cell_type": "code",
   "execution_count": 7,
   "id": "080f8b3f",
   "metadata": {},
   "outputs": [
    {
     "data": {
      "image/png": "[encoded data removed]",
      "text/plain": [
       "<Figure size 432x288 with 1 Axes>"
      ]
     },
     "metadata": {
      "needs_background": "light"
     },
     "output_type": "display_data"
    }
   ],
   "source": [
    "plot_scheduler(epochs_list, lr_list, 'exponentially decay')"
   ]
  },
  {
   "cell_type": "markdown",
   "id": "9175405c",
   "metadata": {},
   "source": [
    "### 또 다른 함수(step_decay)로 LearningRateScheduler 객체 생성하여 LR 조절. "
   ]
  },
  {
   "cell_type": "code",
   "execution_count": 8,
   "id": "da1a0e93",
   "metadata": {},
   "outputs": [
    {
     "name": "stdout",
     "output_type": "stream",
     "text": [
      "epoch: 0 lr: 0.1\n",
      "epoch: 1 lr: 0.1\n",
      "epoch: 2 lr: 0.1\n",
      "epoch: 3 lr: 0.1\n",
      "epoch: 4 lr: 0.1\n",
      "epoch: 5 lr: 0.05\n",
      "epoch: 6 lr: 0.05\n",
      "epoch: 7 lr: 0.05\n",
      "epoch: 8 lr: 0.05\n",
      "epoch: 9 lr: 0.05\n",
      "epoch: 10 lr: 0.025\n",
      "epoch: 11 lr: 0.025\n",
      "epoch: 12 lr: 0.025\n",
      "epoch: 13 lr: 0.025\n",
      "epoch: 14 lr: 0.025\n",
      "epoch: 15 lr: 0.0125\n",
      "epoch: 16 lr: 0.0125\n",
      "epoch: 17 lr: 0.0125\n",
      "epoch: 18 lr: 0.0125\n",
      "epoch: 19 lr: 0.0125\n",
      "epoch: 20 lr: 0.00625\n",
      "epoch: 21 lr: 0.00625\n",
      "epoch: 22 lr: 0.00625\n",
      "epoch: 23 lr: 0.00625\n",
      "epoch: 24 lr: 0.00625\n",
      "epoch: 25 lr: 0.003125\n",
      "epoch: 26 lr: 0.003125\n",
      "epoch: 27 lr: 0.003125\n",
      "epoch: 28 lr: 0.003125\n",
      "epoch: 29 lr: 0.003125\n"
     ]
    },
    {
     "data": {
      "image/png": "[encoded data removed]",
      "text/plain": [
       "<Figure size 432x288 with 1 Axes>"
      ]
     },
     "metadata": {
      "needs_background": "light"
     },
     "output_type": "display_data"
    }
   ],
   "source": [
    "import tensorflow as tf\n",
    "\n",
    "def step_decay(epoch):\n",
    "    initial_lr = 0.1\n",
    "    drop = 0.5\n",
    "    epochs_drop = 5.0\n",
    "    lr = initial_lr * (drop ** np.floor((epoch)/epochs_drop))\n",
    "    print('epoch:',epoch,'lr:', lr)\n",
    "    return lr\n",
    "\n",
    "lr_list = [step_decay(epoch) for epoch  in epochs_list]\n",
    "plot_scheduler(epochs_list, lr_list, title='Step Decay')"
   ]
  },
  {
   "cell_type": "code",
   "execution_count": 9,
   "id": "99279f65",
   "metadata": {},
   "outputs": [
    {
     "name": "stdout",
     "output_type": "stream",
     "text": [
      "최초 learning rated: 0.01\n",
      "epoch: 0 lr: 0.1\n",
      "\n",
      "Epoch 1: LearningRateScheduler setting learning rate to 0.1.\n",
      "Epoch 1/15\n",
      "1/1 [==============================] - 0s 212ms/step - loss: 3680.0669 - lr: 0.1000\n",
      "epoch: 1 lr: 0.1\n",
      "\n",
      "Epoch 2: LearningRateScheduler setting learning rate to 0.1.\n",
      "Epoch 2/15\n",
      "1/1 [==============================] - 0s 7ms/step - loss: 6296837632.0000 - lr: 0.1000\n",
      "epoch: 2 lr: 0.1\n",
      "\n",
      "Epoch 3: LearningRateScheduler setting learning rate to 0.1.\n",
      "Epoch 3/15\n",
      "1/1 [==============================] - 0s 9ms/step - loss: 10792259603660800.0000 - lr: 0.1000\n",
      "epoch: 3 lr: 0.1\n",
      "\n",
      "Epoch 4: LearningRateScheduler setting learning rate to 0.1.\n",
      "Epoch 4/15\n",
      "1/1 [==============================] - 0s 8ms/step - loss: 18497042526147839000576.0000 - lr: 0.1000\n",
      "epoch: 4 lr: 0.1\n",
      "\n",
      "Epoch 5: LearningRateScheduler setting learning rate to 0.1.\n",
      "Epoch 5/15\n",
      "1/1 [==============================] - 0s 8ms/step - loss: 31702403179292231382618603520.0000 - lr: 0.1000\n",
      "epoch: 5 lr: 0.05\n",
      "\n",
      "Epoch 6: LearningRateScheduler setting learning rate to 0.05.\n",
      "Epoch 6/15\n",
      "1/1 [==============================] - 0s 7ms/step - loss: 54335297774062282553310990299037696.0000 - lr: 0.0500\n",
      "epoch: 6 lr: 0.05\n",
      "\n",
      "Epoch 7: LearningRateScheduler setting learning rate to 0.05.\n",
      "Epoch 7/15\n",
      "1/1 [==============================] - 0s 8ms/step - loss: inf - lr: 0.0500\n",
      "epoch: 7 lr: 0.05\n",
      "\n",
      "Epoch 8: LearningRateScheduler setting learning rate to 0.05.\n",
      "Epoch 8/15\n",
      "1/1 [==============================] - 0s 6ms/step - loss: inf - lr: 0.0500\n",
      "epoch: 8 lr: 0.05\n",
      "\n",
      "Epoch 9: LearningRateScheduler setting learning rate to 0.05.\n",
      "Epoch 9/15\n",
      "1/1 [==============================] - 0s 11ms/step - loss: inf - lr: 0.0500\n",
      "epoch: 9 lr: 0.05\n",
      "\n",
      "Epoch 10: LearningRateScheduler setting learning rate to 0.05.\n",
      "Epoch 10/15\n",
      "1/1 [==============================] - 0s 7ms/step - loss: inf - lr: 0.0500\n",
      "epoch: 10 lr: 0.025\n",
      "\n",
      "Epoch 11: LearningRateScheduler setting learning rate to 0.025.\n",
      "Epoch 11/15\n",
      "1/1 [==============================] - 0s 9ms/step - loss: inf - lr: 0.0250\n",
      "epoch: 11 lr: 0.025\n",
      "\n",
      "Epoch 12: LearningRateScheduler setting learning rate to 0.025.\n",
      "Epoch 12/15\n",
      "1/1 [==============================] - 0s 10ms/step - loss: inf - lr: 0.0250\n",
      "epoch: 12 lr: 0.025\n",
      "\n",
      "Epoch 13: LearningRateScheduler setting learning rate to 0.025.\n",
      "Epoch 13/15\n",
      "1/1 [==============================] - 0s 7ms/step - loss: inf - lr: 0.0250\n",
      "epoch: 13 lr: 0.025\n",
      "\n",
      "Epoch 14: LearningRateScheduler setting learning rate to 0.025.\n",
      "Epoch 14/15\n",
      "1/1 [==============================] - 0s 7ms/step - loss: inf - lr: 0.0250\n",
      "epoch: 14 lr: 0.025\n",
      "\n",
      "Epoch 15: LearningRateScheduler setting learning rate to 0.025.\n",
      "Epoch 15/15\n",
      "1/1 [==============================] - 0s 6ms/step - loss: nan - lr: 0.0250\n"
     ]
    }
   ],
   "source": [
    "model = Sequential([Dense(10)])\n",
    "model.compile(optimizer=SGD(), loss='mse')\n",
    "print('최초 learning rated:', round(model.optimizer.lr.numpy(), 5))\n",
    "\n",
    "lr_scheduler = LearningRateScheduler(step_decay, verbose=1)\n",
    "history = model.fit(np.arange(100).reshape(5, 20), np.zeros(5),\n",
    "                    epochs=15, callbacks=[lr_scheduler], verbose=1)"
   ]
  },
  {
   "cell_type": "code",
   "execution_count": null,
   "id": "a67fa1d3",
   "metadata": {},
   "outputs": [],
   "source": []
  }
 ],
 "metadata": {
  "kernelspec": {
   "display_name": "Python [conda env:machine_TF2] *",
   "language": "python",
   "name": "conda-env-machine_TF2-py"
  },
  "language_info": {
   "codemirror_mode": {
    "name": "ipython",
    "version": 3
   },
   "file_extension": ".py",
   "mimetype": "text/x-python",
   "name": "python",
   "nbconvert_exporter": "python",
   "pygments_lexer": "ipython3",
   "version": "3.8.13"
  }
 },
 "nbformat": 4,
 "nbformat_minor": 5
}
