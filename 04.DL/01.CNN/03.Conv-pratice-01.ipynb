{
 "cells": [
  {
   "cell_type": "code",
   "execution_count": 1,
   "metadata": {
    "_cell_guid": "b1076dfc-b9ad-4769-8c92-a6c4dae69d19",
    "_uuid": "8f2839f25d086af736a60e9eeb907d3b93b6e0e5",
    "execution": {
     "iopub.execute_input": "2022-04-11T18:30:51.060843Z",
     "iopub.status.busy": "2022-04-11T18:30:51.060510Z",
     "iopub.status.idle": "2022-04-11T18:30:51.094558Z",
     "shell.execute_reply": "2022-04-11T18:30:51.093541Z",
     "shell.execute_reply.started": "2022-04-11T18:30:51.060759Z"
    }
   },
   "outputs": [],
   "source": [
    "import pandas as pd\n",
    "import numpy as np\n",
    "import os"
   ]
  },
  {
   "cell_type": "markdown",
   "metadata": {},
   "source": [
    "### Conv2D 적용하기\n",
    "- Conv2D()를 모델에 적용 시에는 반드시 입력은 배치 크기를 제외하고 3차원이 되어야 함(배치를 포함하면 4차원)"
   ]
  },
  {
   "cell_type": "code",
   "execution_count": 2,
   "metadata": {
    "execution": {
     "iopub.execute_input": "2022-04-11T18:30:52.141785Z",
     "iopub.status.busy": "2022-04-11T18:30:52.141056Z",
     "iopub.status.idle": "2022-04-11T18:31:02.378964Z",
     "shell.execute_reply": "2022-04-11T18:31:02.377077Z",
     "shell.execute_reply.started": "2022-04-11T18:30:52.141717Z"
    }
   },
   "outputs": [
    {
     "name": "stdout",
     "output_type": "stream",
     "text": [
      "x type: <class 'keras.engine.keras_tensor.KerasTensor'> x: KerasTensor(type_spec=TensorSpec(shape=(None, 28, 28, 4), dtype=tf.float32, name=None), name='conv2d/Relu:0', description=\"created by layer 'conv2d'\")\n"
     ]
    }
   ],
   "source": [
    "from tensorflow.keras.layers import Input, Conv2D, MaxPooling2D\n",
    "from tensorflow.keras.models import Model\n",
    "\n",
    "input_tensor = Input(shape=(28, 28, 1))\n",
    "x = Conv2D(filters=4, kernel_size=3, strides=1, padding='same', activation='relu')(input_tensor)\n",
    "print('x type:', type(x), 'x:', x)"
   ]
  },
  {
   "cell_type": "markdown",
   "metadata": {},
   "source": [
    "### Pooling 적용하기"
   ]
  },
  {
   "cell_type": "code",
   "execution_count": 3,
   "metadata": {
    "execution": {
     "iopub.execute_input": "2022-04-11T18:31:02.381208Z",
     "iopub.status.busy": "2022-04-11T18:31:02.380964Z",
     "iopub.status.idle": "2022-04-11T18:31:02.415021Z",
     "shell.execute_reply": "2022-04-11T18:31:02.413912Z",
     "shell.execute_reply.started": "2022-04-11T18:31:02.381179Z"
    }
   },
   "outputs": [
    {
     "name": "stdout",
     "output_type": "stream",
     "text": [
      "KerasTensor(type_spec=TensorSpec(shape=(None, 14, 14, 16), dtype=tf.float32, name=None), name='max_pooling2d/MaxPool:0', description=\"created by layer 'max_pooling2d'\")\n"
     ]
    }
   ],
   "source": [
    "input_tensor = Input(shape=(28, 28, 1))\n",
    "x = Conv2D(filters=16, kernel_size=3, strides=1, padding='same', activation='relu')(input_tensor)\n",
    "x = MaxPooling2D(2)(x)\n",
    "print(x)"
   ]
  },
  {
   "cell_type": "markdown",
   "metadata": {},
   "source": []
  },
  {
   "cell_type": "markdown",
   "metadata": {},
   "source": [
    "### CNN 모델 생성"
   ]
  },
  {
   "cell_type": "code",
   "execution_count": 4,
   "metadata": {
    "execution": {
     "iopub.execute_input": "2022-04-11T18:31:02.417222Z",
     "iopub.status.busy": "2022-04-11T18:31:02.416876Z",
     "iopub.status.idle": "2022-04-11T18:31:02.462539Z",
     "shell.execute_reply": "2022-04-11T18:31:02.461596Z",
     "shell.execute_reply.started": "2022-04-11T18:31:02.417177Z"
    }
   },
   "outputs": [
    {
     "name": "stdout",
     "output_type": "stream",
     "text": [
      "Model: \"model\"\n",
      "_________________________________________________________________\n",
      " Layer (type)                Output Shape              Param #   \n",
      "=================================================================\n",
      " input_3 (InputLayer)        [(None, 28, 28, 1)]       0         \n",
      "                                                                 \n",
      " conv2d_2 (Conv2D)           (None, 28, 28, 32)        320       \n",
      "                                                                 \n",
      " conv2d_3 (Conv2D)           (None, 26, 26, 64)        18496     \n",
      "                                                                 \n",
      " max_pooling2d_1 (MaxPooling  (None, 13, 13, 64)       0         \n",
      " 2D)                                                             \n",
      "                                                                 \n",
      "=================================================================\n",
      "Total params: 18,816\n",
      "Trainable params: 18,816\n",
      "Non-trainable params: 0\n",
      "_________________________________________________________________\n"
     ]
    }
   ],
   "source": [
    "input_tensor = Input(shape=(28, 28, 1))\n",
    "x = Conv2D(filters=32, kernel_size=3, strides=1, padding='same', activation='relu')(input_tensor)\n",
    "x = Conv2D(filters=64, kernel_size=3, activation='relu')(x)\n",
    "x = MaxPooling2D(2)(x)\n",
    "\n",
    "model = Model(inputs=input_tensor, outputs=x)\n",
    "model.summary()"
   ]
  },
  {
   "cell_type": "code",
   "execution_count": 6,
   "metadata": {
    "execution": {
     "iopub.execute_input": "2022-04-11T18:31:05.690716Z",
     "iopub.status.busy": "2022-04-11T18:31:05.690355Z",
     "iopub.status.idle": "2022-04-11T18:31:05.755987Z",
     "shell.execute_reply": "2022-04-11T18:31:05.754992Z",
     "shell.execute_reply.started": "2022-04-11T18:31:05.690684Z"
    }
   },
   "outputs": [],
   "source": [
    "from tensorflow.keras.layers import Dense, Flatten\n",
    "\n",
    "input_tensor = Input(shape=(28, 28, 1))\n",
    "x = Conv2D(filters=32, kernel_size=3, strides=1, padding='same', activation='relu')(input_tensor)\n",
    "x = Conv2D(filters=64, kernel_size=3, activation='relu')(x)\n",
    "x = MaxPooling2D(2)(x)\n",
    "\n",
    "# 3차원으로 되어있는 Feature map 결과를 Fully Connected 연결하기 위해서는 Flatten()을 적용해야한다\n",
    "x = Flatten()(x)\n",
    "x = Dense(100, activation='relu')(x)\n",
    "output = Dense(10, activation='softmax')(x)\n",
    "model = Model(inputs=input_tensor, outputs=output)\n",
    "model.summary()"
   ]
  },
  {
   "cell_type": "markdown",
   "metadata": {},
   "source": [
    "### Fashion MNIST 데이터 전처리후 모델 학습"
   ]
  },
  {
   "cell_type": "code",
   "execution_count": 7,
   "metadata": {
    "execution": {
     "iopub.execute_input": "2022-04-11T18:31:06.142066Z",
     "iopub.status.busy": "2022-04-11T18:31:06.141577Z",
     "iopub.status.idle": "2022-04-11T18:31:09.661732Z",
     "shell.execute_reply": "2022-04-11T18:31:09.660615Z",
     "shell.execute_reply.started": "2022-04-11T18:31:06.142005Z"
    }
   },
   "outputs": [],
   "source": [
    "from tensorflow.keras.datasets import fashion_mnist\n",
    "import numpy as np\n",
    "from tensorflow.keras.utils import to_categorical\n",
    "from sklearn.model_selection import train_test_split\n",
    "\n",
    "(train_images, train_labels), (test_images, test_labels) = fashion_mnist.load_data()\n",
    "\n",
    "def get_preprocessed_data(images, labels):\n",
    "    images = np.array(images/255.0, dtype=np.float32)\n",
    "    labels = np.array(labels, dtype=np.float32)\n",
    "    \n",
    "    return images, labels\n",
    "\n",
    "def get_preprocessed_ohe(images, labels):\n",
    "    images, labels = get_preprocessed_data(images, labels)\n",
    "    oh_labels = to_categorical(labels)\n",
    "    \n",
    "    return images, oh_labels\n",
    "\n",
    "def get_train_valid_test_set(train_images, train_labels, test_images, test_labels, valid_size=0.15, random_state=2021):\n",
    "    train_images, train_oh_labels = get_preprocessed_ohe(train_images, train_labels)\n",
    "    test_images, test_oh_labels = get_preprocessed_ohe(test_images, test_labels)\n",
    "    \n",
    "    tr_images, val_images, tr_oh_labels, val_oh_labels = train_test_split(train_images, train_oh_labels, test_size=valid_size, random_state=random_state)\n",
    "    \n",
    "    return (tr_images, tr_oh_labels), (val_images, val_oh_labels), (test_images, test_oh_labels)\n",
    "\n",
    "(train_images, train_labels), (test_images, test_labels) = fashion_mnist.load_data()\n",
    "print(train_images.shape, train_labels.shape, test_images.shape, test_labels.shape)\n",
    "(tr_images, tr_oh_labels), (val_images, val_oh_labels), (test_images, test_oh_labels) = \\\n",
    "    get_train_valid_test_set(train_images, train_labels, test_images, test_labels, valid_size=0.15, random_state=2021)\n",
    "print(tr_images.shape, tr_oh_labels.shape, val_images.shape, val_oh_labels.shape, test_images.shape, test_oh_labels.shape)"
   ]
  },
  {
   "cell_type": "code",
   "execution_count": 8,
   "metadata": {
    "execution": {
     "iopub.execute_input": "2022-04-11T18:32:58.220387Z",
     "iopub.status.busy": "2022-04-11T18:32:58.220062Z",
     "iopub.status.idle": "2022-04-11T18:32:58.240129Z",
     "shell.execute_reply": "2022-04-11T18:32:58.238971Z",
     "shell.execute_reply.started": "2022-04-11T18:32:58.220352Z"
    }
   },
   "outputs": [],
   "source": [
    "from tensorflow.keras.utils import to_categorical\n",
    "from tensorflow.keras.optimizers import Adam\n",
    "from tensorflow.keras.losses import CategoricalCrossentropy\n",
    "from tensorflow.keras.metrics import Accuracy\n",
    "\n",
    "model.compile(optimizer=Adam(0.001), loss='categorical_crossentropy', metrics=['accuracy'])"
   ]
  },
  {
   "cell_type": "code",
   "execution_count": 9,
   "metadata": {
    "execution": {
     "iopub.execute_input": "2022-04-11T18:33:41.129366Z",
     "iopub.status.busy": "2022-04-11T18:33:41.129046Z",
     "iopub.status.idle": "2022-04-11T18:36:04.052694Z",
     "shell.execute_reply": "2022-04-11T18:36:04.051642Z",
     "shell.execute_reply.started": "2022-04-11T18:33:41.129334Z"
    }
   },
   "outputs": [],
   "source": [
    "history = model.fit(x=tr_images, y=tr_oh_labels, batch_size=128, epochs=30, validation_data=(val_images, val_oh_labels))"
   ]
  },
  {
   "cell_type": "code",
   "execution_count": 10,
   "metadata": {
    "execution": {
     "iopub.execute_input": "2022-04-11T18:37:26.007997Z",
     "iopub.status.busy": "2022-04-11T18:37:26.007734Z",
     "iopub.status.idle": "2022-04-11T18:37:26.318135Z",
     "shell.execute_reply": "2022-04-11T18:37:26.317121Z",
     "shell.execute_reply.started": "2022-04-11T18:37:26.007968Z"
    }
   },
   "outputs": [],
   "source": [
    "import matplotlib.pyplot as plt\n",
    "\n",
    "def show_history(history):\n",
    "    plt.plot(history.history['accuracy'], label='train')\n",
    "    plt.plot(history.history['val_accuracy'], label='valid')\n",
    "    plt.legend()\n",
    "    \n",
    "show_history(history)"
   ]
  },
  {
   "cell_type": "code",
   "execution_count": 11,
   "metadata": {
    "execution": {
     "iopub.execute_input": "2022-04-11T18:38:04.766298Z",
     "iopub.status.busy": "2022-04-11T18:38:04.765965Z",
     "iopub.status.idle": "2022-04-11T18:38:05.149154Z",
     "shell.execute_reply": "2022-04-11T18:38:05.148190Z",
     "shell.execute_reply.started": "2022-04-11T18:38:04.766259Z"
    }
   },
   "outputs": [],
   "source": [
    "model.evaluate(test_images, test_oh_labels, batch_size=256, verbose=1)"
   ]
  },
  {
   "cell_type": "code",
   "execution_count": null,
   "metadata": {},
   "outputs": [],
   "source": []
  },
  {
   "cell_type": "markdown",
   "metadata": {},
   "source": [
    "### Dropout을 적용하여 Fully Connected Layer의 오버피팅 조정\n",
    "\n",
    "- CNN은 일반적으로 Dense Layer보다는 파라미터수(weight 수) 작음\n",
    "- 하지만 많은 Filter들을 적용하고 이를 Fully Connected Layer로 연결 시 파라미터 수가 늘어남.\n",
    "- Flatten() 이후 Dropout을 적용하여 특정 비율로 FC layer 연결을 누락 적용"
   ]
  },
  {
   "cell_type": "code",
   "execution_count": 14,
   "metadata": {
    "execution": {
     "iopub.execute_input": "2022-04-11T18:45:00.476768Z",
     "iopub.status.busy": "2022-04-11T18:45:00.476457Z",
     "iopub.status.idle": "2022-04-11T18:45:00.549629Z",
     "shell.execute_reply": "2022-04-11T18:45:00.547507Z",
     "shell.execute_reply.started": "2022-04-11T18:45:00.476735Z"
    }
   },
   "outputs": [],
   "source": [
    "from tensorflow.keras.layers import Dense, Flatten, Dropout\n",
    "\n",
    "input_tensor = Input(shape=(28, 28, 1))\n",
    "x = Conv2D(filters=32, kernel_size=3, strides=1, padding='same', activation='relu')(input_tensor)\n",
    "x = Conv2D(filters=64, kernel_size=3, activation='relu')(x)\n",
    "x = MaxPooling2D(2)(x)\n",
    "\n",
    "x = Flatten()(x)\n",
    "x = Dropout(rate=0.5)(x)\n",
    "x = Dense(100, activation='relu')(x)\n",
    "output = Dense(10, activation='softmax')(x)\n",
    "model = Model(inputs=input_tensor, outputs=output)\n",
    "model.summary()"
   ]
  },
  {
   "cell_type": "code",
   "execution_count": 15,
   "metadata": {
    "execution": {
     "iopub.execute_input": "2022-04-11T18:46:04.861196Z",
     "iopub.status.busy": "2022-04-11T18:46:04.860911Z",
     "iopub.status.idle": "2022-04-11T18:48:27.574653Z",
     "shell.execute_reply": "2022-04-11T18:48:27.573554Z",
     "shell.execute_reply.started": "2022-04-11T18:46:04.861165Z"
    }
   },
   "outputs": [],
   "source": [
    "model.compile(optimizer=Adam(0.001), loss='categorical_crossentropy', metrics=['accuracy'])\n",
    "history = model.fit(x=tr_images, y=tr_oh_labels, batch_size=128, epochs=30, validation_data=(val_images, val_oh_labels))"
   ]
  },
  {
   "cell_type": "code",
   "execution_count": 16,
   "metadata": {
    "execution": {
     "iopub.execute_input": "2022-04-11T18:49:14.018856Z",
     "iopub.status.busy": "2022-04-11T18:49:14.018419Z",
     "iopub.status.idle": "2022-04-11T18:49:14.569125Z",
     "shell.execute_reply": "2022-04-11T18:49:14.568112Z",
     "shell.execute_reply.started": "2022-04-11T18:49:14.018795Z"
    }
   },
   "outputs": [],
   "source": [
    "show_history(history)\n",
    "model.evaluate(test_images, test_oh_labels, batch_size=256, verbose=1)"
   ]
  },
  {
   "cell_type": "code",
   "execution_count": 19,
   "metadata": {
    "execution": {
     "iopub.execute_input": "2022-04-11T18:51:41.118944Z",
     "iopub.status.busy": "2022-04-11T18:51:41.118649Z",
     "iopub.status.idle": "2022-04-11T18:51:41.193988Z",
     "shell.execute_reply": "2022-04-11T18:51:41.192136Z",
     "shell.execute_reply.started": "2022-04-11T18:51:41.118911Z"
    }
   },
   "outputs": [],
   "source": [
    "from tensorflow.keras.layers import Dense, Flatten, Dropout, GlobalAveragePooling2D\n",
    "\n",
    "def create_model():\n",
    "    input_tensor = Input(shape=(28, 28, 1))\n",
    "    x = Conv2D(filters=32, kernel_size=3, strides=1, padding='same', activation='relu')(input_tensor)\n",
    "    x = Conv2D(filters=64, kernel_size=3, activation='relu')(x)\n",
    "    x = MaxPooling2D(2)(x)\n",
    "    \n",
    "    x = Dropout(rate=0.5)(x)\n",
    "    x = Flatten()(x)\n",
    "    x = Dropout(rate=0.5)(x)\n",
    "    x = Dense(200, activation='relu')(x)\n",
    "    x = Dropout(rate=0.2)(x)\n",
    "    output = Dense(10, activation='softmax')(x)\n",
    "    model = Model(inputs=input_tensor, outputs=output)\n",
    "    model.summary()\n",
    "    \n",
    "    return model\n",
    "\n",
    "model = create_model()"
   ]
  },
  {
   "cell_type": "code",
   "execution_count": 20,
   "metadata": {
    "execution": {
     "iopub.execute_input": "2022-04-11T18:51:52.991899Z",
     "iopub.status.busy": "2022-04-11T18:51:52.991613Z",
     "iopub.status.idle": "2022-04-11T18:53:24.668534Z",
     "shell.execute_reply": "2022-04-11T18:53:24.667556Z",
     "shell.execute_reply.started": "2022-04-11T18:51:52.991869Z"
    }
   },
   "outputs": [],
   "source": [
    "model.compile(optimizer=Adam(0.001), loss='categorical_crossentropy', metrics=['accuracy'])\n",
    "history = model.fit(x=tr_images, y=tr_oh_labels, batch_size=128, epochs=30, validation_data=(val_images, val_oh_labels))"
   ]
  },
  {
   "cell_type": "code",
   "execution_count": 21,
   "metadata": {
    "execution": {
     "iopub.execute_input": "2022-04-11T18:53:48.496936Z",
     "iopub.status.busy": "2022-04-11T18:53:48.496213Z",
     "iopub.status.idle": "2022-04-11T18:53:49.140617Z",
     "shell.execute_reply": "2022-04-11T18:53:49.139519Z",
     "shell.execute_reply.started": "2022-04-11T18:53:48.496901Z"
    }
   },
   "outputs": [],
   "source": [
    "show_history(history)\n",
    "model.evaluate(test_images, test_oh_labels, batch_size=256, verbose=1)"
   ]
  },
  {
   "cell_type": "markdown",
   "metadata": {},
   "source": [
    "### 입력 이미지는 배치를 포함하여 4차원이 되어야 함(즉 배치를 제외하면 3차원)\n",
    "\n",
    "- Conv2D()는 입력으로 배치를 제외하고 3차원 입력이 되어야 함\n",
    "- 하지만 2차원으로 입력해도 Input(shape=(28, 28, 1))에서 3차원으로 변경함\n",
    "- 명확하게는 2차원 Grayscale 이미지더라도 입력 numpy 이미지 배열에서 배치를 제외한 3차원 입력을 만들어 주는 것이 좋음"
   ]
  },
  {
   "cell_type": "code",
   "execution_count": 23,
   "metadata": {
    "execution": {
     "iopub.execute_input": "2022-04-11T18:59:38.243564Z",
     "iopub.status.busy": "2022-04-11T18:59:38.243252Z",
     "iopub.status.idle": "2022-04-11T18:59:39.128705Z",
     "shell.execute_reply": "2022-04-11T18:59:39.126884Z",
     "shell.execute_reply.started": "2022-04-11T18:59:38.243520Z"
    }
   },
   "outputs": [],
   "source": [
    "(train_images, train_labels), (test_images, test_labels) = fashion_mnist.load_data()\n",
    "print('before reshape:', train_images.shape, test_images.shape)\n",
    "train_images = np.reshape(train_images, (60000, 28, 28, 1))\n",
    "test_images = np.reshape(test_images, (10000,28, 28, 1))\n",
    "print('after reshape:', train_images.shape, test_images.shape)\n",
    "\n",
    "(tr_images, tr_oh_labels), (val_images, val_oh_labels), (test_images, test_oh_labels) = \\\n",
    "    get_train_valid_test_set(train_images, train_labels, test_images, test_labels, valid_size=0.15, random_state=2021)\n",
    "print(tr_images.shape, tr_oh_labels.shape, val_images.shape, val_oh_labels.shape, test_images.shape, test_oh_labels.shape)"
   ]
  },
  {
   "cell_type": "code",
   "execution_count": 24,
   "metadata": {
    "execution": {
     "iopub.execute_input": "2022-04-11T19:01:09.069058Z",
     "iopub.status.busy": "2022-04-11T19:01:09.068728Z",
     "iopub.status.idle": "2022-04-11T19:03:31.897306Z",
     "shell.execute_reply": "2022-04-11T19:03:31.896095Z",
     "shell.execute_reply.started": "2022-04-11T19:01:09.069025Z"
    }
   },
   "outputs": [],
   "source": [
    "model = create_model()\n",
    "model.compile(optimizer=Adam(0.001), loss='categorical_crossentropy', metrics=['accuracy'])\n",
    "history = model.fit(x=tr_images, y=tr_oh_labels, batch_size=128, epochs=30, validation_data=(val_images, val_oh_labels))"
   ]
  },
  {
   "cell_type": "code",
   "execution_count": null,
   "metadata": {},
   "outputs": [],
   "source": [
    "show_history(history)\n",
    "model.evaluate(test_images, test_oh_labels, batch_size=256, verbose=1)"
   ]
  }
 ],
 "metadata": {
  "kernelspec": {
   "display_name": "Python 3 (ipykernel)",
   "language": "python",
   "name": "python3"
  },
  "language_info": {
   "codemirror_mode": {
    "name": "ipython",
    "version": 3
   },
   "file_extension": ".py",
   "mimetype": "text/x-python",
   "name": "python",
   "nbconvert_exporter": "python",
   "pygments_lexer": "ipython3",
   "version": "3.9.7"
  }
 },
 "nbformat": 4,
 "nbformat_minor": 4
}
