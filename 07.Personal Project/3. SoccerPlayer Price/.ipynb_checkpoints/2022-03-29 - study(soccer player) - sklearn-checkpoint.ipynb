{
 "cells": [
  {
   "cell_type": "code",
   "execution_count": 67,
   "id": "e5842873",
   "metadata": {},
   "outputs": [],
   "source": [
    "import pandas as pd\n",
    "import numpy as np\n",
    "import matplotlib.pyplot as plt\n",
    "import seaborn as sns\n",
    "import warnings\n",
    "warnings.filterwarnings('ignore')"
   ]
  },
  {
   "cell_type": "code",
   "execution_count": 68,
   "id": "8b9d108f",
   "metadata": {},
   "outputs": [],
   "source": [
    "train_df = pd.read_csv('../../../data/FIFA/FIFA_train.csv')\n",
    "test_df = pd.read_csv('../../../data/FIFA/FIFA_test.csv')"
   ]
  },
  {
   "cell_type": "code",
   "execution_count": 69,
   "id": "caa825c9",
   "metadata": {},
   "outputs": [
    {
     "name": "stdout",
     "output_type": "stream",
     "text": [
      "0\n",
      "0\n"
     ]
    }
   ],
   "source": [
    "print(train_df.isna().sum().sum())\n",
    "print(test_df.isna().sum().sum())"
   ]
  },
  {
   "cell_type": "code",
   "execution_count": 70,
   "id": "d9e2138e",
   "metadata": {},
   "outputs": [
    {
     "data": {
      "text/html": [
       "<div>\n",
       "<style scoped>\n",
       "    .dataframe tbody tr th:only-of-type {\n",
       "        vertical-align: middle;\n",
       "    }\n",
       "\n",
       "    .dataframe tbody tr th {\n",
       "        vertical-align: top;\n",
       "    }\n",
       "\n",
       "    .dataframe thead th {\n",
       "        text-align: right;\n",
       "    }\n",
       "</style>\n",
       "<table border=\"1\" class=\"dataframe\">\n",
       "  <thead>\n",
       "    <tr style=\"text-align: right;\">\n",
       "      <th></th>\n",
       "      <th>id</th>\n",
       "      <th>age</th>\n",
       "      <th>reputation</th>\n",
       "      <th>stat_overall</th>\n",
       "      <th>stat_potential</th>\n",
       "      <th>stat_skill_moves</th>\n",
       "      <th>value</th>\n",
       "    </tr>\n",
       "  </thead>\n",
       "  <tbody>\n",
       "    <tr>\n",
       "      <th>count</th>\n",
       "      <td>8932.000000</td>\n",
       "      <td>8932.000000</td>\n",
       "      <td>8932.000000</td>\n",
       "      <td>8932.000000</td>\n",
       "      <td>8932.000000</td>\n",
       "      <td>8932.000000</td>\n",
       "      <td>8.932000e+03</td>\n",
       "    </tr>\n",
       "    <tr>\n",
       "      <th>mean</th>\n",
       "      <td>7966.775750</td>\n",
       "      <td>25.209136</td>\n",
       "      <td>1.130878</td>\n",
       "      <td>67.091133</td>\n",
       "      <td>71.997201</td>\n",
       "      <td>2.401702</td>\n",
       "      <td>2.778673e+06</td>\n",
       "    </tr>\n",
       "    <tr>\n",
       "      <th>std</th>\n",
       "      <td>4844.428521</td>\n",
       "      <td>4.635515</td>\n",
       "      <td>0.423792</td>\n",
       "      <td>6.854910</td>\n",
       "      <td>5.988147</td>\n",
       "      <td>0.776048</td>\n",
       "      <td>5.840982e+06</td>\n",
       "    </tr>\n",
       "    <tr>\n",
       "      <th>min</th>\n",
       "      <td>0.000000</td>\n",
       "      <td>16.000000</td>\n",
       "      <td>1.000000</td>\n",
       "      <td>47.000000</td>\n",
       "      <td>48.000000</td>\n",
       "      <td>1.000000</td>\n",
       "      <td>1.000000e+04</td>\n",
       "    </tr>\n",
       "    <tr>\n",
       "      <th>25%</th>\n",
       "      <td>3751.750000</td>\n",
       "      <td>21.000000</td>\n",
       "      <td>1.000000</td>\n",
       "      <td>63.000000</td>\n",
       "      <td>68.000000</td>\n",
       "      <td>2.000000</td>\n",
       "      <td>3.750000e+05</td>\n",
       "    </tr>\n",
       "    <tr>\n",
       "      <th>50%</th>\n",
       "      <td>7696.500000</td>\n",
       "      <td>25.000000</td>\n",
       "      <td>1.000000</td>\n",
       "      <td>67.000000</td>\n",
       "      <td>72.000000</td>\n",
       "      <td>2.000000</td>\n",
       "      <td>8.250000e+05</td>\n",
       "    </tr>\n",
       "    <tr>\n",
       "      <th>75%</th>\n",
       "      <td>12082.250000</td>\n",
       "      <td>28.000000</td>\n",
       "      <td>1.000000</td>\n",
       "      <td>72.000000</td>\n",
       "      <td>76.000000</td>\n",
       "      <td>3.000000</td>\n",
       "      <td>2.600000e+06</td>\n",
       "    </tr>\n",
       "    <tr>\n",
       "      <th>max</th>\n",
       "      <td>16948.000000</td>\n",
       "      <td>40.000000</td>\n",
       "      <td>5.000000</td>\n",
       "      <td>94.000000</td>\n",
       "      <td>94.000000</td>\n",
       "      <td>5.000000</td>\n",
       "      <td>1.105000e+08</td>\n",
       "    </tr>\n",
       "  </tbody>\n",
       "</table>\n",
       "</div>"
      ],
      "text/plain": [
       "                 id          age   reputation  stat_overall  stat_potential  \\\n",
       "count   8932.000000  8932.000000  8932.000000   8932.000000     8932.000000   \n",
       "mean    7966.775750    25.209136     1.130878     67.091133       71.997201   \n",
       "std     4844.428521     4.635515     0.423792      6.854910        5.988147   \n",
       "min        0.000000    16.000000     1.000000     47.000000       48.000000   \n",
       "25%     3751.750000    21.000000     1.000000     63.000000       68.000000   \n",
       "50%     7696.500000    25.000000     1.000000     67.000000       72.000000   \n",
       "75%    12082.250000    28.000000     1.000000     72.000000       76.000000   \n",
       "max    16948.000000    40.000000     5.000000     94.000000       94.000000   \n",
       "\n",
       "       stat_skill_moves         value  \n",
       "count       8932.000000  8.932000e+03  \n",
       "mean           2.401702  2.778673e+06  \n",
       "std            0.776048  5.840982e+06  \n",
       "min            1.000000  1.000000e+04  \n",
       "25%            2.000000  3.750000e+05  \n",
       "50%            2.000000  8.250000e+05  \n",
       "75%            3.000000  2.600000e+06  \n",
       "max            5.000000  1.105000e+08  "
      ]
     },
     "execution_count": 70,
     "metadata": {},
     "output_type": "execute_result"
    }
   ],
   "source": [
    "train_df.describe()"
   ]
  },
  {
   "cell_type": "code",
   "execution_count": 5,
   "id": "80c1ee4b",
   "metadata": {
    "scrolled": true
   },
   "outputs": [
    {
     "name": "stdout",
     "output_type": "stream",
     "text": [
      "<class 'pandas.core.frame.DataFrame'>\n",
      "RangeIndex: 8932 entries, 0 to 8931\n",
      "Data columns (total 12 columns):\n",
      " #   Column            Non-Null Count  Dtype  \n",
      "---  ------            --------------  -----  \n",
      " 0   id                8932 non-null   int64  \n",
      " 1   name              8932 non-null   object \n",
      " 2   age               8932 non-null   int64  \n",
      " 3   continent         8932 non-null   object \n",
      " 4   contract_until    8932 non-null   object \n",
      " 5   position          8932 non-null   object \n",
      " 6   prefer_foot       8932 non-null   object \n",
      " 7   reputation        8932 non-null   float64\n",
      " 8   stat_overall      8932 non-null   int64  \n",
      " 9   stat_potential    8932 non-null   int64  \n",
      " 10  stat_skill_moves  8932 non-null   float64\n",
      " 11  value             8932 non-null   float64\n",
      "dtypes: float64(3), int64(4), object(5)\n",
      "memory usage: 837.5+ KB\n"
     ]
    }
   ],
   "source": [
    "train_df.info()"
   ]
  },
  {
   "cell_type": "markdown",
   "id": "d00efba4",
   "metadata": {},
   "source": [
    "### 필요없는 컬럼 삭제"
   ]
  },
  {
   "cell_type": "code",
   "execution_count": 6,
   "id": "3f11ebbb",
   "metadata": {
    "scrolled": true
   },
   "outputs": [],
   "source": [
    "train_df.drop(['id', 'name'], axis=1, inplace=True)\n",
    "test_df.drop(['id', 'name'], axis=1, inplace=True)"
   ]
  },
  {
   "cell_type": "markdown",
   "id": "a2089719",
   "metadata": {},
   "source": [
    "### Object 데이터 확인"
   ]
  },
  {
   "cell_type": "code",
   "execution_count": 7,
   "id": "70445e7b",
   "metadata": {},
   "outputs": [
    {
     "name": "stdout",
     "output_type": "stream",
     "text": [
      "europe           5322\n",
      "south america    1927\n",
      "asia              787\n",
      "africa            721\n",
      "oceania           175\n",
      "Name: continent, dtype: int64\n",
      "################################\n",
      "2019            2366\n",
      "2021            2308\n",
      "2020            2041\n",
      "2022             761\n",
      "2023             506\n",
      "Jun 30, 2019     501\n",
      "2018             327\n",
      "Dec 31, 2018      64\n",
      "May 31, 2019      19\n",
      "2024              12\n",
      "Jan 31, 2019      10\n",
      "Jun 30, 2020       9\n",
      "2025               3\n",
      "Jan 1, 2019        2\n",
      "2026               1\n",
      "May 31, 2020       1\n",
      "Jan 12, 2019       1\n",
      "Name: contract_until, dtype: int64\n",
      "################################\n",
      "MF    3428\n",
      "DF    2791\n",
      "ST    1705\n",
      "GK    1008\n",
      "Name: position, dtype: int64\n",
      "################################\n",
      "right    6837\n",
      "left     2095\n",
      "Name: prefer_foot, dtype: int64\n"
     ]
    }
   ],
   "source": [
    "print(train_df['continent'].value_counts())\n",
    "print('################################')\n",
    "print(train_df['contract_until'].value_counts())\n",
    "print('################################')\n",
    "print(train_df['position'].value_counts())\n",
    "print('################################')\n",
    "print(train_df['prefer_foot'].value_counts())"
   ]
  },
  {
   "cell_type": "markdown",
   "id": "2f6e85b0",
   "metadata": {},
   "source": [
    "### contract_until 데이터 통일"
   ]
  },
  {
   "cell_type": "code",
   "execution_count": 8,
   "id": "ba6f1c59",
   "metadata": {},
   "outputs": [
    {
     "data": {
      "text/plain": [
       "2019    1171\n",
       "2021     985\n",
       "2020     887\n",
       "2022     338\n",
       "2023     251\n",
       "2018     189\n",
       "2025       4\n",
       "2024       2\n",
       "2026       1\n",
       "Name: contract_until, dtype: int64"
      ]
     },
     "execution_count": 8,
     "metadata": {},
     "output_type": "execute_result"
    }
   ],
   "source": [
    "train_df['contract_until'] = train_df['contract_until'].map(lambda x : x[-4:] if len(x) > 4 else x[:])\n",
    "train_df['contract_until'] = train_df['contract_until'].astype('int64')\n",
    "train_df['contract_until'].value_counts()\n",
    "\n",
    "test_df['contract_until'] = test_df['contract_until'].map(lambda x : x[-4:] if len(x) > 4 else x[:])\n",
    "test_df['contract_until'] = test_df['contract_until'].astype('int64')\n",
    "test_df['contract_until'].value_counts()"
   ]
  },
  {
   "cell_type": "markdown",
   "id": "cebbd3a7",
   "metadata": {},
   "source": [
    "### Object 컬럼 데이터 One-hot encoding"
   ]
  },
  {
   "cell_type": "code",
   "execution_count": 9,
   "id": "cecaddcf",
   "metadata": {},
   "outputs": [
    {
     "data": {
      "text/plain": [
       "array([31, 27, 32, 25, 26, 29, 33, 30, 40, 24, 28, 34, 23, 22, 35, 36, 21,\n",
       "       18, 19, 37, 20, 39, 17, 38, 16], dtype=int64)"
      ]
     },
     "execution_count": 9,
     "metadata": {},
     "output_type": "execute_result"
    }
   ],
   "source": [
    "train_df['age'].unique()"
   ]
  },
  {
   "cell_type": "code",
   "execution_count": 10,
   "id": "0aa03979",
   "metadata": {},
   "outputs": [],
   "source": [
    "def cat_age(x):\n",
    "    if x < 20: x = 'Early'\n",
    "    elif x < 30 : x = 'Mid'\n",
    "    else: x = 'Old'\n",
    "    return x"
   ]
  },
  {
   "cell_type": "code",
   "execution_count": 11,
   "id": "1c81cdfa",
   "metadata": {},
   "outputs": [],
   "source": [
    "train_df['age'] = train_df['age'].apply(cat_age)\n",
    "test_df['age'] = test_df['age'].apply(cat_age)"
   ]
  },
  {
   "cell_type": "code",
   "execution_count": 12,
   "id": "f483edce",
   "metadata": {},
   "outputs": [
    {
     "data": {
      "text/plain": [
       "array([2021, 2020, 2019, 2023, 2022, 2024, 2026, 2018, 2025], dtype=int64)"
      ]
     },
     "execution_count": 12,
     "metadata": {},
     "output_type": "execute_result"
    }
   ],
   "source": [
    "train_df['contract_until'].unique()"
   ]
  },
  {
   "cell_type": "code",
   "execution_count": 13,
   "id": "29099e3d",
   "metadata": {},
   "outputs": [],
   "source": [
    "def cat_contract(x):\n",
    "    if x <= 2020: x = 'contract_3'\n",
    "    elif x < 2023 : x = 'contract_6'\n",
    "    else: x = 'contract_9'\n",
    "    return x"
   ]
  },
  {
   "cell_type": "code",
   "execution_count": 14,
   "id": "78096158",
   "metadata": {},
   "outputs": [],
   "source": [
    "train_df['contract_until'] = train_df['contract_until'].apply(cat_contract)\n",
    "test_df['contract_until'] = test_df['contract_until'].apply(cat_contract)"
   ]
  },
  {
   "cell_type": "code",
   "execution_count": 15,
   "id": "75628fd3",
   "metadata": {},
   "outputs": [],
   "source": [
    "train = pd.get_dummies(columns = ['age', 'contract_until', 'continent', 'position', 'prefer_foot'], data = train_df)\n",
    "test = pd.get_dummies(columns = ['age', 'contract_until', 'continent', 'position', 'prefer_foot'], data = test_df)"
   ]
  },
  {
   "cell_type": "code",
   "execution_count": 16,
   "id": "6fd0d3d1",
   "metadata": {},
   "outputs": [],
   "source": [
    "from sklearn.metrics import mean_squared_error, mean_absolute_error\n",
    "from sklearn.metrics import r2_score\n",
    "\n",
    "def rmsle(y, pred):\n",
    "    log_y = np.log1p(y)\n",
    "    log_pred = np.log1p(pred)\n",
    "    squared_error = (log_y - log_pred) ** 2\n",
    "    rmsle = np.sqrt(np.mean(squared_error))\n",
    "    return rmsle\n",
    "\n",
    "def rmse(y,pred):\n",
    "    return np.sqrt(mean_squared_error(y,pred))\n",
    "\n",
    "\n",
    "def evaluate_regr(y, pred):\n",
    "    rmsle_val = rmsle(y, pred)\n",
    "    rmse_val = rmse(y, pred)\n",
    "    mae_val = mean_absolute_error(y,pred)\n",
    "    r2_val = r2_score(y, pred)\n",
    "    print('RMSLE: {:.3f}, RMSE: {:.3f}, MAE: {:.3f}, R-squared: {:.3f}'.format(rmsle_val, rmse_val, mae_val, r2_val))"
   ]
  },
  {
   "attachments": {
    "%EC%88%98%EC%8B%9D.PNG": {
     "image/png": "[encoded data removed]"
    }
   },
   "cell_type": "markdown",
   "id": "5849bdb7",
   "metadata": {},
   "source": [
    "![%EC%88%98%EC%8B%9D.PNG](attachment:%EC%88%98%EC%8B%9D.PNG)\n",
    "- RMSLE는 단순히 RMSE에 로그를 취한 값은 아니다. 실제값과 예측값을 모두 상용로그로 변환 한 뒤에 이를 RMSE로 적용한 것입니다.\n",
    "- RMSLE에 yi 가 아니라 yi + 1을 취한 이유는 yi가 0일때 log yi가 무한대 오류가 발생하므로 +1을 한 것이다\n",
    "- 일반적으로 RMSE가 아니라 RMSLE를 적용할 때는 평균보다 매우 높은 상위값들의 예측 오류 영향도가 너무 클 때 이를 상쇄하기 위해 적용합니다. "
   ]
  },
  {
   "cell_type": "code",
   "execution_count": 75,
   "id": "e5517f0e",
   "metadata": {},
   "outputs": [
    {
     "name": "stdout",
     "output_type": "stream",
     "text": [
      "RMSLE: 0.985, RMSE: 3501427.934, MAE: 1946967.128, R-squared: 0.683\n"
     ]
    }
   ],
   "source": [
    "from sklearn.model_selection import train_test_split\n",
    "from sklearn.linear_model import LinearRegression, Ridge, Lasso\n",
    "\n",
    "X_train_df = train_df.drop(['value', 'name', 'continent', 'contract_until', 'position', 'prefer_foot'], axis=1, inplace=False)\n",
    "y_label_df = train_df['value']\n",
    "\n",
    "X_train, X_val, y_train, y_val = train_test_split(X_train_df, y_label_df, test_size=0.3, random_state=42)\n",
    "\n",
    "lr_reg = LinearRegression()\n",
    "lr_reg.fit(X_train, y_train)\n",
    "pred = lr_reg.predict(X_val)\n",
    "\n",
    "evaluate_regr(y_val ,pred)"
   ]
  },
  {
   "cell_type": "markdown",
   "id": "8b779877",
   "metadata": {},
   "source": [
    "### LinearRrgression - One-hot"
   ]
  },
  {
   "cell_type": "code",
   "execution_count": 40,
   "id": "484bada7",
   "metadata": {},
   "outputs": [
    {
     "name": "stdout",
     "output_type": "stream",
     "text": [
      "RMSLE: 0.875, RMSE: 3837860.948, MAE: 1987961.364, R-squared: 0.619\n"
     ]
    }
   ],
   "source": [
    "X_features = train.drop('value', axis=1, inplace=False)\n",
    "y_label = train['value']\n",
    "\n",
    "X_train, X_val, y_train, y_val = train_test_split(X_features, y_label, test_size=0.3, random_state=42)\n",
    "\n",
    "lr_reg = LinearRegression()\n",
    "lr_reg.fit(X_train, y_train)\n",
    "pred = lr_reg.predict(X_val)\n",
    "\n",
    "evaluate_regr(y_val ,pred)"
   ]
  },
  {
   "cell_type": "markdown",
   "id": "4c07f777",
   "metadata": {},
   "source": [
    "### LinearRrgression - y_label(log)"
   ]
  },
  {
   "cell_type": "code",
   "execution_count": 41,
   "id": "0973f8ff",
   "metadata": {},
   "outputs": [
    {
     "name": "stdout",
     "output_type": "stream",
     "text": [
      "RMSLE: 0.303, RMSE: 2566332.636, MAE: 572884.612, R-squared: 0.829\n"
     ]
    }
   ],
   "source": [
    "X_features = train.drop('value', axis=1, inplace=False)\n",
    "y_label = train['value']\n",
    "\n",
    "y_label_log = np.log1p(y_label)\n",
    "X_train, X_val, y_train, y_val = train_test_split(X_features, y_label_log, test_size=0.3, random_state=42)\n",
    "\n",
    "lr_reg = LinearRegression()\n",
    "lr_reg.fit(X_train, y_train)\n",
    "pred = lr_reg.predict(X_val)\n",
    "\n",
    "y_val_exp = np.expm1(y_val)\n",
    "pred_exp = np.expm1(pred)\n",
    "\n",
    "evaluate_regr(y_val_exp ,pred_exp)"
   ]
  },
  {
   "cell_type": "markdown",
   "id": "cdb2ac5d",
   "metadata": {},
   "source": [
    "### LinearRrgression - X_features(log), y_label(log)"
   ]
  },
  {
   "cell_type": "code",
   "execution_count": 42,
   "id": "e9a763ed",
   "metadata": {},
   "outputs": [
    {
     "name": "stdout",
     "output_type": "stream",
     "text": [
      "RMSLE: 0.330, RMSE: 1367292.482, MAE: 553926.995, R-squared: 0.952\n"
     ]
    }
   ],
   "source": [
    "X_features = train.drop('value', axis=1, inplace=False)\n",
    "y_label = train['value']\n",
    "\n",
    "X_features_log = np.log1p(X_features)\n",
    "y_label_log = np.log1p(y_label)\n",
    "\n",
    "X_train, X_val, y_train, y_val = train_test_split(X_features_log, y_label_log, test_size=0.3, random_state=42)\n",
    "\n",
    "lr_reg = LinearRegression()\n",
    "lr_reg.fit(X_train, y_train)\n",
    "pred = lr_reg.predict(X_val)\n",
    "\n",
    "y_val_exp = np.expm1(y_val)\n",
    "pred_exp = np.expm1(pred)\n",
    "\n",
    "evaluate_regr(y_val_exp ,pred_exp)"
   ]
  },
  {
   "cell_type": "markdown",
   "id": "b506b28b",
   "metadata": {},
   "source": [
    "### LinearRrgression - 표준화"
   ]
  },
  {
   "cell_type": "code",
   "execution_count": 43,
   "id": "90af5ba4",
   "metadata": {},
   "outputs": [
    {
     "name": "stdout",
     "output_type": "stream",
     "text": [
      "RMSLE: nan, RMSE: 0.657, MAE: 0.340, R-squared: 0.619\n"
     ]
    }
   ],
   "source": [
    "X_features = train.drop('value', axis=1, inplace=False)\n",
    "y_label = train['value'].values.reshape(-1, 1)\n",
    "\n",
    "X_scaler = StandardScaler()\n",
    "y_scaler = StandardScaler()\n",
    "X_features_scaled = X_scaler.fit(X_features).transform(X_features)\n",
    "y_label_scaled = y_scaler.fit(y_label).transform(y_label)\n",
    "\n",
    "X_train, X_val, y_train, y_val = train_test_split(X_features_scaled, y_label_scaled, test_size=0.3, random_state=42)\n",
    "\n",
    "lr_reg = LinearRegression()\n",
    "lr_reg.fit(X_train, y_train)\n",
    "pred = lr_reg.predict(X_val)\n",
    "\n",
    "evaluate_regr(y_val, pred)"
   ]
  },
  {
   "cell_type": "markdown",
   "id": "27bb2d85",
   "metadata": {},
   "source": [
    "### LinearRrgression - 표준화(log)"
   ]
  },
  {
   "cell_type": "code",
   "execution_count": 44,
   "id": "5673553c",
   "metadata": {},
   "outputs": [
    {
     "name": "stdout",
     "output_type": "stream",
     "text": [
      "RMSLE: 0.235, RMSE: 0.484, MAE: 0.255, R-squared: 0.956\n"
     ]
    }
   ],
   "source": [
    "from sklearn.preprocessing import StandardScaler\n",
    "\n",
    "X_features = train.drop('value', axis=1, inplace=False)\n",
    "y_label = train['value'].values.reshape(-1, 1)\n",
    "\n",
    "X_features_log = np.log1p(X_features)\n",
    "y_label_log = np.log1p(y_label)\n",
    "\n",
    "X_scaler = StandardScaler()\n",
    "y_scaler = StandardScaler()\n",
    "X_features_scaled = X_scaler.fit(X_features_log).transform(X_features_log)\n",
    "y_label_scaled = y_scaler.fit(y_label_log).transform(y_label_log)\n",
    "\n",
    "X_train, X_val, y_train, y_val = train_test_split(X_features_scaled, y_label_scaled, test_size=0.3, random_state=42)\n",
    "\n",
    "lr_reg = LinearRegression()\n",
    "lr_reg.fit(X_train, y_train)\n",
    "pred = lr_reg.predict(X_val)\n",
    "\n",
    "y_val_exp = np.expm1(y_val)\n",
    "pred_exp = np.expm1(pred)\n",
    "\n",
    "evaluate_regr(y_val_exp, pred_exp)"
   ]
  },
  {
   "cell_type": "markdown",
   "id": "d5d786cb",
   "metadata": {},
   "source": [
    "### 가장 높은 표준화(log)"
   ]
  },
  {
   "cell_type": "code",
   "execution_count": 45,
   "id": "66d8ec01",
   "metadata": {},
   "outputs": [
    {
     "name": "stdout",
     "output_type": "stream",
     "text": [
      "RMSLE: 0.235, RMSE: 0.484, MAE: 0.255, R-squared: 0.956\n"
     ]
    }
   ],
   "source": [
    "from sklearn.preprocessing import StandardScaler\n",
    "\n",
    "X_features = train.drop('value', axis=1, inplace=False)\n",
    "y_label = train['value'].values.reshape(-1, 1)\n",
    "\n",
    "X_features_log = np.log1p(X_features)\n",
    "y_label_log = np.log1p(y_label)\n",
    "\n",
    "X_scaler = StandardScaler()\n",
    "y_scaler = StandardScaler()\n",
    "X_features_scaled = X_scaler.fit(X_features_log).transform(X_features_log)\n",
    "y_label_scaled = y_scaler.fit(y_label_log).transform(y_label_log)\n",
    "\n",
    "X_train, X_val, y_train, y_val = train_test_split(X_features_scaled, y_label_scaled, test_size=0.3, random_state=42)\n",
    "\n",
    "lr_reg = LinearRegression()\n",
    "lr_reg.fit(X_train, y_train)\n",
    "pred = lr_reg.predict(X_val)\n",
    "\n",
    "y_val_exp = np.expm1(y_val)\n",
    "pred_exp = np.expm1(pred)\n",
    "\n",
    "evaluate_regr(y_val_exp, pred_exp)"
   ]
  },
  {
   "cell_type": "code",
   "execution_count": 46,
   "id": "5309b77b",
   "metadata": {},
   "outputs": [
    {
     "name": "stdout",
     "output_type": "stream",
     "text": [
      "### LinearRegression ###\n",
      "RMSLE: 0.235, RMSE: 0.484, MAE: 0.255, R-squared: 0.956\n",
      "### Ridge ###\n",
      "RMSLE: 0.235, RMSE: 0.485, MAE: 0.256, R-squared: 0.956\n",
      "### Lasso ###\n",
      "RMSLE: 1.421, RMSE: 0.495, MAE: 0.266, R-squared: 0.954\n"
     ]
    }
   ],
   "source": [
    "def get_model_predict(model, X_train, X_val, y_train, y_val, is_expm1=False):\n",
    "    model.fit(X_train, y_train)\n",
    "    pred = model.predict(X_val)\n",
    "    if is_expm1 :\n",
    "        y_test = np.expm1(y_val)\n",
    "        pred = np.expm1(pred)\n",
    "    print('###',model.__class__.__name__,'###')\n",
    "    evaluate_regr(y_test, pred)\n",
    "    \n",
    "lr_reg = LinearRegression()\n",
    "ridge_reg = Ridge(alpha=10)\n",
    "lasso_reg = Lasso(alpha=0.01)   \n",
    "\n",
    "for model in [lr_reg, ridge_reg, lasso_reg]:\n",
    "    get_model_predict(model,X_train, X_val, y_train, y_val, is_expm1=True)"
   ]
  },
  {
   "cell_type": "code",
   "execution_count": 47,
   "id": "ba739773",
   "metadata": {},
   "outputs": [
    {
     "name": "stdout",
     "output_type": "stream",
     "text": [
      "### RandomForestRegressor ###\n",
      "RMSLE: 1.440, RMSE: 0.458, MAE: 0.139, R-squared: 0.961\n",
      "### GradientBoostingRegressor ###\n",
      "RMSLE: 1.439, RMSE: 0.411, MAE: 0.138, R-squared: 0.968\n",
      "### XGBRegressor ###\n",
      "RMSLE: 1.447, RMSE: 0.499, MAE: 0.158, R-squared: 0.954\n",
      "### LGBMRegressor ###\n",
      "RMSLE: 1.442, RMSE: 0.464, MAE: 0.141, R-squared: 0.960\n"
     ]
    }
   ],
   "source": [
    "from sklearn.ensemble import RandomForestRegressor, GradientBoostingRegressor\n",
    "from xgboost import XGBRegressor\n",
    "from lightgbm import LGBMRegressor\n",
    "\n",
    "rf_reg = RandomForestRegressor(n_estimators=500)\n",
    "gbm_reg = GradientBoostingRegressor(n_estimators=500)\n",
    "xgb_reg = XGBRegressor(n_estimators=500)\n",
    "lgbm_reg = LGBMRegressor(n_estimators=500)\n",
    "\n",
    "for model in [rf_reg, gbm_reg, xgb_reg, lgbm_reg]:\n",
    "    get_model_predict(model,X_train, X_val, y_train, y_val,is_expm1=True)"
   ]
  },
  {
   "cell_type": "markdown",
   "id": "151c477d",
   "metadata": {},
   "source": [
    "### 제출 1"
   ]
  },
  {
   "cell_type": "code",
   "execution_count": 79,
   "id": "243594f5",
   "metadata": {},
   "outputs": [],
   "source": [
    "test = X_scaler.fit(test).transform(test)\n",
    "pred = gbm_reg.predict(test)"
   ]
  },
  {
   "cell_type": "code",
   "execution_count": 81,
   "id": "051d44f0",
   "metadata": {},
   "outputs": [
    {
     "data": {
      "text/html": [
       "<div>\n",
       "<style scoped>\n",
       "    .dataframe tbody tr th:only-of-type {\n",
       "        vertical-align: middle;\n",
       "    }\n",
       "\n",
       "    .dataframe tbody tr th {\n",
       "        vertical-align: top;\n",
       "    }\n",
       "\n",
       "    .dataframe thead th {\n",
       "        text-align: right;\n",
       "    }\n",
       "</style>\n",
       "<table border=\"1\" class=\"dataframe\">\n",
       "  <thead>\n",
       "    <tr style=\"text-align: right;\">\n",
       "      <th></th>\n",
       "      <th>id</th>\n",
       "      <th>value</th>\n",
       "    </tr>\n",
       "  </thead>\n",
       "  <tbody>\n",
       "    <tr>\n",
       "      <th>0</th>\n",
       "      <td>1</td>\n",
       "      <td>0</td>\n",
       "    </tr>\n",
       "    <tr>\n",
       "      <th>1</th>\n",
       "      <td>2</td>\n",
       "      <td>0</td>\n",
       "    </tr>\n",
       "    <tr>\n",
       "      <th>2</th>\n",
       "      <td>4</td>\n",
       "      <td>0</td>\n",
       "    </tr>\n",
       "    <tr>\n",
       "      <th>3</th>\n",
       "      <td>5</td>\n",
       "      <td>0</td>\n",
       "    </tr>\n",
       "    <tr>\n",
       "      <th>4</th>\n",
       "      <td>6</td>\n",
       "      <td>0</td>\n",
       "    </tr>\n",
       "  </tbody>\n",
       "</table>\n",
       "</div>"
      ],
      "text/plain": [
       "   id  value\n",
       "0   1      0\n",
       "1   2      0\n",
       "2   4      0\n",
       "3   5      0\n",
       "4   6      0"
      ]
     },
     "execution_count": 81,
     "metadata": {},
     "output_type": "execute_result"
    }
   ],
   "source": [
    "submission = pd.read_csv('submission.csv')\n",
    "submission.head()"
   ]
  },
  {
   "cell_type": "code",
   "execution_count": 82,
   "id": "837b6d24",
   "metadata": {},
   "outputs": [],
   "source": [
    "submission['value'] = pred\n",
    "submission.to_csv('submission_1.csv', index=False)"
   ]
  },
  {
   "cell_type": "code",
   "execution_count": 83,
   "id": "2009708d",
   "metadata": {},
   "outputs": [
    {
     "data": {
      "text/html": [
       "<div>\n",
       "<style scoped>\n",
       "    .dataframe tbody tr th:only-of-type {\n",
       "        vertical-align: middle;\n",
       "    }\n",
       "\n",
       "    .dataframe tbody tr th {\n",
       "        vertical-align: top;\n",
       "    }\n",
       "\n",
       "    .dataframe thead th {\n",
       "        text-align: right;\n",
       "    }\n",
       "</style>\n",
       "<table border=\"1\" class=\"dataframe\">\n",
       "  <thead>\n",
       "    <tr style=\"text-align: right;\">\n",
       "      <th></th>\n",
       "      <th>id</th>\n",
       "      <th>value</th>\n",
       "    </tr>\n",
       "  </thead>\n",
       "  <tbody>\n",
       "    <tr>\n",
       "      <th>0</th>\n",
       "      <td>1</td>\n",
       "      <td>3.100664</td>\n",
       "    </tr>\n",
       "    <tr>\n",
       "      <th>1</th>\n",
       "      <td>2</td>\n",
       "      <td>3.283372</td>\n",
       "    </tr>\n",
       "    <tr>\n",
       "      <th>2</th>\n",
       "      <td>4</td>\n",
       "      <td>3.249278</td>\n",
       "    </tr>\n",
       "    <tr>\n",
       "      <th>3</th>\n",
       "      <td>5</td>\n",
       "      <td>3.247996</td>\n",
       "    </tr>\n",
       "    <tr>\n",
       "      <th>4</th>\n",
       "      <td>6</td>\n",
       "      <td>3.047135</td>\n",
       "    </tr>\n",
       "    <tr>\n",
       "      <th>...</th>\n",
       "      <td>...</td>\n",
       "      <td>...</td>\n",
       "    </tr>\n",
       "    <tr>\n",
       "      <th>3823</th>\n",
       "      <td>16924</td>\n",
       "      <td>-1.981546</td>\n",
       "    </tr>\n",
       "    <tr>\n",
       "      <th>3824</th>\n",
       "      <td>16929</td>\n",
       "      <td>-2.131325</td>\n",
       "    </tr>\n",
       "    <tr>\n",
       "      <th>3825</th>\n",
       "      <td>16932</td>\n",
       "      <td>-1.986528</td>\n",
       "    </tr>\n",
       "    <tr>\n",
       "      <th>3826</th>\n",
       "      <td>16937</td>\n",
       "      <td>-2.056374</td>\n",
       "    </tr>\n",
       "    <tr>\n",
       "      <th>3827</th>\n",
       "      <td>16943</td>\n",
       "      <td>-2.083483</td>\n",
       "    </tr>\n",
       "  </tbody>\n",
       "</table>\n",
       "<p>3828 rows × 2 columns</p>\n",
       "</div>"
      ],
      "text/plain": [
       "         id     value\n",
       "0         1  3.100664\n",
       "1         2  3.283372\n",
       "2         4  3.249278\n",
       "3         5  3.247996\n",
       "4         6  3.047135\n",
       "...     ...       ...\n",
       "3823  16924 -1.981546\n",
       "3824  16929 -2.131325\n",
       "3825  16932 -1.986528\n",
       "3826  16937 -2.056374\n",
       "3827  16943 -2.083483\n",
       "\n",
       "[3828 rows x 2 columns]"
      ]
     },
     "execution_count": 83,
     "metadata": {},
     "output_type": "execute_result"
    }
   ],
   "source": [
    "submission"
   ]
  },
  {
   "cell_type": "markdown",
   "id": "56f89d31",
   "metadata": {},
   "source": [
    "### LinearRrgression - X_features(log), y_label(log)"
   ]
  },
  {
   "cell_type": "code",
   "execution_count": 76,
   "id": "e2da0c8b",
   "metadata": {},
   "outputs": [
    {
     "name": "stdout",
     "output_type": "stream",
     "text": [
      "RMSLE: 0.330, RMSE: 1367292.482, MAE: 553926.995, R-squared: 0.952\n"
     ]
    }
   ],
   "source": [
    "X_features = train.drop('value', axis=1, inplace=False)\n",
    "y_label = train['value']\n",
    "\n",
    "X_features_log = np.log1p(X_features)\n",
    "y_label_log = np.log1p(y_label)\n",
    "\n",
    "X_train, X_val, y_train, y_val = train_test_split(X_features_log, y_label_log, test_size=0.3, random_state=42)\n",
    "\n",
    "lr_reg = LinearRegression()\n",
    "lr_reg.fit(X_train, y_train)\n",
    "pred = lr_reg.predict(X_val)\n",
    "\n",
    "y_val_exp = np.expm1(y_val)\n",
    "pred_exp = np.expm1(pred)\n",
    "\n",
    "evaluate_regr(y_val_exp ,pred_exp)"
   ]
  },
  {
   "cell_type": "markdown",
   "id": "3b41ee9d",
   "metadata": {},
   "source": [
    "### 제출 2"
   ]
  },
  {
   "cell_type": "code",
   "execution_count": 78,
   "id": "4f84bde1",
   "metadata": {},
   "outputs": [],
   "source": [
    "pred = lr_reg.predict(test)\n",
    "submission['value'] = pred\n",
    "submission.to_csv('submission_2.csv', index=False)"
   ]
  },
  {
   "cell_type": "markdown",
   "id": "f4a1f804",
   "metadata": {},
   "source": [
    "### Lasso, Ridge 확인 (l1, l2 규제)"
   ]
  },
  {
   "cell_type": "code",
   "execution_count": 94,
   "id": "c283717c",
   "metadata": {},
   "outputs": [
    {
     "name": "stdout",
     "output_type": "stream",
     "text": [
      "RMSLE: 0.235, RMSE: 0.484, MAE: 0.255, R-squared: 0.956\n"
     ]
    }
   ],
   "source": [
    "from sklearn.preprocessing import StandardScaler\n",
    "\n",
    "X_features = train.drop('value', axis=1, inplace=False)\n",
    "y_label = train['value'].values.reshape(-1, 1)\n",
    "\n",
    "X_features_log = np.log1p(X_features)\n",
    "y_label_log = np.log1p(y_label)\n",
    "\n",
    "X_scaler = StandardScaler()\n",
    "y_scaler = StandardScaler()\n",
    "X_features_scaled = X_scaler.fit(X_features_log).transform(X_features_log)\n",
    "y_label_scaled = y_scaler.fit(y_label_log).transform(y_label_log)\n",
    "\n",
    "X_train, X_val, y_train, y_val = train_test_split(X_features_scaled, y_label_scaled, test_size=0.3, random_state=42)\n",
    "\n",
    "lr_reg = LinearRegression()\n",
    "lr_reg.fit(X_train, y_train)\n",
    "pred = lr_reg.predict(X_val)\n",
    "\n",
    "y_val_exp = np.expm1(y_val)\n",
    "pred_exp = np.expm1(pred)\n",
    "\n",
    "evaluate_regr(y_val_exp, pred_exp)"
   ]
  },
  {
   "cell_type": "code",
   "execution_count": 87,
   "id": "5c9342e1",
   "metadata": {},
   "outputs": [
    {
     "name": "stdout",
     "output_type": "stream",
     "text": [
      "alpha 0 일 때 5 folds 의 평균 RMSE : 0.221 \n",
      "alpha 0.1 일 때 5 folds 의 평균 RMSE : 0.220 \n",
      "alpha 1 일 때 5 folds 의 평균 RMSE : 0.220 \n",
      "alpha 10 일 때 5 folds 의 평균 RMSE : 0.220 \n",
      "alpha 100 일 때 5 folds 의 평균 RMSE : 0.221 \n"
     ]
    }
   ],
   "source": [
    "from sklearn.linear_model import Ridge\n",
    "from sklearn.model_selection import cross_val_score\n",
    "\n",
    "alphas = [0 , 0.1 , 1 , 10 , 100]\n",
    "\n",
    "for alpha in alphas :\n",
    "    ridge = Ridge(alpha = alpha)    \n",
    "    neg_mse_scores = cross_val_score(ridge, X_train, y_train, scoring=\"neg_mean_squared_error\", cv = 5)\n",
    "    avg_rmse = np.mean(np.sqrt(-1 * neg_mse_scores))\n",
    "    print('alpha {0} 일 때 5 folds 의 평균 RMSE : {1:.3f} '.format(alpha,avg_rmse))"
   ]
  },
  {
   "cell_type": "code",
   "execution_count": 98,
   "id": "ec4ae085",
   "metadata": {},
   "outputs": [],
   "source": [
    "from sklearn.linear_model import Lasso\n",
    "\n",
    "def get_linear_reg_eval(model_name, params=None, X_data_n=None, y_target_n=None, verbose=True):\n",
    "    coeff_df = pd.DataFrame()\n",
    "    for param in params:\n",
    "        if model_name =='Ridge': model = Ridge(alpha=param)\n",
    "        elif model_name =='Lasso': model = Lasso(alpha=param)\n",
    "        elif model_name =='ElasticNet': model = ElasticNet(alpha=param, l1_ratio=0.7)\n",
    "        neg_mse_scores = cross_val_score(model, X_data_n, \n",
    "                                             y_target_n, scoring=\"neg_mean_squared_error\", cv = 5)\n",
    "        avg_rmse = np.mean(np.sqrt(-1 * neg_mse_scores))\n",
    "        print('alpha {0}일 때 5 폴드 세트의 평균 RMSE: {1:.3f} '.format(param, avg_rmse))\n",
    "        \n",
    "        model.fit(X_data_n , y_target_n)\n",
    "        coeff = pd.Series(data=model.coef_ , index=X_features.columns )\n",
    "        colname='alpha:'+str(param)\n",
    "        coeff_df[colname] = coeff\n",
    "    return coeff_df"
   ]
  },
  {
   "cell_type": "code",
   "execution_count": 99,
   "id": "ee856145",
   "metadata": {},
   "outputs": [
    {
     "name": "stdout",
     "output_type": "stream",
     "text": [
      "alpha 0.07일 때 5 폴드 세트의 평균 RMSE: 0.257 \n",
      "alpha 0.1일 때 5 폴드 세트의 평균 RMSE: 0.283 \n",
      "alpha 0.5일 때 5 폴드 세트의 평균 RMSE: 0.618 \n",
      "alpha 1일 때 5 폴드 세트의 평균 RMSE: 0.990 \n",
      "alpha 3일 때 5 폴드 세트의 평균 RMSE: 0.990 \n"
     ]
    }
   ],
   "source": [
    "lasso_alphas = [ 0.07, 0.1, 0.5, 1, 3]\n",
    "coeff_lasso_df =get_linear_reg_eval('Lasso', params=lasso_alphas, X_data_n=X_train, y_target_n=y_train)"
   ]
  },
  {
   "cell_type": "code",
   "execution_count": 95,
   "id": "cead8c1e",
   "metadata": {},
   "outputs": [],
   "source": [
    "ridge_reg = Ridge(alpha=0.1)\n",
    "ridge_reg.fit(X_train, y_train)\n",
    "test = X_scaler.fit(test).transform(test)\n",
    "pred = ridge_reg.predict(test)"
   ]
  },
  {
   "cell_type": "markdown",
   "id": "22769820",
   "metadata": {},
   "source": [
    "### 제출 3"
   ]
  },
  {
   "cell_type": "code",
   "execution_count": 96,
   "id": "575f46f5",
   "metadata": {},
   "outputs": [],
   "source": [
    "submission['value'] = pred\n",
    "submission.to_csv('submission_3.csv', index=False)"
   ]
  },
  {
   "cell_type": "code",
   "execution_count": 97,
   "id": "a488916e",
   "metadata": {},
   "outputs": [
    {
     "data": {
      "text/html": [
       "<div>\n",
       "<style scoped>\n",
       "    .dataframe tbody tr th:only-of-type {\n",
       "        vertical-align: middle;\n",
       "    }\n",
       "\n",
       "    .dataframe tbody tr th {\n",
       "        vertical-align: top;\n",
       "    }\n",
       "\n",
       "    .dataframe thead th {\n",
       "        text-align: right;\n",
       "    }\n",
       "</style>\n",
       "<table border=\"1\" class=\"dataframe\">\n",
       "  <thead>\n",
       "    <tr style=\"text-align: right;\">\n",
       "      <th></th>\n",
       "      <th>id</th>\n",
       "      <th>value</th>\n",
       "    </tr>\n",
       "  </thead>\n",
       "  <tbody>\n",
       "    <tr>\n",
       "      <th>0</th>\n",
       "      <td>1</td>\n",
       "      <td>4.140018</td>\n",
       "    </tr>\n",
       "    <tr>\n",
       "      <th>1</th>\n",
       "      <td>2</td>\n",
       "      <td>4.198531</td>\n",
       "    </tr>\n",
       "    <tr>\n",
       "      <th>2</th>\n",
       "      <td>4</td>\n",
       "      <td>3.861453</td>\n",
       "    </tr>\n",
       "    <tr>\n",
       "      <th>3</th>\n",
       "      <td>5</td>\n",
       "      <td>3.852640</td>\n",
       "    </tr>\n",
       "    <tr>\n",
       "      <th>4</th>\n",
       "      <td>6</td>\n",
       "      <td>3.480027</td>\n",
       "    </tr>\n",
       "    <tr>\n",
       "      <th>...</th>\n",
       "      <td>...</td>\n",
       "      <td>...</td>\n",
       "    </tr>\n",
       "    <tr>\n",
       "      <th>3823</th>\n",
       "      <td>16924</td>\n",
       "      <td>-2.438933</td>\n",
       "    </tr>\n",
       "    <tr>\n",
       "      <th>3824</th>\n",
       "      <td>16929</td>\n",
       "      <td>-2.526748</td>\n",
       "    </tr>\n",
       "    <tr>\n",
       "      <th>3825</th>\n",
       "      <td>16932</td>\n",
       "      <td>-2.340400</td>\n",
       "    </tr>\n",
       "    <tr>\n",
       "      <th>3826</th>\n",
       "      <td>16937</td>\n",
       "      <td>-2.589265</td>\n",
       "    </tr>\n",
       "    <tr>\n",
       "      <th>3827</th>\n",
       "      <td>16943</td>\n",
       "      <td>-2.579782</td>\n",
       "    </tr>\n",
       "  </tbody>\n",
       "</table>\n",
       "<p>3828 rows × 2 columns</p>\n",
       "</div>"
      ],
      "text/plain": [
       "         id     value\n",
       "0         1  4.140018\n",
       "1         2  4.198531\n",
       "2         4  3.861453\n",
       "3         5  3.852640\n",
       "4         6  3.480027\n",
       "...     ...       ...\n",
       "3823  16924 -2.438933\n",
       "3824  16929 -2.526748\n",
       "3825  16932 -2.340400\n",
       "3826  16937 -2.589265\n",
       "3827  16943 -2.579782\n",
       "\n",
       "[3828 rows x 2 columns]"
      ]
     },
     "execution_count": 97,
     "metadata": {},
     "output_type": "execute_result"
    }
   ],
   "source": [
    "submission"
   ]
  }
 ],
 "metadata": {
  "kernelspec": {
   "display_name": "Python [conda env:machine]",
   "language": "python",
   "name": "conda-env-machine-py"
  },
  "language_info": {
   "codemirror_mode": {
    "name": "ipython",
    "version": 3
   },
   "file_extension": ".py",
   "mimetype": "text/x-python",
   "name": "python",
   "nbconvert_exporter": "python",
   "pygments_lexer": "ipython3",
   "version": "3.8.12"
  }
 },
 "nbformat": 4,
 "nbformat_minor": 5
}
