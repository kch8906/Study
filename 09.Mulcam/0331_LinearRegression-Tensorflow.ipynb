{
 "cells": [
  {
   "cell_type": "code",
   "execution_count": 1,
   "id": "5bed6e8b",
   "metadata": {},
   "outputs": [
    {
     "name": "stdout",
     "output_type": "stream",
     "text": [
      "WARNING:tensorflow:From C:\\Users\\Changhyun\\AppData\\Local\\Temp\\ipykernel_7880\\1809601312.py:7: The name tf.Session is deprecated. Please use tf.compat.v1.Session instead.\n",
      "\n"
     ]
    },
    {
     "name": "stderr",
     "output_type": "stream",
     "text": [
      "WARNING:tensorflow:From C:\\Users\\Changhyun\\AppData\\Local\\Temp\\ipykernel_7880\\1809601312.py:7: The name tf.Session is deprecated. Please use tf.compat.v1.Session instead.\n",
      "\n"
     ]
    },
    {
     "name": "stdout",
     "output_type": "stream",
     "text": [
      "ERROR! Session/line number was not unique in database. History logging moved to new session 254\n"
     ]
    },
    {
     "data": {
      "text/plain": [
       "[10.0, 40.0]"
      ]
     },
     "execution_count": 1,
     "metadata": {},
     "output_type": "execute_result"
    }
   ],
   "source": [
    "import tensorflow as tf\n",
    "\n",
    "node1 = tf.constant(10, dtype=tf.float32)\n",
    "node2 = tf.constant(30, dtype=tf.float32)\n",
    "\n",
    "node3 = node1 + node2\n",
    "sess = tf.Session()\n",
    "\n",
    "sess.run(node1)\n",
    "sess.run([node1, node3])"
   ]
  },
  {
   "cell_type": "code",
   "execution_count": 2,
   "id": "43883679",
   "metadata": {},
   "outputs": [
    {
     "name": "stdout",
     "output_type": "stream",
     "text": [
      "WARNING:tensorflow:From C:\\Users\\Changhyun\\AppData\\Local\\Temp\\ipykernel_7880\\167363271.py:1: The name tf.placeholder is deprecated. Please use tf.compat.v1.placeholder instead.\n",
      "\n"
     ]
    },
    {
     "name": "stderr",
     "output_type": "stream",
     "text": [
      "WARNING:tensorflow:From C:\\Users\\Changhyun\\AppData\\Local\\Temp\\ipykernel_7880\\167363271.py:1: The name tf.placeholder is deprecated. Please use tf.compat.v1.placeholder instead.\n",
      "\n"
     ]
    },
    {
     "data": {
      "text/plain": [
       "36.0"
      ]
     },
     "execution_count": 2,
     "metadata": {},
     "output_type": "execute_result"
    }
   ],
   "source": [
    "node1 = tf.placeholder(dtype=tf.float32)\n",
    "node2 = tf.placeholder(dtype=tf.float32)\n",
    "node3 = node1 + node2\n",
    "\n",
    "sess = tf.Session()\n",
    "sess.run(node3, feed_dict={node1: 6,\n",
    "                           node2: 30})"
   ]
  },
  {
   "cell_type": "code",
   "execution_count": 1,
   "id": "f5f23407",
   "metadata": {},
   "outputs": [
    {
     "name": "stdout",
     "output_type": "stream",
     "text": [
      "WARNING:tensorflow:From C:\\Users\\Changhyun\\AppData\\Local\\Temp\\ipykernel_13780\\3142060048.py:10: The name tf.placeholder is deprecated. Please use tf.compat.v1.placeholder instead.\n",
      "\n",
      "WARNING:tensorflow:From C:\\Users\\Changhyun\\AppData\\Local\\Temp\\ipykernel_13780\\3142060048.py:23: The name tf.train.GradientDescentOptimizer is deprecated. Please use tf.compat.v1.train.GradientDescentOptimizer instead.\n",
      "\n",
      "WARNING:tensorflow:From C:\\Users\\Changhyun\\AppData\\Local\\Temp\\ipykernel_13780\\3142060048.py:26: The name tf.Session is deprecated. Please use tf.compat.v1.Session instead.\n",
      "\n",
      "WARNING:tensorflow:From C:\\Users\\Changhyun\\AppData\\Local\\Temp\\ipykernel_13780\\3142060048.py:27: The name tf.global_variables_initializer is deprecated. Please use tf.compat.v1.global_variables_initializer instead.\n",
      "\n"
     ]
    }
   ],
   "source": [
    "import tensorflow as tf\n",
    "import pandas as pd\n",
    "import numpy as np\n",
    "\n",
    "df = pd.read_csv('data/student_exam_score.csv')\n",
    "\n",
    "x_data = df.drop('exam', axis=1, inplace=False)\n",
    "t_data = df['exam'].values.reshape(-1, 1)\n",
    "\n",
    "X = tf.placeholder(shape=[None, 3], dtype=tf.float32)\n",
    "T = tf.placeholder(shape=[None, 1], dtype=tf.float32)\n",
    "\n",
    "W = tf.Variable(tf.random.normal([3,1]))\n",
    "b = tf.Variable(tf.random.normal([1]))\n",
    "\n",
    "# model\n",
    "H = tf.matmul(X,W) + b\n",
    "\n",
    "# loss function\n",
    "loss = tf.reduce_mean(tf.square(H-T))\n",
    "\n",
    "# train node 생성\n",
    "train = tf.train.GradientDescentOptimizer(learning_rate = 1e-7).minimize(loss)\n",
    "\n",
    "# Sesson을 생성하고 초기화 진행\n",
    "sess = tf.Session()\n",
    "sess.run(tf.global_variables_initializer()) # 초기화 구문 (그래프를 실행하기 전에 먼저 실행되어야 한다)\n",
    "\n",
    "# 반복학습\n",
    "\n",
    "for step in range(300000):\n",
    "    _, W_val, b_val, loss_val = sess.run([train, W, b, loss], feed_dict={X: x_data,\n",
    "                                                                         T: t_data})"
   ]
  },
  {
   "cell_type": "code",
   "execution_count": 3,
   "id": "7d556e01",
   "metadata": {},
   "outputs": [
    {
     "name": "stdout",
     "output_type": "stream",
     "text": [
      "[[195.96188]]\n",
      "ERROR! Session/line number was not unique in database. History logging moved to new session 262\n"
     ]
    }
   ],
   "source": [
    "# prediction\n",
    "\n",
    "result = sess.run(H, feed_dict={X: np.array([[89, 100, 95]])})\n",
    "print(result)"
   ]
  },
  {
   "cell_type": "code",
   "execution_count": null,
   "id": "fd4d2f1d",
   "metadata": {},
   "outputs": [],
   "source": []
  }
 ],
 "metadata": {
  "kernelspec": {
   "display_name": "Python [conda env:machine_TF15] *",
   "language": "python",
   "name": "conda-env-machine_TF15-py"
  },
  "language_info": {
   "codemirror_mode": {
    "name": "ipython",
    "version": 3
   },
   "file_extension": ".py",
   "mimetype": "text/x-python",
   "name": "python",
   "nbconvert_exporter": "python",
   "pygments_lexer": "ipython3",
   "version": "3.7.13"
  }
 },
 "nbformat": 4,
 "nbformat_minor": 5
}
