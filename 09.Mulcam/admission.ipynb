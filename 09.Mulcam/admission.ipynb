{
 "cells": [
  {
   "cell_type": "code",
   "execution_count": 2,
   "id": "cfab5b38",
   "metadata": {
    "scrolled": true
   },
   "outputs": [
    {
     "data": {
      "text/html": [
       "<div>\n",
       "<style scoped>\n",
       "    .dataframe tbody tr th:only-of-type {\n",
       "        vertical-align: middle;\n",
       "    }\n",
       "\n",
       "    .dataframe tbody tr th {\n",
       "        vertical-align: top;\n",
       "    }\n",
       "\n",
       "    .dataframe thead th {\n",
       "        text-align: right;\n",
       "    }\n",
       "</style>\n",
       "<table border=\"1\" class=\"dataframe\">\n",
       "  <thead>\n",
       "    <tr style=\"text-align: right;\">\n",
       "      <th></th>\n",
       "      <th>admit</th>\n",
       "      <th>gre</th>\n",
       "      <th>gpa</th>\n",
       "      <th>rank</th>\n",
       "    </tr>\n",
       "  </thead>\n",
       "  <tbody>\n",
       "    <tr>\n",
       "      <th>0</th>\n",
       "      <td>0</td>\n",
       "      <td>380</td>\n",
       "      <td>3.61</td>\n",
       "      <td>3</td>\n",
       "    </tr>\n",
       "    <tr>\n",
       "      <th>1</th>\n",
       "      <td>1</td>\n",
       "      <td>660</td>\n",
       "      <td>3.67</td>\n",
       "      <td>3</td>\n",
       "    </tr>\n",
       "    <tr>\n",
       "      <th>2</th>\n",
       "      <td>1</td>\n",
       "      <td>800</td>\n",
       "      <td>4.00</td>\n",
       "      <td>1</td>\n",
       "    </tr>\n",
       "    <tr>\n",
       "      <th>3</th>\n",
       "      <td>1</td>\n",
       "      <td>640</td>\n",
       "      <td>3.19</td>\n",
       "      <td>4</td>\n",
       "    </tr>\n",
       "    <tr>\n",
       "      <th>4</th>\n",
       "      <td>0</td>\n",
       "      <td>520</td>\n",
       "      <td>2.93</td>\n",
       "      <td>4</td>\n",
       "    </tr>\n",
       "    <tr>\n",
       "      <th>...</th>\n",
       "      <td>...</td>\n",
       "      <td>...</td>\n",
       "      <td>...</td>\n",
       "      <td>...</td>\n",
       "    </tr>\n",
       "    <tr>\n",
       "      <th>395</th>\n",
       "      <td>0</td>\n",
       "      <td>620</td>\n",
       "      <td>4.00</td>\n",
       "      <td>2</td>\n",
       "    </tr>\n",
       "    <tr>\n",
       "      <th>396</th>\n",
       "      <td>0</td>\n",
       "      <td>560</td>\n",
       "      <td>3.04</td>\n",
       "      <td>3</td>\n",
       "    </tr>\n",
       "    <tr>\n",
       "      <th>397</th>\n",
       "      <td>0</td>\n",
       "      <td>460</td>\n",
       "      <td>2.63</td>\n",
       "      <td>2</td>\n",
       "    </tr>\n",
       "    <tr>\n",
       "      <th>398</th>\n",
       "      <td>0</td>\n",
       "      <td>700</td>\n",
       "      <td>3.65</td>\n",
       "      <td>2</td>\n",
       "    </tr>\n",
       "    <tr>\n",
       "      <th>399</th>\n",
       "      <td>0</td>\n",
       "      <td>600</td>\n",
       "      <td>3.89</td>\n",
       "      <td>3</td>\n",
       "    </tr>\n",
       "  </tbody>\n",
       "</table>\n",
       "<p>400 rows × 4 columns</p>\n",
       "</div>"
      ],
      "text/plain": [
       "     admit  gre   gpa  rank\n",
       "0        0  380  3.61     3\n",
       "1        1  660  3.67     3\n",
       "2        1  800  4.00     1\n",
       "3        1  640  3.19     4\n",
       "4        0  520  2.93     4\n",
       "..     ...  ...   ...   ...\n",
       "395      0  620  4.00     2\n",
       "396      0  560  3.04     3\n",
       "397      0  460  2.63     2\n",
       "398      0  700  3.65     2\n",
       "399      0  600  3.89     3\n",
       "\n",
       "[400 rows x 4 columns]"
      ]
     },
     "execution_count": 2,
     "metadata": {},
     "output_type": "execute_result"
    }
   ],
   "source": [
    "# from sklearn.linear_model import LinearRegression\n",
    "import numpy as np\n",
    "import pandas as pd\n",
    "import matplotlib.pyplot as plt\n",
    "# import mglearn\n",
    "import warnings\n",
    "warnings.filterwarnings('ignore')\n",
    "\n",
    "df = pd.read_csv('../../data/admission.csv')\n",
    "df"
   ]
  },
  {
   "cell_type": "markdown",
   "id": "310432a2",
   "metadata": {},
   "source": [
    "### python"
   ]
  },
  {
   "cell_type": "code",
   "execution_count": 10,
   "id": "a7b752f5",
   "metadata": {},
   "outputs": [],
   "source": [
    "def numerical_derivative(f, x):\n",
    "    \n",
    "    delta_x = 1e-4\n",
    "    derivative_x = np.zeros_like(x)\n",
    "    it = np.nditer(x, flags=['multi_index'])\n",
    "    \n",
    "    while not it.finished:\n",
    "        idx = it.multi_index\n",
    "        tmp = x[idx]\n",
    "        \n",
    "        x[idx] = tmp + delta_x\n",
    "        fx_plus_delta = f(x)\n",
    "        \n",
    "        x[idx] = tmp - delta_x\n",
    "        fx_minus_delta = f(x)\n",
    "        \n",
    "        derivative_x[idx] = (fx_plus_delta - fx_minus_delta) / (2 * delta_x)\n",
    "        \n",
    "        x[idx] = tmp\n",
    "        it.iternext()\n",
    "    return derivative_x\n",
    "\n",
    "def predict(x):\n",
    "    \n",
    "    z = np.dot(x,W) + b            \n",
    "    y = 1 / ( 1 + np.exp(-1 * z) ) \n",
    "    \n",
    "    result = 0\n",
    "    \n",
    "    if y >= 0.5:\n",
    "        result = 1\n",
    "    else:\n",
    "        result = 0\n",
    "    \n",
    "    return y, result\n",
    "\n",
    "def loss_func(input_data):\n",
    "    \n",
    "    input_W = input_data[:-1].reshape(-1, 1)\n",
    "    input_b = input_data[-1]\n",
    "    \n",
    "    z = np.dot(X_train, input_W) + input_b\n",
    "    y = 1 / ( 1 + np.exp(-1 * z) )\n",
    "    \n",
    "    delta = 1e-7\n",
    "    \n",
    "    return -1 * np.sum(y_train*np.log(y+delta) + (1-y_train)*np.log(1-y+delta))"
   ]
  },
  {
   "cell_type": "code",
   "execution_count": 11,
   "id": "5d008f96",
   "metadata": {},
   "outputs": [],
   "source": [
    "from sklearn.preprocessing import StandardScaler\n",
    "\n",
    "X_train = df.iloc[:, 1:]\n",
    "y_train = df['admit'].values.reshape(-1, 1)\n",
    "\n",
    "X_scaler = StandardScaler()\n",
    "y_scaler = StandardScaler()\n",
    "X_train = X_scaler.fit(X_train).transform(X_train)\n",
    "y_train = y_scaler.fit(y_train).transform(y_train)\n",
    "\n",
    "W = np.random.rand(3, 1)\n",
    "b = np.random.rand(1)"
   ]
  },
  {
   "cell_type": "code",
   "execution_count": 12,
   "id": "8d3700d9",
   "metadata": {
    "scrolled": true
   },
   "outputs": [
    {
     "name": "stdout",
     "output_type": "stream",
     "text": [
      "W : [[0.15354516]\n",
      " [0.20600529]\n",
      " [0.95896152]], b:[0.01021558], loss:390.3365985701548\n",
      "W : [[0.30998322]\n",
      " [0.335489  ]\n",
      " [0.49052182]], b:[-0.51934938], loss:208.72993203756823\n",
      "W : [[0.41619133]\n",
      " [0.42655143]\n",
      " [0.13923576]], b:[-0.92811167], loss:104.78940703202403\n",
      "W : [[ 0.50267721]\n",
      " [ 0.50462992]\n",
      " [-0.13375686]], b:[-1.2583277], loss:38.87016486320453\n",
      "W : [[ 0.58193606]\n",
      " [ 0.57886349]\n",
      " [-0.36004297]], b:[-1.54067856], loss:-8.777991752923025\n"
     ]
    }
   ],
   "source": [
    "learning_rate = 1e-7\n",
    "for step in range(130000):\n",
    "    \n",
    "    input_param = np.concatenate((W.ravel(), b.ravel()), axis=0) \n",
    "    derivative_result = learning_rate * numerical_derivative(loss_func, input_param)\n",
    "\n",
    "    W = W - derivative_result[:-1].reshape(-1, 1)\n",
    "    b = b - derivative_result[-1]\n",
    "    \n",
    "    if step % 30000 == 0:\n",
    "        input_param = np.concatenate((W.ravel(), b.ravel()), axis=0)\n",
    "        print('W : {}, b:{}, loss:{}'.format(W, b, loss_func(input_param)))"
   ]
  },
  {
   "cell_type": "code",
   "execution_count": 13,
   "id": "3a41a062",
   "metadata": {},
   "outputs": [
    {
     "name": "stdout",
     "output_type": "stream",
     "text": [
      "합격 확률 : [[0.06450267]], 합격여부 : 0\n"
     ]
    }
   ],
   "source": [
    "pred = X_scaler.transform(np.array([[370, 3.6, 3]]))\n",
    "y_prob, result = predict(pred)\n",
    "print('합격 확률 : {}, 합격여부 : {}'.format(y_prob,result))"
   ]
  },
  {
   "cell_type": "markdown",
   "id": "27041a5a",
   "metadata": {},
   "source": [
    "### 사이킷런"
   ]
  },
  {
   "cell_type": "code",
   "execution_count": 5,
   "id": "f6bec468",
   "metadata": {},
   "outputs": [],
   "source": [
    "from sklearn.linear_model import LogisticRegression\n",
    "\n",
    "X_train = df.iloc[:, 1:].values.reshape(-1, 3)\n",
    "y_train = df['admit'].values.reshape(-1, 1)"
   ]
  },
  {
   "cell_type": "code",
   "execution_count": 6,
   "id": "5581d760",
   "metadata": {},
   "outputs": [
    {
     "data": {
      "text/plain": [
       "array([0], dtype=int64)"
      ]
     },
     "execution_count": 6,
     "metadata": {},
     "output_type": "execute_result"
    }
   ],
   "source": [
    "model = LogisticRegression()\n",
    "model.fit(X_train, y_train)\n",
    "pred = model.predict(np.array([[370, 3.6, 3]]))\n",
    "pred"
   ]
  },
  {
   "cell_type": "code",
   "execution_count": 3,
   "id": "dff2a0df",
   "metadata": {},
   "outputs": [
    {
     "name": "stdout",
     "output_type": "stream",
     "text": [
      "ERROR! Session/line number was not unique in database. History logging moved to new session 325\n"
     ]
    }
   ],
   "source": [
    "X_train = df.iloc[:, 1:].values.reshape(-1, 3)\n",
    "y_train = df['admit'].values.reshape(-1, 1)"
   ]
  },
  {
   "cell_type": "code",
   "execution_count": 4,
   "id": "1aad0cd8",
   "metadata": {},
   "outputs": [
    {
     "name": "stdout",
     "output_type": "stream",
     "text": [
      "W : [[-0.13863787]\n",
      " [ 0.6766183 ]\n",
      " [-1.2692125 ]], b : [0.6801941], loss : 98.53179931640625\n",
      "W : [[-0.00923543]\n",
      " [ 0.5988479 ]\n",
      " [-1.7119755 ]], b : [0.6293168], loss : 40.7339973449707\n",
      "W : [[-0.00752547]\n",
      " [ 0.5206359 ]\n",
      " [-2.154198  ]], b : [0.5783379], loss : 40.802642822265625\n",
      "W : [[-0.00597392]\n",
      " [ 0.44276375]\n",
      " [-2.5957341 ]], b : [0.5274867], loss : 40.901519775390625\n",
      "W : [[-0.00453308]\n",
      " [ 0.36518362]\n",
      " [-3.036881  ]], b : [0.47673175], loss : 41.021541595458984\n",
      "W : [[-3.1731427e-03]\n",
      " [ 2.8786826e-01]\n",
      " [-3.4777319e+00]], b : [0.42605862], loss : 41.15693283081055\n",
      "W : [[-1.8747151e-03]\n",
      " [ 2.1081547e-01]\n",
      " [-3.9183488e+00]], b : [0.37547576], loss : 41.30393600463867\n",
      "W : [[-6.2455237e-04]\n",
      " [ 1.3401109e-01]\n",
      " [-4.3589473e+00]], b : [0.3249756], loss : 41.46010208129883\n",
      "W : [[ 5.863756e-04]\n",
      " [ 5.742236e-02]\n",
      " [-4.799545e+00]], b : [0.27455187], loss : 41.623722076416016\n",
      "W : [[ 1.7645806e-03]\n",
      " [-1.8958371e-02]\n",
      " [-5.2401423e+00]], b : [0.22419095], loss : 41.793514251708984\n"
     ]
    }
   ],
   "source": [
    "import tensorflow as tf\n",
    "\n",
    "\n",
    "X = tf.placeholder(shape=[None, 3], dtype=tf.float32)\n",
    "T = tf.placeholder(shape=[None, 1], dtype=tf.float32)\n",
    "\n",
    "\n",
    "W = tf.Variable(tf.random.normal([3,1]))\n",
    "b = tf.Variable(tf.random.normal([1]))\n",
    "\n",
    "\n",
    "logit = tf.matmul(X,W) + b  \n",
    "H = tf.sigmoid(logit)       \n",
    "\n",
    "\n",
    "loss = tf.reduce_mean(tf.nn.sigmoid_cross_entropy_with_logits(logits=logit,\n",
    "                                                              labels=T))\n",
    "\n",
    "\n",
    "train = tf.train.GradientDescentOptimizer(learning_rate=1e-3).minimize(loss)\n",
    "\n",
    "\n",
    "sess = tf.Session()\n",
    "sess.run(tf.global_variables_initializer())\n",
    "\n",
    "\n",
    "for step in range(300000):\n",
    "    \n",
    "    _, W_val, b_val, loss_val = sess.run([train, W, b, loss],\n",
    "                                         feed_dict={X: X_train,\n",
    "                                                    T: y_train})\n",
    "    if step % 3000 == 0:\n",
    "        print('W : {}, b : {}, loss : {}'.format(W_val, b_val, loss_val))\n",
    "        "
   ]
  },
  {
   "cell_type": "code",
   "execution_count": 5,
   "id": "c339d5f8",
   "metadata": {},
   "outputs": [
    {
     "name": "stdout",
     "output_type": "stream",
     "text": [
      "합격 확률 : [[0.]]\n"
     ]
    }
   ],
   "source": [
    "pred = np.array([[370, 3.6, 3]])  # 12시간은 불합격이었고, 14시간은 합격이었어요!\n",
    "result = sess.run(H, feed_dict={X: pred})\n",
    "print('합격 확률 : {}'.format(result))   # [[0.5827853]]"
   ]
  },
  {
   "cell_type": "code",
   "execution_count": null,
   "id": "5a41bf14",
   "metadata": {},
   "outputs": [],
   "source": []
  },
  {
   "cell_type": "code",
   "execution_count": null,
   "id": "9b21e9ef",
   "metadata": {},
   "outputs": [],
   "source": []
  },
  {
   "cell_type": "code",
   "execution_count": null,
   "id": "d83e5361",
   "metadata": {},
   "outputs": [],
   "source": []
  }
 ],
 "metadata": {
  "kernelspec": {
   "display_name": "Python [conda env:machine_TF15] *",
   "language": "python",
   "name": "conda-env-machine_TF15-py"
  },
  "language_info": {
   "codemirror_mode": {
    "name": "ipython",
    "version": 3
   },
   "file_extension": ".py",
   "mimetype": "text/x-python",
   "name": "python",
   "nbconvert_exporter": "python",
   "pygments_lexer": "ipython3",
   "version": "3.7.13"
  }
 },
 "nbformat": 4,
 "nbformat_minor": 5
}
