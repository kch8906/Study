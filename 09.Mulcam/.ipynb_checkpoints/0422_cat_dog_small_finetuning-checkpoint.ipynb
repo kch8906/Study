{
 "cells": [
  {
   "cell_type": "code",
   "execution_count": 4,
   "id": "a3263bdc",
   "metadata": {},
   "outputs": [],
   "source": [
    "import os\n",
    "import numpy as np\n",
    "from tensorflow.keras.preprocessing.image import ImageDataGenerator\n",
    "import efficientnet\n",
    "import efficientnet.tfkeras as efn\n",
    "from tensorflow.keras.models import Sequential, Model\n",
    "from tensorflow.keras.layers import Flatten, Dense, Dropout, GlobalAveragePooling2D, Input\n",
    "import tensorflow_addons as tfa\n",
    "from tensorflow.keras.optimizers import Adam, RMSprop\n",
    "from tensorflow.keras.callbacks import ModelCheckpoint, EarlyStopping\n",
    "import matplotlib.pyplot as plt\n",
    "import cv2"
   ]
  },
  {
   "cell_type": "code",
   "execution_count": 20,
   "id": "cf6193f6",
   "metadata": {},
   "outputs": [
    {
     "name": "stdout",
     "output_type": "stream",
     "text": [
      "Found 2000 images belonging to 2 classes.\n",
      "Found 1000 images belonging to 2 classes.\n"
     ]
    }
   ],
   "source": [
    "train_dir = '../../data/cat_dog_small/train'\n",
    "valid_dir = '../../data/cat_dog_small/validation'\n",
    "\n",
    "IMAGE_SIZE = 256\n",
    "BATCH_SIZE = 8\n",
    "LEARNING_RATE = 5e-5\n",
    "\n",
    "def generate_preprocessing(img):\n",
    "    img = cv2.resize(img, (IMAGE_SIZE, IMAGE_SIZE))\n",
    "    return img\n",
    "\n",
    "train_datagen = ImageDataGenerator(rescale=1/255.0,\n",
    "                                   rotation_range=40,\n",
    "                                   width_shift_range=0.1,\n",
    "                                   height_shift_range=0.1,\n",
    "                                   zoom_range=0.2,\n",
    "                                   horizontal_flip=True,\n",
    "                                   vertical_flip=True,\n",
    "                                   preprocessing_function=generate_preprocessing,\n",
    "                                   fill_mode='nearest')      \n",
    "\n",
    "valid_datagen = ImageDataGenerator(rescale=1/255.0,\n",
    "                                   preprocessing_function=generate_preprocessing)\n",
    "\n",
    "train_generator = train_datagen.flow_from_directory(train_dir,\n",
    "                                                    classes=['cats', 'dogs'],\n",
    "                                                    target_size=(256, 256),\n",
    "                                                    batch_size=20,\n",
    "                                                    class_mode='binary')\n",
    "\n",
    "valid_generator = valid_datagen.flow_from_directory(valid_dir,\n",
    "                                                    classes=['cats', 'dogs'],\n",
    "                                                    target_size=(256, 256),\n",
    "                                                    batch_size=20,\n",
    "                                                    class_mode='binary',\n",
    "                                                    shuffle=False)"
   ]
  },
  {
   "cell_type": "code",
   "execution_count": null,
   "id": "0c416395",
   "metadata": {
    "scrolled": true
   },
   "outputs": [
    {
     "name": "stdout",
     "output_type": "stream",
     "text": [
      "WARNING:tensorflow:`period` argument is deprecated. Please use `save_freq` to specify the frequency in number of batches seen.\n",
      "Epoch 1/30\n",
      " 23/100 [=====>........................] - ETA: 26s - loss: 0.6848 - acc: 0.5630"
     ]
    }
   ],
   "source": [
    "pretrained_network = efn.EfficientNetB4(\n",
    "    weights='imagenet',\n",
    "    include_top = False,\n",
    "    input_shape=(IMAGE_SIZE, IMAGE_SIZE, 3)\n",
    ")\n",
    "\n",
    "pretrained_network.trainable = False\n",
    "\n",
    "model = Sequential()\n",
    "\n",
    "model.add(pretrained_network)\n",
    "model.add(GlobalAveragePooling2D())\n",
    "model.add(Dense(1, activation='sigmoid'))\n",
    "\n",
    "es = EarlyStopping(monitor='val_acc', patience=5 , mode='min', verbose=1)\n",
    "model_checkpoint = '../../data/cat_dog_small/{epoch:06d}-{val_acc:.6d}-{acc:.6d}.ckpt'\n",
    "cp = ModelCheckpoint(model_checkpoint, monitor='val_acc', mode='min', period=2, verbose=1, save_best_weights=True)\n",
    "\n",
    "model.compile(optimizer=Adam(LEARNING_RATE), loss='binary_crossentropy', metrics=['acc'])\n",
    "history = model.fit(train_generator,\n",
    "                    epochs=30,\n",
    "                    validation_data=valid_generator,\n",
    "                    callbacks=[es, cp],\n",
    "                    verbose=1)\n",
    "\n",
    "# pretrained_network.summary()\n",
    "# for idx, layer in enumerate(pretrained_network.layers):\n",
    "#     print('{}번 : {} = {}'.format(idx, layer.name, layer.trainable))"
   ]
  },
  {
   "cell_type": "code",
   "execution_count": null,
   "id": "d39b21d4",
   "metadata": {},
   "outputs": [],
   "source": []
  }
 ],
 "metadata": {
  "kernelspec": {
   "display_name": "Python [conda env:machine_TF2] *",
   "language": "python",
   "name": "conda-env-machine_TF2-py"
  },
  "language_info": {
   "codemirror_mode": {
    "name": "ipython",
    "version": 3
   },
   "file_extension": ".py",
   "mimetype": "text/x-python",
   "name": "python",
   "nbconvert_exporter": "python",
   "pygments_lexer": "ipython3",
   "version": "3.8.13"
  }
 },
 "nbformat": 4,
 "nbformat_minor": 5
}
