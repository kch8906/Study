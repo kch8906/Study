{
 "cells": [
  {
   "cell_type": "code",
   "execution_count": 4,
   "id": "778032d6",
   "metadata": {},
   "outputs": [],
   "source": [
    "import os\n",
    "import numpy as np\n",
    "from tensorflow.keras.preprocessing.image import ImageDataGenerator\n",
    "import efficientnet\n",
    "import efficientnet.tfkeras as efn\n",
    "from tensorflow.keras.models import Sequential, Model\n",
    "from tensorflow.keras.layers import Flatten, Dense, Dropout, GlobalAveragePooling2D, Input\n",
    "import tensorflow_addons as tfa\n",
    "from tensorflow.keras.optimizers import Adam, RMSprop\n",
    "from tensorflow.keras.callbacks import ModelCheckpoint, EarlyStopping\n",
    "import matplotlib.pyplot as plt\n",
    "import cv2"
   ]
  },
  {
   "cell_type": "code",
   "execution_count": 25,
   "id": "c9445096",
   "metadata": {},
   "outputs": [
    {
     "name": "stdout",
     "output_type": "stream",
     "text": [
      "Found 2000 images belonging to 2 classes.\n",
      "Found 1000 images belonging to 2 classes.\n"
     ]
    }
   ],
   "source": [
    "train_dir = '../../data/cat_dog_small/train'\n",
    "valid_dir = '../../data/cat_dog_small/validation'\n",
    "\n",
    "IMAGE_SIZE = 256\n",
    "BATCH_SIZE = 8\n",
    "LEARNING_RATE = 5e-5\n",
    "\n",
    "def generate_preprocessing(img):\n",
    "    img = cv2.resize(img, (IMAGE_SIZE, IMAGE_SIZE))\n",
    "    return img\n",
    "\n",
    "train_datagen = ImageDataGenerator(rescale=1/255.0,\n",
    "                                   rotation_range=40,\n",
    "                                   width_shift_range=0.1,\n",
    "                                   height_shift_range=0.1,\n",
    "                                   zoom_range=0.2,\n",
    "                                   horizontal_flip=True,\n",
    "                                   vertical_flip=True,\n",
    "                                   preprocessing_function=generate_preprocessing,\n",
    "                                   fill_mode='nearest')      \n",
    "\n",
    "valid_datagen = ImageDataGenerator(rescale=1/255.0,\n",
    "                                   preprocessing_function=generate_preprocessing)\n",
    "\n",
    "train_generator = train_datagen.flow_from_directory(train_dir,\n",
    "                                                    classes=['cats', 'dogs'],                                                    \n",
    "                                                    batch_size=BATCH_SIZE,\n",
    "                                                    class_mode='binary')\n",
    "\n",
    "valid_generator = valid_datagen.flow_from_directory(valid_dir,\n",
    "                                                    classes=['cats', 'dogs'],                                                    \n",
    "                                                    batch_size=BATCH_SIZE,\n",
    "                                                    class_mode='binary',\n",
    "                                                    shuffle=False)"
   ]
  },
  {
   "cell_type": "code",
   "execution_count": 27,
   "id": "40ddfd24",
   "metadata": {
    "scrolled": false
   },
   "outputs": [
    {
     "name": "stdout",
     "output_type": "stream",
     "text": [
      "WARNING:tensorflow:`period` argument is deprecated. Please use `save_freq` to specify the frequency in number of batches seen.\n",
      "Epoch 1/30\n",
      "250/250 [==============================] - 49s 157ms/step - loss: 0.6138 - acc: 0.6885 - val_loss: 0.5019 - val_acc: 0.8750\n",
      "Epoch 2/30\n",
      "250/250 [==============================] - ETA: 0s - loss: 0.5009 - acc: 0.8265\n",
      "Epoch 2: saving model to .\\000002-0.931000-0.826500.ckpt\n"
     ]
    },
    {
     "name": "stderr",
     "output_type": "stream",
     "text": [
      "WARNING:absl:Function `_wrapped_model` contains input name(s) efficientnet-b4_input with unsupported characters which will be renamed to efficientnet_b4_input in the SavedModel.\n"
     ]
    },
    {
     "name": "stdout",
     "output_type": "stream",
     "text": [
      "INFO:tensorflow:Assets written to: .\\000002-0.931000-0.826500.ckpt\\assets\n"
     ]
    },
    {
     "name": "stderr",
     "output_type": "stream",
     "text": [
      "INFO:tensorflow:Assets written to: .\\000002-0.931000-0.826500.ckpt\\assets\n"
     ]
    },
    {
     "name": "stdout",
     "output_type": "stream",
     "text": [
      "250/250 [==============================] - 81s 326ms/step - loss: 0.5009 - acc: 0.8265 - val_loss: 0.3846 - val_acc: 0.9310\n",
      "Epoch 3/30\n",
      "250/250 [==============================] - 39s 153ms/step - loss: 0.4296 - acc: 0.8585 - val_loss: 0.3129 - val_acc: 0.9420\n",
      "Epoch 4/30\n",
      "250/250 [==============================] - ETA: 0s - loss: 0.3747 - acc: 0.8860\n",
      "Epoch 4: saving model to .\\000004-0.949000-0.886000.ckpt\n"
     ]
    },
    {
     "name": "stderr",
     "output_type": "stream",
     "text": [
      "WARNING:absl:Function `_wrapped_model` contains input name(s) efficientnet-b4_input with unsupported characters which will be renamed to efficientnet_b4_input in the SavedModel.\n"
     ]
    },
    {
     "name": "stdout",
     "output_type": "stream",
     "text": [
      "INFO:tensorflow:Assets written to: .\\000004-0.949000-0.886000.ckpt\\assets\n"
     ]
    },
    {
     "name": "stderr",
     "output_type": "stream",
     "text": [
      "INFO:tensorflow:Assets written to: .\\000004-0.949000-0.886000.ckpt\\assets\n"
     ]
    },
    {
     "name": "stdout",
     "output_type": "stream",
     "text": [
      "250/250 [==============================] - 92s 368ms/step - loss: 0.3747 - acc: 0.8860 - val_loss: 0.2658 - val_acc: 0.9490\n",
      "Epoch 5/30\n",
      "250/250 [==============================] - 44s 174ms/step - loss: 0.3376 - acc: 0.8945 - val_loss: 0.2331 - val_acc: 0.9530\n",
      "Epoch 6/30\n",
      "250/250 [==============================] - ETA: 0s - loss: 0.3248 - acc: 0.8850\n",
      "Epoch 6: saving model to .\\000006-0.959000-0.885000.ckpt\n"
     ]
    },
    {
     "name": "stderr",
     "output_type": "stream",
     "text": [
      "WARNING:absl:Function `_wrapped_model` contains input name(s) efficientnet-b4_input with unsupported characters which will be renamed to efficientnet_b4_input in the SavedModel.\n"
     ]
    },
    {
     "name": "stdout",
     "output_type": "stream",
     "text": [
      "INFO:tensorflow:Assets written to: .\\000006-0.959000-0.885000.ckpt\\assets\n"
     ]
    },
    {
     "name": "stderr",
     "output_type": "stream",
     "text": [
      "INFO:tensorflow:Assets written to: .\\000006-0.959000-0.885000.ckpt\\assets\n"
     ]
    },
    {
     "name": "stdout",
     "output_type": "stream",
     "text": [
      "250/250 [==============================] - 98s 391ms/step - loss: 0.3248 - acc: 0.8850 - val_loss: 0.2060 - val_acc: 0.9590\n",
      "Epoch 7/30\n",
      "250/250 [==============================] - 49s 193ms/step - loss: 0.2985 - acc: 0.9030 - val_loss: 0.1865 - val_acc: 0.9640\n",
      "Epoch 8/30\n",
      "250/250 [==============================] - ETA: 0s - loss: 0.2771 - acc: 0.9125\n",
      "Epoch 8: saving model to .\\000008-0.970000-0.912500.ckpt\n"
     ]
    },
    {
     "name": "stderr",
     "output_type": "stream",
     "text": [
      "WARNING:absl:Function `_wrapped_model` contains input name(s) efficientnet-b4_input with unsupported characters which will be renamed to efficientnet_b4_input in the SavedModel.\n"
     ]
    },
    {
     "name": "stdout",
     "output_type": "stream",
     "text": [
      "INFO:tensorflow:Assets written to: .\\000008-0.970000-0.912500.ckpt\\assets\n"
     ]
    },
    {
     "name": "stderr",
     "output_type": "stream",
     "text": [
      "INFO:tensorflow:Assets written to: .\\000008-0.970000-0.912500.ckpt\\assets\n"
     ]
    },
    {
     "name": "stdout",
     "output_type": "stream",
     "text": [
      "250/250 [==============================] - 101s 404ms/step - loss: 0.2771 - acc: 0.9125 - val_loss: 0.1699 - val_acc: 0.9700\n",
      "Epoch 9/30\n",
      "250/250 [==============================] - 51s 203ms/step - loss: 0.2720 - acc: 0.9060 - val_loss: 0.1569 - val_acc: 0.9730\n",
      "Epoch 10/30\n",
      "250/250 [==============================] - ETA: 0s - loss: 0.2617 - acc: 0.9125\n",
      "Epoch 10: saving model to .\\000010-0.974000-0.912500.ckpt\n"
     ]
    },
    {
     "name": "stderr",
     "output_type": "stream",
     "text": [
      "WARNING:absl:Function `_wrapped_model` contains input name(s) efficientnet-b4_input with unsupported characters which will be renamed to efficientnet_b4_input in the SavedModel.\n"
     ]
    },
    {
     "name": "stdout",
     "output_type": "stream",
     "text": [
      "INFO:tensorflow:Assets written to: .\\000010-0.974000-0.912500.ckpt\\assets\n"
     ]
    },
    {
     "name": "stderr",
     "output_type": "stream",
     "text": [
      "INFO:tensorflow:Assets written to: .\\000010-0.974000-0.912500.ckpt\\assets\n"
     ]
    },
    {
     "name": "stdout",
     "output_type": "stream",
     "text": [
      "250/250 [==============================] - 101s 404ms/step - loss: 0.2617 - acc: 0.9125 - val_loss: 0.1460 - val_acc: 0.9740\n",
      "Epoch 11/30\n",
      "250/250 [==============================] - 47s 188ms/step - loss: 0.2590 - acc: 0.9065 - val_loss: 0.1382 - val_acc: 0.9750\n",
      "Epoch 12/30\n",
      "250/250 [==============================] - ETA: 0s - loss: 0.2451 - acc: 0.9120\n",
      "Epoch 12: saving model to .\\000012-0.979000-0.912000.ckpt\n"
     ]
    },
    {
     "name": "stderr",
     "output_type": "stream",
     "text": [
      "WARNING:absl:Function `_wrapped_model` contains input name(s) efficientnet-b4_input with unsupported characters which will be renamed to efficientnet_b4_input in the SavedModel.\n"
     ]
    },
    {
     "name": "stdout",
     "output_type": "stream",
     "text": [
      "INFO:tensorflow:Assets written to: .\\000012-0.979000-0.912000.ckpt\\assets\n"
     ]
    },
    {
     "name": "stderr",
     "output_type": "stream",
     "text": [
      "INFO:tensorflow:Assets written to: .\\000012-0.979000-0.912000.ckpt\\assets\n"
     ]
    },
    {
     "name": "stdout",
     "output_type": "stream",
     "text": [
      "250/250 [==============================] - 94s 376ms/step - loss: 0.2451 - acc: 0.9120 - val_loss: 0.1312 - val_acc: 0.9790\n",
      "Epoch 13/30\n",
      "250/250 [==============================] - 47s 185ms/step - loss: 0.2501 - acc: 0.9045 - val_loss: 0.1237 - val_acc: 0.9800\n",
      "Epoch 14/30\n",
      "250/250 [==============================] - ETA: 0s - loss: 0.2406 - acc: 0.9125\n",
      "Epoch 14: saving model to .\\000014-0.981000-0.912500.ckpt\n"
     ]
    },
    {
     "name": "stderr",
     "output_type": "stream",
     "text": [
      "WARNING:absl:Function `_wrapped_model` contains input name(s) efficientnet-b4_input with unsupported characters which will be renamed to efficientnet_b4_input in the SavedModel.\n"
     ]
    },
    {
     "name": "stdout",
     "output_type": "stream",
     "text": [
      "INFO:tensorflow:Assets written to: .\\000014-0.981000-0.912500.ckpt\\assets\n"
     ]
    },
    {
     "name": "stderr",
     "output_type": "stream",
     "text": [
      "INFO:tensorflow:Assets written to: .\\000014-0.981000-0.912500.ckpt\\assets\n"
     ]
    },
    {
     "name": "stdout",
     "output_type": "stream",
     "text": [
      "250/250 [==============================] - 91s 366ms/step - loss: 0.2406 - acc: 0.9125 - val_loss: 0.1179 - val_acc: 0.9810\n",
      "Epoch 15/30\n",
      "250/250 [==============================] - 44s 173ms/step - loss: 0.2263 - acc: 0.9155 - val_loss: 0.1126 - val_acc: 0.9820\n",
      "Epoch 16/30\n",
      "250/250 [==============================] - ETA: 0s - loss: 0.2250 - acc: 0.9235\n",
      "Epoch 16: saving model to .\\000016-0.982000-0.923500.ckpt\n"
     ]
    },
    {
     "name": "stderr",
     "output_type": "stream",
     "text": [
      "WARNING:absl:Function `_wrapped_model` contains input name(s) efficientnet-b4_input with unsupported characters which will be renamed to efficientnet_b4_input in the SavedModel.\n"
     ]
    },
    {
     "name": "stdout",
     "output_type": "stream",
     "text": [
      "INFO:tensorflow:Assets written to: .\\000016-0.982000-0.923500.ckpt\\assets\n"
     ]
    },
    {
     "name": "stderr",
     "output_type": "stream",
     "text": [
      "INFO:tensorflow:Assets written to: .\\000016-0.982000-0.923500.ckpt\\assets\n"
     ]
    },
    {
     "name": "stdout",
     "output_type": "stream",
     "text": [
      "250/250 [==============================] - 95s 380ms/step - loss: 0.2250 - acc: 0.9235 - val_loss: 0.1085 - val_acc: 0.9820\n",
      "Epoch 17/30\n",
      "250/250 [==============================] - 46s 182ms/step - loss: 0.2230 - acc: 0.9120 - val_loss: 0.1043 - val_acc: 0.9820\n",
      "Epoch 18/30\n",
      "250/250 [==============================] - ETA: 0s - loss: 0.2201 - acc: 0.9145\n",
      "Epoch 18: saving model to .\\000018-0.983000-0.914500.ckpt\n"
     ]
    },
    {
     "name": "stderr",
     "output_type": "stream",
     "text": [
      "WARNING:absl:Function `_wrapped_model` contains input name(s) efficientnet-b4_input with unsupported characters which will be renamed to efficientnet_b4_input in the SavedModel.\n"
     ]
    },
    {
     "name": "stdout",
     "output_type": "stream",
     "text": [
      "INFO:tensorflow:Assets written to: .\\000018-0.983000-0.914500.ckpt\\assets\n"
     ]
    },
    {
     "name": "stderr",
     "output_type": "stream",
     "text": [
      "INFO:tensorflow:Assets written to: .\\000018-0.983000-0.914500.ckpt\\assets\n"
     ]
    },
    {
     "name": "stdout",
     "output_type": "stream",
     "text": [
      "250/250 [==============================] - 96s 383ms/step - loss: 0.2201 - acc: 0.9145 - val_loss: 0.1010 - val_acc: 0.9830\n",
      "Epoch 19/30\n",
      "250/250 [==============================] - 51s 203ms/step - loss: 0.2078 - acc: 0.9260 - val_loss: 0.0980 - val_acc: 0.9830\n",
      "Epoch 20/30\n",
      "250/250 [==============================] - ETA: 0s - loss: 0.2054 - acc: 0.9245\n",
      "Epoch 20: saving model to .\\000020-0.983000-0.924500.ckpt\n"
     ]
    },
    {
     "name": "stderr",
     "output_type": "stream",
     "text": [
      "WARNING:absl:Function `_wrapped_model` contains input name(s) efficientnet-b4_input with unsupported characters which will be renamed to efficientnet_b4_input in the SavedModel.\n"
     ]
    },
    {
     "name": "stdout",
     "output_type": "stream",
     "text": [
      "INFO:tensorflow:Assets written to: .\\000020-0.983000-0.924500.ckpt\\assets\n"
     ]
    },
    {
     "name": "stderr",
     "output_type": "stream",
     "text": [
      "INFO:tensorflow:Assets written to: .\\000020-0.983000-0.924500.ckpt\\assets\n"
     ]
    },
    {
     "name": "stdout",
     "output_type": "stream",
     "text": [
      "250/250 [==============================] - 98s 391ms/step - loss: 0.2054 - acc: 0.9245 - val_loss: 0.0953 - val_acc: 0.9830\n",
      "Epoch 21/30\n",
      "250/250 [==============================] - 53s 210ms/step - loss: 0.2072 - acc: 0.9190 - val_loss: 0.0925 - val_acc: 0.9840\n",
      "Epoch 22/30\n",
      "250/250 [==============================] - ETA: 0s - loss: 0.2026 - acc: 0.9245\n",
      "Epoch 22: saving model to .\\000022-0.986000-0.924500.ckpt\n"
     ]
    },
    {
     "name": "stderr",
     "output_type": "stream",
     "text": [
      "WARNING:absl:Function `_wrapped_model` contains input name(s) efficientnet-b4_input with unsupported characters which will be renamed to efficientnet_b4_input in the SavedModel.\n"
     ]
    },
    {
     "name": "stdout",
     "output_type": "stream",
     "text": [
      "INFO:tensorflow:Assets written to: .\\000022-0.986000-0.924500.ckpt\\assets\n"
     ]
    },
    {
     "name": "stderr",
     "output_type": "stream",
     "text": [
      "INFO:tensorflow:Assets written to: .\\000022-0.986000-0.924500.ckpt\\assets\n"
     ]
    },
    {
     "name": "stdout",
     "output_type": "stream",
     "text": [
      "250/250 [==============================] - 94s 377ms/step - loss: 0.2026 - acc: 0.9245 - val_loss: 0.0889 - val_acc: 0.9860\n",
      "Epoch 23/30\n",
      "250/250 [==============================] - 48s 190ms/step - loss: 0.1988 - acc: 0.9255 - val_loss: 0.0863 - val_acc: 0.9870\n",
      "Epoch 24/30\n",
      "250/250 [==============================] - ETA: 0s - loss: 0.2008 - acc: 0.9270\n",
      "Epoch 24: saving model to .\\000024-0.988000-0.927000.ckpt\n"
     ]
    },
    {
     "name": "stderr",
     "output_type": "stream",
     "text": [
      "WARNING:absl:Function `_wrapped_model` contains input name(s) efficientnet-b4_input with unsupported characters which will be renamed to efficientnet_b4_input in the SavedModel.\n"
     ]
    },
    {
     "name": "stdout",
     "output_type": "stream",
     "text": [
      "INFO:tensorflow:Assets written to: .\\000024-0.988000-0.927000.ckpt\\assets\n"
     ]
    },
    {
     "name": "stderr",
     "output_type": "stream",
     "text": [
      "INFO:tensorflow:Assets written to: .\\000024-0.988000-0.927000.ckpt\\assets\n"
     ]
    },
    {
     "name": "stdout",
     "output_type": "stream",
     "text": [
      "250/250 [==============================] - 95s 379ms/step - loss: 0.2008 - acc: 0.9270 - val_loss: 0.0849 - val_acc: 0.9880\n",
      "Epoch 25/30\n",
      "250/250 [==============================] - 47s 187ms/step - loss: 0.1964 - acc: 0.9230 - val_loss: 0.0820 - val_acc: 0.9880\n",
      "Epoch 26/30\n",
      "250/250 [==============================] - ETA: 0s - loss: 0.1977 - acc: 0.9260\n",
      "Epoch 26: saving model to .\\000026-0.988000-0.926000.ckpt\n"
     ]
    },
    {
     "name": "stderr",
     "output_type": "stream",
     "text": [
      "WARNING:absl:Function `_wrapped_model` contains input name(s) efficientnet-b4_input with unsupported characters which will be renamed to efficientnet_b4_input in the SavedModel.\n"
     ]
    },
    {
     "name": "stdout",
     "output_type": "stream",
     "text": [
      "INFO:tensorflow:Assets written to: .\\000026-0.988000-0.926000.ckpt\\assets\n"
     ]
    },
    {
     "name": "stderr",
     "output_type": "stream",
     "text": [
      "INFO:tensorflow:Assets written to: .\\000026-0.988000-0.926000.ckpt\\assets\n"
     ]
    },
    {
     "name": "stdout",
     "output_type": "stream",
     "text": [
      "250/250 [==============================] - 95s 379ms/step - loss: 0.1977 - acc: 0.9260 - val_loss: 0.0810 - val_acc: 0.9880\n",
      "Epoch 27/30\n",
      "250/250 [==============================] - 48s 191ms/step - loss: 0.1966 - acc: 0.9190 - val_loss: 0.0790 - val_acc: 0.9880\n",
      "Epoch 28/30\n",
      "250/250 [==============================] - ETA: 0s - loss: 0.1940 - acc: 0.9225\n",
      "Epoch 28: saving model to .\\000028-0.988000-0.922500.ckpt\n"
     ]
    },
    {
     "name": "stderr",
     "output_type": "stream",
     "text": [
      "WARNING:absl:Function `_wrapped_model` contains input name(s) efficientnet-b4_input with unsupported characters which will be renamed to efficientnet_b4_input in the SavedModel.\n"
     ]
    },
    {
     "name": "stdout",
     "output_type": "stream",
     "text": [
      "INFO:tensorflow:Assets written to: .\\000028-0.988000-0.922500.ckpt\\assets\n"
     ]
    },
    {
     "name": "stderr",
     "output_type": "stream",
     "text": [
      "INFO:tensorflow:Assets written to: .\\000028-0.988000-0.922500.ckpt\\assets\n"
     ]
    },
    {
     "name": "stdout",
     "output_type": "stream",
     "text": [
      "250/250 [==============================] - 94s 375ms/step - loss: 0.1940 - acc: 0.9225 - val_loss: 0.0779 - val_acc: 0.9880\n",
      "Epoch 29/30\n",
      "250/250 [==============================] - 47s 187ms/step - loss: 0.1837 - acc: 0.9290 - val_loss: 0.0762 - val_acc: 0.9880\n",
      "Epoch 30/30\n",
      "250/250 [==============================] - ETA: 0s - loss: 0.1953 - acc: 0.9295\n",
      "Epoch 30: saving model to .\\000030-0.988000-0.929500.ckpt\n"
     ]
    },
    {
     "name": "stderr",
     "output_type": "stream",
     "text": [
      "WARNING:absl:Function `_wrapped_model` contains input name(s) efficientnet-b4_input with unsupported characters which will be renamed to efficientnet_b4_input in the SavedModel.\n"
     ]
    },
    {
     "name": "stdout",
     "output_type": "stream",
     "text": [
      "INFO:tensorflow:Assets written to: .\\000030-0.988000-0.929500.ckpt\\assets\n"
     ]
    },
    {
     "name": "stderr",
     "output_type": "stream",
     "text": [
      "INFO:tensorflow:Assets written to: .\\000030-0.988000-0.929500.ckpt\\assets\n"
     ]
    },
    {
     "name": "stdout",
     "output_type": "stream",
     "text": [
      "\b\b\b\b\b\b\b\b\b\b\b\b\b\b\b\b\b\b\b\b\b\b\b\b\b\b\b\b\b\b\b\b\b\b\b\b\b\b\b\b\b\b\b\b\b\b\b\b\b\b\b\b\b\b\b\b\b\b\b\b\b\b\b\b\b\b\b\b\b\b\b\b\b\b\b\b\b\b\b\r",
      "250/250 [==============================] - 91s 364ms/step - loss: 0.1953 - acc: 0.9295 - val_loss: 0.0749 - val_acc: 0.9880\n"
     ]
    }
   ],
   "source": [
    "pretrained_network = efn.EfficientNetB4(\n",
    "    weights='imagenet',\n",
    "    include_top=False,\n",
    "    input_shape=(IMAGE_SIZE,IMAGE_SIZE,3)\n",
    ")\n",
    "\n",
    "pretrained_network.trainable = False  # 학습이 안되게끔 동결!!!!\n",
    "\n",
    "model = Sequential()\n",
    "\n",
    "model.add(pretrained_network)\n",
    "\n",
    "model.add(GlobalAveragePooling2D())\n",
    "model.add(Dense(units=1,\n",
    "                activation='sigmoid'))\n",
    "\n",
    "# Early Stopping\n",
    "es = EarlyStopping(monitor='val_loss',\n",
    "                   mode='auto',\n",
    "                   patience=5,\n",
    "                   verbose=1)\n",
    "\n",
    "# Checkpoint\n",
    "model_checkpoint = './{epoch:06d}-{val_acc:0.6f}-{acc:0.6f}.ckpt'\n",
    "\n",
    "checkpointer = ModelCheckpoint(\n",
    "    filepath=model_checkpoint,\n",
    "    verbose=1,\n",
    "    period=2,\n",
    "    save_best_weights=True,\n",
    "    mode='auto',\n",
    "    monitor='val_acc'\n",
    ")\n",
    "\n",
    "model.compile(optimizer=Adam(learning_rate=LEARNING_RATE),\n",
    "              loss='binary_crossentropy',\n",
    "              metrics=['acc'])\n",
    "\n",
    "history = model.fit(train_generator,\n",
    "                    steps_per_epoch=(2000 // BATCH_SIZE),\n",
    "                    epochs=30,\n",
    "                    validation_data=valid_generator,\n",
    "                    validation_steps=(1000 // BATCH_SIZE),\n",
    "                    callbacks=[es, checkpointer],\n",
    "                    verbose=1)"
   ]
  }
 ],
 "metadata": {
  "kernelspec": {
   "display_name": "Python [conda env:machine_TF2] *",
   "language": "python",
   "name": "conda-env-machine_TF2-py"
  },
  "language_info": {
   "codemirror_mode": {
    "name": "ipython",
    "version": 3
   },
   "file_extension": ".py",
   "mimetype": "text/x-python",
   "name": "python",
   "nbconvert_exporter": "python",
   "pygments_lexer": "ipython3",
   "version": "3.8.13"
  }
 },
 "nbformat": 4,
 "nbformat_minor": 5
}
