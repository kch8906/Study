{
 "cells": [
  {
   "cell_type": "code",
   "execution_count": 16,
   "id": "3a99f7fb",
   "metadata": {},
   "outputs": [],
   "source": [
    "import numpy as np\n",
    "import pandas as pd\n",
    "import tensorflow as tf\n",
    "from tensorflow.keras.models import Sequential, Model\n",
    "from tensorflow.keras.layers import Conv2D, Dense, Flatten, Dropout, MaxPooling2D\n",
    "from tensorflow.keras.layers import Input, BatchNormalization\n",
    "from sklearn.model_selection import train_test_split\n",
    "from sklearn.preprocessing import MinMaxScaler\n",
    "import matplotlib.pyplot as plt\n"
   ]
  },
  {
   "cell_type": "code",
   "execution_count": 2,
   "id": "df50b097",
   "metadata": {},
   "outputs": [
    {
     "data": {
      "text/html": [
       "<div>\n",
       "<style scoped>\n",
       "    .dataframe tbody tr th:only-of-type {\n",
       "        vertical-align: middle;\n",
       "    }\n",
       "\n",
       "    .dataframe tbody tr th {\n",
       "        vertical-align: top;\n",
       "    }\n",
       "\n",
       "    .dataframe thead th {\n",
       "        text-align: right;\n",
       "    }\n",
       "</style>\n",
       "<table border=\"1\" class=\"dataframe\">\n",
       "  <thead>\n",
       "    <tr style=\"text-align: right;\">\n",
       "      <th></th>\n",
       "      <th>label</th>\n",
       "      <th>pixel1</th>\n",
       "      <th>pixel2</th>\n",
       "      <th>pixel3</th>\n",
       "      <th>pixel4</th>\n",
       "      <th>pixel5</th>\n",
       "      <th>pixel6</th>\n",
       "      <th>pixel7</th>\n",
       "      <th>pixel8</th>\n",
       "      <th>pixel9</th>\n",
       "      <th>...</th>\n",
       "      <th>pixel775</th>\n",
       "      <th>pixel776</th>\n",
       "      <th>pixel777</th>\n",
       "      <th>pixel778</th>\n",
       "      <th>pixel779</th>\n",
       "      <th>pixel780</th>\n",
       "      <th>pixel781</th>\n",
       "      <th>pixel782</th>\n",
       "      <th>pixel783</th>\n",
       "      <th>pixel784</th>\n",
       "    </tr>\n",
       "  </thead>\n",
       "  <tbody>\n",
       "    <tr>\n",
       "      <th>0</th>\n",
       "      <td>2</td>\n",
       "      <td>0</td>\n",
       "      <td>0</td>\n",
       "      <td>0</td>\n",
       "      <td>0</td>\n",
       "      <td>0</td>\n",
       "      <td>0</td>\n",
       "      <td>0</td>\n",
       "      <td>0</td>\n",
       "      <td>0</td>\n",
       "      <td>...</td>\n",
       "      <td>0</td>\n",
       "      <td>0</td>\n",
       "      <td>0</td>\n",
       "      <td>0</td>\n",
       "      <td>0</td>\n",
       "      <td>0</td>\n",
       "      <td>0</td>\n",
       "      <td>0</td>\n",
       "      <td>0</td>\n",
       "      <td>0</td>\n",
       "    </tr>\n",
       "    <tr>\n",
       "      <th>1</th>\n",
       "      <td>9</td>\n",
       "      <td>0</td>\n",
       "      <td>0</td>\n",
       "      <td>0</td>\n",
       "      <td>0</td>\n",
       "      <td>0</td>\n",
       "      <td>0</td>\n",
       "      <td>0</td>\n",
       "      <td>0</td>\n",
       "      <td>0</td>\n",
       "      <td>...</td>\n",
       "      <td>0</td>\n",
       "      <td>0</td>\n",
       "      <td>0</td>\n",
       "      <td>0</td>\n",
       "      <td>0</td>\n",
       "      <td>0</td>\n",
       "      <td>0</td>\n",
       "      <td>0</td>\n",
       "      <td>0</td>\n",
       "      <td>0</td>\n",
       "    </tr>\n",
       "    <tr>\n",
       "      <th>2</th>\n",
       "      <td>6</td>\n",
       "      <td>0</td>\n",
       "      <td>0</td>\n",
       "      <td>0</td>\n",
       "      <td>0</td>\n",
       "      <td>0</td>\n",
       "      <td>0</td>\n",
       "      <td>0</td>\n",
       "      <td>5</td>\n",
       "      <td>0</td>\n",
       "      <td>...</td>\n",
       "      <td>0</td>\n",
       "      <td>0</td>\n",
       "      <td>0</td>\n",
       "      <td>30</td>\n",
       "      <td>43</td>\n",
       "      <td>0</td>\n",
       "      <td>0</td>\n",
       "      <td>0</td>\n",
       "      <td>0</td>\n",
       "      <td>0</td>\n",
       "    </tr>\n",
       "  </tbody>\n",
       "</table>\n",
       "<p>3 rows × 785 columns</p>\n",
       "</div>"
      ],
      "text/plain": [
       "   label  pixel1  pixel2  pixel3  pixel4  pixel5  pixel6  pixel7  pixel8  \\\n",
       "0      2       0       0       0       0       0       0       0       0   \n",
       "1      9       0       0       0       0       0       0       0       0   \n",
       "2      6       0       0       0       0       0       0       0       5   \n",
       "\n",
       "   pixel9  ...  pixel775  pixel776  pixel777  pixel778  pixel779  pixel780  \\\n",
       "0       0  ...         0         0         0         0         0         0   \n",
       "1       0  ...         0         0         0         0         0         0   \n",
       "2       0  ...         0         0         0        30        43         0   \n",
       "\n",
       "   pixel781  pixel782  pixel783  pixel784  \n",
       "0         0         0         0         0  \n",
       "1         0         0         0         0  \n",
       "2         0         0         0         0  \n",
       "\n",
       "[3 rows x 785 columns]"
      ]
     },
     "execution_count": 2,
     "metadata": {},
     "output_type": "execute_result"
    }
   ],
   "source": [
    "df = pd.read_csv('../../data/fashion_mnist/fashion-mnist_train.csv')\n",
    "df.head(3)"
   ]
  },
  {
   "cell_type": "code",
   "execution_count": 3,
   "id": "7e2c9798",
   "metadata": {},
   "outputs": [],
   "source": [
    "train = df.drop('label', axis=1, inplace=False)\n",
    "label = df['label']"
   ]
  },
  {
   "cell_type": "code",
   "execution_count": 4,
   "id": "7b813585",
   "metadata": {},
   "outputs": [],
   "source": [
    "X_train, X_test, y_train, y_test = train_test_split(train, label, test_size=0.3, random_state=32, stratify=label)\n",
    "\n",
    "scaler = MinMaxScaler()\n",
    "X_train_scaled = scaler.fit_transform(X_train)\n",
    "X_test_scaled = scaler.fit_transform(X_test)"
   ]
  },
  {
   "cell_type": "code",
   "execution_count": 5,
   "id": "f15f7914",
   "metadata": {},
   "outputs": [
    {
     "name": "stdout",
     "output_type": "stream",
     "text": [
      "Model: \"model\"\n",
      "_________________________________________________________________\n",
      " Layer (type)                Output Shape              Param #   \n",
      "=================================================================\n",
      " input_1 (InputLayer)        [(None, 28, 28, 1)]       0         \n",
      "                                                                 \n",
      " conv2d (Conv2D)             (None, 28, 28, 32)        320       \n",
      "                                                                 \n",
      " conv2d_1 (Conv2D)           (None, 28, 28, 32)        9248      \n",
      "                                                                 \n",
      " max_pooling2d (MaxPooling2D  (None, 14, 14, 32)       0         \n",
      " )                                                               \n",
      "                                                                 \n",
      " conv2d_2 (Conv2D)           (None, 14, 14, 64)        18496     \n",
      "                                                                 \n",
      " conv2d_3 (Conv2D)           (None, 14, 14, 64)        36928     \n",
      "                                                                 \n",
      " max_pooling2d_1 (MaxPooling  (None, 7, 7, 64)         0         \n",
      " 2D)                                                             \n",
      "                                                                 \n",
      " conv2d_4 (Conv2D)           (None, 7, 7, 128)         73856     \n",
      "                                                                 \n",
      " conv2d_5 (Conv2D)           (None, 7, 7, 128)         147584    \n",
      "                                                                 \n",
      " max_pooling2d_2 (MaxPooling  (None, 3, 3, 128)        0         \n",
      " 2D)                                                             \n",
      "                                                                 \n",
      " conv2d_6 (Conv2D)           (None, 3, 3, 256)         295168    \n",
      "                                                                 \n",
      " conv2d_7 (Conv2D)           (None, 3, 3, 256)         590080    \n",
      "                                                                 \n",
      " flatten (Flatten)           (None, 2304)              0         \n",
      "                                                                 \n",
      " dropout (Dropout)           (None, 2304)              0         \n",
      "                                                                 \n",
      " dense (Dense)               (None, 300)               691500    \n",
      "                                                                 \n",
      " dropout_1 (Dropout)         (None, 300)               0         \n",
      "                                                                 \n",
      " dense_1 (Dense)             (None, 10)                3010      \n",
      "                                                                 \n",
      "=================================================================\n",
      "Total params: 1,866,190\n",
      "Trainable params: 1,866,190\n",
      "Non-trainable params: 0\n",
      "_________________________________________________________________\n"
     ]
    }
   ],
   "source": [
    "IMAGE_SIZE = 28\n",
    "\n",
    "input_shape = Input(shape=(IMAGE_SIZE, IMAGE_SIZE, 1))\n",
    "x = Conv2D(filters=32, kernel_size=3, padding='same', strides=1, activation='relu')(input_shape)\n",
    "x = Conv2D(filters=32, kernel_size=3, padding='same', strides=1, activation='relu')(x)\n",
    "x = MaxPooling2D(2)(x)\n",
    "x = Conv2D(filters=64, kernel_size=3, padding='same', strides=1, activation='relu')(x)\n",
    "x = Conv2D(filters=64, kernel_size=3, padding='same', strides=1, activation='relu')(x)\n",
    "x = MaxPooling2D(2)(x)\n",
    "x = Conv2D(filters=128, kernel_size=3, padding='same', strides=1, activation='relu')(x)\n",
    "x = Conv2D(filters=128, kernel_size=3, padding='same', strides=1, activation='relu')(x)\n",
    "x = MaxPooling2D(2)(x)\n",
    "x = Conv2D(filters=256, kernel_size=3, padding='same', strides=1, activation='relu')(x)\n",
    "x = Conv2D(filters=256, kernel_size=3, padding='same', strides=1, activation='relu')(x)\n",
    "\n",
    "\n",
    "x = Flatten()(x)\n",
    "x = Dropout(rate=0.5)(x)\n",
    "x = Dense(300, activation='relu')(x)\n",
    "x = Dropout(rate=0.2)(x)\n",
    "output = Dense(10, activation='softmax')(x)\n",
    "\n",
    "model = Model(inputs=input_shape, outputs=output)\n",
    "model.summary()"
   ]
  },
  {
   "cell_type": "code",
   "execution_count": 6,
   "id": "4ca9aa85",
   "metadata": {},
   "outputs": [],
   "source": [
    "from tensorflow.keras.optimizers import Adam\n",
    "\n",
    "model.compile(optimizer=Adam(0.0001), loss='sparse_categorical_crossentropy', metrics=['accuracy'])"
   ]
  },
  {
   "cell_type": "code",
   "execution_count": 7,
   "id": "d75ad692",
   "metadata": {
    "scrolled": true
   },
   "outputs": [
    {
     "name": "stdout",
     "output_type": "stream",
     "text": [
      "Epoch 1/50\n",
      "919/919 [==============================] - 16s 10ms/step - loss: 0.8193 - accuracy: 0.6975 - val_loss: 0.5692 - val_accuracy: 0.7866 - lr: 1.0000e-04\n",
      "Epoch 2/50\n",
      "919/919 [==============================] - 9s 9ms/step - loss: 0.4909 - accuracy: 0.8214 - val_loss: 0.4286 - val_accuracy: 0.8406 - lr: 1.0000e-04\n",
      "Epoch 3/50\n",
      "919/919 [==============================] - 8s 9ms/step - loss: 0.3988 - accuracy: 0.8536 - val_loss: 0.3789 - val_accuracy: 0.8552 - lr: 1.0000e-04\n",
      "Epoch 4/50\n",
      "919/919 [==============================] - 8s 9ms/step - loss: 0.3513 - accuracy: 0.8706 - val_loss: 0.3637 - val_accuracy: 0.8682 - lr: 1.0000e-04\n",
      "Epoch 5/50\n",
      "919/919 [==============================] - 9s 10ms/step - loss: 0.3213 - accuracy: 0.8819 - val_loss: 0.3282 - val_accuracy: 0.8747 - lr: 1.0000e-04\n",
      "Epoch 6/50\n",
      "919/919 [==============================] - 9s 10ms/step - loss: 0.2938 - accuracy: 0.8908 - val_loss: 0.3071 - val_accuracy: 0.8834 - lr: 1.0000e-04\n",
      "Epoch 7/50\n",
      "919/919 [==============================] - 9s 10ms/step - loss: 0.2745 - accuracy: 0.9006 - val_loss: 0.3142 - val_accuracy: 0.8819 - lr: 1.0000e-04\n",
      "Epoch 8/50\n",
      "919/919 [==============================] - 9s 10ms/step - loss: 0.2542 - accuracy: 0.9076 - val_loss: 0.3016 - val_accuracy: 0.8867 - lr: 1.0000e-04\n",
      "Epoch 9/50\n",
      "919/919 [==============================] - 9s 10ms/step - loss: 0.2368 - accuracy: 0.9132 - val_loss: 0.2792 - val_accuracy: 0.8955 - lr: 1.0000e-04\n",
      "Epoch 10/50\n",
      "919/919 [==============================] - 9s 10ms/step - loss: 0.2173 - accuracy: 0.9198 - val_loss: 0.2873 - val_accuracy: 0.8954 - lr: 1.0000e-04\n",
      "Epoch 11/50\n",
      "919/919 [==============================] - 9s 10ms/step - loss: 0.2027 - accuracy: 0.9254 - val_loss: 0.3061 - val_accuracy: 0.8928 - lr: 1.0000e-04\n",
      "Epoch 12/50\n",
      "919/919 [==============================] - 9s 9ms/step - loss: 0.1875 - accuracy: 0.9303 - val_loss: 0.2730 - val_accuracy: 0.9022 - lr: 1.0000e-04\n",
      "Epoch 13/50\n",
      "919/919 [==============================] - 8s 9ms/step - loss: 0.1699 - accuracy: 0.9384 - val_loss: 0.2915 - val_accuracy: 0.9003 - lr: 1.0000e-04\n",
      "Epoch 14/50\n",
      "919/919 [==============================] - 8s 9ms/step - loss: 0.1553 - accuracy: 0.9418 - val_loss: 0.2975 - val_accuracy: 0.9020 - lr: 1.0000e-04\n",
      "Epoch 15/50\n",
      "916/919 [============================>.] - ETA: 0s - loss: 0.1411 - accuracy: 0.9480\n",
      "Epoch 00015: ReduceLROnPlateau reducing learning rate to 1.9999999494757503e-05.\n",
      "919/919 [==============================] - 9s 9ms/step - loss: 0.1410 - accuracy: 0.9481 - val_loss: 0.2778 - val_accuracy: 0.9041 - lr: 1.0000e-04\n",
      "Epoch 16/50\n",
      "919/919 [==============================] - 9s 9ms/step - loss: 0.0951 - accuracy: 0.9663 - val_loss: 0.2958 - val_accuracy: 0.9080 - lr: 2.0000e-05\n",
      "Epoch 17/50\n",
      "917/919 [============================>.] - ETA: 0s - loss: 0.0823 - accuracy: 0.9707Restoring model weights from the end of the best epoch: 12.\n",
      "919/919 [==============================] - 8s 9ms/step - loss: 0.0823 - accuracy: 0.9707 - val_loss: 0.3051 - val_accuracy: 0.9087 - lr: 2.0000e-05\n",
      "Epoch 00017: early stopping\n"
     ]
    }
   ],
   "source": [
    "from tensorflow.keras.callbacks import EarlyStopping, ReduceLROnPlateau\n",
    "\n",
    "X_train_scaled = X_train_scaled.reshape(-1, IMAGE_SIZE, IMAGE_SIZE, 1)\n",
    "X_test_scaled = X_test_scaled.reshape(-1, IMAGE_SIZE, IMAGE_SIZE, 1)\n",
    "\n",
    "es = EarlyStopping(monitor='val_loss', min_delta=0.001, patience=5, verbose=1, mode='min', restore_best_weights=True)\n",
    "rd = ReduceLROnPlateau(moniotr='val_loss', factor=0.2, patience=3, verbose=1, mode='min')\n",
    "\n",
    "history = model.fit(X_train_scaled, y_train, batch_size=32, epochs=50, validation_split=0.3, callbacks=[es, rd])"
   ]
  },
  {
   "cell_type": "code",
   "execution_count": 10,
   "id": "62068490",
   "metadata": {},
   "outputs": [
    {
     "name": "stdout",
     "output_type": "stream",
     "text": [
      "563/563 [==============================] - 3s 4ms/step - loss: 0.2469 - accuracy: 0.9110\n"
     ]
    },
    {
     "data": {
      "text/plain": [
       "[0.24693739414215088, 0.9110000133514404]"
      ]
     },
     "execution_count": 10,
     "metadata": {},
     "output_type": "execute_result"
    }
   ],
   "source": [
    "model.evaluate(X_test_scaled, y_test)"
   ]
  },
  {
   "cell_type": "code",
   "execution_count": 15,
   "id": "0e7fe71a",
   "metadata": {},
   "outputs": [
    {
     "data": {
      "text/plain": [
       "[<matplotlib.lines.Line2D at 0x1e5a63c6070>]"
      ]
     },
     "execution_count": 15,
     "metadata": {},
     "output_type": "execute_result"
    },
    {
     "data": {
      "image/png": "[encoded data removed]",
      "text/plain": [
       "<Figure size 1080x432 with 2 Axes>"
      ]
     },
     "metadata": {
      "needs_background": "light"
     },
     "output_type": "display_data"
    }
   ],
   "source": [
    "fig, ax = plt.subplots(1, 2, figsize=(15, 6))\n",
    "\n",
    "ax[0].plot(history.history['loss'], color='r', label='train_loss')\n",
    "ax[0].plot(history.history['val_loss'], color='g', label='val_loss')\n",
    "\n",
    "ax[1].plot(history.history['accuracy'], color='r', label='train_acc')\n",
    "ax[1].plot(history.history['val_accuracy'], color='g', label='val_lossval_acc')"
   ]
  },
  {
   "cell_type": "code",
   "execution_count": null,
   "id": "e36fdc2b",
   "metadata": {},
   "outputs": [],
   "source": []
  }
 ],
 "metadata": {
  "kernelspec": {
   "display_name": "Python [conda env:machine_TF2] *",
   "language": "python",
   "name": "conda-env-machine_TF2-py"
  },
  "language_info": {
   "codemirror_mode": {
    "name": "ipython",
    "version": 3
   },
   "file_extension": ".py",
   "mimetype": "text/x-python",
   "name": "python",
   "nbconvert_exporter": "python",
   "pygments_lexer": "ipython3",
   "version": "3.8.13"
  }
 },
 "nbformat": 4,
 "nbformat_minor": 5
}
