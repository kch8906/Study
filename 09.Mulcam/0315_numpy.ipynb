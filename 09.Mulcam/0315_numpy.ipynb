{
 "cells": [
  {
   "cell_type": "code",
   "execution_count": 2,
   "id": "862e48a8",
   "metadata": {},
   "outputs": [],
   "source": [
    "import numpy as np"
   ]
  },
  {
   "cell_type": "code",
   "execution_count": 3,
   "id": "197dd589",
   "metadata": {},
   "outputs": [
    {
     "name": "stdout",
     "output_type": "stream",
     "text": [
      "[1, 2, 3, 4]\n",
      "<class 'list'>\n"
     ]
    }
   ],
   "source": [
    "a = [1, 2, 3, 4]\n",
    "print(a)\n",
    "print(type(a))"
   ]
  },
  {
   "cell_type": "code",
   "execution_count": 4,
   "id": "0e6ee6e8",
   "metadata": {},
   "outputs": [
    {
     "name": "stdout",
     "output_type": "stream",
     "text": [
      "[1.  2.3 3.  4. ]\n",
      "<class 'numpy.ndarray'>\n",
      "float64\n"
     ]
    }
   ],
   "source": [
    "arr = np.array([1, 2.3, 3, 4])\n",
    "print(arr)\n",
    "print(type(arr))\n",
    "print(arr.dtype)"
   ]
  },
  {
   "cell_type": "code",
   "execution_count": 5,
   "id": "a9d6f780",
   "metadata": {},
   "outputs": [
    {
     "name": "stdout",
     "output_type": "stream",
     "text": [
      "[[1, 2, 3], [4, 5, 6]]\n",
      "5\n",
      "5\n",
      "[4 5 6]\n",
      "5\n",
      "[[1. 2. 3.]\n",
      " [4. 5. 6.]]\n",
      "float64\n"
     ]
    }
   ],
   "source": [
    "my_list = [[1, 2, 3], [4, 5, 6]]\n",
    "print(my_list)\n",
    "print(my_list[1][1])\n",
    "arr = np.array(my_list)\n",
    "print(arr[1, 1])\n",
    "print(arr[1])\n",
    "print(arr[1][1])\n",
    "\n",
    "arr = np.array([[1, 2, 3], [4, 5, 6]],\n",
    "            dtype=np.float64)\n",
    "print(arr)\n",
    "print(arr.dtype)"
   ]
  },
  {
   "cell_type": "code",
   "execution_count": 6,
   "id": "2a82dbcd",
   "metadata": {},
   "outputs": [
    {
     "name": "stdout",
     "output_type": "stream",
     "text": [
      "[1 2 3 4]\n",
      "int32\n",
      "1\n",
      "(4,)\n"
     ]
    }
   ],
   "source": [
    "my_list=[1, 2, 3, 4]\n",
    "arr = np.array(my_list)\n",
    "print(arr)\n",
    "print(arr.dtype)\n",
    "print(arr.ndim)\n",
    "print(arr.shape)"
   ]
  },
  {
   "cell_type": "code",
   "execution_count": 7,
   "id": "81ea5b96",
   "metadata": {},
   "outputs": [
    {
     "name": "stdout",
     "output_type": "stream",
     "text": [
      "2\n",
      "(2, 3)\n"
     ]
    }
   ],
   "source": [
    "my_list = [[1, 2, 3], [4, 5 ,6]]\n",
    "arr = np.array(my_list)\n",
    "print(arr.ndim)\n",
    "print(arr.shape)"
   ]
  },
  {
   "cell_type": "code",
   "execution_count": 8,
   "id": "67aedad1",
   "metadata": {},
   "outputs": [
    {
     "name": "stdout",
     "output_type": "stream",
     "text": [
      "(2, 2, 3)\n",
      "3\n"
     ]
    }
   ],
   "source": [
    "my_list = [[[1, 2, 3],[1, 2, 3]],\n",
    "          [[4, 5, 6],[4, 5, 6]]]\n",
    "arr = np.array(my_list)\n",
    "print(arr.shape)\n",
    "print(arr.ndim)"
   ]
  },
  {
   "cell_type": "code",
   "execution_count": 9,
   "id": "a26b7b7c",
   "metadata": {},
   "outputs": [
    {
     "name": "stdout",
     "output_type": "stream",
     "text": [
      "float64\n",
      "[1 2 3 4 5]\n",
      "['1.2' '2.3' '3.0' '4.0' '5.7']\n"
     ]
    }
   ],
   "source": [
    "arr = np.array([1.2, 2.3, 3, 4, 5.7])\n",
    "print(arr.dtype)\n",
    "\n",
    "new_arr = arr.astype(np.int32)\n",
    "print(new_arr)\n",
    "\n",
    "new_arr = arr.astype(np.str_)\n",
    "print(new_arr)"
   ]
  },
  {
   "cell_type": "code",
   "execution_count": 10,
   "id": "d31e71b0",
   "metadata": {},
   "outputs": [
    {
     "name": "stdout",
     "output_type": "stream",
     "text": [
      "[[[0. 0. 0. 0.]\n",
      "  [0. 0. 0. 0.]\n",
      "  [0. 0. 0. 0.]]\n",
      "\n",
      " [[0. 0. 0. 0.]\n",
      "  [0. 0. 0. 0.]\n",
      "  [0. 0. 0. 0.]]\n",
      "\n",
      " [[0. 0. 0. 0.]\n",
      "  [0. 0. 0. 0.]\n",
      "  [0. 0. 0. 0.]]]\n",
      "[[1. 1. 1.]\n",
      " [1. 1. 1.]]\n",
      "[[[6.23042070e-307 4.67296746e-307 1.69121096e-306]\n",
      "  [7.56595733e-307 2.22521510e-306 8.34441742e-308]\n",
      "  [1.78022342e-306 6.23058028e-307 9.79107872e-307]]\n",
      "\n",
      " [[6.89807188e-307 7.56594375e-307 6.23060065e-307]\n",
      "  [1.78021527e-306 8.34454050e-308 1.11261027e-306]\n",
      "  [1.15706896e-306 1.33512173e-306 3.50480221e-057]]]\n",
      "[[7. 7. 7.]\n",
      " [7. 7. 7.]]\n"
     ]
    }
   ],
   "source": [
    "my_list = [1, 2, 3]\n",
    "arr = np.array(my_list)\n",
    "\n",
    "arr = np.zeros(((3, 3, 4)))\n",
    "print(arr)\n",
    "\n",
    "arr = np.ones((2, 3))\n",
    "print(arr)\n",
    "\n",
    "arr = np.empty((2, 3, 3))\n",
    "print(arr)\n",
    "\n",
    "arr = np.full((2, 3),\n",
    "              7,\n",
    "              dtype=np.float64)\n",
    "print(arr)"
   ]
  },
  {
   "cell_type": "code",
   "execution_count": 11,
   "id": "2c0c5535",
   "metadata": {},
   "outputs": [
    {
     "name": "stdout",
     "output_type": "stream",
     "text": [
      "[[1 2 3]\n",
      " [4 5 6]]\n",
      "[[0 0 0]\n",
      " [0 0 0]]\n"
     ]
    }
   ],
   "source": [
    "arr = np.array([[1,2,3], [4,5,6]],\n",
    "              dtype=np.int32)\n",
    "print(arr)\n",
    "\n",
    "new_arr = np.zeros_like(arr)\n",
    "print(new_arr)"
   ]
  },
  {
   "cell_type": "code",
   "execution_count": 12,
   "id": "f4f07dd6",
   "metadata": {},
   "outputs": [
    {
     "data": {
      "text/plain": [
       "array([1.3, 3.3, 5.3, 7.3, 9.3])"
      ]
     },
     "execution_count": 12,
     "metadata": {},
     "output_type": "execute_result"
    }
   ],
   "source": [
    "a = range(1, 10)\n",
    "\n",
    "arr = np.arange(1, 10)\n",
    "arr\n",
    "\n",
    "arr = np.arange(1.3, 10.1, 2)\n",
    "arr"
   ]
  },
  {
   "cell_type": "code",
   "execution_count": 13,
   "id": "dd74b537",
   "metadata": {},
   "outputs": [
    {
     "name": "stdout",
     "output_type": "stream",
     "text": [
      "[ 0.  2.  4.  6.  8. 10.]\n",
      "[  0.   4.   8.  12.  16.  20.  24.  28.  32.  36.  40.  44.  48.  52.\n",
      "  56.  60.  64.  68.  72.  76.  80.  84.  88.  92.  96. 100. 104. 108.\n",
      " 112. 116. 120.]\n"
     ]
    }
   ],
   "source": [
    "arr = np.linspace(0, 10, 6)\n",
    "print(arr)\n",
    "\n",
    "arr = np.linspace(0, 120, 31)\n",
    "print(arr)"
   ]
  },
  {
   "cell_type": "code",
   "execution_count": 14,
   "id": "fa243f28",
   "metadata": {},
   "outputs": [],
   "source": [
    "import numpy as np\n",
    "import matplotlib.pyplot as plt"
   ]
  },
  {
   "cell_type": "code",
   "execution_count": 19,
   "id": "4e4326de",
   "metadata": {},
   "outputs": [
    {
     "data": {
      "image/png": "[encoded data removed]",
      "text/plain": [
       "<Figure size 432x288 with 1 Axes>"
      ]
     },
     "metadata": {
      "needs_background": "light"
     },
     "output_type": "display_data"
    }
   ],
   "source": [
    "mean = 50\n",
    "std = 2\n",
    "\n",
    "arr = np.random.normal(mean,\n",
    "                       std,\n",
    "                       (100000,))\n",
    "plt.hist(arr, bins=100)\n",
    "plt.show()"
   ]
  },
  {
   "cell_type": "code",
   "execution_count": 22,
   "id": "120aec44",
   "metadata": {},
   "outputs": [
    {
     "data": {
      "image/png": "[encoded data removed]",
      "text/plain": [
       "<Figure size 432x288 with 1 Axes>"
      ]
     },
     "metadata": {
      "needs_background": "light"
     },
     "output_type": "display_data"
    }
   ],
   "source": [
    "# 난수로 채운다 (실균등 분포에서 난수 추출)\n",
    "arr = np.random.rand(100000)\n",
    "plt.hist(arr, bins=100)\n",
    "plt.show()"
   ]
  },
  {
   "cell_type": "code",
   "execution_count": 23,
   "id": "7b6273b0",
   "metadata": {},
   "outputs": [
    {
     "data": {
      "image/png": "[encoded data removed]",
      "text/plain": [
       "<Figure size 432x288 with 1 Axes>"
      ]
     },
     "metadata": {
      "needs_background": "light"
     },
     "output_type": "display_data"
    }
   ],
   "source": [
    "# 난수로 채운다 (표준정규분포에서 난수를 추출)\n",
    "arr = np.random.randn(100000)\n",
    "plt.hist(arr, bins=100)\n",
    "plt.show()"
   ]
  },
  {
   "cell_type": "code",
   "execution_count": 27,
   "id": "fd7163d3",
   "metadata": {},
   "outputs": [
    {
     "data": {
      "image/png": "[encoded data removed]",
      "text/plain": [
       "<Figure size 432x288 with 1 Axes>"
      ]
     },
     "metadata": {
      "needs_background": "light"
     },
     "output_type": "display_data"
    }
   ],
   "source": [
    "# 난수로 채운다 (균등분포에서 정수형 난수 추출. low와 high값을 줘야 함)\n",
    "\n",
    "arr = np.random.randint(1, 100, (100000,))\n",
    "plt.hist(arr, bins=99)\n",
    "plt.show()"
   ]
  },
  {
   "cell_type": "code",
   "execution_count": 28,
   "id": "73d65fc2",
   "metadata": {},
   "outputs": [
    {
     "data": {
      "image/png": "[encoded data removed]",
      "text/plain": [
       "<Figure size 432x288 with 1 Axes>"
      ]
     },
     "metadata": {
      "needs_background": "light"
     },
     "output_type": "display_data"
    }
   ],
   "source": [
    "# 난수로 채운다 (균등분포에서 실수형 난수 추출, 범위는 [0,1) 사이에서 난수 추출)\n",
    "\n",
    "arr = np.random.random((100000,))\n",
    "plt.hist(arr, bins=100)\n",
    "plt.show()"
   ]
  },
  {
   "cell_type": "code",
   "execution_count": 47,
   "id": "71c4b675",
   "metadata": {},
   "outputs": [
    {
     "name": "stdout",
     "output_type": "stream",
     "text": [
      "[3 9 6 9 8]\n",
      "[7 6 3 4 5 8 9 1 2]\n",
      "[4 4 4]\n"
     ]
    }
   ],
   "source": [
    "# 1. seed\n",
    "#   랜덤 값도 프로그램 알고리즘에 의해 추출되는 값\n",
    "#   랜덤 값을 도출하는 초기값을 고정하면 항상 같은 랜덤 값을 얻을 수 있다.\n",
    "\n",
    "# np.random.seed(1)\n",
    "np.random.seed(None)\n",
    "arr = np.random.randint(1, 10, (5,))\n",
    "print(arr)\n",
    "\n",
    "# 2. shuffle()\n",
    "#   데이터의 순서를 랜덤하게 바꿀때 사용\n",
    "\n",
    "arr = np.arange(1, 10)\n",
    "np.random.shuffle(arr)\n",
    "print(arr)\n",
    "\n",
    "# 3. choice()\n",
    "#   sampling에서 사용\n",
    "# np.random.choice(a, size, replace, p)\n",
    "# a : 배열(ndarray)\n",
    "# size : 숫자 (몇개를 뽑을 건지)\n",
    "# replace : True이면 한번뽑은것을 다시 뽑을 수 있다.\n",
    "# p : 확률(각 데이터가 선택될 수 있는 확률)\n",
    "\n",
    "arr = np.random.choice(np.array([1,2,3,4,5]), 3)\n",
    "arr = np.random.choice(np.array([1,2,3,4,5]), 3, replace=False)\n",
    "arr = np.random.choice(np.array([1,2,3,4,5]), 3, p=[0.1, 0.2, 0.2, 0.5, 0])\n",
    "print(arr)"
   ]
  },
  {
   "cell_type": "code",
   "execution_count": 63,
   "id": "83d57e24",
   "metadata": {},
   "outputs": [
    {
     "name": "stdout",
     "output_type": "stream",
     "text": [
      "[[ 1  2  3  4  5  6]\n",
      " [ 7  8  9 10 11 12]]\n",
      "(2, 6)\n",
      "[[ 1  2  3  4]\n",
      " [ 5  6  7  8]\n",
      " [ 9 10 11 12]]\n"
     ]
    }
   ],
   "source": [
    "# reshape() \n",
    "# 배열 요소 수가 맞지 않으면 view가 생성되지 않는다.\n",
    "# 모양을 바구어서 새로운 ndarray를 생성하고 싶으면 copy()를 사용\n",
    "arr = np.array([[1,2,3,4,5,6], [7,8,9,10,11,12]])\n",
    "print(arr)\n",
    "print(arr.shape)\n",
    "\n",
    "new_arr = arr.reshape(3, 4)\n",
    "print(new_arr)"
   ]
  },
  {
   "cell_type": "code",
   "execution_count": 64,
   "id": "e8b6d1be",
   "metadata": {},
   "outputs": [
    {
     "name": "stdout",
     "output_type": "stream",
     "text": [
      "[[[[ 1  2]\n",
      "   [ 3  4]\n",
      "   [ 5  6]]\n",
      "\n",
      "  [[ 7  8]\n",
      "   [ 9 10]\n",
      "   [11 12]]]]\n"
     ]
    }
   ],
   "source": [
    "new_arr = arr.reshape(1,2,3,2)\n",
    "print(new_arr)"
   ]
  },
  {
   "cell_type": "code",
   "execution_count": 65,
   "id": "4c30fb9c",
   "metadata": {},
   "outputs": [
    {
     "name": "stdout",
     "output_type": "stream",
     "text": [
      "[[100   2   3   4]\n",
      " [  5   6   7   8]\n",
      " [  9  10  11  12]]\n",
      "[[ 1  2  3  4  5  6]\n",
      " [ 7  8  9 10 11 12]]\n"
     ]
    }
   ],
   "source": [
    "new_arr = arr.reshape(3,4).copy()\n",
    "new_arr[0,0] = 100\n",
    "print(new_arr)\n",
    "print(arr)"
   ]
  },
  {
   "cell_type": "code",
   "execution_count": 68,
   "id": "169f51e0",
   "metadata": {},
   "outputs": [
    {
     "name": "stdout",
     "output_type": "stream",
     "text": [
      "[[ 1  2  3  4  5  6]\n",
      " [ 7  8  9 10 11 12]]\n",
      "(2, 6)\n",
      "[ 1  2  3  4  5  6  7  8  9 10 11 12]\n",
      "[[ 1  2  3  4  5  6]\n",
      " [ 7  8  9 10 11 12]]\n"
     ]
    }
   ],
   "source": [
    "# reshape()은 내가 원하는 shape의 view를 만들 수 있다.\n",
    "# revel()은 무조건 1차원의 view를 만든다.\n",
    "\n",
    "arr = np.array([[1,2,3,4,5,6], [7,8,9,10,11,12]])\n",
    "print(arr)\n",
    "print(arr.shape)\n",
    "\n",
    "new_arr = arr.ravel()\n",
    "print(new_arr)\n",
    "print(arr)"
   ]
  },
  {
   "cell_type": "code",
   "execution_count": 72,
   "id": "19f4ff12",
   "metadata": {},
   "outputs": [
    {
     "name": "stdout",
     "output_type": "stream",
     "text": [
      "[[ 1  2  3  4  5  6]\n",
      " [ 7  8  9 10 11 12]]\n",
      "(2, 6)\n",
      "None\n",
      "[[ 1  2  3  4  5]\n",
      " [ 6  7  8  9 10]\n",
      " [11 12  0  0  0]]\n"
     ]
    }
   ],
   "source": [
    "# resize()\n",
    "\n",
    "arr = np.array([[1,2,3,4,5,6], [7,8,9,10,11,12]])\n",
    "print(arr)\n",
    "print(arr.shape)\n",
    "\n",
    "# new_arr = arr.reshape(3, 4) # 요소 수가 맞지않으면 view 생성 안됨\n",
    "new_arr = arr.resize(3, 5) # resize는 복사본을 만들지 않는다. 원본을 변경\n",
    "print(new_arr)\n",
    "print(arr)"
   ]
  },
  {
   "cell_type": "code",
   "execution_count": 77,
   "id": "2f0dd5f4",
   "metadata": {},
   "outputs": [
    {
     "name": "stdout",
     "output_type": "stream",
     "text": [
      "[10 11 12 13 14]\n",
      "10\n",
      "[11 12]\n",
      "[11 12 13]\n"
     ]
    }
   ],
   "source": [
    "## indexing, slicing ##\n",
    "arr = np.arange(10, 15, 1)\n",
    "print(arr)\n",
    "\n",
    "print(arr[0])\n",
    "print(arr[1:3])\n",
    "print(arr[1:-1])"
   ]
  },
  {
   "cell_type": "code",
   "execution_count": 89,
   "id": "5122df2e",
   "metadata": {},
   "outputs": [
    {
     "name": "stdout",
     "output_type": "stream",
     "text": [
      "[[ 0  1  2  3]\n",
      " [ 4  5  6  7]\n",
      " [ 8  9 10 11]]\n",
      "[4 5 6 7]\n",
      "[4 5 6 7]\n",
      "[[ 6  7]\n",
      " [10 11]]\n"
     ]
    }
   ],
   "source": [
    "arr = np.arange(0,12).reshape(3,4)\n",
    "print(arr)\n",
    "print(arr[1])\n",
    "print(arr[1,:])\n",
    "print(arr[1:, 2:])"
   ]
  },
  {
   "cell_type": "code",
   "execution_count": 95,
   "id": "f63623f6",
   "metadata": {},
   "outputs": [
    {
     "name": "stdout",
     "output_type": "stream",
     "text": [
      "[5 8 9 5 0 0 1 7 6 9]\n",
      "[5 7 9]\n"
     ]
    }
   ],
   "source": [
    "# Boolean indexing & Fancy indexing\n",
    "\n",
    "# Boolean indexing\n",
    "# indexing 방법 중 하나 Boolean mask를 이용해서 indexing하는 방법\n",
    "\n",
    "\n",
    "# ndarray의 사칙연산\n",
    "# ndarray는 같은 shape에 대해서만 연산이 가능\n",
    "arr1 = np.array([1,2,3])\n",
    "arr2 = np.array([4,5,6])\n",
    "\n",
    "print(arr1 + arr2)"
   ]
  },
  {
   "cell_type": "code",
   "execution_count": 100,
   "id": "510fa511",
   "metadata": {},
   "outputs": [
    {
     "name": "stdout",
     "output_type": "stream",
     "text": [
      "[5 6 7]\n"
     ]
    }
   ],
   "source": [
    "# ndarray는 만약 shape을 맞출 수 있으면 broadcasting(차원을 맞춰준다) 진행\n",
    "arr1 = np.array([1,2,3])\n",
    "print(arr1 + 4)"
   ]
  },
  {
   "cell_type": "code",
   "execution_count": 112,
   "id": "ae700249",
   "metadata": {},
   "outputs": [
    {
     "data": {
      "text/plain": [
       "array([8, 0, 0, 6])"
      ]
     },
     "execution_count": 112,
     "metadata": {},
     "output_type": "execute_result"
    }
   ],
   "source": [
    "np.random.seed(1)\n",
    "\n",
    "arr = np.random.randint(0, 10, (10,))\n",
    "# print(arr + 10)\n",
    "# print(arr % 2)\n",
    "# print(arr % 2 == 0)\n",
    "# True, False로만 구성된 ndarray를 boolean mark라고 표현\n",
    "\n",
    "my_mask = arr % 2 == 0\n",
    "arr[my_mask] "
   ]
  },
  {
   "cell_type": "code",
   "execution_count": 117,
   "id": "575b3f0d",
   "metadata": {},
   "outputs": [
    {
     "name": "stdout",
     "output_type": "stream",
     "text": [
      "[1 2 3 4 5 6]\n",
      "4\n",
      "[4 5 6]\n",
      "[4 6]\n",
      "[4 6]\n"
     ]
    }
   ],
   "source": [
    "# Fancy indexing\n",
    "# ndarray에 index list 배열을 전달해서 indexing하는 방법\n",
    "\n",
    "arr = np.array([1,2,3,4,5,6])\n",
    "print(arr)\n",
    " \n",
    "print(arr[3]) # indexing\n",
    "print(arr[3:]) # slicing\n",
    "print(arr[[3, 5]]) # index로 구성된 리스트를 인자로 주면 원하는 위치에 있는 index를 뽑을 수 있음 => Fancy indexing\n",
    "a = [3, 5]\n",
    "print(arr[a])"
   ]
  },
  {
   "cell_type": "code",
   "execution_count": 118,
   "id": "37823504",
   "metadata": {},
   "outputs": [
    {
     "name": "stdout",
     "output_type": "stream",
     "text": [
      "[[ 0  1  2  3]\n",
      " [ 4  5  6  7]\n",
      " [ 8  9 10 11]]\n"
     ]
    }
   ],
   "source": [
    "arr = np.arange(0, 12, 1).reshape(3, 4)\n",
    "print(arr)"
   ]
  },
  {
   "cell_type": "code",
   "execution_count": 121,
   "id": "a258820b",
   "metadata": {},
   "outputs": [
    {
     "name": "stdout",
     "output_type": "stream",
     "text": [
      "[[1 3]\n",
      " [5 7]]\n"
     ]
    }
   ],
   "source": [
    "print(arr[:2, [1, 3]])"
   ]
  },
  {
   "cell_type": "code",
   "execution_count": 123,
   "id": "e7cfe6dc",
   "metadata": {},
   "outputs": [
    {
     "name": "stdout",
     "output_type": "stream",
     "text": [
      "[ 1 11]\n",
      "[[ 1  3]\n",
      " [ 9 11]]\n"
     ]
    }
   ],
   "source": [
    "print(arr[[0,2], [1,3]]) # numpy 내부 구조 때문에 발생하는 문제\n",
    "# 이런 경우를 위해 함수를 하나 제공한다.\n",
    "\n",
    "print(arr[np.ix_([0,2], [1,3])])"
   ]
  },
  {
   "cell_type": "code",
   "execution_count": null,
   "id": "eeb4505c",
   "metadata": {},
   "outputs": [],
   "source": []
  }
 ],
 "metadata": {
  "kernelspec": {
   "display_name": "Python [conda env:machine] *",
   "language": "python",
   "name": "conda-env-machine-py"
  },
  "language_info": {
   "codemirror_mode": {
    "name": "ipython",
    "version": 3
   },
   "file_extension": ".py",
   "mimetype": "text/x-python",
   "name": "python",
   "nbconvert_exporter": "python",
   "pygments_lexer": "ipython3",
   "version": "3.8.12"
  }
 },
 "nbformat": 4,
 "nbformat_minor": 5
}
