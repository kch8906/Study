{
 "cells": [
  {
   "cell_type": "code",
   "execution_count": 11,
   "id": "69a8c5b0",
   "metadata": {},
   "outputs": [
    {
     "name": "stdout",
     "output_type": "stream",
     "text": [
      "[22.1]\n",
      "[ 1.  2.  3.  4.  5.  6.  7.  8.  9. 10. 11. 12. 13. 14.]\n",
      "[ 1.  2.  3.  4.  5.  6.  7.  8.  9. 10. 11. 12. 13. 14.]\n"
     ]
    },
    {
     "data": {
      "image/png": "[encoded data removed]",
      "text/plain": [
       "<Figure size 432x288 with 2 Axes>"
      ]
     },
     "metadata": {
      "needs_background": "light"
     },
     "output_type": "display_data"
    }
   ],
   "source": [
    "import numpy as np\n",
    "import matplotlib.pyplot as plt\n",
    "\n",
    "data = np.array([1, 2, 3, 4, 5, 6, 7, 8, 9, 10, 11, 12, 13, 14, 22.1])\n",
    "\n",
    "figure = plt.figure()\n",
    "\n",
    "ax1 = figure.add_subplot(1, 2, 1)\n",
    "ax2 = figure.add_subplot(1, 2, 2)\n",
    "\n",
    "ax1.set_title('Original Data Boxplot')\n",
    "ax1.boxplot(data)\n",
    "\n",
    "# numpy로 사분위 값을 구해서 Turkey Fence 방식으로 이상치를 판단\n",
    "first = np.percentile(data, 25) # 1사분위\n",
    "third = np.percentile(data, 75) # 3사분위\n",
    "\n",
    "IQR_value = third - first\n",
    "upper_fence = third + (IQR_value * 1.5)\n",
    "lower_fence = first - (IQR_value * 1.5)\n",
    "\n",
    "# boolean indexing을 이용해서 outlier를 추출\n",
    "print(data[(data > upper_fence) | (data < lower_fence)])\n",
    "\n",
    "# boolean indexing을 이용해서 이상치 제거 나머지 데이터 추출\n",
    "result = data[(data <= upper_fence) & (data >= lower_fence)]\n",
    "result1 = data[~((data > upper_fence) | (data < lower_fence))]\n",
    "print(result)\n",
    "print(result1)\n",
    "ax2.boxplot(result)\n",
    "plt.show()"
   ]
  },
  {
   "cell_type": "code",
   "execution_count": 13,
   "id": "3076a611",
   "metadata": {},
   "outputs": [
    {
     "name": "stdout",
     "output_type": "stream",
     "text": [
      "[-1.40160702 -1.21405925 -1.02651147 -0.8389637  -0.65141593 -0.46386816\n",
      " -0.27632038 -0.08877261  0.09877516  0.28632293  0.4738707   0.66141848\n",
      "  0.84896625  1.03651402  2.55565098]\n"
     ]
    }
   ],
   "source": [
    "data = np.array([1, 2, 3, 4, 5, 6, 7, 8, 9, 10, 11, 12, 13, 14, 22.1])\n",
    "\n",
    "mean = data.mean()\n",
    "std = data.std()\n",
    "\n",
    "zscore_data = (data - mean) / std\n",
    "\n",
    "print(zscore_data)"
   ]
  },
  {
   "cell_type": "code",
   "execution_count": 23,
   "id": "654466a0",
   "metadata": {},
   "outputs": [
    {
     "name": "stdout",
     "output_type": "stream",
     "text": [
      "[-10.   22.1]\n"
     ]
    },
    {
     "data": {
      "text/plain": [
       "array([ 1.,  2.,  3.,  4.,  5.,  6.,  7.,  8.,  9., 10., 11., 12., 13.,\n",
       "       14.])"
      ]
     },
     "execution_count": 23,
     "metadata": {},
     "output_type": "execute_result"
    }
   ],
   "source": [
    "# scipy는 sklearn과 유사한 통계전용 모듈\n",
    "from scipy import stats\n",
    "data = np.array([-10, 1, 2, 3, 4, 5, 6, 7, 8, 9, 10, 11, 12, 13, 14, 22.1])\n",
    "\n",
    "zscore_threshold = 2.0\n",
    "outlier = data[np.abs(stats.zscore(data)) > zscore_threshold]\n",
    "print(outlier)\n",
    "\n",
    "data[np.isin(data, outlier, invert=True)]"
   ]
  },
  {
   "cell_type": "code",
   "execution_count": null,
   "id": "1be4df0d",
   "metadata": {},
   "outputs": [],
   "source": []
  }
 ],
 "metadata": {
  "kernelspec": {
   "display_name": "Python [conda env:machine] *",
   "language": "python",
   "name": "conda-env-machine-py"
  },
  "language_info": {
   "codemirror_mode": {
    "name": "ipython",
    "version": 3
   },
   "file_extension": ".py",
   "mimetype": "text/x-python",
   "name": "python",
   "nbconvert_exporter": "python",
   "pygments_lexer": "ipython3",
   "version": "3.8.12"
  }
 },
 "nbformat": 4,
 "nbformat_minor": 5
}
