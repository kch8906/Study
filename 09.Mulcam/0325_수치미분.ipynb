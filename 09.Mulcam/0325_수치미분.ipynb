{
 "cells": [
  {
   "cell_type": "code",
   "execution_count": 2,
   "id": "f3906615",
   "metadata": {},
   "outputs": [
    {
     "data": {
      "text/plain": [
       "9.999999999976694"
      ]
     },
     "execution_count": 2,
     "metadata": {},
     "output_type": "execute_result"
    }
   ],
   "source": [
    "def my_func(x):\n",
    "    return x ** 2\n",
    "\n",
    "# 미분을 수행하는 함수\n",
    "def numerical_derivative(f, x):\n",
    "    delta_x = 1e-4 # 극한에 해당하는 값. 너무 작은 값을 사용하면 실수계산 오류가 발생\n",
    "    \n",
    "    return (f(x + delta_x) - f(x - delta_x)) / (2 * delta_x)\n",
    "\n",
    "# f'(5)\n",
    "result = numerical_derivative(my_func, 5)\n",
    "result"
   ]
  },
  {
   "cell_type": "code",
   "execution_count": 1,
   "id": "b6011376",
   "metadata": {},
   "outputs": [
    {
     "name": "stdout",
     "output_type": "stream",
     "text": [
      "[8.0e-08 1.5e-07]\n"
     ]
    }
   ],
   "source": [
    "# 다변수 함수 수치미분 코드\n",
    "# f(x,y) = 2x + 3xy + y^3\n",
    "# f(a,b,c) = 3a + 3bc + b^2 + c^3\n",
    "# f'(1.0, 2.0) = ???\n",
    "import numpy as np\n",
    "\n",
    "def my_func(input_value):  # input_value(x, y)\n",
    "    x = input_value[0]\n",
    "    y = input_value[1]\n",
    "    return 2 * x + 3 * x * y + y ** 3\n",
    "\n",
    "# 다변수 함수에 대한 수치미분을 수행하는 함수\n",
    "def numerical_derivative(f, x): # x : nparray [1.0, 2.0]\n",
    "    \n",
    "    delta_x = 1e-4\n",
    "    derivative_x = np.zeros_like(x) # derivative_x = [0 0]\n",
    "    \n",
    "    # iterator를 이용해서 입력변수 x에 대한 편미분을 수행\n",
    "    it = np.nditer(x, flags=['multi_index'])\n",
    "    \n",
    "    while not it.finished:\n",
    "        \n",
    "        idx = it.multi_index # (x,) 2치원인 경우 튜플로 나옴\n",
    "        tmp = x[idx]\n",
    "        \n",
    "        x[idx] = tmp + delta_x  # x : ndarray [1.0001, 2.0]\n",
    "        fx_plus_delta = f(x)\n",
    "        \n",
    "        x[idx] = tmp - delta_x  # x : ndarray [0.9999 2.0]\n",
    "        fx_minus_delta = f(x)\n",
    "        \n",
    "        derivative_x[idx] = (fx_plus_delta - fx_minus_delta) / 2 * delta_x\n",
    "        \n",
    "        x[idx] = tmp\n",
    "        it.iternext()\n",
    "        \n",
    "    return derivative_x\n",
    "\n",
    "result = numerical_derivative(my_func, np.array([1.0, 2.0]))\n",
    "print(result)"
   ]
  },
  {
   "cell_type": "code",
   "execution_count": 2,
   "id": "ea474817",
   "metadata": {},
   "outputs": [
    {
     "data": {
      "text/plain": [
       "array([[5.0e-08, 1.3e-07],\n",
       "       [3.2e-07, 1.5e-07]])"
      ]
     },
     "execution_count": 2,
     "metadata": {},
     "output_type": "execute_result"
    }
   ],
   "source": [
    "# f(w,x,y,z) = wx + xyz + 3w + zy^2\n",
    "# 수치미분\n",
    "# f'(1.0, 2.0, 3.0, 4.0) = ?\n",
    "\n",
    "def my_func(input_value): # [[1.0, 2.0]\n",
    "                          #  [3.0, 4.0]]\n",
    "        w = input_value[0,0]\n",
    "        x = input_value[0,1]\n",
    "        y = input_value[1,0]\n",
    "        z = input_value[1,1]\n",
    "        \n",
    "        return (w * x) + (x * y * z) + (3 * w) + (z * (y ** 2))\n",
    "    \n",
    "result = numerical_derivative(my_func, np.array([[1.0, 2.0], [3.0, 4.0]]))\n",
    "result"
   ]
  },
  {
   "cell_type": "code",
   "execution_count": null,
   "id": "83e3d69c",
   "metadata": {},
   "outputs": [],
   "source": []
  }
 ],
 "metadata": {
  "kernelspec": {
   "display_name": "Python [conda env:machine] *",
   "language": "python",
   "name": "conda-env-machine-py"
  },
  "language_info": {
   "codemirror_mode": {
    "name": "ipython",
    "version": 3
   },
   "file_extension": ".py",
   "mimetype": "text/x-python",
   "name": "python",
   "nbconvert_exporter": "python",
   "pygments_lexer": "ipython3",
   "version": "3.8.12"
  }
 },
 "nbformat": 4,
 "nbformat_minor": 5
}
