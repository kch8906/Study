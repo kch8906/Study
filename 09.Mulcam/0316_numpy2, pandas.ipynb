{
 "cells": [
  {
   "cell_type": "code",
   "execution_count": 1,
   "id": "cf515f3b",
   "metadata": {},
   "outputs": [],
   "source": [
    "import numpy as np\n",
    "import pandas as pd"
   ]
  },
  {
   "cell_type": "code",
   "execution_count": 7,
   "id": "f2746ef2",
   "metadata": {},
   "outputs": [
    {
     "name": "stdout",
     "output_type": "stream",
     "text": [
      "0    1.0\n",
      "1    2.0\n",
      "2    3.0\n",
      "3    4.0\n",
      "4    5.0\n",
      "dtype: float64\n",
      "[1. 2. 3. 4. 5.]\n",
      "RangeIndex(start=0, stop=5, step=1)\n",
      "float64\n"
     ]
    }
   ],
   "source": [
    "arr = np.array([1, 2, 3, 4, 5], dtype=np.float64)\n",
    "\n",
    "s = pd.Series([1, 2, 3, 4, 5], dtype=np.float64)\n",
    "print(s)\n",
    "print(s.values)\n",
    "print(s.index)\n",
    "print(s.dtype)"
   ]
  },
  {
   "cell_type": "code",
   "execution_count": 11,
   "id": "7aade7e6",
   "metadata": {},
   "outputs": [
    {
     "name": "stdout",
     "output_type": "stream",
     "text": [
      "0      1.0\n",
      "2      2.0\n",
      "100    3.0\n",
      "6      4.0\n",
      "9      5.0\n",
      "dtype: float64\n",
      "1.0\n",
      "3.0\n"
     ]
    }
   ],
   "source": [
    "s = pd.Series([1, 2, 3, 4, 5], dtype=np.float64, index=[0, 2, 100, 6, 9])\n",
    "\n",
    "print(s)\n",
    "print(s[0])\n",
    "print(s[100])"
   ]
  },
  {
   "cell_type": "code",
   "execution_count": 13,
   "id": "a729be12",
   "metadata": {},
   "outputs": [
    {
     "name": "stdout",
     "output_type": "stream",
     "text": [
      "c    1.0\n",
      "b    2.0\n",
      "c    3.0\n",
      "k    4.0\n",
      "m    5.0\n",
      "dtype: float64\n",
      "c    1.0\n",
      "c    3.0\n",
      "dtype: float64\n"
     ]
    }
   ],
   "source": [
    "s = pd.Series([1, 2, 3, 4, 5],\n",
    "             dtype=np.float64,\n",
    "             index=['c', 'b', 'c', 'k', 'm'])\n",
    "\n",
    "print(s)\n",
    "print(s['c'])"
   ]
  },
  {
   "cell_type": "code",
   "execution_count": 14,
   "id": "80ab7e14",
   "metadata": {},
   "outputs": [
    {
     "name": "stdout",
     "output_type": "stream",
     "text": [
      "c    1.0\n",
      "b    2.0\n",
      "a    3.0\n",
      "k    4.0\n",
      "m    5.0\n",
      "dtype: float64\n",
      "b    2.0\n",
      "k    4.0\n",
      "dtype: float64\n",
      "c    1.0\n",
      "a    3.0\n",
      "dtype: float64\n"
     ]
    }
   ],
   "source": [
    "s = pd.Series([1, 2, 3, 4, 5],\n",
    "             dtype=np.float64,\n",
    "             index=['c', 'b', 'a', 'k', 'm'])\n",
    "\n",
    "print(s)\n",
    "print(s[s % 2 == 0])\n",
    "print(s[[0, 2]])"
   ]
  },
  {
   "cell_type": "code",
   "execution_count": 15,
   "id": "f5669fe9",
   "metadata": {},
   "outputs": [
    {
     "name": "stdout",
     "output_type": "stream",
     "text": [
      "서울    1000\n",
      "인천     500\n",
      "제주     200\n",
      "dtype: int64\n"
     ]
    }
   ],
   "source": [
    "my_dict = {'서울': 1000,\n",
    "           '인천': 500,\n",
    "           '제주': 200}\n",
    "\n",
    "s = pd.Series(my_dict)\n",
    "print(s)"
   ]
  },
  {
   "cell_type": "code",
   "execution_count": 30,
   "id": "232c9c49",
   "metadata": {},
   "outputs": [
    {
     "name": "stdout",
     "output_type": "stream",
     "text": [
      "2020-01-01    31\n",
      "2020-01-02    58\n",
      "2020-01-03    45\n",
      "2020-01-04    38\n",
      "2020-01-05    39\n",
      "2020-01-06    47\n",
      "2020-01-07    47\n",
      "2020-01-08    53\n",
      "2020-01-09    45\n",
      "2020-01-10    51\n",
      "dtype: int64\n",
      "2020-01-01    66\n",
      "2020-01-02    65\n",
      "2020-01-03    67\n",
      "2020-01-04    61\n",
      "2020-01-05    68\n",
      "2020-01-06    60\n",
      "2020-01-07    69\n",
      "2020-01-08    61\n",
      "2020-01-09    70\n",
      "2020-01-10    71\n",
      "dtype: int64\n",
      "2020-01-01     97\n",
      "2020-01-02    123\n",
      "2020-01-03    112\n",
      "2020-01-04     99\n",
      "2020-01-05    107\n",
      "2020-01-06    107\n",
      "2020-01-07    116\n",
      "2020-01-08    114\n",
      "2020-01-09    115\n",
      "2020-01-10    122\n",
      "dtype: int64\n"
     ]
    }
   ],
   "source": [
    "from datetime import datetime, timedelta\n",
    "\n",
    "start_day = datetime(2020, 1, 1)\n",
    "\n",
    "s1 = pd.Series([int(x) for x in np.random.normal(50, 5, (10,))],\n",
    "              index=[start_day + timedelta(days=x) for x in range(10)])\n",
    "print(s1)\n",
    "\n",
    "s2 = pd.Series([int(x) for x in np.random.normal(70, 8, (10,))],\n",
    "              index=[start_day + timedelta(days=x) for x in range(10)])\n",
    "print(s2)\n",
    "\n",
    "print(s1 + s2)"
   ]
  },
  {
   "cell_type": "code",
   "execution_count": 35,
   "id": "77b13033",
   "metadata": {},
   "outputs": [
    {
     "name": "stdout",
     "output_type": "stream",
     "text": [
      "2020-01-01    51\n",
      "2020-01-02    48\n",
      "2020-01-03    44\n",
      "2020-01-04    49\n",
      "2020-01-05    52\n",
      "2020-01-06    46\n",
      "2020-01-07    53\n",
      "2020-01-08    50\n",
      "2020-01-09    41\n",
      "2020-01-10    55\n",
      "dtype: int64\n",
      "2020-01-05    74\n",
      "2020-01-06    70\n",
      "2020-01-07    68\n",
      "2020-01-08    80\n",
      "2020-01-09    72\n",
      "2020-01-10    57\n",
      "2020-01-11    78\n",
      "2020-01-12    72\n",
      "2020-01-13    69\n",
      "2020-01-14    76\n",
      "dtype: int64\n",
      "2020-01-01      NaN\n",
      "2020-01-02      NaN\n",
      "2020-01-03      NaN\n",
      "2020-01-04      NaN\n",
      "2020-01-05    126.0\n",
      "2020-01-06    116.0\n",
      "2020-01-07    121.0\n",
      "2020-01-08    130.0\n",
      "2020-01-09    113.0\n",
      "2020-01-10    112.0\n",
      "2020-01-11      NaN\n",
      "2020-01-12      NaN\n",
      "2020-01-13      NaN\n",
      "2020-01-14      NaN\n",
      "dtype: float64\n"
     ]
    }
   ],
   "source": [
    "start_day_A_factory = datetime(2020, 1, 1)\n",
    "start_day_B_factory = datetime(2020, 1, 5)\n",
    "\n",
    "s1 = pd.Series([int(x) for x in np.random.normal(50, 5, (10,))],\n",
    "              index=[start_day_A_factory + timedelta(days=x) for x in range(10)])\n",
    "\n",
    "print(s1)\n",
    "\n",
    "s2 = pd.Series([int(x) for x in np.random.normal(70, 8, (10,))],\n",
    "              index=[start_day_B_factory + timedelta(days=x) for x in range(10)])\n",
    "\n",
    "print(s2)\n",
    "\n",
    "print(s1 + s2)"
   ]
  },
  {
   "cell_type": "code",
   "execution_count": 48,
   "id": "9a4f4760",
   "metadata": {
    "scrolled": false
   },
   "outputs": [
    {
     "data": {
      "text/html": [
       "<div>\n",
       "<style scoped>\n",
       "    .dataframe tbody tr th:only-of-type {\n",
       "        vertical-align: middle;\n",
       "    }\n",
       "\n",
       "    .dataframe tbody tr th {\n",
       "        vertical-align: top;\n",
       "    }\n",
       "\n",
       "    .dataframe thead th {\n",
       "        text-align: right;\n",
       "    }\n",
       "</style>\n",
       "<table border=\"1\" class=\"dataframe\">\n",
       "  <thead>\n",
       "    <tr style=\"text-align: right;\">\n",
       "      <th></th>\n",
       "      <th>이름</th>\n",
       "      <th>학년</th>\n",
       "      <th>학점</th>\n",
       "    </tr>\n",
       "  </thead>\n",
       "  <tbody>\n",
       "    <tr>\n",
       "      <th>0</th>\n",
       "      <td>홍길동</td>\n",
       "      <td>4</td>\n",
       "      <td>1.5</td>\n",
       "    </tr>\n",
       "    <tr>\n",
       "      <th>1</th>\n",
       "      <td>아이유</td>\n",
       "      <td>3</td>\n",
       "      <td>2.4</td>\n",
       "    </tr>\n",
       "    <tr>\n",
       "      <th>2</th>\n",
       "      <td>김연아</td>\n",
       "      <td>1</td>\n",
       "      <td>3.9</td>\n",
       "    </tr>\n",
       "    <tr>\n",
       "      <th>3</th>\n",
       "      <td>신사임당</td>\n",
       "      <td>2</td>\n",
       "      <td>3.2</td>\n",
       "    </tr>\n",
       "  </tbody>\n",
       "</table>\n",
       "</div>"
      ],
      "text/plain": [
       "     이름  학년   학점\n",
       "0   홍길동   4  1.5\n",
       "1   아이유   3  2.4\n",
       "2   김연아   1  3.9\n",
       "3  신사임당   2  3.2"
      ]
     },
     "metadata": {},
     "output_type": "display_data"
    },
    {
     "name": "stdout",
     "output_type": "stream",
     "text": [
      "(4, 3)\n",
      "[['홍길동' 4 1.5]\n",
      " ['아이유' 3 2.4]\n",
      " ['김연아' 1 3.9]\n",
      " ['신사임당' 2 3.2]]\n",
      "12\n",
      "2\n",
      "RangeIndex(start=0, stop=4, step=1)\n",
      "Index(['이름', '학년', '학점'], dtype='object')\n"
     ]
    },
    {
     "data": {
      "text/html": [
       "<div>\n",
       "<style scoped>\n",
       "    .dataframe tbody tr th:only-of-type {\n",
       "        vertical-align: middle;\n",
       "    }\n",
       "\n",
       "    .dataframe tbody tr th {\n",
       "        vertical-align: top;\n",
       "    }\n",
       "\n",
       "    .dataframe thead th {\n",
       "        text-align: right;\n",
       "    }\n",
       "</style>\n",
       "<table border=\"1\" class=\"dataframe\">\n",
       "  <thead>\n",
       "    <tr style=\"text-align: right;\">\n",
       "      <th>학생정보</th>\n",
       "      <th>이름</th>\n",
       "      <th>학년</th>\n",
       "      <th>학점</th>\n",
       "    </tr>\n",
       "    <tr>\n",
       "      <th>학번</th>\n",
       "      <th></th>\n",
       "      <th></th>\n",
       "      <th></th>\n",
       "    </tr>\n",
       "  </thead>\n",
       "  <tbody>\n",
       "    <tr>\n",
       "      <th>0</th>\n",
       "      <td>홍길동</td>\n",
       "      <td>4</td>\n",
       "      <td>1.5</td>\n",
       "    </tr>\n",
       "    <tr>\n",
       "      <th>1</th>\n",
       "      <td>아이유</td>\n",
       "      <td>3</td>\n",
       "      <td>2.4</td>\n",
       "    </tr>\n",
       "    <tr>\n",
       "      <th>2</th>\n",
       "      <td>김연아</td>\n",
       "      <td>1</td>\n",
       "      <td>3.9</td>\n",
       "    </tr>\n",
       "    <tr>\n",
       "      <th>3</th>\n",
       "      <td>신사임당</td>\n",
       "      <td>2</td>\n",
       "      <td>3.2</td>\n",
       "    </tr>\n",
       "  </tbody>\n",
       "</table>\n",
       "</div>"
      ],
      "text/plain": [
       "학생정보    이름  학년   학점\n",
       "학번                 \n",
       "0      홍길동   4  1.5\n",
       "1      아이유   3  2.4\n",
       "2      김연아   1  3.9\n",
       "3     신사임당   2  3.2"
      ]
     },
     "execution_count": 48,
     "metadata": {},
     "output_type": "execute_result"
    }
   ],
   "source": [
    "my_dict = {'이름': ['홍길동', '아이유', '김연아', '신사임당'],\n",
    "           '학년': [4, 3, 1, 2],\n",
    "           '학점': [1.5, 2.4, 3.9, 3.2]}\n",
    "\n",
    "df = pd.DataFrame(my_dict)\n",
    "display(df)\n",
    "\n",
    "print(df.shape)\n",
    "print(df.values)\n",
    "print(df.size)\n",
    "print(df.ndim)\n",
    "print(df.index)\n",
    "print(df.columns)\n",
    "\n",
    "df.index.name = '학번'\n",
    "df.columns.name = '학생정보'\n",
    "df"
   ]
  },
  {
   "cell_type": "code",
   "execution_count": 51,
   "id": "419155b4",
   "metadata": {},
   "outputs": [
    {
     "data": {
      "text/html": [
       "<div>\n",
       "<style scoped>\n",
       "    .dataframe tbody tr th:only-of-type {\n",
       "        vertical-align: middle;\n",
       "    }\n",
       "\n",
       "    .dataframe tbody tr th {\n",
       "        vertical-align: top;\n",
       "    }\n",
       "\n",
       "    .dataframe thead th {\n",
       "        text-align: right;\n",
       "    }\n",
       "</style>\n",
       "<table border=\"1\" class=\"dataframe\">\n",
       "  <thead>\n",
       "    <tr style=\"text-align: right;\">\n",
       "      <th></th>\n",
       "      <th>학생이름</th>\n",
       "      <th>학년</th>\n",
       "      <th>평균평점</th>\n",
       "    </tr>\n",
       "  </thead>\n",
       "  <tbody>\n",
       "    <tr>\n",
       "      <th>one</th>\n",
       "      <td>홍길동</td>\n",
       "      <td>4</td>\n",
       "      <td>1.5</td>\n",
       "    </tr>\n",
       "    <tr>\n",
       "      <th>1</th>\n",
       "      <td>아이유</td>\n",
       "      <td>3</td>\n",
       "      <td>2.4</td>\n",
       "    </tr>\n",
       "    <tr>\n",
       "      <th>2</th>\n",
       "      <td>김연아</td>\n",
       "      <td>1</td>\n",
       "      <td>3.9</td>\n",
       "    </tr>\n",
       "    <tr>\n",
       "      <th>3</th>\n",
       "      <td>신사임당</td>\n",
       "      <td>2</td>\n",
       "      <td>3.2</td>\n",
       "    </tr>\n",
       "  </tbody>\n",
       "</table>\n",
       "</div>"
      ],
      "text/plain": [
       "     학생이름  학년  평균평점\n",
       "one   홍길동   4   1.5\n",
       "1     아이유   3   2.4\n",
       "2     김연아   1   3.9\n",
       "3    신사임당   2   3.2"
      ]
     },
     "execution_count": 51,
     "metadata": {},
     "output_type": "execute_result"
    }
   ],
   "source": [
    "my_dict = {'이름': ['홍길동', '아이유', '김연아', '신사임당'],\n",
    "           '학년': [4, 3, 1, 2],\n",
    "           '학점': [1.5, 2.4, 3.9, 3.2]}\n",
    "\n",
    "df = pd.DataFrame(my_dict)\n",
    "df\n",
    "\n",
    "new_df = df.rename(columns={'이름':'학생이름',\n",
    "                            '학점':'평균평점'},\n",
    "                   index={0:'one'},\n",
    "                   inplace=False)\n",
    "\n",
    "new_df"
   ]
  },
  {
   "cell_type": "code",
   "execution_count": 53,
   "id": "ca2635db",
   "metadata": {},
   "outputs": [
    {
     "data": {
      "text/html": [
       "<div>\n",
       "<style scoped>\n",
       "    .dataframe tbody tr th:only-of-type {\n",
       "        vertical-align: middle;\n",
       "    }\n",
       "\n",
       "    .dataframe tbody tr th {\n",
       "        vertical-align: top;\n",
       "    }\n",
       "\n",
       "    .dataframe thead th {\n",
       "        text-align: right;\n",
       "    }\n",
       "</style>\n",
       "<table border=\"1\" class=\"dataframe\">\n",
       "  <thead>\n",
       "    <tr style=\"text-align: right;\">\n",
       "      <th></th>\n",
       "      <th>학년</th>\n",
       "      <th>학점</th>\n",
       "    </tr>\n",
       "    <tr>\n",
       "      <th>이름</th>\n",
       "      <th></th>\n",
       "      <th></th>\n",
       "    </tr>\n",
       "  </thead>\n",
       "  <tbody>\n",
       "    <tr>\n",
       "      <th>홍길동</th>\n",
       "      <td>4</td>\n",
       "      <td>1.5</td>\n",
       "    </tr>\n",
       "    <tr>\n",
       "      <th>아이유</th>\n",
       "      <td>3</td>\n",
       "      <td>2.4</td>\n",
       "    </tr>\n",
       "    <tr>\n",
       "      <th>김연아</th>\n",
       "      <td>1</td>\n",
       "      <td>3.9</td>\n",
       "    </tr>\n",
       "    <tr>\n",
       "      <th>신사임당</th>\n",
       "      <td>2</td>\n",
       "      <td>3.2</td>\n",
       "    </tr>\n",
       "  </tbody>\n",
       "</table>\n",
       "</div>"
      ],
      "text/plain": [
       "      학년   학점\n",
       "이름           \n",
       "홍길동    4  1.5\n",
       "아이유    3  2.4\n",
       "김연아    1  3.9\n",
       "신사임당   2  3.2"
      ]
     },
     "execution_count": 53,
     "metadata": {},
     "output_type": "execute_result"
    }
   ],
   "source": [
    "my_dict = {'이름': ['홍길동', '아이유', '김연아', '신사임당'],\n",
    "           '학년': [4, 3, 1, 2],\n",
    "           '학점': [1.5, 2.4, 3.9, 3.2]}\n",
    "\n",
    "df = pd.DataFrame(my_dict)\n",
    "\n",
    "new_df = df.set_index('이름', inplace=False)\n",
    "new_df"
   ]
  },
  {
   "cell_type": "code",
   "execution_count": 54,
   "id": "c6df3f60",
   "metadata": {},
   "outputs": [
    {
     "data": {
      "text/html": [
       "<div>\n",
       "<style scoped>\n",
       "    .dataframe tbody tr th:only-of-type {\n",
       "        vertical-align: middle;\n",
       "    }\n",
       "\n",
       "    .dataframe tbody tr th {\n",
       "        vertical-align: top;\n",
       "    }\n",
       "\n",
       "    .dataframe thead th {\n",
       "        text-align: right;\n",
       "    }\n",
       "</style>\n",
       "<table border=\"1\" class=\"dataframe\">\n",
       "  <thead>\n",
       "    <tr style=\"text-align: right;\">\n",
       "      <th></th>\n",
       "      <th>이름</th>\n",
       "      <th>입학연도</th>\n",
       "      <th>성적</th>\n",
       "    </tr>\n",
       "  </thead>\n",
       "  <tbody>\n",
       "    <tr>\n",
       "      <th>0</th>\n",
       "      <td>아이유</td>\n",
       "      <td>2015</td>\n",
       "      <td>1.5</td>\n",
       "    </tr>\n",
       "    <tr>\n",
       "      <th>1</th>\n",
       "      <td>김연아</td>\n",
       "      <td>2016</td>\n",
       "      <td>2.0</td>\n",
       "    </tr>\n",
       "    <tr>\n",
       "      <th>2</th>\n",
       "      <td>홍길동</td>\n",
       "      <td>2015</td>\n",
       "      <td>3.1</td>\n",
       "    </tr>\n",
       "    <tr>\n",
       "      <th>3</th>\n",
       "      <td>강감찬</td>\n",
       "      <td>2017</td>\n",
       "      <td>1.1</td>\n",
       "    </tr>\n",
       "    <tr>\n",
       "      <th>4</th>\n",
       "      <td>이순신</td>\n",
       "      <td>2016</td>\n",
       "      <td>2.7</td>\n",
       "    </tr>\n",
       "  </tbody>\n",
       "</table>\n",
       "</div>"
      ],
      "text/plain": [
       "    이름  입학연도   성적\n",
       "0  아이유  2015  1.5\n",
       "1  김연아  2016  2.0\n",
       "2  홍길동  2015  3.1\n",
       "3  강감찬  2017  1.1\n",
       "4  이순신  2016  2.7"
      ]
     },
     "execution_count": 54,
     "metadata": {},
     "output_type": "execute_result"
    }
   ],
   "source": [
    "df = pd.read_csv('./data/student.csv')\n",
    "df"
   ]
  }
 ],
 "metadata": {
  "kernelspec": {
   "display_name": "Python 3 (ipykernel)",
   "language": "python",
   "name": "python3"
  },
  "language_info": {
   "codemirror_mode": {
    "name": "ipython",
    "version": 3
   },
   "file_extension": ".py",
   "mimetype": "text/x-python",
   "name": "python",
   "nbconvert_exporter": "python",
   "pygments_lexer": "ipython3",
   "version": "3.9.7"
  }
 },
 "nbformat": 4,
 "nbformat_minor": 5
}
