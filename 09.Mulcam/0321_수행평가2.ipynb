{
 "cells": [
  {
   "cell_type": "code",
   "execution_count": 3,
   "id": "89c32dfa",
   "metadata": {},
   "outputs": [],
   "source": [
    "import pandas as pd\n",
    "import numpy as np\n",
    "from datetime import datetime\n",
    "import matplotlib\n",
    "import matplotlib.pyplot as plt\n",
    "import warnings\n",
    "warnings.filterwarnings('ignore')\n",
    "matplotlib.rcParams['font.family'] = 'Malgun Gothic' # Windows\n",
    "# matplotlib.rcParams['font.family'] = 'AppleGothic' # Mac\n",
    "matplotlib.rcParams['font.size'] = 15\n",
    "matplotlib.rcParams['axes.unicode_minus'] = False"
   ]
  },
  {
   "cell_type": "code",
   "execution_count": 357,
   "id": "d6d8c855",
   "metadata": {},
   "outputs": [],
   "source": [
    "df_seoul = pd.read_csv('test/0320_test/ta_seoul.csv', encoding='cp949')\n",
    "df_daegu = pd.read_csv('test/0320_test/ta_daegu.csv', encoding='cp949')"
   ]
  },
  {
   "cell_type": "code",
   "execution_count": 358,
   "id": "0ef15a54",
   "metadata": {},
   "outputs": [],
   "source": [
    "df_seoul = pd.DataFrame(df_seoul)\n",
    "df_seoul.columns = ['날짜', '지점', '서울평균', '서울최저', '서울최고']\n",
    "df_daegu = pd.DataFrame(df_daegu)\n",
    "df_daegu.columns = ['날짜', '지점', '대구평균', '대구최저', '대구최고']"
   ]
  },
  {
   "cell_type": "code",
   "execution_count": 359,
   "id": "144ce12c",
   "metadata": {},
   "outputs": [
    {
     "name": "stdout",
     "output_type": "stream",
     "text": [
      "108.000000    1\n",
      "11.737481     1\n",
      "7.445352      1\n",
      "16.743098     1\n",
      "dtype: int64\n",
      "143.000000    1\n",
      "13.240024     1\n",
      "8.493513      1\n",
      "18.868982     1\n",
      "dtype: int64\n"
     ]
    }
   ],
   "source": [
    "df_seoul = df_seoul.fillna(np.round(df_seoul.mean(), 2))\n",
    "df_daegu = df_daegu.fillna(np.round(df_daegu.mean(), 2))\n",
    "print(df_seoul.mean().value_counts())\n",
    "print(df_daegu.mean().value_counts())"
   ]
  },
  {
   "cell_type": "code",
   "execution_count": 360,
   "id": "a84c5c77",
   "metadata": {},
   "outputs": [
    {
     "name": "stdout",
     "output_type": "stream",
     "text": [
      "날짜      0\n",
      "지점      0\n",
      "서울평균    0\n",
      "서울최저    0\n",
      "서울최고    0\n",
      "dtype: int64\n",
      "날짜      0\n",
      "지점      0\n",
      "대구평균    0\n",
      "대구최저    0\n",
      "대구최고    0\n",
      "dtype: int64\n"
     ]
    }
   ],
   "source": [
    "print(df_seoul.isna().sum())\n",
    "print(df_daegu.isna().sum())"
   ]
  },
  {
   "cell_type": "code",
   "execution_count": 361,
   "id": "b199d6a3",
   "metadata": {},
   "outputs": [
    {
     "name": "stdout",
     "output_type": "stream",
     "text": [
      "0   1907-10-01\n",
      "1   1907-10-02\n",
      "2   1907-10-03\n",
      "Name: 날짜, dtype: datetime64[ns]\n",
      "0   1907-01-31\n",
      "1   1907-02-01\n",
      "2   1907-02-02\n",
      "Name: 날짜, dtype: datetime64[ns]\n"
     ]
    }
   ],
   "source": [
    "df_seoul['날짜'] = pd.to_datetime(df_seoul['날짜'])\n",
    "df_daegu['날짜'] = pd.to_datetime(df_daegu['날짜'])\n",
    "print(df_seoul['날짜'].head(3))\n",
    "print(df_daegu['날짜'].head(3))"
   ]
  },
  {
   "cell_type": "markdown",
   "id": "4c1ce879",
   "metadata": {},
   "source": [
    "### 1. 기상 관측 이래, 서울의 최고 기온이 가장 높았던 날은 언제였고, 몇도인가요?"
   ]
  },
  {
   "cell_type": "code",
   "execution_count": 362,
   "id": "749c24b0",
   "metadata": {},
   "outputs": [
    {
     "data": {
      "text/html": [
       "<div>\n",
       "<style scoped>\n",
       "    .dataframe tbody tr th:only-of-type {\n",
       "        vertical-align: middle;\n",
       "    }\n",
       "\n",
       "    .dataframe tbody tr th {\n",
       "        vertical-align: top;\n",
       "    }\n",
       "\n",
       "    .dataframe thead th {\n",
       "        text-align: right;\n",
       "    }\n",
       "</style>\n",
       "<table border=\"1\" class=\"dataframe\">\n",
       "  <thead>\n",
       "    <tr style=\"text-align: right;\">\n",
       "      <th></th>\n",
       "      <th>날짜</th>\n",
       "      <th>서울최고</th>\n",
       "    </tr>\n",
       "  </thead>\n",
       "  <tbody>\n",
       "    <tr>\n",
       "      <th>40051</th>\n",
       "      <td>2018-08-01</td>\n",
       "      <td>39.6</td>\n",
       "    </tr>\n",
       "  </tbody>\n",
       "</table>\n",
       "</div>"
      ],
      "text/plain": [
       "              날짜  서울최고\n",
       "40051 2018-08-01  39.6"
      ]
     },
     "execution_count": 362,
     "metadata": {},
     "output_type": "execute_result"
    }
   ],
   "source": [
    "res = df_seoul[['날짜', '서울최고']][df_seoul['서울최고'] == df_seoul['서울최고'].max()]\n",
    "res"
   ]
  },
  {
   "cell_type": "markdown",
   "id": "671d180c",
   "metadata": {},
   "source": [
    "### 2. 역사적으로 일교차가 가장 큰 날짜는 몇년 몇월 몇일 인가요?"
   ]
  },
  {
   "cell_type": "code",
   "execution_count": 363,
   "id": "62bd6df2",
   "metadata": {},
   "outputs": [
    {
     "data": {
      "text/html": [
       "<div>\n",
       "<style scoped>\n",
       "    .dataframe tbody tr th:only-of-type {\n",
       "        vertical-align: middle;\n",
       "    }\n",
       "\n",
       "    .dataframe tbody tr th {\n",
       "        vertical-align: top;\n",
       "    }\n",
       "\n",
       "    .dataframe thead th {\n",
       "        text-align: right;\n",
       "    }\n",
       "</style>\n",
       "<table border=\"1\" class=\"dataframe\">\n",
       "  <thead>\n",
       "    <tr style=\"text-align: right;\">\n",
       "      <th></th>\n",
       "      <th>날짜</th>\n",
       "    </tr>\n",
       "  </thead>\n",
       "  <tbody>\n",
       "    <tr>\n",
       "      <th>12619</th>\n",
       "      <td>1942-04-19</td>\n",
       "    </tr>\n",
       "  </tbody>\n",
       "</table>\n",
       "</div>"
      ],
      "text/plain": [
       "              날짜\n",
       "12619 1942-04-19"
      ]
     },
     "execution_count": 363,
     "metadata": {},
     "output_type": "execute_result"
    }
   ],
   "source": [
    "df_seoul['서울일교차'] = df_seoul['서울최고'] - df_seoul['서울최저']\n",
    "res = df_seoul['날짜'][df_seoul['서울일교차'] == df_seoul['서울일교차'].max()].to_frame()\n",
    "res"
   ]
  },
  {
   "cell_type": "code",
   "execution_count": 364,
   "id": "00dd0ea3",
   "metadata": {},
   "outputs": [
    {
     "data": {
      "text/html": [
       "<div>\n",
       "<style scoped>\n",
       "    .dataframe tbody tr th:only-of-type {\n",
       "        vertical-align: middle;\n",
       "    }\n",
       "\n",
       "    .dataframe tbody tr th {\n",
       "        vertical-align: top;\n",
       "    }\n",
       "\n",
       "    .dataframe thead th {\n",
       "        text-align: right;\n",
       "    }\n",
       "</style>\n",
       "<table border=\"1\" class=\"dataframe\">\n",
       "  <thead>\n",
       "    <tr style=\"text-align: right;\">\n",
       "      <th></th>\n",
       "      <th>날짜</th>\n",
       "    </tr>\n",
       "  </thead>\n",
       "  <tbody>\n",
       "    <tr>\n",
       "      <th>2255</th>\n",
       "      <td>1913-04-04</td>\n",
       "    </tr>\n",
       "  </tbody>\n",
       "</table>\n",
       "</div>"
      ],
      "text/plain": [
       "             날짜\n",
       "2255 1913-04-04"
      ]
     },
     "execution_count": 364,
     "metadata": {},
     "output_type": "execute_result"
    }
   ],
   "source": [
    "df_daegu['대구일교차'] = df_daegu['대구최고'] - df_daegu['대구최저']\n",
    "res = df_daegu['날짜'][df_daegu['대구일교차'] == df_daegu['대구일교차'].max()].to_frame()\n",
    "res"
   ]
  },
  {
   "cell_type": "markdown",
   "id": "6369126d",
   "metadata": {},
   "source": [
    "### 3. 1년 중 평균적으로 일교차가 가장 큰 날짜는 몇월 몇일 인가요?"
   ]
  },
  {
   "cell_type": "code",
   "execution_count": 365,
   "id": "28566b98",
   "metadata": {
    "scrolled": true
   },
   "outputs": [
    {
     "data": {
      "text/html": [
       "<div>\n",
       "<style scoped>\n",
       "    .dataframe tbody tr th:only-of-type {\n",
       "        vertical-align: middle;\n",
       "    }\n",
       "\n",
       "    .dataframe tbody tr th {\n",
       "        vertical-align: top;\n",
       "    }\n",
       "\n",
       "    .dataframe thead th {\n",
       "        text-align: right;\n",
       "    }\n",
       "</style>\n",
       "<table border=\"1\" class=\"dataframe\">\n",
       "  <thead>\n",
       "    <tr style=\"text-align: right;\">\n",
       "      <th></th>\n",
       "      <th>서울일교차</th>\n",
       "    </tr>\n",
       "    <tr>\n",
       "      <th>서울_월일</th>\n",
       "      <th></th>\n",
       "    </tr>\n",
       "  </thead>\n",
       "  <tbody>\n",
       "    <tr>\n",
       "      <th>04-29</th>\n",
       "      <td>11.88</td>\n",
       "    </tr>\n",
       "  </tbody>\n",
       "</table>\n",
       "</div>"
      ],
      "text/plain": [
       "       서울일교차\n",
       "서울_월일       \n",
       "04-29  11.88"
      ]
     },
     "execution_count": 365,
     "metadata": {},
     "output_type": "execute_result"
    }
   ],
   "source": [
    "df_seoul['서울_월'] = df_seoul['날짜'].dt.month.astype('str').map(lambda x : \"0\"+x if len(x) == 1 else x)\n",
    "df_seoul['서울_요일'] = df_seoul['날짜'].dt.day.astype('str').map(lambda x : \"0\"+x if len(x) == 1 else x)\n",
    "df_seoul['서울_월일'] = df_seoul['서울_월'] + \"-\" + df_seoul['서울_요일']\n",
    "res = df_seoul[['서울_월일', '서울일교차']].groupby('서울_월일', as_index=False)['서울일교차'].mean()\n",
    "res = res[['서울_월일', '서울일교차']][res['서울일교차'] == res['서울일교차'].max()]\n",
    "res['서울일교차'] = np.round(res['서울일교차'], 2)\n",
    "res.set_index('서울_월일')"
   ]
  },
  {
   "cell_type": "code",
   "execution_count": 366,
   "id": "32af7630",
   "metadata": {},
   "outputs": [
    {
     "data": {
      "text/html": [
       "<div>\n",
       "<style scoped>\n",
       "    .dataframe tbody tr th:only-of-type {\n",
       "        vertical-align: middle;\n",
       "    }\n",
       "\n",
       "    .dataframe tbody tr th {\n",
       "        vertical-align: top;\n",
       "    }\n",
       "\n",
       "    .dataframe thead th {\n",
       "        text-align: right;\n",
       "    }\n",
       "</style>\n",
       "<table border=\"1\" class=\"dataframe\">\n",
       "  <thead>\n",
       "    <tr style=\"text-align: right;\">\n",
       "      <th></th>\n",
       "      <th>대구일교차</th>\n",
       "    </tr>\n",
       "    <tr>\n",
       "      <th>대구_월일</th>\n",
       "      <th></th>\n",
       "    </tr>\n",
       "  </thead>\n",
       "  <tbody>\n",
       "    <tr>\n",
       "      <th>05-22</th>\n",
       "      <td>12.86</td>\n",
       "    </tr>\n",
       "  </tbody>\n",
       "</table>\n",
       "</div>"
      ],
      "text/plain": [
       "       대구일교차\n",
       "대구_월일       \n",
       "05-22  12.86"
      ]
     },
     "execution_count": 366,
     "metadata": {},
     "output_type": "execute_result"
    }
   ],
   "source": [
    "df_daegu['대구_월'] = df_daegu['날짜'].dt.month.astype('str').map(lambda x : \"0\"+x if len(x) == 1 else x)\n",
    "df_daegu['대구_요일'] = df_daegu['날짜'].dt.day.astype('str').map(lambda x : \"0\"+x if len(x) == 1 else x)\n",
    "df_daegu['대구_월일'] = df_daegu['대구_월'] + \"-\" + df_daegu['대구_요일']\n",
    "res = df_daegu[['대구_월일', '대구일교차']].groupby('대구_월일', as_index=False)['대구일교차'].mean()\n",
    "res = res[['대구_월일', '대구일교차']][res['대구일교차'] == res['대구일교차'].max()]\n",
    "res['대구일교차'] = np.round(res['대구일교차'], 2)\n",
    "res.set_index('대구_월일')"
   ]
  },
  {
   "cell_type": "markdown",
   "id": "f18623bf",
   "metadata": {},
   "source": [
    "### 4. 가장 덥다고 알려진 대구보다 서울이 더 더운날이 가장 많은 연도는 언제인가요?"
   ]
  },
  {
   "cell_type": "code",
   "execution_count": 367,
   "id": "45dd0e6e",
   "metadata": {},
   "outputs": [
    {
     "data": {
      "text/html": [
       "<div>\n",
       "<style scoped>\n",
       "    .dataframe tbody tr th:only-of-type {\n",
       "        vertical-align: middle;\n",
       "    }\n",
       "\n",
       "    .dataframe tbody tr th {\n",
       "        vertical-align: top;\n",
       "    }\n",
       "\n",
       "    .dataframe thead th {\n",
       "        text-align: right;\n",
       "    }\n",
       "</style>\n",
       "<table border=\"1\" class=\"dataframe\">\n",
       "  <thead>\n",
       "    <tr style=\"text-align: right;\">\n",
       "      <th></th>\n",
       "      <th>날짜</th>\n",
       "      <th>지점</th>\n",
       "      <th>서울평균</th>\n",
       "      <th>서울최저</th>\n",
       "      <th>서울최고</th>\n",
       "      <th>서울일교차</th>\n",
       "    </tr>\n",
       "  </thead>\n",
       "  <tbody>\n",
       "    <tr>\n",
       "      <th>0</th>\n",
       "      <td>1907-10-01</td>\n",
       "      <td>108</td>\n",
       "      <td>13.5</td>\n",
       "      <td>7.9</td>\n",
       "      <td>20.7</td>\n",
       "      <td>12.8</td>\n",
       "    </tr>\n",
       "    <tr>\n",
       "      <th>1</th>\n",
       "      <td>1907-10-02</td>\n",
       "      <td>108</td>\n",
       "      <td>16.2</td>\n",
       "      <td>7.9</td>\n",
       "      <td>22.0</td>\n",
       "      <td>14.1</td>\n",
       "    </tr>\n",
       "    <tr>\n",
       "      <th>2</th>\n",
       "      <td>1907-10-03</td>\n",
       "      <td>108</td>\n",
       "      <td>16.2</td>\n",
       "      <td>13.1</td>\n",
       "      <td>21.3</td>\n",
       "      <td>8.2</td>\n",
       "    </tr>\n",
       "    <tr>\n",
       "      <th>3</th>\n",
       "      <td>1907-10-04</td>\n",
       "      <td>108</td>\n",
       "      <td>16.5</td>\n",
       "      <td>11.2</td>\n",
       "      <td>22.0</td>\n",
       "      <td>10.8</td>\n",
       "    </tr>\n",
       "    <tr>\n",
       "      <th>4</th>\n",
       "      <td>1907-10-05</td>\n",
       "      <td>108</td>\n",
       "      <td>17.6</td>\n",
       "      <td>10.9</td>\n",
       "      <td>25.4</td>\n",
       "      <td>14.5</td>\n",
       "    </tr>\n",
       "    <tr>\n",
       "      <th>...</th>\n",
       "      <td>...</td>\n",
       "      <td>...</td>\n",
       "      <td>...</td>\n",
       "      <td>...</td>\n",
       "      <td>...</td>\n",
       "      <td>...</td>\n",
       "    </tr>\n",
       "    <tr>\n",
       "      <th>41374</th>\n",
       "      <td>2022-03-16</td>\n",
       "      <td>108</td>\n",
       "      <td>10.3</td>\n",
       "      <td>3.6</td>\n",
       "      <td>16.8</td>\n",
       "      <td>13.2</td>\n",
       "    </tr>\n",
       "    <tr>\n",
       "      <th>41375</th>\n",
       "      <td>2022-03-17</td>\n",
       "      <td>108</td>\n",
       "      <td>10.7</td>\n",
       "      <td>7.8</td>\n",
       "      <td>15.1</td>\n",
       "      <td>7.3</td>\n",
       "    </tr>\n",
       "    <tr>\n",
       "      <th>41376</th>\n",
       "      <td>2022-03-18</td>\n",
       "      <td>108</td>\n",
       "      <td>7.5</td>\n",
       "      <td>5.5</td>\n",
       "      <td>9.6</td>\n",
       "      <td>4.1</td>\n",
       "    </tr>\n",
       "    <tr>\n",
       "      <th>41377</th>\n",
       "      <td>2022-03-19</td>\n",
       "      <td>108</td>\n",
       "      <td>3.4</td>\n",
       "      <td>0.9</td>\n",
       "      <td>6.1</td>\n",
       "      <td>5.2</td>\n",
       "    </tr>\n",
       "    <tr>\n",
       "      <th>41378</th>\n",
       "      <td>2022-03-20</td>\n",
       "      <td>108</td>\n",
       "      <td>5.4</td>\n",
       "      <td>2.2</td>\n",
       "      <td>9.3</td>\n",
       "      <td>7.1</td>\n",
       "    </tr>\n",
       "  </tbody>\n",
       "</table>\n",
       "<p>41379 rows × 6 columns</p>\n",
       "</div>"
      ],
      "text/plain": [
       "              날짜   지점  서울평균  서울최저  서울최고  서울일교차\n",
       "0     1907-10-01  108  13.5   7.9  20.7   12.8\n",
       "1     1907-10-02  108  16.2   7.9  22.0   14.1\n",
       "2     1907-10-03  108  16.2  13.1  21.3    8.2\n",
       "3     1907-10-04  108  16.5  11.2  22.0   10.8\n",
       "4     1907-10-05  108  17.6  10.9  25.4   14.5\n",
       "...          ...  ...   ...   ...   ...    ...\n",
       "41374 2022-03-16  108  10.3   3.6  16.8   13.2\n",
       "41375 2022-03-17  108  10.7   7.8  15.1    7.3\n",
       "41376 2022-03-18  108   7.5   5.5   9.6    4.1\n",
       "41377 2022-03-19  108   3.4   0.9   6.1    5.2\n",
       "41378 2022-03-20  108   5.4   2.2   9.3    7.1\n",
       "\n",
       "[41379 rows x 6 columns]"
      ]
     },
     "execution_count": 367,
     "metadata": {},
     "output_type": "execute_result"
    }
   ],
   "source": [
    "df_daegu.drop(['대구_월', '대구_요일', '대구_월일'], axis=1)\n",
    "df_seoul.drop(['서울_월', '서울_요일', '서울_월일'], axis=1)"
   ]
  },
  {
   "cell_type": "code",
   "execution_count": 368,
   "id": "e96686b0",
   "metadata": {},
   "outputs": [
    {
     "data": {
      "text/html": [
       "<div>\n",
       "<style scoped>\n",
       "    .dataframe tbody tr th:only-of-type {\n",
       "        vertical-align: middle;\n",
       "    }\n",
       "\n",
       "    .dataframe tbody tr th {\n",
       "        vertical-align: top;\n",
       "    }\n",
       "\n",
       "    .dataframe thead th {\n",
       "        text-align: right;\n",
       "    }\n",
       "</style>\n",
       "<table border=\"1\" class=\"dataframe\">\n",
       "  <thead>\n",
       "    <tr style=\"text-align: right;\">\n",
       "      <th></th>\n",
       "      <th>날짜</th>\n",
       "      <th>지점_x</th>\n",
       "      <th>서울평균</th>\n",
       "      <th>서울최저</th>\n",
       "      <th>서울최고</th>\n",
       "      <th>서울일교차</th>\n",
       "      <th>서울_월</th>\n",
       "      <th>서울_요일</th>\n",
       "      <th>서울_월일</th>\n",
       "      <th>지점_y</th>\n",
       "      <th>대구평균</th>\n",
       "      <th>대구최저</th>\n",
       "      <th>대구최고</th>\n",
       "      <th>대구일교차</th>\n",
       "      <th>대구_월</th>\n",
       "      <th>대구_요일</th>\n",
       "      <th>대구_월일</th>\n",
       "    </tr>\n",
       "  </thead>\n",
       "  <tbody>\n",
       "    <tr>\n",
       "      <th>0</th>\n",
       "      <td>1907-10-01</td>\n",
       "      <td>108</td>\n",
       "      <td>13.5</td>\n",
       "      <td>7.9</td>\n",
       "      <td>20.7</td>\n",
       "      <td>12.8</td>\n",
       "      <td>10</td>\n",
       "      <td>01</td>\n",
       "      <td>10-01</td>\n",
       "      <td>143</td>\n",
       "      <td>13.24</td>\n",
       "      <td>8.49</td>\n",
       "      <td>18.87</td>\n",
       "      <td>10.38</td>\n",
       "      <td>10</td>\n",
       "      <td>01</td>\n",
       "      <td>10-01</td>\n",
       "    </tr>\n",
       "    <tr>\n",
       "      <th>1</th>\n",
       "      <td>1907-10-02</td>\n",
       "      <td>108</td>\n",
       "      <td>16.2</td>\n",
       "      <td>7.9</td>\n",
       "      <td>22.0</td>\n",
       "      <td>14.1</td>\n",
       "      <td>10</td>\n",
       "      <td>02</td>\n",
       "      <td>10-02</td>\n",
       "      <td>143</td>\n",
       "      <td>13.24</td>\n",
       "      <td>8.49</td>\n",
       "      <td>18.87</td>\n",
       "      <td>10.38</td>\n",
       "      <td>10</td>\n",
       "      <td>02</td>\n",
       "      <td>10-02</td>\n",
       "    </tr>\n",
       "    <tr>\n",
       "      <th>2</th>\n",
       "      <td>1907-10-03</td>\n",
       "      <td>108</td>\n",
       "      <td>16.2</td>\n",
       "      <td>13.1</td>\n",
       "      <td>21.3</td>\n",
       "      <td>8.2</td>\n",
       "      <td>10</td>\n",
       "      <td>03</td>\n",
       "      <td>10-03</td>\n",
       "      <td>143</td>\n",
       "      <td>13.24</td>\n",
       "      <td>8.49</td>\n",
       "      <td>18.87</td>\n",
       "      <td>10.38</td>\n",
       "      <td>10</td>\n",
       "      <td>03</td>\n",
       "      <td>10-03</td>\n",
       "    </tr>\n",
       "    <tr>\n",
       "      <th>3</th>\n",
       "      <td>1907-10-04</td>\n",
       "      <td>108</td>\n",
       "      <td>16.5</td>\n",
       "      <td>11.2</td>\n",
       "      <td>22.0</td>\n",
       "      <td>10.8</td>\n",
       "      <td>10</td>\n",
       "      <td>04</td>\n",
       "      <td>10-04</td>\n",
       "      <td>143</td>\n",
       "      <td>13.24</td>\n",
       "      <td>8.49</td>\n",
       "      <td>18.87</td>\n",
       "      <td>10.38</td>\n",
       "      <td>10</td>\n",
       "      <td>04</td>\n",
       "      <td>10-04</td>\n",
       "    </tr>\n",
       "    <tr>\n",
       "      <th>4</th>\n",
       "      <td>1907-10-05</td>\n",
       "      <td>108</td>\n",
       "      <td>17.6</td>\n",
       "      <td>10.9</td>\n",
       "      <td>25.4</td>\n",
       "      <td>14.5</td>\n",
       "      <td>10</td>\n",
       "      <td>05</td>\n",
       "      <td>10-05</td>\n",
       "      <td>143</td>\n",
       "      <td>13.24</td>\n",
       "      <td>8.49</td>\n",
       "      <td>18.87</td>\n",
       "      <td>10.38</td>\n",
       "      <td>10</td>\n",
       "      <td>05</td>\n",
       "      <td>10-05</td>\n",
       "    </tr>\n",
       "  </tbody>\n",
       "</table>\n",
       "</div>"
      ],
      "text/plain": [
       "          날짜  지점_x  서울평균  서울최저  서울최고  서울일교차 서울_월 서울_요일  서울_월일  지점_y   대구평균  \\\n",
       "0 1907-10-01   108  13.5   7.9  20.7   12.8   10    01  10-01   143  13.24   \n",
       "1 1907-10-02   108  16.2   7.9  22.0   14.1   10    02  10-02   143  13.24   \n",
       "2 1907-10-03   108  16.2  13.1  21.3    8.2   10    03  10-03   143  13.24   \n",
       "3 1907-10-04   108  16.5  11.2  22.0   10.8   10    04  10-04   143  13.24   \n",
       "4 1907-10-05   108  17.6  10.9  25.4   14.5   10    05  10-05   143  13.24   \n",
       "\n",
       "   대구최저   대구최고  대구일교차 대구_월 대구_요일  대구_월일  \n",
       "0  8.49  18.87  10.38   10    01  10-01  \n",
       "1  8.49  18.87  10.38   10    02  10-02  \n",
       "2  8.49  18.87  10.38   10    03  10-03  \n",
       "3  8.49  18.87  10.38   10    04  10-04  \n",
       "4  8.49  18.87  10.38   10    05  10-05  "
      ]
     },
     "execution_count": 368,
     "metadata": {},
     "output_type": "execute_result"
    }
   ],
   "source": [
    "df = pd.merge(df_seoul, df_daegu, on='날짜', how='inner')\n",
    "df.head(5)"
   ]
  },
  {
   "cell_type": "code",
   "execution_count": 373,
   "id": "1e8e98af",
   "metadata": {},
   "outputs": [
    {
     "data": {
      "text/html": [
       "<div>\n",
       "<style scoped>\n",
       "    .dataframe tbody tr th:only-of-type {\n",
       "        vertical-align: middle;\n",
       "    }\n",
       "\n",
       "    .dataframe tbody tr th {\n",
       "        vertical-align: top;\n",
       "    }\n",
       "\n",
       "    .dataframe thead th {\n",
       "        text-align: right;\n",
       "    }\n",
       "</style>\n",
       "<table border=\"1\" class=\"dataframe\">\n",
       "  <thead>\n",
       "    <tr style=\"text-align: right;\">\n",
       "      <th></th>\n",
       "      <th>연도</th>\n",
       "      <th>일</th>\n",
       "    </tr>\n",
       "  </thead>\n",
       "  <tbody>\n",
       "    <tr>\n",
       "      <th>0</th>\n",
       "      <td>1908</td>\n",
       "      <td>166</td>\n",
       "    </tr>\n",
       "  </tbody>\n",
       "</table>\n",
       "</div>"
      ],
      "text/plain": [
       "     연도    일\n",
       "0  1908  166"
      ]
     },
     "execution_count": 373,
     "metadata": {},
     "output_type": "execute_result"
    }
   ],
   "source": [
    "res = df[['날짜']][df['서울최고'] > df['대구최고']]\n",
    "res = res['날짜'].dt.year.value_counts()\n",
    "res = res.reset_index()\n",
    "res.columns = ['연도', '일']\n",
    "res[:1]"
   ]
  }
 ],
 "metadata": {
  "kernelspec": {
   "display_name": "Python 3 (ipykernel)",
   "language": "python",
   "name": "python3"
  },
  "language_info": {
   "codemirror_mode": {
    "name": "ipython",
    "version": 3
   },
   "file_extension": ".py",
   "mimetype": "text/x-python",
   "name": "python",
   "nbconvert_exporter": "python",
   "pygments_lexer": "ipython3",
   "version": "3.7.13"
  }
 },
 "nbformat": 4,
 "nbformat_minor": 5
}
